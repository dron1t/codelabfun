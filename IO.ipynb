{
  "nbformat": 4,
  "nbformat_minor": 0,
  "metadata": {
    "colab": {
      "provenance": [],
      "collapsed_sections": [
        "-DnR6JyE4SAZ",
        "5HL7gfHs5UlN",
        "W10vqtZl5jmq",
        "Im0VqQblESOg",
        "F8ANQMdhY2dK",
        "Ko4dw-wVaWGh",
        "6CdtCUsGA88O"
      ],
      "toc_visible": true,
      "mount_file_id": "1TnL-UZvYD5Cms3R3w0uYV3EnfN9vW0CI",
      "authorship_tag": "ABX9TyMh4ZrRTVdyqTT5ZVZr5xE/",
      "include_colab_link": true
    },
    "kernelspec": {
      "name": "python3",
      "display_name": "Python 3"
    },
    "language_info": {
      "name": "python"
    }
  },
  "cells": [
    {
      "cell_type": "markdown",
      "metadata": {
        "id": "view-in-github",
        "colab_type": "text"
      },
      "source": [
        "<a href=\"https://colab.research.google.com/github/dron1t/codelabfun/blob/main/IO.ipynb\" target=\"_parent\"><img src=\"https://colab.research.google.com/assets/colab-badge.svg\" alt=\"Open In Colab\"/></a>"
      ]
    },
    {
      "cell_type": "markdown",
      "source": [
        "# Report American census\n",
        "\n",
        "Data is American census from 1994. Prediction task for this report is to determine whether a person makes over 50k a year or less. The [latest data](https://www.firstrepublic.com/insights-education/how-much-does-the-average-american-make) says that median american worker earns `$54,132`.  \n",
        "\n",
        "The average income in 2020 according to Statista was `$71,456`.  \n",
        "This can be calculates as aproximatly `234 572 PLN` before taxes. Average US tax wage is 27.2%, so net income is currently `181 042 PLN` (~15k PLN monthly). Taking into account inflation `$50,000` from December 1994 would be worth `$99,130.59` in December 2022.  \n"
      ],
      "metadata": {
        "id": "-DnR6JyE4SAZ"
      }
    },
    {
      "cell_type": "markdown",
      "source": [
        "## Importing data"
      ],
      "metadata": {
        "id": "ojzB1_M05C49"
      }
    },
    {
      "cell_type": "code",
      "execution_count": null,
      "metadata": {
        "id": "nkogjP6H4Eqe"
      },
      "outputs": [],
      "source": [
        "import pandas as pd\n",
        "import numpy as np\n",
        "\n",
        "train_data = pd.read_csv('drive/MyDrive/inf/io/census/adult.train.csv')\n",
        "test_data = pd.read_csv('drive/MyDrive/inf/io/census/adult.test.csv')\n",
        "\n",
        "data = pd.concat([train_data, test_data])"
      ]
    },
    {
      "cell_type": "markdown",
      "source": [
        "We are having 48842 records in our set."
      ],
      "metadata": {
        "id": "BC97YGS0kFSa"
      }
    },
    {
      "cell_type": "code",
      "source": [
        "data"
      ],
      "metadata": {
        "colab": {
          "base_uri": "https://localhost:8080/"
        },
        "id": "CisILfSS5IO9",
        "outputId": "ec737aab-3241-4400-f77b-96732bcc6add"
      },
      "execution_count": null,
      "outputs": [
        {
          "output_type": "execute_result",
          "data": {
            "text/plain": [
              "       age          workclass  fnlwgt    eduction  education.num  \\\n",
              "0       39          State-gov   77516   Bachelors             13   \n",
              "1       50   Self-emp-not-inc   83311   Bachelors             13   \n",
              "2       38            Private  215646     HS-grad              9   \n",
              "3       53            Private  234721        11th              7   \n",
              "4       28            Private  338409   Bachelors             13   \n",
              "...    ...                ...     ...         ...            ...   \n",
              "16276   39            Private  215419   Bachelors             13   \n",
              "16277   64                  ?  321403     HS-grad              9   \n",
              "16278   38            Private  374983   Bachelors             13   \n",
              "16279   44            Private   83891   Bachelors             13   \n",
              "16280   35       Self-emp-inc  182148   Bachelors             13   \n",
              "\n",
              "            marital.status          occupation     relationship  \\\n",
              "0            Never-married        Adm-clerical    Not-in-family   \n",
              "1       Married-civ-spouse     Exec-managerial          Husband   \n",
              "2                 Divorced   Handlers-cleaners    Not-in-family   \n",
              "3       Married-civ-spouse   Handlers-cleaners          Husband   \n",
              "4       Married-civ-spouse      Prof-specialty             Wife   \n",
              "...                    ...                 ...              ...   \n",
              "16276             Divorced      Prof-specialty    Not-in-family   \n",
              "16277              Widowed                   ?   Other-relative   \n",
              "16278   Married-civ-spouse      Prof-specialty          Husband   \n",
              "16279             Divorced        Adm-clerical        Own-child   \n",
              "16280   Married-civ-spouse     Exec-managerial          Husband   \n",
              "\n",
              "                      race      sex  capital.gain  capital.loss  \\\n",
              "0                    White     Male          2174             0   \n",
              "1                    White     Male             0             0   \n",
              "2                    White     Male             0             0   \n",
              "3                    Black     Male             0             0   \n",
              "4                    Black   Female             0             0   \n",
              "...                    ...      ...           ...           ...   \n",
              "16276                White   Female             0             0   \n",
              "16277                Black     Male             0             0   \n",
              "16278                White     Male             0             0   \n",
              "16279   Asian-Pac-Islander     Male          5455             0   \n",
              "16280                White     Male             0             0   \n",
              "\n",
              "       hours.per.week  native.country   income  \n",
              "0                  40   United-States    <=50K  \n",
              "1                  13   United-States    <=50K  \n",
              "2                  40   United-States    <=50K  \n",
              "3                  40   United-States    <=50K  \n",
              "4                  40            Cuba    <=50K  \n",
              "...               ...             ...      ...  \n",
              "16276              36   United-States   <=50K.  \n",
              "16277              40   United-States   <=50K.  \n",
              "16278              50   United-States   <=50K.  \n",
              "16279              40   United-States   <=50K.  \n",
              "16280              60   United-States    >50K.  \n",
              "\n",
              "[48842 rows x 15 columns]"
            ],
            "text/html": [
              "\n",
              "  <div id=\"df-1fbadcbe-1baf-4cf7-aa6e-0bd69417dea1\">\n",
              "    <div class=\"colab-df-container\">\n",
              "      <div>\n",
              "<style scoped>\n",
              "    .dataframe tbody tr th:only-of-type {\n",
              "        vertical-align: middle;\n",
              "    }\n",
              "\n",
              "    .dataframe tbody tr th {\n",
              "        vertical-align: top;\n",
              "    }\n",
              "\n",
              "    .dataframe thead th {\n",
              "        text-align: right;\n",
              "    }\n",
              "</style>\n",
              "<table border=\"1\" class=\"dataframe\">\n",
              "  <thead>\n",
              "    <tr style=\"text-align: right;\">\n",
              "      <th></th>\n",
              "      <th>age</th>\n",
              "      <th>workclass</th>\n",
              "      <th>fnlwgt</th>\n",
              "      <th>eduction</th>\n",
              "      <th>education.num</th>\n",
              "      <th>marital.status</th>\n",
              "      <th>occupation</th>\n",
              "      <th>relationship</th>\n",
              "      <th>race</th>\n",
              "      <th>sex</th>\n",
              "      <th>capital.gain</th>\n",
              "      <th>capital.loss</th>\n",
              "      <th>hours.per.week</th>\n",
              "      <th>native.country</th>\n",
              "      <th>income</th>\n",
              "    </tr>\n",
              "  </thead>\n",
              "  <tbody>\n",
              "    <tr>\n",
              "      <th>0</th>\n",
              "      <td>39</td>\n",
              "      <td>State-gov</td>\n",
              "      <td>77516</td>\n",
              "      <td>Bachelors</td>\n",
              "      <td>13</td>\n",
              "      <td>Never-married</td>\n",
              "      <td>Adm-clerical</td>\n",
              "      <td>Not-in-family</td>\n",
              "      <td>White</td>\n",
              "      <td>Male</td>\n",
              "      <td>2174</td>\n",
              "      <td>0</td>\n",
              "      <td>40</td>\n",
              "      <td>United-States</td>\n",
              "      <td>&lt;=50K</td>\n",
              "    </tr>\n",
              "    <tr>\n",
              "      <th>1</th>\n",
              "      <td>50</td>\n",
              "      <td>Self-emp-not-inc</td>\n",
              "      <td>83311</td>\n",
              "      <td>Bachelors</td>\n",
              "      <td>13</td>\n",
              "      <td>Married-civ-spouse</td>\n",
              "      <td>Exec-managerial</td>\n",
              "      <td>Husband</td>\n",
              "      <td>White</td>\n",
              "      <td>Male</td>\n",
              "      <td>0</td>\n",
              "      <td>0</td>\n",
              "      <td>13</td>\n",
              "      <td>United-States</td>\n",
              "      <td>&lt;=50K</td>\n",
              "    </tr>\n",
              "    <tr>\n",
              "      <th>2</th>\n",
              "      <td>38</td>\n",
              "      <td>Private</td>\n",
              "      <td>215646</td>\n",
              "      <td>HS-grad</td>\n",
              "      <td>9</td>\n",
              "      <td>Divorced</td>\n",
              "      <td>Handlers-cleaners</td>\n",
              "      <td>Not-in-family</td>\n",
              "      <td>White</td>\n",
              "      <td>Male</td>\n",
              "      <td>0</td>\n",
              "      <td>0</td>\n",
              "      <td>40</td>\n",
              "      <td>United-States</td>\n",
              "      <td>&lt;=50K</td>\n",
              "    </tr>\n",
              "    <tr>\n",
              "      <th>3</th>\n",
              "      <td>53</td>\n",
              "      <td>Private</td>\n",
              "      <td>234721</td>\n",
              "      <td>11th</td>\n",
              "      <td>7</td>\n",
              "      <td>Married-civ-spouse</td>\n",
              "      <td>Handlers-cleaners</td>\n",
              "      <td>Husband</td>\n",
              "      <td>Black</td>\n",
              "      <td>Male</td>\n",
              "      <td>0</td>\n",
              "      <td>0</td>\n",
              "      <td>40</td>\n",
              "      <td>United-States</td>\n",
              "      <td>&lt;=50K</td>\n",
              "    </tr>\n",
              "    <tr>\n",
              "      <th>4</th>\n",
              "      <td>28</td>\n",
              "      <td>Private</td>\n",
              "      <td>338409</td>\n",
              "      <td>Bachelors</td>\n",
              "      <td>13</td>\n",
              "      <td>Married-civ-spouse</td>\n",
              "      <td>Prof-specialty</td>\n",
              "      <td>Wife</td>\n",
              "      <td>Black</td>\n",
              "      <td>Female</td>\n",
              "      <td>0</td>\n",
              "      <td>0</td>\n",
              "      <td>40</td>\n",
              "      <td>Cuba</td>\n",
              "      <td>&lt;=50K</td>\n",
              "    </tr>\n",
              "    <tr>\n",
              "      <th>...</th>\n",
              "      <td>...</td>\n",
              "      <td>...</td>\n",
              "      <td>...</td>\n",
              "      <td>...</td>\n",
              "      <td>...</td>\n",
              "      <td>...</td>\n",
              "      <td>...</td>\n",
              "      <td>...</td>\n",
              "      <td>...</td>\n",
              "      <td>...</td>\n",
              "      <td>...</td>\n",
              "      <td>...</td>\n",
              "      <td>...</td>\n",
              "      <td>...</td>\n",
              "      <td>...</td>\n",
              "    </tr>\n",
              "    <tr>\n",
              "      <th>16276</th>\n",
              "      <td>39</td>\n",
              "      <td>Private</td>\n",
              "      <td>215419</td>\n",
              "      <td>Bachelors</td>\n",
              "      <td>13</td>\n",
              "      <td>Divorced</td>\n",
              "      <td>Prof-specialty</td>\n",
              "      <td>Not-in-family</td>\n",
              "      <td>White</td>\n",
              "      <td>Female</td>\n",
              "      <td>0</td>\n",
              "      <td>0</td>\n",
              "      <td>36</td>\n",
              "      <td>United-States</td>\n",
              "      <td>&lt;=50K.</td>\n",
              "    </tr>\n",
              "    <tr>\n",
              "      <th>16277</th>\n",
              "      <td>64</td>\n",
              "      <td>?</td>\n",
              "      <td>321403</td>\n",
              "      <td>HS-grad</td>\n",
              "      <td>9</td>\n",
              "      <td>Widowed</td>\n",
              "      <td>?</td>\n",
              "      <td>Other-relative</td>\n",
              "      <td>Black</td>\n",
              "      <td>Male</td>\n",
              "      <td>0</td>\n",
              "      <td>0</td>\n",
              "      <td>40</td>\n",
              "      <td>United-States</td>\n",
              "      <td>&lt;=50K.</td>\n",
              "    </tr>\n",
              "    <tr>\n",
              "      <th>16278</th>\n",
              "      <td>38</td>\n",
              "      <td>Private</td>\n",
              "      <td>374983</td>\n",
              "      <td>Bachelors</td>\n",
              "      <td>13</td>\n",
              "      <td>Married-civ-spouse</td>\n",
              "      <td>Prof-specialty</td>\n",
              "      <td>Husband</td>\n",
              "      <td>White</td>\n",
              "      <td>Male</td>\n",
              "      <td>0</td>\n",
              "      <td>0</td>\n",
              "      <td>50</td>\n",
              "      <td>United-States</td>\n",
              "      <td>&lt;=50K.</td>\n",
              "    </tr>\n",
              "    <tr>\n",
              "      <th>16279</th>\n",
              "      <td>44</td>\n",
              "      <td>Private</td>\n",
              "      <td>83891</td>\n",
              "      <td>Bachelors</td>\n",
              "      <td>13</td>\n",
              "      <td>Divorced</td>\n",
              "      <td>Adm-clerical</td>\n",
              "      <td>Own-child</td>\n",
              "      <td>Asian-Pac-Islander</td>\n",
              "      <td>Male</td>\n",
              "      <td>5455</td>\n",
              "      <td>0</td>\n",
              "      <td>40</td>\n",
              "      <td>United-States</td>\n",
              "      <td>&lt;=50K.</td>\n",
              "    </tr>\n",
              "    <tr>\n",
              "      <th>16280</th>\n",
              "      <td>35</td>\n",
              "      <td>Self-emp-inc</td>\n",
              "      <td>182148</td>\n",
              "      <td>Bachelors</td>\n",
              "      <td>13</td>\n",
              "      <td>Married-civ-spouse</td>\n",
              "      <td>Exec-managerial</td>\n",
              "      <td>Husband</td>\n",
              "      <td>White</td>\n",
              "      <td>Male</td>\n",
              "      <td>0</td>\n",
              "      <td>0</td>\n",
              "      <td>60</td>\n",
              "      <td>United-States</td>\n",
              "      <td>&gt;50K.</td>\n",
              "    </tr>\n",
              "  </tbody>\n",
              "</table>\n",
              "<p>48842 rows × 15 columns</p>\n",
              "</div>\n",
              "      <button class=\"colab-df-convert\" onclick=\"convertToInteractive('df-1fbadcbe-1baf-4cf7-aa6e-0bd69417dea1')\"\n",
              "              title=\"Convert this dataframe to an interactive table.\"\n",
              "              style=\"display:none;\">\n",
              "        \n",
              "  <svg xmlns=\"http://www.w3.org/2000/svg\" height=\"24px\"viewBox=\"0 0 24 24\"\n",
              "       width=\"24px\">\n",
              "    <path d=\"M0 0h24v24H0V0z\" fill=\"none\"/>\n",
              "    <path d=\"M18.56 5.44l.94 2.06.94-2.06 2.06-.94-2.06-.94-.94-2.06-.94 2.06-2.06.94zm-11 1L8.5 8.5l.94-2.06 2.06-.94-2.06-.94L8.5 2.5l-.94 2.06-2.06.94zm10 10l.94 2.06.94-2.06 2.06-.94-2.06-.94-.94-2.06-.94 2.06-2.06.94z\"/><path d=\"M17.41 7.96l-1.37-1.37c-.4-.4-.92-.59-1.43-.59-.52 0-1.04.2-1.43.59L10.3 9.45l-7.72 7.72c-.78.78-.78 2.05 0 2.83L4 21.41c.39.39.9.59 1.41.59.51 0 1.02-.2 1.41-.59l7.78-7.78 2.81-2.81c.8-.78.8-2.07 0-2.86zM5.41 20L4 18.59l7.72-7.72 1.47 1.35L5.41 20z\"/>\n",
              "  </svg>\n",
              "      </button>\n",
              "      \n",
              "  <style>\n",
              "    .colab-df-container {\n",
              "      display:flex;\n",
              "      flex-wrap:wrap;\n",
              "      gap: 12px;\n",
              "    }\n",
              "\n",
              "    .colab-df-convert {\n",
              "      background-color: #E8F0FE;\n",
              "      border: none;\n",
              "      border-radius: 50%;\n",
              "      cursor: pointer;\n",
              "      display: none;\n",
              "      fill: #1967D2;\n",
              "      height: 32px;\n",
              "      padding: 0 0 0 0;\n",
              "      width: 32px;\n",
              "    }\n",
              "\n",
              "    .colab-df-convert:hover {\n",
              "      background-color: #E2EBFA;\n",
              "      box-shadow: 0px 1px 2px rgba(60, 64, 67, 0.3), 0px 1px 3px 1px rgba(60, 64, 67, 0.15);\n",
              "      fill: #174EA6;\n",
              "    }\n",
              "\n",
              "    [theme=dark] .colab-df-convert {\n",
              "      background-color: #3B4455;\n",
              "      fill: #D2E3FC;\n",
              "    }\n",
              "\n",
              "    [theme=dark] .colab-df-convert:hover {\n",
              "      background-color: #434B5C;\n",
              "      box-shadow: 0px 1px 3px 1px rgba(0, 0, 0, 0.15);\n",
              "      filter: drop-shadow(0px 1px 2px rgba(0, 0, 0, 0.3));\n",
              "      fill: #FFFFFF;\n",
              "    }\n",
              "  </style>\n",
              "\n",
              "      <script>\n",
              "        const buttonEl =\n",
              "          document.querySelector('#df-1fbadcbe-1baf-4cf7-aa6e-0bd69417dea1 button.colab-df-convert');\n",
              "        buttonEl.style.display =\n",
              "          google.colab.kernel.accessAllowed ? 'block' : 'none';\n",
              "\n",
              "        async function convertToInteractive(key) {\n",
              "          const element = document.querySelector('#df-1fbadcbe-1baf-4cf7-aa6e-0bd69417dea1');\n",
              "          const dataTable =\n",
              "            await google.colab.kernel.invokeFunction('convertToInteractive',\n",
              "                                                     [key], {});\n",
              "          if (!dataTable) return;\n",
              "\n",
              "          const docLinkHtml = 'Like what you see? Visit the ' +\n",
              "            '<a target=\"_blank\" href=https://colab.research.google.com/notebooks/data_table.ipynb>data table notebook</a>'\n",
              "            + ' to learn more about interactive tables.';\n",
              "          element.innerHTML = '';\n",
              "          dataTable['output_type'] = 'display_data';\n",
              "          await google.colab.output.renderOutput(dataTable, element);\n",
              "          const docLink = document.createElement('div');\n",
              "          docLink.innerHTML = docLinkHtml;\n",
              "          element.appendChild(docLink);\n",
              "        }\n",
              "      </script>\n",
              "    </div>\n",
              "  </div>\n",
              "  "
            ]
          },
          "metadata": {},
          "execution_count": 2
        }
      ]
    },
    {
      "cell_type": "markdown",
      "source": [
        "## Checking data"
      ],
      "metadata": {
        "id": "5HL7gfHs5UlN"
      }
    },
    {
      "cell_type": "code",
      "source": [
        "data.isnull().sum()"
      ],
      "metadata": {
        "colab": {
          "base_uri": "https://localhost:8080/"
        },
        "id": "FK_FJipW5WkY",
        "outputId": "3b135abe-9906-4fe3-cde5-a4f45d136b88"
      },
      "execution_count": null,
      "outputs": [
        {
          "output_type": "execute_result",
          "data": {
            "text/plain": [
              "age               0\n",
              "workclass         0\n",
              "fnlwgt            0\n",
              "eduction          0\n",
              "education.num     0\n",
              "marital.status    0\n",
              "occupation        0\n",
              "relationship      0\n",
              "race              0\n",
              "sex               0\n",
              "capital.gain      0\n",
              "capital.loss      0\n",
              "hours.per.week    0\n",
              "native.country    0\n",
              "income            0\n",
              "dtype: int64"
            ]
          },
          "metadata": {},
          "execution_count": 3
        }
      ]
    },
    {
      "cell_type": "code",
      "source": [
        "data.isin([' ?', '']).sum()"
      ],
      "metadata": {
        "colab": {
          "base_uri": "https://localhost:8080/"
        },
        "id": "yR7uX3QD5ftK",
        "outputId": "7d791c57-e3f0-4bf8-ceea-54a319f4a1d4"
      },
      "execution_count": null,
      "outputs": [
        {
          "output_type": "execute_result",
          "data": {
            "text/plain": [
              "age                  0\n",
              "workclass         2799\n",
              "fnlwgt               0\n",
              "eduction             0\n",
              "education.num        0\n",
              "marital.status       0\n",
              "occupation        2809\n",
              "relationship         0\n",
              "race                 0\n",
              "sex                  0\n",
              "capital.gain         0\n",
              "capital.loss         0\n",
              "hours.per.week       0\n",
              "native.country     857\n",
              "income               0\n",
              "dtype: int64"
            ]
          },
          "metadata": {},
          "execution_count": 4
        }
      ]
    },
    {
      "cell_type": "markdown",
      "source": [
        "### Missing values in columns:\n",
        "* workclass 2799\n",
        "* occupation 2809\n",
        "* native.country 857"
      ],
      "metadata": {
        "id": "W10vqtZl5jmq"
      }
    },
    {
      "cell_type": "markdown",
      "source": [
        "Checking types of data"
      ],
      "metadata": {
        "id": "fV5BSPtm55VD"
      }
    },
    {
      "cell_type": "code",
      "source": [
        "data.info()"
      ],
      "metadata": {
        "colab": {
          "base_uri": "https://localhost:8080/"
        },
        "id": "49Gm9rw151XN",
        "outputId": "eb360d9b-8899-4892-ba33-1391adb1c8af"
      },
      "execution_count": null,
      "outputs": [
        {
          "output_type": "stream",
          "name": "stdout",
          "text": [
            "<class 'pandas.core.frame.DataFrame'>\n",
            "Int64Index: 48842 entries, 0 to 16280\n",
            "Data columns (total 15 columns):\n",
            " #   Column          Non-Null Count  Dtype \n",
            "---  ------          --------------  ----- \n",
            " 0   age             48842 non-null  int64 \n",
            " 1   workclass       48842 non-null  object\n",
            " 2   fnlwgt          48842 non-null  int64 \n",
            " 3   eduction        48842 non-null  object\n",
            " 4   education.num   48842 non-null  int64 \n",
            " 5   marital.status  48842 non-null  object\n",
            " 6   occupation      48842 non-null  object\n",
            " 7   relationship    48842 non-null  object\n",
            " 8   race            48842 non-null  object\n",
            " 9   sex             48842 non-null  object\n",
            " 10  capital.gain    48842 non-null  int64 \n",
            " 11  capital.loss    48842 non-null  int64 \n",
            " 12  hours.per.week  48842 non-null  int64 \n",
            " 13  native.country  48842 non-null  object\n",
            " 14  income          48842 non-null  object\n",
            "dtypes: int64(6), object(9)\n",
            "memory usage: 6.0+ MB\n"
          ]
        }
      ]
    },
    {
      "cell_type": "markdown",
      "source": [
        "Check duplicates"
      ],
      "metadata": {
        "id": "K-rFN706DLXA"
      }
    },
    {
      "cell_type": "code",
      "source": [
        "data.duplicated().sum()"
      ],
      "metadata": {
        "colab": {
          "base_uri": "https://localhost:8080/"
        },
        "id": "dmBUs00zDNQq",
        "outputId": "2ae8841b-6b0f-4a67-c3be-533aa1820c22"
      },
      "execution_count": null,
      "outputs": [
        {
          "output_type": "execute_result",
          "data": {
            "text/plain": [
              "29"
            ]
          },
          "metadata": {},
          "execution_count": 6
        }
      ]
    },
    {
      "cell_type": "markdown",
      "source": [
        "## Some cleanup before analysis"
      ],
      "metadata": {
        "id": "MB4SEgveFhDQ"
      }
    },
    {
      "cell_type": "markdown",
      "source": [
        "We've noticed that income has 2 values for each category `51K.` and `51K` without ending dot "
      ],
      "metadata": {
        "id": "gMCHAKKUFnaq"
      }
    },
    {
      "cell_type": "code",
      "source": [
        "data['income'] = data['income'].replace(' <=50K.', ' <=50K')\n",
        "data['income'] = data['income'].replace(' >50K.', ' >50K')\n",
        "data['income'].unique()"
      ],
      "metadata": {
        "colab": {
          "base_uri": "https://localhost:8080/"
        },
        "id": "PVHRHiDXFmO4",
        "outputId": "c421a30a-6877-4f3c-c389-c0a5f96ffa9e"
      },
      "execution_count": null,
      "outputs": [
        {
          "output_type": "execute_result",
          "data": {
            "text/plain": [
              "array([' <=50K', ' >50K'], dtype=object)"
            ]
          },
          "metadata": {},
          "execution_count": 7
        }
      ]
    },
    {
      "cell_type": "markdown",
      "source": [
        "## Analysis\n",
        "\n",
        "Feature classes per sex"
      ],
      "metadata": {
        "id": "Im0VqQblESOg"
      }
    },
    {
      "cell_type": "code",
      "source": [
        "categorical_features = data.select_dtypes(include=['object']).columns\n",
        "categorical_features = categorical_features.drop(['sex'])\n",
        "categorical_features"
      ],
      "metadata": {
        "colab": {
          "base_uri": "https://localhost:8080/"
        },
        "id": "rAYtfInDG3vR",
        "outputId": "c9d9dc4e-ee6e-4fbf-89b7-5b4f43daa1ae"
      },
      "execution_count": null,
      "outputs": [
        {
          "output_type": "execute_result",
          "data": {
            "text/plain": [
              "Index(['workclass', 'eduction', 'marital.status', 'occupation', 'relationship',\n",
              "       'race', 'native.country', 'income'],\n",
              "      dtype='object')"
            ]
          },
          "metadata": {},
          "execution_count": 8
        }
      ]
    },
    {
      "cell_type": "code",
      "source": [
        "import matplotlib.pyplot as plt\n",
        "import seaborn as sns\n",
        "\n",
        "plt.figure(figsize=(25,35))\n",
        "plt.subplot(521)\n",
        "dt = data\n",
        "i=0\n",
        "for c in categorical_features:\n",
        "    plt.subplot(5, 2, i+1)\n",
        "    i += 1\n",
        "    sns.countplot(y=c, data=dt, hue='sex')\n",
        "    plt.title(c)\n",
        "\n",
        "plt.show()"
      ],
      "metadata": {
        "colab": {
          "base_uri": "https://localhost:8080/"
        },
        "id": "2U05_MM0EYF4",
        "outputId": "3aff8ede-7485-46ec-f26c-b478ce0893d7"
      },
      "execution_count": null,
      "outputs": [
        {
          "output_type": "stream",
          "name": "stderr",
          "text": [
            "<ipython-input-9-9c12d2f713dc>:9: MatplotlibDeprecationWarning: Adding an axes using the same arguments as a previous axes currently reuses the earlier instance.  In a future version, a new instance will always be created and returned.  Meanwhile, this warning can be suppressed, and the future behavior ensured, by passing a unique label to each axes instance.\n",
            "  plt.subplot(5, 2, i+1)\n"
          ]
        },
        {
          "output_type": "display_data",
          "data": {
            "text/plain": [
              "<Figure size 1800x2520 with 8 Axes>"
            ],
            "image/png": "[encoded data removed]"
          },
          "metadata": {
            "needs_background": "light"
          }
        }
      ]
    },
    {
      "cell_type": "code",
      "source": [
        "#correlation heatmap of dataset\n",
        "def correlation_heatmap(df):\n",
        "    _ , ax = plt.subplots(figsize =(14, 12))\n",
        "    colormap = sns.diverging_palette(150, 10, as_cmap = True)\n",
        "    \n",
        "    _ = sns.heatmap(\n",
        "        df.corr(), \n",
        "        cmap = \"BuPu\",\n",
        "        square=True, \n",
        "        cbar_kws={'shrink':.9 }, \n",
        "        ax=ax,\n",
        "        annot=True, \n",
        "        linewidths=0.1,vmax=1.0, linecolor='white',\n",
        "        annot_kws={'fontsize':12 }\n",
        "    )\n",
        "    \n",
        "    plt.title('Correlation of Features', y=1.05, size=15)\n",
        "\n",
        "correlation_heatmap(data)"
      ],
      "metadata": {
        "colab": {
          "base_uri": "https://localhost:8080/"
        },
        "id": "SCwVXF2fiimy",
        "outputId": "9bb31c26-f9b3-4e60-a6dc-421992f409bd"
      },
      "execution_count": null,
      "outputs": [
        {
          "output_type": "display_data",
          "data": {
            "text/plain": [
              "<Figure size 1008x864 with 2 Axes>"
            ],
            "image/png": "[encoded data removed]"
          },
          "metadata": {
            "needs_background": "light"
          }
        }
      ]
    },
    {
      "cell_type": "markdown",
      "source": [
        "## Data preparation (pre-processing of data)"
      ],
      "metadata": {
        "id": "9hlANnND6Adx"
      }
    },
    {
      "cell_type": "markdown",
      "source": [
        "Drop duplicates"
      ],
      "metadata": {
        "id": "RVHE33LuDOPg"
      }
    },
    {
      "cell_type": "code",
      "source": [
        "data = data.drop_duplicates()"
      ],
      "metadata": {
        "id": "erKbKaScDPVy"
      },
      "execution_count": null,
      "outputs": []
    },
    {
      "cell_type": "markdown",
      "source": [
        "We have one binary value column: sex and multiple discreete value columns.\n",
        "\n",
        "We are going to replace values in column sex with (0,1) values\n",
        "\n",
        "We are creating a columns with names corresponding to values from discreet columns, so when option was chosen the value in corresponding column is set to 1 otherwise to 0"
      ],
      "metadata": {
        "id": "lcOtlxwi6RQX"
      }
    },
    {
      "cell_type": "code",
      "source": [
        "binary_features = ['sex']\n",
        "nominal_features = ['workclass'  ,'marital.status' , 'relationship' , 'race' ,'native.country' , 'occupation']\n",
        "\n"
      ],
      "metadata": {
        "id": "LPiXS7NGAnxW"
      },
      "execution_count": null,
      "outputs": []
    },
    {
      "cell_type": "markdown",
      "source": [
        "Drop education as it is already encoded"
      ],
      "metadata": {
        "id": "oxOC5CwaBfgM"
      }
    },
    {
      "cell_type": "code",
      "source": [
        "data = data.drop('eduction', axis=1)"
      ],
      "metadata": {
        "id": "4StgLoMbBePR"
      },
      "execution_count": null,
      "outputs": []
    },
    {
      "cell_type": "markdown",
      "source": [
        "## Binning countries\n",
        "As natice.country column has rare lalbels and fairly uncommon values it will be hard for algorithms to cut through the noise. Because of that we decided to group up togther all countries except United-States and Mexico. "
      ],
      "metadata": {
        "id": "WRwCJIbYlsGJ"
      }
    },
    {
      "cell_type": "code",
      "source": [
        "data['native.country'].value_counts()"
      ],
      "metadata": {
        "colab": {
          "base_uri": "https://localhost:8080/"
        },
        "id": "1tQ6vzYsjj2E",
        "outputId": "ab01432b-c088-41db-a9bd-58a08dce147b"
      },
      "execution_count": null,
      "outputs": [
        {
          "output_type": "execute_result",
          "data": {
            "text/plain": [
              " United-States                 43792\n",
              " Mexico                          943\n",
              " ?                               856\n",
              " Philippines                     294\n",
              " Germany                         206\n",
              " Puerto-Rico                     184\n",
              " Canada                          182\n",
              " El-Salvador                     155\n",
              " India                           151\n",
              " Cuba                            138\n",
              " England                         127\n",
              " China                           122\n",
              " South                           115\n",
              " Jamaica                         106\n",
              " Italy                           105\n",
              " Dominican-Republic              103\n",
              " Japan                            92\n",
              " Poland                           87\n",
              " Guatemala                        86\n",
              " Vietnam                          86\n",
              " Columbia                         85\n",
              " Haiti                            75\n",
              " Portugal                         67\n",
              " Taiwan                           65\n",
              " Iran                             59\n",
              " Greece                           49\n",
              " Nicaragua                        49\n",
              " Peru                             46\n",
              " Ecuador                          45\n",
              " France                           38\n",
              " Ireland                          37\n",
              " Hong                             30\n",
              " Thailand                         30\n",
              " Cambodia                         28\n",
              " Trinadad&Tobago                  27\n",
              " Laos                             23\n",
              " Yugoslavia                       23\n",
              " Outlying-US(Guam-USVI-etc)       23\n",
              " Scotland                         21\n",
              " Honduras                         20\n",
              " Hungary                          19\n",
              " Holand-Netherlands                1\n",
              "Name: native.country, dtype: int64"
            ]
          },
          "metadata": {},
          "execution_count": 14
        }
      ]
    },
    {
      "cell_type": "code",
      "source": [
        "import numpy as np\n",
        "\n",
        "\n",
        "data['native.country'] = np.where(data['native.country'].isin([' United-States', ' Mexico']),\n",
        "                           data['native.country'].str.title(),\n",
        "                           'Other')\n",
        "\n",
        "data['native.country'].unique()"
      ],
      "metadata": {
        "colab": {
          "base_uri": "https://localhost:8080/"
        },
        "id": "z4Zm7obpj3yi",
        "outputId": "fe70096f-8946-4663-d51a-fb5fb956f4a9"
      },
      "execution_count": null,
      "outputs": [
        {
          "output_type": "execute_result",
          "data": {
            "text/plain": [
              "array([' United-States', 'Other', ' Mexico'], dtype=object)"
            ]
          },
          "metadata": {},
          "execution_count": 15
        }
      ]
    },
    {
      "cell_type": "code",
      "source": [
        "data['native.country'].unique()"
      ],
      "metadata": {
        "colab": {
          "base_uri": "https://localhost:8080/"
        },
        "id": "GwsVspkmJ1kV",
        "outputId": "f1483a62-25d0-4f74-8eaf-01bca7e809b1"
      },
      "execution_count": null,
      "outputs": [
        {
          "output_type": "execute_result",
          "data": {
            "text/plain": [
              "array([' United-States', 'Other', ' Mexico'], dtype=object)"
            ]
          },
          "metadata": {},
          "execution_count": 16
        }
      ]
    },
    {
      "cell_type": "markdown",
      "source": [
        "## Split data"
      ],
      "metadata": {
        "id": "TFaBeXosFSPD"
      }
    },
    {
      "cell_type": "code",
      "source": [
        "from sklearn.metrics import confusion_matrix\n",
        "from sklearn.model_selection import train_test_split\n",
        "from sklearn import tree\n",
        "from sklearn.tree import export_text\n",
        "\n",
        "(train_set, test_set) = train_test_split(data, train_size=0.3, random_state=163686)\n",
        "\n",
        "train_classes = train_set['income']\n",
        "train_set = train_set.drop(['income'], axis=1)\n",
        "test_classes = test_set['income']\n",
        "test_set = test_set.drop(['income'], axis=1)\n",
        "\n",
        "train_set_columns = train_set.columns\n",
        "test_set_columns = test_set.columns"
      ],
      "metadata": {
        "id": "zrMuNMA6ZP1P"
      },
      "execution_count": null,
      "outputs": []
    },
    {
      "cell_type": "markdown",
      "source": [
        "## Impute missing values\n",
        "\n",
        "We have few columns with some missing data. There are a few ways to deal with it by using imputation: [link](https://towardsdatascience.com/6-different-ways-to-compensate-for-missing-values-data-imputation-with-examples-6022d9ca0779) \n",
        "* Ignore it\n",
        "* Use median\n",
        "* Use the most fequent \n",
        "* Use constant value\n",
        "* Use kNN algorithm\n",
        "* Use Multivariate Imputation by Chained Equation (MICE)\n",
        "* Use Deep Learning (Datawig)\n",
        "\n",
        "We can't use median or mean as these values belong to categorical features. As that we are going to use: Simple imputer - most frequest as this the one that works with categorical features. "
      ],
      "metadata": {
        "id": "VQa5IZ4RFXQ8"
      }
    },
    {
      "cell_type": "code",
      "source": [
        "from sklearn.impute import SimpleImputer\n",
        "\n",
        "imp_mean = SimpleImputer( strategy='most_frequent', missing_values=[' ?'])\n",
        "imp_mean.fit(train_set)\n",
        "imputed_train_set = imp_mean.transform(train_set)\n",
        "\n",
        "imp_mean = SimpleImputer( strategy='most_frequent',  missing_values=[' ?'])\n",
        "imp_mean.fit(test_set)\n",
        "imputed_test_set = imp_mean.transform(test_set)"
      ],
      "metadata": {
        "id": "EUEmj8PuG6sR"
      },
      "execution_count": null,
      "outputs": []
    },
    {
      "cell_type": "code",
      "source": [
        "'?' in imputed_train_set"
      ],
      "metadata": {
        "colab": {
          "base_uri": "https://localhost:8080/"
        },
        "id": "BhVzDYjLifTe",
        "outputId": "f605c019-6b64-4642-f747-43d0da7cb9c6"
      },
      "execution_count": null,
      "outputs": [
        {
          "output_type": "execute_result",
          "data": {
            "text/plain": [
              "False"
            ]
          },
          "metadata": {},
          "execution_count": 19
        }
      ]
    },
    {
      "cell_type": "code",
      "source": [
        "'?' in imputed_test_set"
      ],
      "metadata": {
        "colab": {
          "base_uri": "https://localhost:8080/"
        },
        "id": "v3PiP8UWocq3",
        "outputId": "a02879d1-2ead-48e5-f9ed-4a4bfbec9eba"
      },
      "execution_count": null,
      "outputs": [
        {
          "output_type": "execute_result",
          "data": {
            "text/plain": [
              "False"
            ]
          },
          "metadata": {},
          "execution_count": 20
        }
      ]
    },
    {
      "cell_type": "code",
      "source": [
        "test_set.columns.values"
      ],
      "metadata": {
        "colab": {
          "base_uri": "https://localhost:8080/"
        },
        "id": "fgKDNxwCo3lb",
        "outputId": "d81fa0ff-4bba-4b72-dfa0-217f7918539a"
      },
      "execution_count": null,
      "outputs": [
        {
          "output_type": "execute_result",
          "data": {
            "text/plain": [
              "array(['age', 'workclass', 'fnlwgt', 'education.num', 'marital.status',\n",
              "       'occupation', 'relationship', 'race', 'sex', 'capital.gain',\n",
              "       'capital.loss', 'hours.per.week', 'native.country'], dtype=object)"
            ]
          },
          "metadata": {},
          "execution_count": 21
        }
      ]
    },
    {
      "cell_type": "code",
      "source": [
        "imputed_train_set"
      ],
      "metadata": {
        "colab": {
          "base_uri": "https://localhost:8080/"
        },
        "id": "nsnWt_RNo-zq",
        "outputId": "cc1a52a8-8d1c-4004-f3d3-6eac6b2b7a76"
      },
      "execution_count": null,
      "outputs": [
        {
          "output_type": "execute_result",
          "data": {
            "text/plain": [
              "array([[47, ' Private', 159550, ..., 0, 40, ' United-States'],\n",
              "       [41, ' Self-emp-not-inc', 29762, ..., 0, 70, ' United-States'],\n",
              "       [50, ' State-gov', 198103, ..., 0, 40, ' United-States'],\n",
              "       ...,\n",
              "       [60, ' Private', 165441, ..., 0, 40, ' United-States'],\n",
              "       [52, ' Private', 221936, ..., 0, 40, ' United-States'],\n",
              "       [42, ' Private', 202466, ..., 0, 45, ' United-States']],\n",
              "      dtype=object)"
            ]
          },
          "metadata": {},
          "execution_count": 22
        }
      ]
    },
    {
      "cell_type": "markdown",
      "source": [
        "### Hot encoding\n",
        "We are hot ecoding data using nominal_features which corresponds to categorical data within our dataset. \n",
        "\n",
        "\"Categorical data are variables that contain label values rather than numeric values\"[[1]](https://machinelearningmastery.com/why-one-hot-encode-data-in-machine-learning/)[[2]](https://en.wikipedia.org/wiki/Nominal_category)"
      ],
      "metadata": {
        "id": "lpY9TaWQkQFJ"
      }
    },
    {
      "cell_type": "code",
      "source": [
        "test_set_he = pd.get_dummies(pd.DataFrame(imputed_test_set, columns=test_set.columns), columns=nominal_features)\n",
        "train_set_he = pd.get_dummies(pd.DataFrame(imputed_train_set, columns=train_set.columns), columns=nominal_features)"
      ],
      "metadata": {
        "id": "GPGwyHz7jaHU"
      },
      "execution_count": null,
      "outputs": []
    },
    {
      "cell_type": "markdown",
      "source": [
        "## Compensation of missing column\n",
        "As we did imputation we are missing some columns in test set compared to the train set. So we're going to add that to the test set. "
      ],
      "metadata": {
        "id": "a0-y8uJ4H9R4"
      }
    },
    {
      "cell_type": "code",
      "source": [
        "import numpy as np\n",
        "diff = np.setdiff1d(train_set_he.columns.values, test_set_he.columns.values)"
      ],
      "metadata": {
        "id": "m7XHjm0GJTWt"
      },
      "execution_count": null,
      "outputs": []
    },
    {
      "cell_type": "code",
      "source": [
        "diff"
      ],
      "metadata": {
        "id": "P0TzteeBISkh",
        "colab": {
          "base_uri": "https://localhost:8080/"
        },
        "outputId": "52a4cf99-8096-4fc4-8ac5-03da9c337f2d"
      },
      "execution_count": null,
      "outputs": [
        {
          "output_type": "execute_result",
          "data": {
            "text/plain": [
              "array([], dtype=object)"
            ]
          },
          "metadata": {},
          "execution_count": 25
        }
      ]
    },
    {
      "cell_type": "code",
      "source": [
        "for column in diff:\n",
        "  if column not in train_set_he.columns:\n",
        "    train_set_he[column] = 0\n",
        "  else:\n",
        "    test_set_he[column] = 0\n",
        "\n",
        "diff = np.setdiff1d(train_set_he.columns.values, test_set_he.columns.values)\n",
        "diff"
      ],
      "metadata": {
        "colab": {
          "base_uri": "https://localhost:8080/"
        },
        "id": "2r9vU37qqY3c",
        "outputId": "2a0bc1f4-af57-47fa-f3d0-5f42fe8b375a"
      },
      "execution_count": null,
      "outputs": [
        {
          "output_type": "execute_result",
          "data": {
            "text/plain": [
              "array([], dtype=object)"
            ]
          },
          "metadata": {},
          "execution_count": 26
        }
      ]
    },
    {
      "cell_type": "code",
      "source": [
        "train_set_he['sex'].unique()"
      ],
      "metadata": {
        "colab": {
          "base_uri": "https://localhost:8080/"
        },
        "id": "s7CwV1avsPDy",
        "outputId": "1f9ec79b-44e7-4aba-af75-557db66bedbf"
      },
      "execution_count": null,
      "outputs": [
        {
          "output_type": "execute_result",
          "data": {
            "text/plain": [
              "array([' Female', ' Male'], dtype=object)"
            ]
          },
          "metadata": {},
          "execution_count": 27
        }
      ]
    },
    {
      "cell_type": "code",
      "source": [
        "train_set_he['sex'] = train_set_he['sex'].map({' Female': 1, ' Male': 0})\n",
        "test_set_he['sex'] = test_set_he['sex'].map({' Female': 1, ' Male': 0})\n",
        "\n",
        "train_set_he"
      ],
      "metadata": {
        "colab": {
          "base_uri": "https://localhost:8080/"
        },
        "id": "em6WMIAJrFC2",
        "outputId": "cccf3664-9c1e-4491-99e3-d8344dfe2c20"
      },
      "execution_count": null,
      "outputs": [
        {
          "output_type": "execute_result",
          "data": {
            "text/plain": [
              "      age  fnlwgt education.num  sex capital.gain capital.loss hours.per.week  \\\n",
              "0      47  159550             9    1            0            0             40   \n",
              "1      41   29762            10    0         5013            0             70   \n",
              "2      50  198103            13    1            0            0             40   \n",
              "3      48  310639            10    0            0            0             50   \n",
              "4      33   80145             9    0            0            0             60   \n",
              "...    ..     ...           ...  ...          ...          ...            ...   \n",
              "14632  68  191517            10    0            0            0             40   \n",
              "14633  42  287244             9    0            0            0             55   \n",
              "14634  60  165441             4    1            0            0             40   \n",
              "14635  52  221936             9    0            0            0             40   \n",
              "14636  42  202466            12    1            0            0             45   \n",
              "\n",
              "       workclass_ Federal-gov  workclass_ Local-gov  workclass_ Never-worked  \\\n",
              "0                           0                     0                        0   \n",
              "1                           0                     0                        0   \n",
              "2                           0                     0                        0   \n",
              "3                           0                     0                        0   \n",
              "4                           0                     0                        0   \n",
              "...                       ...                   ...                      ...   \n",
              "14632                       0                     0                        0   \n",
              "14633                       0                     0                        0   \n",
              "14634                       0                     0                        0   \n",
              "14635                       0                     0                        0   \n",
              "14636                       0                     0                        0   \n",
              "\n",
              "       ...  occupation_ Farming-fishing  occupation_ Handlers-cleaners  \\\n",
              "0      ...                            0                              0   \n",
              "1      ...                            1                              0   \n",
              "2      ...                            0                              0   \n",
              "3      ...                            0                              0   \n",
              "4      ...                            0                              0   \n",
              "...    ...                          ...                            ...   \n",
              "14632  ...                            0                              0   \n",
              "14633  ...                            0                              0   \n",
              "14634  ...                            0                              0   \n",
              "14635  ...                            0                              0   \n",
              "14636  ...                            0                              0   \n",
              "\n",
              "       occupation_ Machine-op-inspct  occupation_ Other-service  \\\n",
              "0                                  0                          0   \n",
              "1                                  0                          0   \n",
              "2                                  0                          0   \n",
              "3                                  0                          0   \n",
              "4                                  0                          0   \n",
              "...                              ...                        ...   \n",
              "14632                              0                          0   \n",
              "14633                              0                          0   \n",
              "14634                              1                          0   \n",
              "14635                              0                          0   \n",
              "14636                              0                          0   \n",
              "\n",
              "       occupation_ Priv-house-serv  occupation_ Prof-specialty  \\\n",
              "0                                0                           0   \n",
              "1                                0                           0   \n",
              "2                                0                           0   \n",
              "3                                0                           0   \n",
              "4                                0                           0   \n",
              "...                            ...                         ...   \n",
              "14632                            0                           0   \n",
              "14633                            0                           0   \n",
              "14634                            0                           0   \n",
              "14635                            0                           0   \n",
              "14636                            0                           1   \n",
              "\n",
              "       occupation_ Protective-serv  occupation_ Sales  \\\n",
              "0                                0                  0   \n",
              "1                                0                  0   \n",
              "2                                0                  0   \n",
              "3                                0                  0   \n",
              "4                                0                  0   \n",
              "...                            ...                ...   \n",
              "14632                            0                  0   \n",
              "14633                            0                  0   \n",
              "14634                            0                  0   \n",
              "14635                            0                  1   \n",
              "14636                            0                  0   \n",
              "\n",
              "       occupation_ Tech-support  occupation_ Transport-moving  \n",
              "0                             0                             0  \n",
              "1                             0                             0  \n",
              "2                             0                             0  \n",
              "3                             0                             0  \n",
              "4                             0                             1  \n",
              "...                         ...                           ...  \n",
              "14632                         0                             0  \n",
              "14633                         0                             0  \n",
              "14634                         0                             0  \n",
              "14635                         0                             0  \n",
              "14636                         0                             0  \n",
              "\n",
              "[14637 rows x 50 columns]"
            ],
            "text/html": [
              "\n",
              "  <div id=\"df-29fcd865-02d8-4423-9ac2-ddfcf6d28db7\">\n",
              "    <div class=\"colab-df-container\">\n",
              "      <div>\n",
              "<style scoped>\n",
              "    .dataframe tbody tr th:only-of-type {\n",
              "        vertical-align: middle;\n",
              "    }\n",
              "\n",
              "    .dataframe tbody tr th {\n",
              "        vertical-align: top;\n",
              "    }\n",
              "\n",
              "    .dataframe thead th {\n",
              "        text-align: right;\n",
              "    }\n",
              "</style>\n",
              "<table border=\"1\" class=\"dataframe\">\n",
              "  <thead>\n",
              "    <tr style=\"text-align: right;\">\n",
              "      <th></th>\n",
              "      <th>age</th>\n",
              "      <th>fnlwgt</th>\n",
              "      <th>education.num</th>\n",
              "      <th>sex</th>\n",
              "      <th>capital.gain</th>\n",
              "      <th>capital.loss</th>\n",
              "      <th>hours.per.week</th>\n",
              "      <th>workclass_ Federal-gov</th>\n",
              "      <th>workclass_ Local-gov</th>\n",
              "      <th>workclass_ Never-worked</th>\n",
              "      <th>...</th>\n",
              "      <th>occupation_ Farming-fishing</th>\n",
              "      <th>occupation_ Handlers-cleaners</th>\n",
              "      <th>occupation_ Machine-op-inspct</th>\n",
              "      <th>occupation_ Other-service</th>\n",
              "      <th>occupation_ Priv-house-serv</th>\n",
              "      <th>occupation_ Prof-specialty</th>\n",
              "      <th>occupation_ Protective-serv</th>\n",
              "      <th>occupation_ Sales</th>\n",
              "      <th>occupation_ Tech-support</th>\n",
              "      <th>occupation_ Transport-moving</th>\n",
              "    </tr>\n",
              "  </thead>\n",
              "  <tbody>\n",
              "    <tr>\n",
              "      <th>0</th>\n",
              "      <td>47</td>\n",
              "      <td>159550</td>\n",
              "      <td>9</td>\n",
              "      <td>1</td>\n",
              "      <td>0</td>\n",
              "      <td>0</td>\n",
              "      <td>40</td>\n",
              "      <td>0</td>\n",
              "      <td>0</td>\n",
              "      <td>0</td>\n",
              "      <td>...</td>\n",
              "      <td>0</td>\n",
              "      <td>0</td>\n",
              "      <td>0</td>\n",
              "      <td>0</td>\n",
              "      <td>0</td>\n",
              "      <td>0</td>\n",
              "      <td>0</td>\n",
              "      <td>0</td>\n",
              "      <td>0</td>\n",
              "      <td>0</td>\n",
              "    </tr>\n",
              "    <tr>\n",
              "      <th>1</th>\n",
              "      <td>41</td>\n",
              "      <td>29762</td>\n",
              "      <td>10</td>\n",
              "      <td>0</td>\n",
              "      <td>5013</td>\n",
              "      <td>0</td>\n",
              "      <td>70</td>\n",
              "      <td>0</td>\n",
              "      <td>0</td>\n",
              "      <td>0</td>\n",
              "      <td>...</td>\n",
              "      <td>1</td>\n",
              "      <td>0</td>\n",
              "      <td>0</td>\n",
              "      <td>0</td>\n",
              "      <td>0</td>\n",
              "      <td>0</td>\n",
              "      <td>0</td>\n",
              "      <td>0</td>\n",
              "      <td>0</td>\n",
              "      <td>0</td>\n",
              "    </tr>\n",
              "    <tr>\n",
              "      <th>2</th>\n",
              "      <td>50</td>\n",
              "      <td>198103</td>\n",
              "      <td>13</td>\n",
              "      <td>1</td>\n",
              "      <td>0</td>\n",
              "      <td>0</td>\n",
              "      <td>40</td>\n",
              "      <td>0</td>\n",
              "      <td>0</td>\n",
              "      <td>0</td>\n",
              "      <td>...</td>\n",
              "      <td>0</td>\n",
              "      <td>0</td>\n",
              "      <td>0</td>\n",
              "      <td>0</td>\n",
              "      <td>0</td>\n",
              "      <td>0</td>\n",
              "      <td>0</td>\n",
              "      <td>0</td>\n",
              "      <td>0</td>\n",
              "      <td>0</td>\n",
              "    </tr>\n",
              "    <tr>\n",
              "      <th>3</th>\n",
              "      <td>48</td>\n",
              "      <td>310639</td>\n",
              "      <td>10</td>\n",
              "      <td>0</td>\n",
              "      <td>0</td>\n",
              "      <td>0</td>\n",
              "      <td>50</td>\n",
              "      <td>0</td>\n",
              "      <td>0</td>\n",
              "      <td>0</td>\n",
              "      <td>...</td>\n",
              "      <td>0</td>\n",
              "      <td>0</td>\n",
              "      <td>0</td>\n",
              "      <td>0</td>\n",
              "      <td>0</td>\n",
              "      <td>0</td>\n",
              "      <td>0</td>\n",
              "      <td>0</td>\n",
              "      <td>0</td>\n",
              "      <td>0</td>\n",
              "    </tr>\n",
              "    <tr>\n",
              "      <th>4</th>\n",
              "      <td>33</td>\n",
              "      <td>80145</td>\n",
              "      <td>9</td>\n",
              "      <td>0</td>\n",
              "      <td>0</td>\n",
              "      <td>0</td>\n",
              "      <td>60</td>\n",
              "      <td>0</td>\n",
              "      <td>0</td>\n",
              "      <td>0</td>\n",
              "      <td>...</td>\n",
              "      <td>0</td>\n",
              "      <td>0</td>\n",
              "      <td>0</td>\n",
              "      <td>0</td>\n",
              "      <td>0</td>\n",
              "      <td>0</td>\n",
              "      <td>0</td>\n",
              "      <td>0</td>\n",
              "      <td>0</td>\n",
              "      <td>1</td>\n",
              "    </tr>\n",
              "    <tr>\n",
              "      <th>...</th>\n",
              "      <td>...</td>\n",
              "      <td>...</td>\n",
              "      <td>...</td>\n",
              "      <td>...</td>\n",
              "      <td>...</td>\n",
              "      <td>...</td>\n",
              "      <td>...</td>\n",
              "      <td>...</td>\n",
              "      <td>...</td>\n",
              "      <td>...</td>\n",
              "      <td>...</td>\n",
              "      <td>...</td>\n",
              "      <td>...</td>\n",
              "      <td>...</td>\n",
              "      <td>...</td>\n",
              "      <td>...</td>\n",
              "      <td>...</td>\n",
              "      <td>...</td>\n",
              "      <td>...</td>\n",
              "      <td>...</td>\n",
              "      <td>...</td>\n",
              "    </tr>\n",
              "    <tr>\n",
              "      <th>14632</th>\n",
              "      <td>68</td>\n",
              "      <td>191517</td>\n",
              "      <td>10</td>\n",
              "      <td>0</td>\n",
              "      <td>0</td>\n",
              "      <td>0</td>\n",
              "      <td>40</td>\n",
              "      <td>0</td>\n",
              "      <td>0</td>\n",
              "      <td>0</td>\n",
              "      <td>...</td>\n",
              "      <td>0</td>\n",
              "      <td>0</td>\n",
              "      <td>0</td>\n",
              "      <td>0</td>\n",
              "      <td>0</td>\n",
              "      <td>0</td>\n",
              "      <td>0</td>\n",
              "      <td>0</td>\n",
              "      <td>0</td>\n",
              "      <td>0</td>\n",
              "    </tr>\n",
              "    <tr>\n",
              "      <th>14633</th>\n",
              "      <td>42</td>\n",
              "      <td>287244</td>\n",
              "      <td>9</td>\n",
              "      <td>0</td>\n",
              "      <td>0</td>\n",
              "      <td>0</td>\n",
              "      <td>55</td>\n",
              "      <td>0</td>\n",
              "      <td>0</td>\n",
              "      <td>0</td>\n",
              "      <td>...</td>\n",
              "      <td>0</td>\n",
              "      <td>0</td>\n",
              "      <td>0</td>\n",
              "      <td>0</td>\n",
              "      <td>0</td>\n",
              "      <td>0</td>\n",
              "      <td>0</td>\n",
              "      <td>0</td>\n",
              "      <td>0</td>\n",
              "      <td>0</td>\n",
              "    </tr>\n",
              "    <tr>\n",
              "      <th>14634</th>\n",
              "      <td>60</td>\n",
              "      <td>165441</td>\n",
              "      <td>4</td>\n",
              "      <td>1</td>\n",
              "      <td>0</td>\n",
              "      <td>0</td>\n",
              "      <td>40</td>\n",
              "      <td>0</td>\n",
              "      <td>0</td>\n",
              "      <td>0</td>\n",
              "      <td>...</td>\n",
              "      <td>0</td>\n",
              "      <td>0</td>\n",
              "      <td>1</td>\n",
              "      <td>0</td>\n",
              "      <td>0</td>\n",
              "      <td>0</td>\n",
              "      <td>0</td>\n",
              "      <td>0</td>\n",
              "      <td>0</td>\n",
              "      <td>0</td>\n",
              "    </tr>\n",
              "    <tr>\n",
              "      <th>14635</th>\n",
              "      <td>52</td>\n",
              "      <td>221936</td>\n",
              "      <td>9</td>\n",
              "      <td>0</td>\n",
              "      <td>0</td>\n",
              "      <td>0</td>\n",
              "      <td>40</td>\n",
              "      <td>0</td>\n",
              "      <td>0</td>\n",
              "      <td>0</td>\n",
              "      <td>...</td>\n",
              "      <td>0</td>\n",
              "      <td>0</td>\n",
              "      <td>0</td>\n",
              "      <td>0</td>\n",
              "      <td>0</td>\n",
              "      <td>0</td>\n",
              "      <td>0</td>\n",
              "      <td>1</td>\n",
              "      <td>0</td>\n",
              "      <td>0</td>\n",
              "    </tr>\n",
              "    <tr>\n",
              "      <th>14636</th>\n",
              "      <td>42</td>\n",
              "      <td>202466</td>\n",
              "      <td>12</td>\n",
              "      <td>1</td>\n",
              "      <td>0</td>\n",
              "      <td>0</td>\n",
              "      <td>45</td>\n",
              "      <td>0</td>\n",
              "      <td>0</td>\n",
              "      <td>0</td>\n",
              "      <td>...</td>\n",
              "      <td>0</td>\n",
              "      <td>0</td>\n",
              "      <td>0</td>\n",
              "      <td>0</td>\n",
              "      <td>0</td>\n",
              "      <td>1</td>\n",
              "      <td>0</td>\n",
              "      <td>0</td>\n",
              "      <td>0</td>\n",
              "      <td>0</td>\n",
              "    </tr>\n",
              "  </tbody>\n",
              "</table>\n",
              "<p>14637 rows × 50 columns</p>\n",
              "</div>\n",
              "      <button class=\"colab-df-convert\" onclick=\"convertToInteractive('df-29fcd865-02d8-4423-9ac2-ddfcf6d28db7')\"\n",
              "              title=\"Convert this dataframe to an interactive table.\"\n",
              "              style=\"display:none;\">\n",
              "        \n",
              "  <svg xmlns=\"http://www.w3.org/2000/svg\" height=\"24px\"viewBox=\"0 0 24 24\"\n",
              "       width=\"24px\">\n",
              "    <path d=\"M0 0h24v24H0V0z\" fill=\"none\"/>\n",
              "    <path d=\"M18.56 5.44l.94 2.06.94-2.06 2.06-.94-2.06-.94-.94-2.06-.94 2.06-2.06.94zm-11 1L8.5 8.5l.94-2.06 2.06-.94-2.06-.94L8.5 2.5l-.94 2.06-2.06.94zm10 10l.94 2.06.94-2.06 2.06-.94-2.06-.94-.94-2.06-.94 2.06-2.06.94z\"/><path d=\"M17.41 7.96l-1.37-1.37c-.4-.4-.92-.59-1.43-.59-.52 0-1.04.2-1.43.59L10.3 9.45l-7.72 7.72c-.78.78-.78 2.05 0 2.83L4 21.41c.39.39.9.59 1.41.59.51 0 1.02-.2 1.41-.59l7.78-7.78 2.81-2.81c.8-.78.8-2.07 0-2.86zM5.41 20L4 18.59l7.72-7.72 1.47 1.35L5.41 20z\"/>\n",
              "  </svg>\n",
              "      </button>\n",
              "      \n",
              "  <style>\n",
              "    .colab-df-container {\n",
              "      display:flex;\n",
              "      flex-wrap:wrap;\n",
              "      gap: 12px;\n",
              "    }\n",
              "\n",
              "    .colab-df-convert {\n",
              "      background-color: #E8F0FE;\n",
              "      border: none;\n",
              "      border-radius: 50%;\n",
              "      cursor: pointer;\n",
              "      display: none;\n",
              "      fill: #1967D2;\n",
              "      height: 32px;\n",
              "      padding: 0 0 0 0;\n",
              "      width: 32px;\n",
              "    }\n",
              "\n",
              "    .colab-df-convert:hover {\n",
              "      background-color: #E2EBFA;\n",
              "      box-shadow: 0px 1px 2px rgba(60, 64, 67, 0.3), 0px 1px 3px 1px rgba(60, 64, 67, 0.15);\n",
              "      fill: #174EA6;\n",
              "    }\n",
              "\n",
              "    [theme=dark] .colab-df-convert {\n",
              "      background-color: #3B4455;\n",
              "      fill: #D2E3FC;\n",
              "    }\n",
              "\n",
              "    [theme=dark] .colab-df-convert:hover {\n",
              "      background-color: #434B5C;\n",
              "      box-shadow: 0px 1px 3px 1px rgba(0, 0, 0, 0.15);\n",
              "      filter: drop-shadow(0px 1px 2px rgba(0, 0, 0, 0.3));\n",
              "      fill: #FFFFFF;\n",
              "    }\n",
              "  </style>\n",
              "\n",
              "      <script>\n",
              "        const buttonEl =\n",
              "          document.querySelector('#df-29fcd865-02d8-4423-9ac2-ddfcf6d28db7 button.colab-df-convert');\n",
              "        buttonEl.style.display =\n",
              "          google.colab.kernel.accessAllowed ? 'block' : 'none';\n",
              "\n",
              "        async function convertToInteractive(key) {\n",
              "          const element = document.querySelector('#df-29fcd865-02d8-4423-9ac2-ddfcf6d28db7');\n",
              "          const dataTable =\n",
              "            await google.colab.kernel.invokeFunction('convertToInteractive',\n",
              "                                                     [key], {});\n",
              "          if (!dataTable) return;\n",
              "\n",
              "          const docLinkHtml = 'Like what you see? Visit the ' +\n",
              "            '<a target=\"_blank\" href=https://colab.research.google.com/notebooks/data_table.ipynb>data table notebook</a>'\n",
              "            + ' to learn more about interactive tables.';\n",
              "          element.innerHTML = '';\n",
              "          dataTable['output_type'] = 'display_data';\n",
              "          await google.colab.output.renderOutput(dataTable, element);\n",
              "          const docLink = document.createElement('div');\n",
              "          docLink.innerHTML = docLinkHtml;\n",
              "          element.appendChild(docLink);\n",
              "        }\n",
              "      </script>\n",
              "    </div>\n",
              "  </div>\n",
              "  "
            ]
          },
          "metadata": {},
          "execution_count": 28
        }
      ]
    },
    {
      "cell_type": "code",
      "source": [
        "from sklearn.preprocessing import StandardScaler\n",
        "scaler = StandardScaler()\n",
        "\n",
        "train_set_scaled = scaler.fit_transform(train_set_he)\n",
        "test_set_scaled = scaler.fit_transform(test_set_he)"
      ],
      "metadata": {
        "id": "4ZJ99038-NtL"
      },
      "execution_count": null,
      "outputs": []
    },
    {
      "cell_type": "code",
      "source": [
        "results = {}"
      ],
      "metadata": {
        "id": "WijPpu97Hlxj"
      },
      "execution_count": null,
      "outputs": []
    },
    {
      "cell_type": "markdown",
      "source": [
        "# Decision Tree [[1]](https://medium.com/analytics-vidhya/classification-in-decision-tree-a-step-by-step-cart-classification-and-regression-tree-8e5f5228b11e)[[2]](https://scikit-learn.org/stable/modules/tree.html#tree)\n",
        "\n",
        "Decision tree is supervised learning algorithm used for classification and regression. The goal is to create a model that can predict a target value based on vector of feature variables by using simple decision rules.\n",
        "Sklearn is using CART algorithm. CART is using Gini Impurity for splitting nodes into sub-nodes. "
      ],
      "metadata": {
        "id": "F8ANQMdhY2dK"
      }
    },
    {
      "cell_type": "code",
      "source": [
        "from sklearn.metrics import confusion_matrix, classification_report\n",
        "from sklearn.model_selection import train_test_split\n",
        "from sklearn import tree\n",
        "from sklearn.tree import export_text\n",
        "\n",
        "clf = tree.DecisionTreeClassifier()\n",
        "clf = clf.fit(train_set_scaled, train_classes.values)\n",
        "\n",
        "tree.plot_tree(clf, max_depth=5)\n",
        "# r = export_text(clf, feature_names=columns.values)\n",
        "# print(r)\n",
        "good_predictions = 0\n",
        "len = test_set_scaled.shape[0]\n",
        "test_classes_values = test_classes.values\n",
        "res = clf.predict(test_set_scaled)\n",
        "for i,r in enumerate(res):\n",
        "    if r == test_classes_values[i]:\n",
        "        good_predictions = good_predictions + 1\n",
        "print(good_predictions)\n",
        "print(good_predictions / len * 100, \"%\")\n",
        "\n",
        "results[\"decison_tree\"] = good_predictions / len\n",
        "decision_tree_matrix = confusion_matrix(test_classes_values, res)\n",
        "print(decision_tree_matrix)"
      ],
      "metadata": {
        "colab": {
          "base_uri": "https://localhost:8080/"
        },
        "id": "uspteXAtY5Am",
        "outputId": "e091ae5d-4006-4696-877c-4d54e3c4603b"
      },
      "execution_count": null,
      "outputs": [
        {
          "output_type": "stream",
          "name": "stdout",
          "text": [
            "27564\n",
            "80.70740491318479 %\n",
            "[[22523  3446]\n",
            " [ 3143  5041]]\n"
          ]
        },
        {
          "output_type": "display_data",
          "data": {
            "text/plain": [
              "<Figure size 432x288 with 1 Axes>"
            ],
            "image/png": "[encoded data removed]"
          },
          "metadata": {
            "needs_background": "light"
          }
        }
      ]
    },
    {
      "cell_type": "code",
      "source": [
        "def generate_confusion_matrix_heat_map(matrix, title):\n",
        "  ax = sns.heatmap(matrix, fmt='d', annot=True, cmap='Blues')\n",
        "  ax.set_title(title)\n",
        "  ax.set_xlabel('\\nPredicted Values')\n",
        "  ax.set_ylabel('Actual Values')\n",
        "\n",
        "  ax.xaxis.set_ticklabels(['<=50k','>50k'])\n",
        "  ax.yaxis.set_ticklabels(['<=50k','>50k'])\n",
        "  plt.show()"
      ],
      "metadata": {
        "id": "SNdkMCl0AA9J"
      },
      "execution_count": null,
      "outputs": []
    },
    {
      "cell_type": "code",
      "source": [
        "generate_confusion_matrix_heat_map(decision_tree_matrix, 'Decision Tree Confusion Matrix')"
      ],
      "metadata": {
        "id": "zwPjzWyaAqo6",
        "colab": {
          "base_uri": "https://localhost:8080/"
        },
        "outputId": "19a7a2af-5d23-47b8-a015-29bb53242aa1"
      },
      "execution_count": null,
      "outputs": [
        {
          "output_type": "display_data",
          "data": {
            "text/plain": [
              "<Figure size 432x288 with 2 Axes>"
            ],
            "image/png": "[encoded data removed]"
          },
          "metadata": {
            "needs_background": "light"
          }
        }
      ]
    },
    {
      "cell_type": "markdown",
      "source": [
        "# kNN [[1]](https://pl.wikipedia.org/wiki/K_najbli%C5%BCszych_s%C4%85siad%C3%B3w) [[2]](https://www.ibm.com/topics/knn)\n",
        "The k-nearest neighbors algorithm is a supervised learning classifier which uses the proximity to make grouping of the point in order to do classification or prediction. The short explaination of it:\n",
        "1. Observation C having vector of X variables is compared to other observations - for example by euclidean distance.\n",
        "2. Assing k closest observations to C.\n",
        "3. Calculate the average of the prediction point. \n",
        "\n",
        "One of the most important things is to chose K which strongly influences the outcome of the training. \n",
        "\n"
      ],
      "metadata": {
        "id": "Ko4dw-wVaWGh"
      }
    },
    {
      "cell_type": "code",
      "source": [
        "from sklearn.neighbors import KNeighborsClassifier\n",
        "from sklearn.metrics import classification_report"
      ],
      "metadata": {
        "id": "RKP8PPa_acL4"
      },
      "execution_count": null,
      "outputs": []
    },
    {
      "cell_type": "markdown",
      "source": [
        "Changing the income values to numeric"
      ],
      "metadata": {
        "id": "i2KhEqTF_cNr"
      }
    },
    {
      "cell_type": "code",
      "source": [
        "# test_classes['income'] = test_classes['income'].map({' <=50K': 0, ' >50K': 1})\n",
        "# train_classes['income'] = test_classes['income'].map({' <=50K': 0, ' >50K': 1})"
      ],
      "metadata": {
        "id": "PEfH4e67-872"
      },
      "execution_count": null,
      "outputs": []
    },
    {
      "cell_type": "code",
      "source": [
        "knn = KNeighborsClassifier(n_neighbors=9) ###k=9\n",
        "knn = knn.fit(train_set_scaled, train_classes.values)"
      ],
      "metadata": {
        "id": "JuxOheOC-vbu"
      },
      "execution_count": null,
      "outputs": []
    },
    {
      "cell_type": "code",
      "source": [
        "pred = knn.predict(test_set_scaled)\n",
        "\n",
        "knn_matrix = confusion_matrix(test_classes.values, pred)\n",
        "knn_report = classification_report(test_classes.values, pred)\n",
        "print(knn_report)"
      ],
      "metadata": {
        "id": "DYW_KV5b_lSG",
        "colab": {
          "base_uri": "https://localhost:8080/"
        },
        "outputId": "1f404be9-fac5-47b6-f58c-c1d7e722e2bc"
      },
      "execution_count": null,
      "outputs": [
        {
          "output_type": "stream",
          "name": "stdout",
          "text": [
            "              precision    recall  f1-score   support\n",
            "\n",
            "       <=50K       0.87      0.91      0.89     25969\n",
            "        >50K       0.66      0.56      0.61      8184\n",
            "\n",
            "    accuracy                           0.83     34153\n",
            "   macro avg       0.77      0.74      0.75     34153\n",
            "weighted avg       0.82      0.83      0.82     34153\n",
            "\n"
          ]
        }
      ]
    },
    {
      "cell_type": "code",
      "source": [
        "knn_report2 = classification_report(test_classes.values, pred, output_dict=True)\n",
        "\n",
        "results['knn'] = knn_report2['accuracy']"
      ],
      "metadata": {
        "id": "cW1P9K70JCaI"
      },
      "execution_count": null,
      "outputs": []
    },
    {
      "cell_type": "code",
      "source": [
        "generate_confusion_matrix_heat_map(knn_matrix, 'kNN Confusion Matrix')"
      ],
      "metadata": {
        "id": "2Do2_m4zA4Di",
        "colab": {
          "base_uri": "https://localhost:8080/"
        },
        "outputId": "3964d31b-c2ec-44f4-b06d-53bbf2e55908"
      },
      "execution_count": null,
      "outputs": [
        {
          "output_type": "display_data",
          "data": {
            "text/plain": [
              "<Figure size 432x288 with 2 Axes>"
            ],
            "image/png": "[encoded data removed]"
          },
          "metadata": {
            "needs_background": "light"
          }
        }
      ]
    },
    {
      "cell_type": "markdown",
      "source": [
        "# Naive Bayes\n",
        "Naive Bayes are a family of classifiers that apply Bayes' theorem. It is simple probablistic classificator. They are based on theory about independence of predictors. "
      ],
      "metadata": {
        "id": "6CdtCUsGA88O"
      }
    },
    {
      "cell_type": "code",
      "source": [
        "from sklearn.naive_bayes import BernoulliNB\n",
        "\n",
        "gnb = BernoulliNB()\n",
        "\n",
        "gnb.fit(train_set_scaled, train_classes.values)\n",
        "\n",
        "pred = gnb.predict(test_set_scaled)\n",
        "\n",
        "naive_bayes_matrix = confusion_matrix(test_classes.values, pred)\n",
        "classification_report(test_classes.values, pred)\n",
        "\n",
        "generate_confusion_matrix_heat_map(naive_bayes_matrix, 'Naive Bayes Confusion Matrix')"
      ],
      "metadata": {
        "colab": {
          "base_uri": "https://localhost:8080/",
          "height": 307
        },
        "id": "cIZ_hfoDdd2Y",
        "outputId": "9cbff409-5ef9-4d2a-80ac-afb801950a88"
      },
      "execution_count": null,
      "outputs": [
        {
          "output_type": "display_data",
          "data": {
            "text/plain": [
              "<Figure size 432x288 with 2 Axes>"
            ],
            "image/png": "[encoded data removed]"
          },
          "metadata": {
            "needs_background": "light"
          }
        }
      ]
    },
    {
      "cell_type": "code",
      "source": [
        "bayes_report2 = classification_report(test_classes.values, pred, output_dict=True)\n",
        "\n",
        "results['bayes'] = bayes_report2['accuracy']"
      ],
      "metadata": {
        "id": "hsRDpG3sKb3P"
      },
      "execution_count": null,
      "outputs": []
    },
    {
      "cell_type": "code",
      "source": [
        "report = classification_report(test_classes.values, pred)\n",
        "print(report)"
      ],
      "metadata": {
        "colab": {
          "base_uri": "https://localhost:8080/"
        },
        "id": "HlQCSMEhnPtH",
        "outputId": "3abcbc70-2515-4b7b-fb88-fb9f570ae20d"
      },
      "execution_count": null,
      "outputs": [
        {
          "output_type": "stream",
          "name": "stdout",
          "text": [
            "              precision    recall  f1-score   support\n",
            "\n",
            "       <=50K       0.92      0.75      0.83     25969\n",
            "        >50K       0.50      0.79      0.61      8184\n",
            "\n",
            "    accuracy                           0.76     34153\n",
            "   macro avg       0.71      0.77      0.72     34153\n",
            "weighted avg       0.82      0.76      0.77     34153\n",
            "\n"
          ]
        }
      ]
    },
    {
      "cell_type": "code",
      "source": [
        "print('Training set score: {:.4f}'.format(gnb.score(train_set_scaled, train_classes.values)))\n",
        "\n",
        "print('Test set score: {:.4f}'.format(gnb.score(test_set_scaled, test_classes.values)))"
      ],
      "metadata": {
        "colab": {
          "base_uri": "https://localhost:8080/"
        },
        "id": "slolQW1Wg46S",
        "outputId": "9eff53f5-4b53-44c5-cfcf-233861f30c44"
      },
      "execution_count": null,
      "outputs": [
        {
          "output_type": "stream",
          "name": "stdout",
          "text": [
            "Training set score: 0.7642\n",
            "Test set score: 0.7593\n"
          ]
        }
      ]
    },
    {
      "cell_type": "markdown",
      "source": [
        "# Neural Networks\n",
        "Neural netowkrs are subset of machine learning algorithms that mimick human brain. They are comprised of a node layers, containing an input, output and one or more hidden layers. "
      ],
      "metadata": {
        "id": "mxzigvQoeck0"
      }
    },
    {
      "cell_type": "code",
      "source": [
        "from keras.models import Sequential\n",
        "from keras.layers import Dense"
      ],
      "metadata": {
        "id": "1wO_LEqsn7yj"
      },
      "execution_count": null,
      "outputs": []
    },
    {
      "cell_type": "code",
      "source": [
        "train_set_scaled.shape"
      ],
      "metadata": {
        "colab": {
          "base_uri": "https://localhost:8080/"
        },
        "id": "yInTmahDoq4W",
        "outputId": "a444ba71-94f0-428a-ff3e-2dabb75d497b"
      },
      "execution_count": null,
      "outputs": [
        {
          "output_type": "execute_result",
          "data": {
            "text/plain": [
              "(14637, 50)"
            ]
          },
          "metadata": {},
          "execution_count": 45
        }
      ]
    },
    {
      "cell_type": "markdown",
      "source": [
        "Getting the dimension for first input layer"
      ],
      "metadata": {
        "id": "zCOOQNCqGo6A"
      }
    },
    {
      "cell_type": "code",
      "source": [
        "(rows, in_dim) = train_set_scaled.shape"
      ],
      "metadata": {
        "id": "BBT9H5bMKwNS"
      },
      "execution_count": null,
      "outputs": []
    },
    {
      "cell_type": "markdown",
      "source": [
        "### Neural Network 1 (50-20-20-1)"
      ],
      "metadata": {
        "id": "7M8gLObYUNeG"
      }
    },
    {
      "cell_type": "markdown",
      "source": [
        "Input layer: 50\n",
        "Hidden layers: \n",
        "* 20, activation: relu\n",
        "* 20, activation: relu  \n",
        "Output layer, activation: sigmoid  \n",
        "5 epochs, 16 in batch"
      ],
      "metadata": {
        "id": "80vK1AGoGsNZ"
      }
    },
    {
      "cell_type": "code",
      "source": [
        "model = Sequential()\n",
        "model.add(Dense(8, input_dim=in_dim, activation='relu', name='input_layer'))\n",
        "\n",
        "model.add(Dense(20, activation='relu', name='layer1'))\n",
        "\n",
        "model.add(Dense(20, activation='relu', name='layer2'))\n",
        "\n",
        "model.add(Dense(1, activation='sigmoid', name='output-layer'))\n",
        "\n",
        "model.compile(loss='binary_crossentropy', \n",
        "              optimizer='adam',\n",
        "              metrics=['accuracy'])"
      ],
      "metadata": {
        "id": "3cOUiB21oBvt"
      },
      "execution_count": null,
      "outputs": []
    },
    {
      "cell_type": "markdown",
      "source": [
        "Changing classes from string to int. "
      ],
      "metadata": {
        "id": "0aDlxzDDG6cm"
      }
    },
    {
      "cell_type": "code",
      "source": [
        "def change_classes_to_int(dataset):\n",
        "  return dataset.map({' <=50K':0, ' >50K': 1})"
      ],
      "metadata": {
        "id": "8kK8h_rXpRvO"
      },
      "execution_count": null,
      "outputs": []
    },
    {
      "cell_type": "code",
      "source": [
        "train_classes_val = change_classes_to_int(train_classes)\n",
        "test_classes_val = change_classes_to_int(test_classes)"
      ],
      "metadata": {
        "id": "ZcWyZ4LbpnsU"
      },
      "execution_count": null,
      "outputs": []
    },
    {
      "cell_type": "code",
      "source": [
        "print(train_classes_val.value_counts())\n",
        "print(test_classes_val.value_counts())"
      ],
      "metadata": {
        "colab": {
          "base_uri": "https://localhost:8080/"
        },
        "id": "cLHkW1WbpoYb",
        "outputId": "55d3ddff-c677-495d-9d0d-e34ac9ce0983"
      },
      "execution_count": null,
      "outputs": [
        {
          "output_type": "stream",
          "name": "stdout",
          "text": [
            "0    11140\n",
            "1     3497\n",
            "Name: income, dtype: int64\n",
            "0    25969\n",
            "1     8184\n",
            "Name: income, dtype: int64\n"
          ]
        }
      ]
    },
    {
      "cell_type": "markdown",
      "source": [
        "Defining the Keras TensorBoard callback"
      ],
      "metadata": {
        "id": "Llp-ooOCISnV"
      }
    },
    {
      "cell_type": "code",
      "source": [
        "%load_ext tensorboard"
      ],
      "metadata": {
        "id": "sYcBVh6FJTzV"
      },
      "execution_count": null,
      "outputs": []
    },
    {
      "cell_type": "code",
      "source": [
        "import datetime\n",
        "import keras\n",
        "\n",
        "logdir=\"logs/fit/\" + datetime.datetime.now().strftime(\"%Y%m%d-%H%M%S\") + \"lukaszke\"\n",
        "tensorboard_callback = keras.callbacks.TensorBoard(log_dir=logdir)"
      ],
      "metadata": {
        "id": "wlVtgAagIRtV"
      },
      "execution_count": null,
      "outputs": []
    },
    {
      "cell_type": "markdown",
      "source": [
        "Training model function  \n",
        "We are setting up class_weight parameter, so observations with 50k+ result have are 3 times more important as the training is unbalanced. There are 3 times more records with income of 50k and less. "
      ],
      "metadata": {
        "id": "c9Rc_i9_HVEf"
      }
    },
    {
      "cell_type": "code",
      "source": [
        "from tensorflow.python import train\n",
        "from keras.callbacks import ModelCheckpoint\n",
        "\n",
        "NB_EPOCHS = 5  # num of epochs to test for\n",
        "BATCH_SIZE = 16\n",
        "\n",
        "def run_nn(model, train_set_scaled, train_classes_val, epochs, batch_size, name, checkpoint):\n",
        "  logdir=\"logs/fit/\" + datetime.datetime.now().strftime(\"%Y%m%d-%H%M%S\") + name\n",
        "  tensorboard_callback = keras.callbacks.TensorBoard(log_dir=logdir)\n",
        "\n",
        "  history = model.fit(train_set_scaled,\n",
        "                      train_classes_val.values,\n",
        "                      validation_data=(test_set_scaled, test_classes_val.values),\n",
        "                      epochs=epochs,\n",
        "                      batch_size=batch_size,\n",
        "                      verbose=1, callbacks=[tensorboard_callback, checkpoint], class_weight={0: 1, 1: 3})\n",
        "  return history"
      ],
      "metadata": {
        "id": "OnqAZ7CRoDHU"
      },
      "execution_count": null,
      "outputs": []
    },
    {
      "cell_type": "markdown",
      "source": [
        "Calling function to train the model"
      ],
      "metadata": {
        "id": "vshb9QDWHXsn"
      }
    },
    {
      "cell_type": "code",
      "source": [
        "import tensorflow as tf\n",
        "\n",
        "checkpoint_filepath1 = '/tmp/checkpoint'\n",
        "model_checkpoint_callback1 = tf.keras.callbacks.ModelCheckpoint(\n",
        "    filepath=checkpoint_filepath1,\n",
        "    save_weights_only=True,\n",
        "    monitor='val_accuracy',\n",
        "    mode='max',\n",
        "    save_best_only=True)\n",
        "history = run_nn(model, train_set_scaled, train_classes_val, 5, 16, '50-20-20-1relu-relu-sigmoid', model_checkpoint_callback1)"
      ],
      "metadata": {
        "colab": {
          "base_uri": "https://localhost:8080/"
        },
        "id": "LMAKrM8DM7ms",
        "outputId": "8414d22e-1fdd-432d-9f56-c169349be825"
      },
      "execution_count": null,
      "outputs": [
        {
          "output_type": "stream",
          "name": "stdout",
          "text": [
            "Epoch 1/5\n",
            "915/915 [==============================] - 8s 8ms/step - loss: 0.7329 - accuracy: 0.7430 - val_loss: 0.4089 - val_accuracy: 0.7924\n",
            "Epoch 2/5\n",
            "915/915 [==============================] - 4s 5ms/step - loss: 0.5872 - accuracy: 0.7975 - val_loss: 0.3816 - val_accuracy: 0.8087\n",
            "Epoch 3/5\n",
            "915/915 [==============================] - 4s 5ms/step - loss: 0.5662 - accuracy: 0.8073 - val_loss: 0.3646 - val_accuracy: 0.8160\n",
            "Epoch 4/5\n",
            "915/915 [==============================] - 4s 5ms/step - loss: 0.5577 - accuracy: 0.8094 - val_loss: 0.3687 - val_accuracy: 0.8165\n",
            "Epoch 5/5\n",
            "915/915 [==============================] - 4s 4ms/step - loss: 0.5521 - accuracy: 0.8137 - val_loss: 0.3807 - val_accuracy: 0.8026\n"
          ]
        }
      ]
    },
    {
      "cell_type": "markdown",
      "source": [
        "##### Accuracy Score Function"
      ],
      "metadata": {
        "id": "HTF6gg0dUGTy"
      }
    },
    {
      "cell_type": "markdown",
      "source": [
        "Accuracy score - changing the values produced by sigmoid function to ones and zeros. "
      ],
      "metadata": {
        "id": "UVFpqG-LIWBb"
      }
    },
    {
      "cell_type": "code",
      "source": [
        "from sklearn.metrics import accuracy_score\n",
        "def accuracy_score_fn(model, test_set_scaled_arg, tst_classes):\n",
        "  y_predict = model.predict(test_set_scaled_arg)\n",
        "  y_pred_bin = np.where(y_predict >0.5, 1, 0)\n",
        "  x = accuracy_score(tst_classes.values, y_pred_bin)\n",
        "  return (x, y_pred_bin) "
      ],
      "metadata": {
        "id": "F7UjAMV8NmtS"
      },
      "execution_count": null,
      "outputs": []
    },
    {
      "cell_type": "markdown",
      "source": [
        "Loading weights of the best Epoch"
      ],
      "metadata": {
        "id": "NRBl14O5HLvm"
      }
    },
    {
      "cell_type": "code",
      "source": [
        "model.load_weights(checkpoint_filepath1)\n",
        "model.compile(loss='binary_crossentropy', \n",
        "              optimizer='adam',\n",
        "              metrics=['accuracy'])"
      ],
      "metadata": {
        "id": "lmRJ4T8T1cjm"
      },
      "execution_count": null,
      "outputs": []
    },
    {
      "cell_type": "markdown",
      "source": [
        "Running test"
      ],
      "metadata": {
        "id": "IyalnIh-HRf3"
      }
    },
    {
      "cell_type": "code",
      "source": [
        "(accuracy_result, y_predict_1) = accuracy_score_fn(model, test_set_scaled, test_classes_val)\n",
        "print(accuracy_result)"
      ],
      "metadata": {
        "colab": {
          "base_uri": "https://localhost:8080/"
        },
        "id": "bhF3y1s1oXKt",
        "outputId": "7b1bf826-019a-4c1b-ae71-3d5e31529d58"
      },
      "execution_count": null,
      "outputs": [
        {
          "output_type": "stream",
          "name": "stdout",
          "text": [
            "1068/1068 [==============================] - 1s 1ms/step\n",
            "0.816472930635669\n"
          ]
        }
      ]
    },
    {
      "cell_type": "markdown",
      "source": [
        "**Confusion Matrix**"
      ],
      "metadata": {
        "id": "T0U4ZRHNHbMw"
      }
    },
    {
      "cell_type": "code",
      "source": [
        "nn1_report = classification_report(test_classes_val.values, y_predict_1, output_dict=True)\n",
        "nn1_matrix = confusion_matrix(test_classes_val.values, y_predict_1)\n",
        "nn_report =  [accuracy_result]\n",
        "generate_confusion_matrix_heat_map(nn1_matrix, 'Neural Network 8-6-3-1')"
      ],
      "metadata": {
        "colab": {
          "base_uri": "https://localhost:8080/",
          "height": 307
        },
        "id": "arNnbM9eLD8v",
        "outputId": "16ee6c4e-40f8-4213-f6bc-e64eddd68e1c"
      },
      "execution_count": null,
      "outputs": [
        {
          "output_type": "display_data",
          "data": {
            "text/plain": [
              "<Figure size 432x288 with 2 Axes>"
            ],
            "image/png": "[encoded data removed]"
          },
          "metadata": {
            "needs_background": "light"
          }
        }
      ]
    },
    {
      "cell_type": "markdown",
      "source": [
        "**Loss** vs **Value Loss**"
      ],
      "metadata": {
        "id": "ESOr4oCaHggC"
      }
    },
    {
      "cell_type": "code",
      "source": [
        "plt.plot(history.history['loss'], label='train')\n",
        "plt.plot(history.history['val_loss'], label='test')\n",
        "plt.title('model loss')\n",
        "plt.legend()"
      ],
      "metadata": {
        "colab": {
          "base_uri": "https://localhost:8080/",
          "height": 298
        },
        "id": "VqjTxTlKoZLx",
        "outputId": "7c9abff8-e192-4610-b2ce-e4aa109e7bd8"
      },
      "execution_count": null,
      "outputs": [
        {
          "output_type": "execute_result",
          "data": {
            "text/plain": [
              "<matplotlib.legend.Legend at 0x7f5fe4a96a00>"
            ]
          },
          "metadata": {},
          "execution_count": 59
        },
        {
          "output_type": "display_data",
          "data": {
            "text/plain": [
              "<Figure size 432x288 with 1 Axes>"
            ],
            "image/png": "[encoded data removed]"
          },
          "metadata": {
            "needs_background": "light"
          }
        }
      ]
    },
    {
      "cell_type": "markdown",
      "source": [
        "Saving graph vizualization"
      ],
      "metadata": {
        "id": "g_-AT9i-Hmy8"
      }
    },
    {
      "cell_type": "code",
      "source": [
        "!pip3 install ann_visualizer\n",
        "!pip3 install graphviz\n",
        "\n",
        "from ann_visualizer.visualize import ann_viz\n",
        "\n",
        "ann_viz(model, view=True, title=\"1st\", filename=\"1.nn\")"
      ],
      "metadata": {
        "colab": {
          "base_uri": "https://localhost:8080/"
        },
        "id": "E3edKozbOYWo",
        "outputId": "ff63ca4c-a12f-4953-d839-11efef1253aa"
      },
      "execution_count": null,
      "outputs": [
        {
          "output_type": "stream",
          "name": "stdout",
          "text": [
            "Looking in indexes: https://pypi.org/simple, https://us-python.pkg.dev/colab-wheels/public/simple/\n",
            "Collecting ann_visualizer\n",
            "  Downloading ann_visualizer-2.5.tar.gz (4.7 kB)\n",
            "  Preparing metadata (setup.py) ... \u001b[?25l\u001b[?25hdone\n",
            "Building wheels for collected packages: ann_visualizer\n",
            "  Building wheel for ann_visualizer (setup.py) ... \u001b[?25l\u001b[?25hdone\n",
            "  Created wheel for ann_visualizer: filename=ann_visualizer-2.5-py3-none-any.whl size=4168 sha256=d609f5bfc7d7723a164587ec9a4a1e589e9bf16efac1ed7d17520f1cf1526360\n",
            "  Stored in directory: /root/.cache/pip/wheels/4b/ef/77/9b8c4ae2f9a11de19957b80bc5c684accd99114bb8dc6b374c\n",
            "Successfully built ann_visualizer\n",
            "Installing collected packages: ann_visualizer\n",
            "Successfully installed ann_visualizer-2.5\n",
            "Looking in indexes: https://pypi.org/simple, https://us-python.pkg.dev/colab-wheels/public/simple/\n",
            "Requirement already satisfied: graphviz in /usr/local/lib/python3.8/dist-packages (0.10.1)\n"
          ]
        }
      ]
    },
    {
      "cell_type": "markdown",
      "source": [
        "## Neural Netwok 2 (50-128-64-1)\n"
      ],
      "metadata": {
        "id": "ExXWBU5GMUHq"
      }
    },
    {
      "cell_type": "markdown",
      "source": [
        "*Network* 50-128-64-1  \n",
        "Epochs: 50  \n",
        "Batch size: 500\n",
        "\n"
      ],
      "metadata": {
        "id": "dZ5Y8PKENVYe"
      }
    },
    {
      "cell_type": "code",
      "source": [
        "import tensorflow as tf\n",
        "\n",
        "METRICS = [\n",
        "  tf.keras.metrics.BinaryAccuracy(name='accuracy'),\n",
        "]\n",
        "\n",
        "model2 = Sequential()\n",
        "model2.add(Dense(50, input_dim=in_dim, activation='relu', name='input_layer'))\n",
        "\n",
        "model2.add(Dense(128, activation='relu', name='layer1'))\n",
        "\n",
        "model2.add(Dense(64, activation='relu', name='layer2'))\n",
        "\n",
        "model2.add(Dense(1, activation='sigmoid', name='output-layer'))\n",
        "\n",
        "model2.compile(loss='binary_crossentropy', \n",
        "              optimizer='adam',\n",
        "              metrics=METRICS)"
      ],
      "metadata": {
        "id": "FKZLKTlPNeRS"
      },
      "execution_count": null,
      "outputs": []
    },
    {
      "cell_type": "code",
      "source": [
        "checkpoint_filepath2 = '/tmp/checkpoint2'\n",
        "model_checkpoint_callback2 = tf.keras.callbacks.ModelCheckpoint(\n",
        "    filepath=checkpoint_filepath2,\n",
        "    save_weights_only=True,\n",
        "    monitor='val_accuracy',\n",
        "    mode='max',\n",
        "    save_best_only=True)"
      ],
      "metadata": {
        "id": "myetT1pMXJAE"
      },
      "execution_count": null,
      "outputs": []
    },
    {
      "cell_type": "code",
      "source": [
        "history2 = run_nn(model2, train_set_scaled, train_classes_val, 50, 500, '50-128-64-1', model_checkpoint_callback2)"
      ],
      "metadata": {
        "colab": {
          "base_uri": "https://localhost:8080/"
        },
        "id": "JyX65dbjNcZj",
        "outputId": "01f93321-0ad8-4762-cd59-908573e470ed"
      },
      "execution_count": null,
      "outputs": [
        {
          "output_type": "stream",
          "name": "stdout",
          "text": [
            "Epoch 1/50\n",
            "30/30 [==============================] - 2s 31ms/step - loss: 0.8008 - accuracy: 0.7270 - val_loss: 0.4759 - val_accuracy: 0.7518\n",
            "Epoch 2/50\n",
            "30/30 [==============================] - 0s 13ms/step - loss: 0.6131 - accuracy: 0.7851 - val_loss: 0.3841 - val_accuracy: 0.8090\n",
            "Epoch 3/50\n",
            "30/30 [==============================] - 1s 17ms/step - loss: 0.5804 - accuracy: 0.7988 - val_loss: 0.4004 - val_accuracy: 0.8002\n",
            "Epoch 4/50\n",
            "30/30 [==============================] - 1s 20ms/step - loss: 0.5646 - accuracy: 0.8030 - val_loss: 0.3830 - val_accuracy: 0.8089\n",
            "Epoch 5/50\n",
            "30/30 [==============================] - 1s 18ms/step - loss: 0.5551 - accuracy: 0.8082 - val_loss: 0.3804 - val_accuracy: 0.8101\n",
            "Epoch 6/50\n",
            "30/30 [==============================] - 1s 18ms/step - loss: 0.5443 - accuracy: 0.8106 - val_loss: 0.3825 - val_accuracy: 0.8085\n",
            "Epoch 7/50\n",
            "30/30 [==============================] - 0s 12ms/step - loss: 0.5376 - accuracy: 0.8148 - val_loss: 0.3716 - val_accuracy: 0.8160\n",
            "Epoch 8/50\n",
            "30/30 [==============================] - 1s 17ms/step - loss: 0.5332 - accuracy: 0.8148 - val_loss: 0.3857 - val_accuracy: 0.8066\n",
            "Epoch 9/50\n",
            "30/30 [==============================] - 0s 11ms/step - loss: 0.5256 - accuracy: 0.8204 - val_loss: 0.3965 - val_accuracy: 0.7991\n",
            "Epoch 10/50\n",
            "30/30 [==============================] - 0s 12ms/step - loss: 0.5208 - accuracy: 0.8189 - val_loss: 0.3923 - val_accuracy: 0.8037\n",
            "Epoch 11/50\n",
            "30/30 [==============================] - 1s 17ms/step - loss: 0.5169 - accuracy: 0.8222 - val_loss: 0.3771 - val_accuracy: 0.8121\n",
            "Epoch 12/50\n",
            "30/30 [==============================] - 0s 17ms/step - loss: 0.5117 - accuracy: 0.8223 - val_loss: 0.3841 - val_accuracy: 0.8066\n",
            "Epoch 13/50\n",
            "30/30 [==============================] - 1s 21ms/step - loss: 0.5043 - accuracy: 0.8250 - val_loss: 0.3782 - val_accuracy: 0.8122\n",
            "Epoch 14/50\n",
            "30/30 [==============================] - 1s 21ms/step - loss: 0.5001 - accuracy: 0.8286 - val_loss: 0.3882 - val_accuracy: 0.8046\n",
            "Epoch 15/50\n",
            "30/30 [==============================] - 1s 23ms/step - loss: 0.4938 - accuracy: 0.8292 - val_loss: 0.4489 - val_accuracy: 0.7753\n",
            "Epoch 16/50\n",
            "30/30 [==============================] - 1s 20ms/step - loss: 0.4947 - accuracy: 0.8291 - val_loss: 0.3688 - val_accuracy: 0.8156\n",
            "Epoch 17/50\n",
            "30/30 [==============================] - 1s 34ms/step - loss: 0.4849 - accuracy: 0.8323 - val_loss: 0.3786 - val_accuracy: 0.8118\n",
            "Epoch 18/50\n",
            "30/30 [==============================] - 1s 33ms/step - loss: 0.4800 - accuracy: 0.8341 - val_loss: 0.3784 - val_accuracy: 0.8147\n",
            "Epoch 19/50\n",
            "30/30 [==============================] - 1s 24ms/step - loss: 0.4750 - accuracy: 0.8342 - val_loss: 0.3697 - val_accuracy: 0.8178\n",
            "Epoch 20/50\n",
            "30/30 [==============================] - 1s 21ms/step - loss: 0.4721 - accuracy: 0.8377 - val_loss: 0.3809 - val_accuracy: 0.8128\n",
            "Epoch 21/50\n",
            "30/30 [==============================] - 1s 23ms/step - loss: 0.4680 - accuracy: 0.8360 - val_loss: 0.3914 - val_accuracy: 0.8099\n",
            "Epoch 22/50\n",
            "30/30 [==============================] - 1s 21ms/step - loss: 0.4636 - accuracy: 0.8420 - val_loss: 0.3836 - val_accuracy: 0.8147\n",
            "Epoch 23/50\n",
            "30/30 [==============================] - 1s 36ms/step - loss: 0.4605 - accuracy: 0.8386 - val_loss: 0.3859 - val_accuracy: 0.8108\n",
            "Epoch 24/50\n",
            "30/30 [==============================] - 1s 23ms/step - loss: 0.4539 - accuracy: 0.8428 - val_loss: 0.4002 - val_accuracy: 0.8047\n",
            "Epoch 25/50\n",
            "30/30 [==============================] - 1s 23ms/step - loss: 0.4525 - accuracy: 0.8405 - val_loss: 0.3886 - val_accuracy: 0.8125\n",
            "Epoch 26/50\n",
            "30/30 [==============================] - 1s 36ms/step - loss: 0.4504 - accuracy: 0.8466 - val_loss: 0.3744 - val_accuracy: 0.8214\n",
            "Epoch 27/50\n",
            "30/30 [==============================] - 1s 24ms/step - loss: 0.4427 - accuracy: 0.8482 - val_loss: 0.3803 - val_accuracy: 0.8198\n",
            "Epoch 28/50\n",
            "30/30 [==============================] - 1s 23ms/step - loss: 0.4385 - accuracy: 0.8491 - val_loss: 0.4034 - val_accuracy: 0.8041\n",
            "Epoch 29/50\n",
            "30/30 [==============================] - 1s 22ms/step - loss: 0.4373 - accuracy: 0.8487 - val_loss: 0.3844 - val_accuracy: 0.8161\n",
            "Epoch 30/50\n",
            "30/30 [==============================] - 1s 24ms/step - loss: 0.4285 - accuracy: 0.8517 - val_loss: 0.3868 - val_accuracy: 0.8225\n",
            "Epoch 31/50\n",
            "30/30 [==============================] - 1s 34ms/step - loss: 0.4315 - accuracy: 0.8516 - val_loss: 0.4276 - val_accuracy: 0.7982\n",
            "Epoch 32/50\n",
            "30/30 [==============================] - 1s 23ms/step - loss: 0.4285 - accuracy: 0.8519 - val_loss: 0.3911 - val_accuracy: 0.8195\n",
            "Epoch 33/50\n",
            "30/30 [==============================] - 1s 22ms/step - loss: 0.4254 - accuracy: 0.8525 - val_loss: 0.4177 - val_accuracy: 0.8063\n",
            "Epoch 34/50\n",
            "30/30 [==============================] - 1s 24ms/step - loss: 0.4189 - accuracy: 0.8542 - val_loss: 0.4165 - val_accuracy: 0.8072\n",
            "Epoch 35/50\n",
            "30/30 [==============================] - 1s 20ms/step - loss: 0.4162 - accuracy: 0.8578 - val_loss: 0.4357 - val_accuracy: 0.7972\n",
            "Epoch 36/50\n",
            "30/30 [==============================] - 1s 21ms/step - loss: 0.4128 - accuracy: 0.8540 - val_loss: 0.4084 - val_accuracy: 0.8136\n",
            "Epoch 37/50\n",
            "30/30 [==============================] - 1s 23ms/step - loss: 0.4105 - accuracy: 0.8551 - val_loss: 0.4148 - val_accuracy: 0.8149\n",
            "Epoch 38/50\n",
            "30/30 [==============================] - 1s 22ms/step - loss: 0.4068 - accuracy: 0.8561 - val_loss: 0.4313 - val_accuracy: 0.8016\n",
            "Epoch 39/50\n",
            "30/30 [==============================] - 1s 21ms/step - loss: 0.4062 - accuracy: 0.8588 - val_loss: 0.4182 - val_accuracy: 0.8127\n",
            "Epoch 40/50\n",
            "30/30 [==============================] - 1s 37ms/step - loss: 0.4027 - accuracy: 0.8582 - val_loss: 0.4261 - val_accuracy: 0.8101\n",
            "Epoch 41/50\n",
            "30/30 [==============================] - 1s 34ms/step - loss: 0.4001 - accuracy: 0.8607 - val_loss: 0.4279 - val_accuracy: 0.8068\n",
            "Epoch 42/50\n",
            "30/30 [==============================] - 1s 21ms/step - loss: 0.3948 - accuracy: 0.8612 - val_loss: 0.4345 - val_accuracy: 0.8045\n",
            "Epoch 43/50\n",
            "30/30 [==============================] - 1s 22ms/step - loss: 0.3946 - accuracy: 0.8654 - val_loss: 0.4459 - val_accuracy: 0.7984\n",
            "Epoch 44/50\n",
            "30/30 [==============================] - 1s 25ms/step - loss: 0.3875 - accuracy: 0.8645 - val_loss: 0.4421 - val_accuracy: 0.8100\n",
            "Epoch 45/50\n",
            "30/30 [==============================] - 1s 32ms/step - loss: 0.3868 - accuracy: 0.8633 - val_loss: 0.4258 - val_accuracy: 0.8143\n",
            "Epoch 46/50\n",
            "30/30 [==============================] - 1s 22ms/step - loss: 0.3803 - accuracy: 0.8686 - val_loss: 0.4674 - val_accuracy: 0.7934\n",
            "Epoch 47/50\n",
            "30/30 [==============================] - 1s 22ms/step - loss: 0.3797 - accuracy: 0.8665 - val_loss: 0.4491 - val_accuracy: 0.8052\n",
            "Epoch 48/50\n",
            "30/30 [==============================] - 1s 22ms/step - loss: 0.3753 - accuracy: 0.8692 - val_loss: 0.4592 - val_accuracy: 0.8030\n",
            "Epoch 49/50\n",
            "30/30 [==============================] - 1s 23ms/step - loss: 0.3712 - accuracy: 0.8699 - val_loss: 0.4535 - val_accuracy: 0.8135\n",
            "Epoch 50/50\n",
            "30/30 [==============================] - 1s 22ms/step - loss: 0.3667 - accuracy: 0.8716 - val_loss: 0.4788 - val_accuracy: 0.7987\n"
          ]
        }
      ]
    },
    {
      "cell_type": "code",
      "source": [
        "model2.load_weights(checkpoint_filepath2)\n",
        "model2.compile(loss='binary_crossentropy', \n",
        "              optimizer='adam',\n",
        "              metrics=['accuracy'])"
      ],
      "metadata": {
        "id": "zjyaD-CS2GFK"
      },
      "execution_count": null,
      "outputs": []
    },
    {
      "cell_type": "code",
      "source": [
        "(accuracy_result2, y_predict_2) = accuracy_score_fn(model2, test_set_scaled, test_classes_val)"
      ],
      "metadata": {
        "colab": {
          "base_uri": "https://localhost:8080/"
        },
        "id": "wcwA-yk3Pfvf",
        "outputId": "9a2a058a-2961-4980-8d7f-704ced905035"
      },
      "execution_count": null,
      "outputs": [
        {
          "output_type": "stream",
          "name": "stdout",
          "text": [
            "1068/1068 [==============================] - 2s 2ms/step\n"
          ]
        }
      ]
    },
    {
      "cell_type": "code",
      "source": [
        "print(accuracy_result2)"
      ],
      "metadata": {
        "colab": {
          "base_uri": "https://localhost:8080/"
        },
        "id": "YRJAdqZNPvAY",
        "outputId": "f8b11b63-c807-4aef-b4ee-624689342dbf"
      },
      "execution_count": null,
      "outputs": [
        {
          "output_type": "stream",
          "name": "stdout",
          "text": [
            "0.822475331596053\n"
          ]
        }
      ]
    },
    {
      "cell_type": "code",
      "source": [
        "nn2_report = classification_report(test_classes_val.values, y_predict_2, output_dict=True)\n",
        "nn2_matrix = confusion_matrix(test_classes_val.values, y_predict_2)\n",
        "nn_report.append(nn2_report['accuracy'])\n",
        "generate_confusion_matrix_heat_map(nn2_matrix, 'Neural Network 50-128-64-1')"
      ],
      "metadata": {
        "colab": {
          "base_uri": "https://localhost:8080/",
          "height": 307
        },
        "id": "lWCetky9Pxnf",
        "outputId": "cb573a0e-f2a7-463b-b0c2-f901e8722174"
      },
      "execution_count": null,
      "outputs": [
        {
          "output_type": "display_data",
          "data": {
            "text/plain": [
              "<Figure size 432x288 with 2 Axes>"
            ],
            "image/png": "[encoded data removed]"
          },
          "metadata": {
            "needs_background": "light"
          }
        }
      ]
    },
    {
      "cell_type": "code",
      "source": [
        "plt.plot(history2.history['loss'], label='train')\n",
        "plt.plot(history2.history['val_loss'], label='test')\n",
        "plt.title('model loss')\n",
        "plt.legend()"
      ],
      "metadata": {
        "colab": {
          "base_uri": "https://localhost:8080/",
          "height": 298
        },
        "id": "01nqwGSrWtKI",
        "outputId": "e79d9120-c681-429d-a1be-ace56e9a4e8b"
      },
      "execution_count": null,
      "outputs": [
        {
          "output_type": "execute_result",
          "data": {
            "text/plain": [
              "<matplotlib.legend.Legend at 0x7f5fe4b23ee0>"
            ]
          },
          "metadata": {},
          "execution_count": 68
        },
        {
          "output_type": "display_data",
          "data": {
            "text/plain": [
              "<Figure size 432x288 with 1 Axes>"
            ],
            "image/png": "[encoded data removed]"
          },
          "metadata": {
            "needs_background": "light"
          }
        }
      ]
    },
    {
      "cell_type": "code",
      "source": [
        "model2.summary()"
      ],
      "metadata": {
        "id": "9YwMutSXfThB",
        "outputId": "4d9d52b2-e54c-41f7-80d9-ecb7ab784386",
        "colab": {
          "base_uri": "https://localhost:8080/"
        }
      },
      "execution_count": null,
      "outputs": [
        {
          "output_type": "stream",
          "name": "stdout",
          "text": [
            "Model: \"sequential_1\"\n",
            "_________________________________________________________________\n",
            " Layer (type)                Output Shape              Param #   \n",
            "=================================================================\n",
            " input_layer (Dense)         (None, 50)                2550      \n",
            "                                                                 \n",
            " layer1 (Dense)              (None, 128)               6528      \n",
            "                                                                 \n",
            " layer2 (Dense)              (None, 64)                8256      \n",
            "                                                                 \n",
            " output-layer (Dense)        (None, 1)                 65        \n",
            "                                                                 \n",
            "=================================================================\n",
            "Total params: 17,399\n",
            "Trainable params: 17,399\n",
            "Non-trainable params: 0\n",
            "_________________________________________________________________\n"
          ]
        }
      ]
    },
    {
      "cell_type": "code",
      "source": [
        "ann_viz(model2, view=True, title=\"2nd\", filename=\"2.nn\")"
      ],
      "metadata": {
        "id": "tgjUbaZBbaZ_"
      },
      "execution_count": null,
      "outputs": []
    },
    {
      "cell_type": "markdown",
      "source": [
        "## Neural Netwok 3 (50-128-64-32-16-1) *\n"
      ],
      "metadata": {
        "id": "L5DrOP4oVXfs"
      }
    },
    {
      "cell_type": "markdown",
      "source": [
        "*Network* 50-128-64-1  \n",
        "Epochs: 200  \n",
        "Batch size: 500\n",
        "\n"
      ],
      "metadata": {
        "id": "Dubg83MCVXft"
      }
    },
    {
      "cell_type": "code",
      "source": [
        "import tensorflow as tf\n",
        "\n",
        "METRICS = [\n",
        "  tf.keras.metrics.TruePositives(name='tp'),\n",
        "  tf.keras.metrics.FalsePositives(name='fp'),\n",
        "  tf.keras.metrics.TrueNegatives(name='tn'),\n",
        "  tf.keras.metrics.FalseNegatives(name='fn'), \n",
        "  tf.keras.metrics.BinaryAccuracy(name='accuracy'),\n",
        "  tf.keras.metrics.Precision(name='precision'),\n",
        "  tf.keras.metrics.Recall(name='recall'),\n",
        "  tf.keras.metrics.AUC(name='auc'),\n",
        "]\n",
        "\n",
        "model3 = Sequential()\n",
        "model3.add(Dense(50, input_dim=in_dim, activation='relu', name='input_layer'))\n",
        "\n",
        "model3.add(Dense(128, activation='relu', name='layer1'))\n",
        "\n",
        "model3.add(Dense(64, activation='relu', name='layer2'))\n",
        "model3.add(Dense(32, activation='tanh', name='layer3'))\n",
        "model3.add(Dense(16, activation='selu', name='layer4'))\n",
        "model3.add(Dense(1, activation='sigmoid', name='output-layer'))\n",
        "\n",
        "model3.compile(loss='binary_crossentropy', \n",
        "              optimizer='ftrl',\n",
        "              metrics=METRICS)"
      ],
      "metadata": {
        "id": "KK1qoIshVXft"
      },
      "execution_count": null,
      "outputs": []
    },
    {
      "cell_type": "code",
      "source": [
        "from keras.callbacks import ReduceLROnPlateau\n",
        "from keras.callbacks import LearningRateScheduler\n",
        "from keras import regularizers\n",
        "import tensorflow as tf"
      ],
      "metadata": {
        "id": "bIgOnwuoVxRI"
      },
      "execution_count": null,
      "outputs": []
    },
    {
      "cell_type": "code",
      "source": [
        "checkpoint_filepath3 = '/tmp/checkpoint3'\n",
        "model_checkpoint_callback3 = tf.keras.callbacks.ModelCheckpoint(\n",
        "    filepath=checkpoint_filepath3,\n",
        "    save_weights_only=True,\n",
        "    monitor='val_accuracy',\n",
        "    mode='max',\n",
        "    save_best_only=True)"
      ],
      "metadata": {
        "id": "GHQ3cpFhVXft"
      },
      "execution_count": null,
      "outputs": []
    },
    {
      "cell_type": "code",
      "source": [
        "epochs = 100\n",
        "batch_size = 500\n",
        "\n",
        "name2 = \"neural_with_additonal3\"\n",
        "logdir=\"logs/fit/\" + datetime.datetime.now().strftime(\"%Y%m%d-%H%M%S\") + name2\n",
        "tensorboard_callback = keras.callbacks.TensorBoard(log_dir=logdir)\n",
        "\n",
        "history3 = model3.fit(train_set_scaled,\n",
        "                    train_classes_val.values,\n",
        "                    validation_data=(test_set_scaled, test_classes_val.values),\n",
        "                    epochs=epochs,\n",
        "                    batch_size=batch_size,\n",
        "                    verbose=1, callbacks=[tensorboard_callback, model_checkpoint_callback3], class_weight={0: 1, 1: 3})"
      ],
      "metadata": {
        "colab": {
          "base_uri": "https://localhost:8080/"
        },
        "outputId": "af2fb252-e907-40db-964e-5dcaf50f7423",
        "id": "mJpaED6XVXft"
      },
      "execution_count": null,
      "outputs": [
        {
          "output_type": "stream",
          "name": "stdout",
          "text": [
            "Epoch 1/100\n",
            "30/30 [==============================] - 6s 95ms/step - loss: 1.0266 - tp: 371.0000 - fp: 1239.0000 - tn: 9901.0000 - fn: 3126.0000 - accuracy: 0.7018 - precision: 0.2304 - recall: 0.1061 - auc: 0.4974 - val_loss: 0.6928 - val_tp: 0.0000e+00 - val_fp: 0.0000e+00 - val_tn: 25969.0000 - val_fn: 8184.0000 - val_accuracy: 0.7604 - val_precision: 0.0000e+00 - val_recall: 0.0000e+00 - val_auc: 0.5000\n",
            "Epoch 2/100\n",
            "30/30 [==============================] - 1s 36ms/step - loss: 1.0243 - tp: 0.0000e+00 - fp: 0.0000e+00 - tn: 11140.0000 - fn: 3497.0000 - accuracy: 0.7611 - precision: 0.0000e+00 - recall: 0.0000e+00 - auc: 0.5000 - val_loss: 0.6925 - val_tp: 0.0000e+00 - val_fp: 0.0000e+00 - val_tn: 25969.0000 - val_fn: 8184.0000 - val_accuracy: 0.7604 - val_precision: 0.0000e+00 - val_recall: 0.0000e+00 - val_auc: 0.5000\n",
            "Epoch 3/100\n",
            "30/30 [==============================] - 1s 37ms/step - loss: 1.0243 - tp: 0.0000e+00 - fp: 0.0000e+00 - tn: 11140.0000 - fn: 3497.0000 - accuracy: 0.7611 - precision: 0.0000e+00 - recall: 0.0000e+00 - auc: 0.5000 - val_loss: 0.6922 - val_tp: 0.0000e+00 - val_fp: 0.0000e+00 - val_tn: 25969.0000 - val_fn: 8184.0000 - val_accuracy: 0.7604 - val_precision: 0.0000e+00 - val_recall: 0.0000e+00 - val_auc: 0.5000\n",
            "Epoch 4/100\n",
            "30/30 [==============================] - 1s 40ms/step - loss: 1.0243 - tp: 0.0000e+00 - fp: 0.0000e+00 - tn: 11140.0000 - fn: 3497.0000 - accuracy: 0.7611 - precision: 0.0000e+00 - recall: 0.0000e+00 - auc: 0.5000 - val_loss: 0.6919 - val_tp: 0.0000e+00 - val_fp: 0.0000e+00 - val_tn: 25969.0000 - val_fn: 8184.0000 - val_accuracy: 0.7604 - val_precision: 0.0000e+00 - val_recall: 0.0000e+00 - val_auc: 0.5000\n",
            "Epoch 5/100\n",
            "30/30 [==============================] - 1s 28ms/step - loss: 1.0242 - tp: 0.0000e+00 - fp: 0.0000e+00 - tn: 11140.0000 - fn: 3497.0000 - accuracy: 0.7611 - precision: 0.0000e+00 - recall: 0.0000e+00 - auc: 0.5000 - val_loss: 0.6917 - val_tp: 0.0000e+00 - val_fp: 0.0000e+00 - val_tn: 25969.0000 - val_fn: 8184.0000 - val_accuracy: 0.7604 - val_precision: 0.0000e+00 - val_recall: 0.0000e+00 - val_auc: 0.5000\n",
            "Epoch 6/100\n",
            "30/30 [==============================] - 1s 37ms/step - loss: 1.0242 - tp: 0.0000e+00 - fp: 0.0000e+00 - tn: 11140.0000 - fn: 3497.0000 - accuracy: 0.7611 - precision: 0.0000e+00 - recall: 0.0000e+00 - auc: 0.5000 - val_loss: 0.6914 - val_tp: 0.0000e+00 - val_fp: 0.0000e+00 - val_tn: 25969.0000 - val_fn: 8184.0000 - val_accuracy: 0.7604 - val_precision: 0.0000e+00 - val_recall: 0.0000e+00 - val_auc: 0.5000\n",
            "Epoch 7/100\n",
            "30/30 [==============================] - 1s 38ms/step - loss: 1.0242 - tp: 0.0000e+00 - fp: 0.0000e+00 - tn: 11140.0000 - fn: 3497.0000 - accuracy: 0.7611 - precision: 0.0000e+00 - recall: 0.0000e+00 - auc: 0.5000 - val_loss: 0.6912 - val_tp: 0.0000e+00 - val_fp: 0.0000e+00 - val_tn: 25969.0000 - val_fn: 8184.0000 - val_accuracy: 0.7604 - val_precision: 0.0000e+00 - val_recall: 0.0000e+00 - val_auc: 0.5000\n",
            "Epoch 8/100\n",
            "30/30 [==============================] - 1s 27ms/step - loss: 1.0242 - tp: 0.0000e+00 - fp: 0.0000e+00 - tn: 11140.0000 - fn: 3497.0000 - accuracy: 0.7611 - precision: 0.0000e+00 - recall: 0.0000e+00 - auc: 0.5000 - val_loss: 0.6910 - val_tp: 0.0000e+00 - val_fp: 0.0000e+00 - val_tn: 25969.0000 - val_fn: 8184.0000 - val_accuracy: 0.7604 - val_precision: 0.0000e+00 - val_recall: 0.0000e+00 - val_auc: 0.5000\n",
            "Epoch 9/100\n",
            "30/30 [==============================] - 1s 32ms/step - loss: 1.0242 - tp: 0.0000e+00 - fp: 0.0000e+00 - tn: 11140.0000 - fn: 3497.0000 - accuracy: 0.7611 - precision: 0.0000e+00 - recall: 0.0000e+00 - auc: 0.5000 - val_loss: 0.6908 - val_tp: 0.0000e+00 - val_fp: 0.0000e+00 - val_tn: 25969.0000 - val_fn: 8184.0000 - val_accuracy: 0.7604 - val_precision: 0.0000e+00 - val_recall: 0.0000e+00 - val_auc: 0.5000\n",
            "Epoch 10/100\n",
            "30/30 [==============================] - 1s 36ms/step - loss: 1.0242 - tp: 0.0000e+00 - fp: 0.0000e+00 - tn: 11140.0000 - fn: 3497.0000 - accuracy: 0.7611 - precision: 0.0000e+00 - recall: 0.0000e+00 - auc: 0.5000 - val_loss: 0.6906 - val_tp: 0.0000e+00 - val_fp: 0.0000e+00 - val_tn: 25969.0000 - val_fn: 8184.0000 - val_accuracy: 0.7604 - val_precision: 0.0000e+00 - val_recall: 0.0000e+00 - val_auc: 0.5000\n",
            "Epoch 11/100\n",
            "30/30 [==============================] - 1s 27ms/step - loss: 1.0241 - tp: 0.0000e+00 - fp: 0.0000e+00 - tn: 11140.0000 - fn: 3497.0000 - accuracy: 0.7611 - precision: 0.0000e+00 - recall: 0.0000e+00 - auc: 0.4911 - val_loss: 0.6905 - val_tp: 0.0000e+00 - val_fp: 0.0000e+00 - val_tn: 25969.0000 - val_fn: 8184.0000 - val_accuracy: 0.7604 - val_precision: 0.0000e+00 - val_recall: 0.0000e+00 - val_auc: 0.5000\n",
            "Epoch 12/100\n",
            "30/30 [==============================] - 1s 39ms/step - loss: 1.0241 - tp: 0.0000e+00 - fp: 0.0000e+00 - tn: 11140.0000 - fn: 3497.0000 - accuracy: 0.7611 - precision: 0.0000e+00 - recall: 0.0000e+00 - auc: 0.5000 - val_loss: 0.6903 - val_tp: 0.0000e+00 - val_fp: 0.0000e+00 - val_tn: 25969.0000 - val_fn: 8184.0000 - val_accuracy: 0.7604 - val_precision: 0.0000e+00 - val_recall: 0.0000e+00 - val_auc: 0.5000\n",
            "Epoch 13/100\n",
            "30/30 [==============================] - 1s 26ms/step - loss: 1.0241 - tp: 0.0000e+00 - fp: 0.0000e+00 - tn: 11140.0000 - fn: 3497.0000 - accuracy: 0.7611 - precision: 0.0000e+00 - recall: 0.0000e+00 - auc: 0.5000 - val_loss: 0.6901 - val_tp: 0.0000e+00 - val_fp: 0.0000e+00 - val_tn: 25969.0000 - val_fn: 8184.0000 - val_accuracy: 0.7604 - val_precision: 0.0000e+00 - val_recall: 0.0000e+00 - val_auc: 0.5000\n",
            "Epoch 14/100\n",
            "30/30 [==============================] - 1s 36ms/step - loss: 1.0241 - tp: 0.0000e+00 - fp: 0.0000e+00 - tn: 11140.0000 - fn: 3497.0000 - accuracy: 0.7611 - precision: 0.0000e+00 - recall: 0.0000e+00 - auc: 0.5000 - val_loss: 0.6900 - val_tp: 0.0000e+00 - val_fp: 0.0000e+00 - val_tn: 25969.0000 - val_fn: 8184.0000 - val_accuracy: 0.7604 - val_precision: 0.0000e+00 - val_recall: 0.0000e+00 - val_auc: 0.5000\n",
            "Epoch 15/100\n",
            "30/30 [==============================] - 1s 40ms/step - loss: 1.0241 - tp: 0.0000e+00 - fp: 0.0000e+00 - tn: 11140.0000 - fn: 3497.0000 - accuracy: 0.7611 - precision: 0.0000e+00 - recall: 0.0000e+00 - auc: 0.5000 - val_loss: 0.6898 - val_tp: 0.0000e+00 - val_fp: 0.0000e+00 - val_tn: 25969.0000 - val_fn: 8184.0000 - val_accuracy: 0.7604 - val_precision: 0.0000e+00 - val_recall: 0.0000e+00 - val_auc: 0.5000\n",
            "Epoch 16/100\n",
            "30/30 [==============================] - 1s 38ms/step - loss: 1.0241 - tp: 0.0000e+00 - fp: 0.0000e+00 - tn: 11140.0000 - fn: 3497.0000 - accuracy: 0.7611 - precision: 0.0000e+00 - recall: 0.0000e+00 - auc: 0.5000 - val_loss: 0.6897 - val_tp: 0.0000e+00 - val_fp: 0.0000e+00 - val_tn: 25969.0000 - val_fn: 8184.0000 - val_accuracy: 0.7604 - val_precision: 0.0000e+00 - val_recall: 0.0000e+00 - val_auc: 0.5000\n",
            "Epoch 17/100\n",
            "30/30 [==============================] - 1s 43ms/step - loss: 1.0241 - tp: 0.0000e+00 - fp: 0.0000e+00 - tn: 11140.0000 - fn: 3497.0000 - accuracy: 0.7611 - precision: 0.0000e+00 - recall: 0.0000e+00 - auc: 0.5000 - val_loss: 0.6896 - val_tp: 0.0000e+00 - val_fp: 0.0000e+00 - val_tn: 25969.0000 - val_fn: 8184.0000 - val_accuracy: 0.7604 - val_precision: 0.0000e+00 - val_recall: 0.0000e+00 - val_auc: 0.5000\n",
            "Epoch 18/100\n",
            "30/30 [==============================] - 1s 41ms/step - loss: 1.0241 - tp: 0.0000e+00 - fp: 0.0000e+00 - tn: 11140.0000 - fn: 3497.0000 - accuracy: 0.7611 - precision: 0.0000e+00 - recall: 0.0000e+00 - auc: 0.5000 - val_loss: 0.6895 - val_tp: 0.0000e+00 - val_fp: 0.0000e+00 - val_tn: 25969.0000 - val_fn: 8184.0000 - val_accuracy: 0.7604 - val_precision: 0.0000e+00 - val_recall: 0.0000e+00 - val_auc: 0.5000\n",
            "Epoch 19/100\n",
            "30/30 [==============================] - 1s 38ms/step - loss: 1.0241 - tp: 0.0000e+00 - fp: 0.0000e+00 - tn: 11140.0000 - fn: 3497.0000 - accuracy: 0.7611 - precision: 0.0000e+00 - recall: 0.0000e+00 - auc: 0.5000 - val_loss: 0.6894 - val_tp: 0.0000e+00 - val_fp: 0.0000e+00 - val_tn: 25969.0000 - val_fn: 8184.0000 - val_accuracy: 0.7604 - val_precision: 0.0000e+00 - val_recall: 0.0000e+00 - val_auc: 0.5000\n",
            "Epoch 20/100\n",
            "30/30 [==============================] - 1s 39ms/step - loss: 1.0241 - tp: 0.0000e+00 - fp: 0.0000e+00 - tn: 11140.0000 - fn: 3497.0000 - accuracy: 0.7611 - precision: 0.0000e+00 - recall: 0.0000e+00 - auc: 0.5000 - val_loss: 0.6893 - val_tp: 0.0000e+00 - val_fp: 0.0000e+00 - val_tn: 25969.0000 - val_fn: 8184.0000 - val_accuracy: 0.7604 - val_precision: 0.0000e+00 - val_recall: 0.0000e+00 - val_auc: 0.5000\n",
            "Epoch 21/100\n",
            "30/30 [==============================] - 1s 37ms/step - loss: 1.0241 - tp: 0.0000e+00 - fp: 0.0000e+00 - tn: 11140.0000 - fn: 3497.0000 - accuracy: 0.7611 - precision: 0.0000e+00 - recall: 0.0000e+00 - auc: 0.5000 - val_loss: 0.6892 - val_tp: 0.0000e+00 - val_fp: 0.0000e+00 - val_tn: 25969.0000 - val_fn: 8184.0000 - val_accuracy: 0.7604 - val_precision: 0.0000e+00 - val_recall: 0.0000e+00 - val_auc: 0.5000\n",
            "Epoch 22/100\n",
            "30/30 [==============================] - 1s 34ms/step - loss: 1.0241 - tp: 0.0000e+00 - fp: 0.0000e+00 - tn: 11140.0000 - fn: 3497.0000 - accuracy: 0.7611 - precision: 0.0000e+00 - recall: 0.0000e+00 - auc: 0.5000 - val_loss: 0.6891 - val_tp: 0.0000e+00 - val_fp: 0.0000e+00 - val_tn: 25969.0000 - val_fn: 8184.0000 - val_accuracy: 0.7604 - val_precision: 0.0000e+00 - val_recall: 0.0000e+00 - val_auc: 0.5000\n",
            "Epoch 23/100\n",
            "30/30 [==============================] - 1s 40ms/step - loss: 1.0240 - tp: 0.0000e+00 - fp: 0.0000e+00 - tn: 11140.0000 - fn: 3497.0000 - accuracy: 0.7611 - precision: 0.0000e+00 - recall: 0.0000e+00 - auc: 0.5000 - val_loss: 0.6890 - val_tp: 0.0000e+00 - val_fp: 0.0000e+00 - val_tn: 25969.0000 - val_fn: 8184.0000 - val_accuracy: 0.7604 - val_precision: 0.0000e+00 - val_recall: 0.0000e+00 - val_auc: 0.5000\n",
            "Epoch 24/100\n",
            "30/30 [==============================] - 1s 37ms/step - loss: 1.0240 - tp: 0.0000e+00 - fp: 0.0000e+00 - tn: 11140.0000 - fn: 3497.0000 - accuracy: 0.7611 - precision: 0.0000e+00 - recall: 0.0000e+00 - auc: 0.5000 - val_loss: 0.6889 - val_tp: 0.0000e+00 - val_fp: 0.0000e+00 - val_tn: 25969.0000 - val_fn: 8184.0000 - val_accuracy: 0.7604 - val_precision: 0.0000e+00 - val_recall: 0.0000e+00 - val_auc: 0.5000\n",
            "Epoch 25/100\n",
            "30/30 [==============================] - 1s 44ms/step - loss: 1.0240 - tp: 0.0000e+00 - fp: 0.0000e+00 - tn: 11140.0000 - fn: 3497.0000 - accuracy: 0.7611 - precision: 0.0000e+00 - recall: 0.0000e+00 - auc: 0.5000 - val_loss: 0.6888 - val_tp: 0.0000e+00 - val_fp: 0.0000e+00 - val_tn: 25969.0000 - val_fn: 8184.0000 - val_accuracy: 0.7604 - val_precision: 0.0000e+00 - val_recall: 0.0000e+00 - val_auc: 0.5000\n",
            "Epoch 26/100\n",
            "30/30 [==============================] - 1s 23ms/step - loss: 1.0240 - tp: 0.0000e+00 - fp: 0.0000e+00 - tn: 11140.0000 - fn: 3497.0000 - accuracy: 0.7611 - precision: 0.0000e+00 - recall: 0.0000e+00 - auc: 0.5000 - val_loss: 0.6887 - val_tp: 0.0000e+00 - val_fp: 0.0000e+00 - val_tn: 25969.0000 - val_fn: 8184.0000 - val_accuracy: 0.7604 - val_precision: 0.0000e+00 - val_recall: 0.0000e+00 - val_auc: 0.5000\n",
            "Epoch 27/100\n",
            "30/30 [==============================] - 1s 27ms/step - loss: 1.0240 - tp: 0.0000e+00 - fp: 0.0000e+00 - tn: 11140.0000 - fn: 3497.0000 - accuracy: 0.7611 - precision: 0.0000e+00 - recall: 0.0000e+00 - auc: 0.5000 - val_loss: 0.6886 - val_tp: 0.0000e+00 - val_fp: 0.0000e+00 - val_tn: 25969.0000 - val_fn: 8184.0000 - val_accuracy: 0.7604 - val_precision: 0.0000e+00 - val_recall: 0.0000e+00 - val_auc: 0.5000\n",
            "Epoch 28/100\n",
            "30/30 [==============================] - 1s 38ms/step - loss: 1.0240 - tp: 0.0000e+00 - fp: 0.0000e+00 - tn: 11140.0000 - fn: 3497.0000 - accuracy: 0.7611 - precision: 0.0000e+00 - recall: 0.0000e+00 - auc: 0.5000 - val_loss: 0.6885 - val_tp: 0.0000e+00 - val_fp: 0.0000e+00 - val_tn: 25969.0000 - val_fn: 8184.0000 - val_accuracy: 0.7604 - val_precision: 0.0000e+00 - val_recall: 0.0000e+00 - val_auc: 0.5000\n",
            "Epoch 29/100\n",
            "30/30 [==============================] - 1s 39ms/step - loss: 1.0240 - tp: 0.0000e+00 - fp: 0.0000e+00 - tn: 11140.0000 - fn: 3497.0000 - accuracy: 0.7611 - precision: 0.0000e+00 - recall: 0.0000e+00 - auc: 0.5000 - val_loss: 0.6885 - val_tp: 0.0000e+00 - val_fp: 0.0000e+00 - val_tn: 25969.0000 - val_fn: 8184.0000 - val_accuracy: 0.7604 - val_precision: 0.0000e+00 - val_recall: 0.0000e+00 - val_auc: 0.5000\n",
            "Epoch 30/100\n",
            "30/30 [==============================] - 1s 26ms/step - loss: 1.0240 - tp: 0.0000e+00 - fp: 0.0000e+00 - tn: 11140.0000 - fn: 3497.0000 - accuracy: 0.7611 - precision: 0.0000e+00 - recall: 0.0000e+00 - auc: 0.5000 - val_loss: 0.6884 - val_tp: 0.0000e+00 - val_fp: 0.0000e+00 - val_tn: 25969.0000 - val_fn: 8184.0000 - val_accuracy: 0.7604 - val_precision: 0.0000e+00 - val_recall: 0.0000e+00 - val_auc: 0.5000\n",
            "Epoch 31/100\n",
            "30/30 [==============================] - 1s 27ms/step - loss: 1.0240 - tp: 0.0000e+00 - fp: 0.0000e+00 - tn: 11140.0000 - fn: 3497.0000 - accuracy: 0.7611 - precision: 0.0000e+00 - recall: 0.0000e+00 - auc: 0.5000 - val_loss: 0.6883 - val_tp: 0.0000e+00 - val_fp: 0.0000e+00 - val_tn: 25969.0000 - val_fn: 8184.0000 - val_accuracy: 0.7604 - val_precision: 0.0000e+00 - val_recall: 0.0000e+00 - val_auc: 0.5000\n",
            "Epoch 32/100\n",
            "30/30 [==============================] - 1s 26ms/step - loss: 1.0240 - tp: 0.0000e+00 - fp: 0.0000e+00 - tn: 11140.0000 - fn: 3497.0000 - accuracy: 0.7611 - precision: 0.0000e+00 - recall: 0.0000e+00 - auc: 0.5000 - val_loss: 0.6882 - val_tp: 0.0000e+00 - val_fp: 0.0000e+00 - val_tn: 25969.0000 - val_fn: 8184.0000 - val_accuracy: 0.7604 - val_precision: 0.0000e+00 - val_recall: 0.0000e+00 - val_auc: 0.5000\n",
            "Epoch 33/100\n",
            "30/30 [==============================] - 1s 36ms/step - loss: 1.0240 - tp: 0.0000e+00 - fp: 0.0000e+00 - tn: 11140.0000 - fn: 3497.0000 - accuracy: 0.7611 - precision: 0.0000e+00 - recall: 0.0000e+00 - auc: 0.5000 - val_loss: 0.6882 - val_tp: 0.0000e+00 - val_fp: 0.0000e+00 - val_tn: 25969.0000 - val_fn: 8184.0000 - val_accuracy: 0.7604 - val_precision: 0.0000e+00 - val_recall: 0.0000e+00 - val_auc: 0.5000\n",
            "Epoch 34/100\n",
            "30/30 [==============================] - 1s 37ms/step - loss: 1.0240 - tp: 0.0000e+00 - fp: 0.0000e+00 - tn: 11140.0000 - fn: 3497.0000 - accuracy: 0.7611 - precision: 0.0000e+00 - recall: 0.0000e+00 - auc: 0.5000 - val_loss: 0.6881 - val_tp: 0.0000e+00 - val_fp: 0.0000e+00 - val_tn: 25969.0000 - val_fn: 8184.0000 - val_accuracy: 0.7604 - val_precision: 0.0000e+00 - val_recall: 0.0000e+00 - val_auc: 0.5000\n",
            "Epoch 35/100\n",
            "30/30 [==============================] - 1s 20ms/step - loss: 1.0240 - tp: 0.0000e+00 - fp: 0.0000e+00 - tn: 11140.0000 - fn: 3497.0000 - accuracy: 0.7611 - precision: 0.0000e+00 - recall: 0.0000e+00 - auc: 0.5000 - val_loss: 0.6880 - val_tp: 0.0000e+00 - val_fp: 0.0000e+00 - val_tn: 25969.0000 - val_fn: 8184.0000 - val_accuracy: 0.7604 - val_precision: 0.0000e+00 - val_recall: 0.0000e+00 - val_auc: 0.5000\n",
            "Epoch 36/100\n",
            "30/30 [==============================] - 1s 19ms/step - loss: 1.0240 - tp: 0.0000e+00 - fp: 0.0000e+00 - tn: 11140.0000 - fn: 3497.0000 - accuracy: 0.7611 - precision: 0.0000e+00 - recall: 0.0000e+00 - auc: 0.5000 - val_loss: 0.6879 - val_tp: 0.0000e+00 - val_fp: 0.0000e+00 - val_tn: 25969.0000 - val_fn: 8184.0000 - val_accuracy: 0.7604 - val_precision: 0.0000e+00 - val_recall: 0.0000e+00 - val_auc: 0.5000\n",
            "Epoch 37/100\n",
            "30/30 [==============================] - 0s 16ms/step - loss: 1.0240 - tp: 0.0000e+00 - fp: 0.0000e+00 - tn: 11140.0000 - fn: 3497.0000 - accuracy: 0.7611 - precision: 0.0000e+00 - recall: 0.0000e+00 - auc: 0.5000 - val_loss: 0.6878 - val_tp: 0.0000e+00 - val_fp: 0.0000e+00 - val_tn: 25969.0000 - val_fn: 8184.0000 - val_accuracy: 0.7604 - val_precision: 0.0000e+00 - val_recall: 0.0000e+00 - val_auc: 0.5000\n",
            "Epoch 38/100\n",
            "30/30 [==============================] - 1s 19ms/step - loss: 1.0240 - tp: 0.0000e+00 - fp: 0.0000e+00 - tn: 11140.0000 - fn: 3497.0000 - accuracy: 0.7611 - precision: 0.0000e+00 - recall: 0.0000e+00 - auc: 0.5000 - val_loss: 0.6878 - val_tp: 0.0000e+00 - val_fp: 0.0000e+00 - val_tn: 25969.0000 - val_fn: 8184.0000 - val_accuracy: 0.7604 - val_precision: 0.0000e+00 - val_recall: 0.0000e+00 - val_auc: 0.5000\n",
            "Epoch 39/100\n",
            "30/30 [==============================] - 0s 15ms/step - loss: 1.0240 - tp: 0.0000e+00 - fp: 0.0000e+00 - tn: 11140.0000 - fn: 3497.0000 - accuracy: 0.7611 - precision: 0.0000e+00 - recall: 0.0000e+00 - auc: 0.5000 - val_loss: 0.6877 - val_tp: 0.0000e+00 - val_fp: 0.0000e+00 - val_tn: 25969.0000 - val_fn: 8184.0000 - val_accuracy: 0.7604 - val_precision: 0.0000e+00 - val_recall: 0.0000e+00 - val_auc: 0.5000\n",
            "Epoch 40/100\n",
            "30/30 [==============================] - 0s 15ms/step - loss: 1.0240 - tp: 0.0000e+00 - fp: 0.0000e+00 - tn: 11140.0000 - fn: 3497.0000 - accuracy: 0.7611 - precision: 0.0000e+00 - recall: 0.0000e+00 - auc: 0.5000 - val_loss: 0.6876 - val_tp: 0.0000e+00 - val_fp: 0.0000e+00 - val_tn: 25969.0000 - val_fn: 8184.0000 - val_accuracy: 0.7604 - val_precision: 0.0000e+00 - val_recall: 0.0000e+00 - val_auc: 0.5000\n",
            "Epoch 41/100\n",
            "30/30 [==============================] - 0s 16ms/step - loss: 1.0240 - tp: 0.0000e+00 - fp: 0.0000e+00 - tn: 11140.0000 - fn: 3497.0000 - accuracy: 0.7611 - precision: 0.0000e+00 - recall: 0.0000e+00 - auc: 0.5000 - val_loss: 0.6875 - val_tp: 0.0000e+00 - val_fp: 0.0000e+00 - val_tn: 25969.0000 - val_fn: 8184.0000 - val_accuracy: 0.7604 - val_precision: 0.0000e+00 - val_recall: 0.0000e+00 - val_auc: 0.5000\n",
            "Epoch 42/100\n",
            "30/30 [==============================] - 0s 15ms/step - loss: 1.0240 - tp: 0.0000e+00 - fp: 0.0000e+00 - tn: 11140.0000 - fn: 3497.0000 - accuracy: 0.7611 - precision: 0.0000e+00 - recall: 0.0000e+00 - auc: 0.5000 - val_loss: 0.6874 - val_tp: 0.0000e+00 - val_fp: 0.0000e+00 - val_tn: 25969.0000 - val_fn: 8184.0000 - val_accuracy: 0.7604 - val_precision: 0.0000e+00 - val_recall: 0.0000e+00 - val_auc: 0.5000\n",
            "Epoch 43/100\n",
            "30/30 [==============================] - 1s 19ms/step - loss: 1.0240 - tp: 0.0000e+00 - fp: 0.0000e+00 - tn: 11140.0000 - fn: 3497.0000 - accuracy: 0.7611 - precision: 0.0000e+00 - recall: 0.0000e+00 - auc: 0.5000 - val_loss: 0.6874 - val_tp: 0.0000e+00 - val_fp: 0.0000e+00 - val_tn: 25969.0000 - val_fn: 8184.0000 - val_accuracy: 0.7604 - val_precision: 0.0000e+00 - val_recall: 0.0000e+00 - val_auc: 0.5000\n",
            "Epoch 44/100\n",
            "30/30 [==============================] - 0s 15ms/step - loss: 1.0239 - tp: 0.0000e+00 - fp: 0.0000e+00 - tn: 11140.0000 - fn: 3497.0000 - accuracy: 0.7611 - precision: 0.0000e+00 - recall: 0.0000e+00 - auc: 0.5000 - val_loss: 0.6873 - val_tp: 0.0000e+00 - val_fp: 0.0000e+00 - val_tn: 25969.0000 - val_fn: 8184.0000 - val_accuracy: 0.7604 - val_precision: 0.0000e+00 - val_recall: 0.0000e+00 - val_auc: 0.5000\n",
            "Epoch 45/100\n",
            "30/30 [==============================] - 1s 20ms/step - loss: 1.0239 - tp: 0.0000e+00 - fp: 0.0000e+00 - tn: 11140.0000 - fn: 3497.0000 - accuracy: 0.7611 - precision: 0.0000e+00 - recall: 0.0000e+00 - auc: 0.5000 - val_loss: 0.6872 - val_tp: 0.0000e+00 - val_fp: 0.0000e+00 - val_tn: 25969.0000 - val_fn: 8184.0000 - val_accuracy: 0.7604 - val_precision: 0.0000e+00 - val_recall: 0.0000e+00 - val_auc: 0.5000\n",
            "Epoch 46/100\n",
            "30/30 [==============================] - 0s 16ms/step - loss: 1.0239 - tp: 0.0000e+00 - fp: 0.0000e+00 - tn: 11140.0000 - fn: 3497.0000 - accuracy: 0.7611 - precision: 0.0000e+00 - recall: 0.0000e+00 - auc: 0.5000 - val_loss: 0.6872 - val_tp: 0.0000e+00 - val_fp: 0.0000e+00 - val_tn: 25969.0000 - val_fn: 8184.0000 - val_accuracy: 0.7604 - val_precision: 0.0000e+00 - val_recall: 0.0000e+00 - val_auc: 0.5000\n",
            "Epoch 47/100\n",
            "30/30 [==============================] - 1s 19ms/step - loss: 1.0239 - tp: 0.0000e+00 - fp: 0.0000e+00 - tn: 11140.0000 - fn: 3497.0000 - accuracy: 0.7611 - precision: 0.0000e+00 - recall: 0.0000e+00 - auc: 0.5000 - val_loss: 0.6871 - val_tp: 0.0000e+00 - val_fp: 0.0000e+00 - val_tn: 25969.0000 - val_fn: 8184.0000 - val_accuracy: 0.7604 - val_precision: 0.0000e+00 - val_recall: 0.0000e+00 - val_auc: 0.5000\n",
            "Epoch 48/100\n",
            "30/30 [==============================] - 0s 15ms/step - loss: 1.0239 - tp: 0.0000e+00 - fp: 0.0000e+00 - tn: 11140.0000 - fn: 3497.0000 - accuracy: 0.7611 - precision: 0.0000e+00 - recall: 0.0000e+00 - auc: 0.5000 - val_loss: 0.6871 - val_tp: 0.0000e+00 - val_fp: 0.0000e+00 - val_tn: 25969.0000 - val_fn: 8184.0000 - val_accuracy: 0.7604 - val_precision: 0.0000e+00 - val_recall: 0.0000e+00 - val_auc: 0.5000\n",
            "Epoch 49/100\n",
            "30/30 [==============================] - 1s 19ms/step - loss: 1.0239 - tp: 0.0000e+00 - fp: 0.0000e+00 - tn: 11140.0000 - fn: 3497.0000 - accuracy: 0.7611 - precision: 0.0000e+00 - recall: 0.0000e+00 - auc: 0.5000 - val_loss: 0.6870 - val_tp: 0.0000e+00 - val_fp: 0.0000e+00 - val_tn: 25969.0000 - val_fn: 8184.0000 - val_accuracy: 0.7604 - val_precision: 0.0000e+00 - val_recall: 0.0000e+00 - val_auc: 0.5000\n",
            "Epoch 50/100\n",
            "30/30 [==============================] - 1s 18ms/step - loss: 1.0239 - tp: 0.0000e+00 - fp: 0.0000e+00 - tn: 11140.0000 - fn: 3497.0000 - accuracy: 0.7611 - precision: 0.0000e+00 - recall: 0.0000e+00 - auc: 0.5000 - val_loss: 0.6870 - val_tp: 0.0000e+00 - val_fp: 0.0000e+00 - val_tn: 25969.0000 - val_fn: 8184.0000 - val_accuracy: 0.7604 - val_precision: 0.0000e+00 - val_recall: 0.0000e+00 - val_auc: 0.5000\n",
            "Epoch 51/100\n",
            "30/30 [==============================] - 0s 16ms/step - loss: 1.0239 - tp: 0.0000e+00 - fp: 0.0000e+00 - tn: 11140.0000 - fn: 3497.0000 - accuracy: 0.7611 - precision: 0.0000e+00 - recall: 0.0000e+00 - auc: 0.5000 - val_loss: 0.6869 - val_tp: 0.0000e+00 - val_fp: 0.0000e+00 - val_tn: 25969.0000 - val_fn: 8184.0000 - val_accuracy: 0.7604 - val_precision: 0.0000e+00 - val_recall: 0.0000e+00 - val_auc: 0.5000\n",
            "Epoch 52/100\n",
            "30/30 [==============================] - 0s 16ms/step - loss: 1.0239 - tp: 0.0000e+00 - fp: 0.0000e+00 - tn: 11140.0000 - fn: 3497.0000 - accuracy: 0.7611 - precision: 0.0000e+00 - recall: 0.0000e+00 - auc: 0.5000 - val_loss: 0.6868 - val_tp: 0.0000e+00 - val_fp: 0.0000e+00 - val_tn: 25969.0000 - val_fn: 8184.0000 - val_accuracy: 0.7604 - val_precision: 0.0000e+00 - val_recall: 0.0000e+00 - val_auc: 0.5000\n",
            "Epoch 53/100\n",
            "30/30 [==============================] - 0s 15ms/step - loss: 1.0239 - tp: 0.0000e+00 - fp: 0.0000e+00 - tn: 11140.0000 - fn: 3497.0000 - accuracy: 0.7611 - precision: 0.0000e+00 - recall: 0.0000e+00 - auc: 0.5000 - val_loss: 0.6868 - val_tp: 0.0000e+00 - val_fp: 0.0000e+00 - val_tn: 25969.0000 - val_fn: 8184.0000 - val_accuracy: 0.7604 - val_precision: 0.0000e+00 - val_recall: 0.0000e+00 - val_auc: 0.5000\n",
            "Epoch 54/100\n",
            "30/30 [==============================] - 0s 14ms/step - loss: 1.0239 - tp: 0.0000e+00 - fp: 0.0000e+00 - tn: 11140.0000 - fn: 3497.0000 - accuracy: 0.7611 - precision: 0.0000e+00 - recall: 0.0000e+00 - auc: 0.5000 - val_loss: 0.6867 - val_tp: 0.0000e+00 - val_fp: 0.0000e+00 - val_tn: 25969.0000 - val_fn: 8184.0000 - val_accuracy: 0.7604 - val_precision: 0.0000e+00 - val_recall: 0.0000e+00 - val_auc: 0.5000\n",
            "Epoch 55/100\n",
            "30/30 [==============================] - 1s 18ms/step - loss: 1.0239 - tp: 0.0000e+00 - fp: 0.0000e+00 - tn: 11140.0000 - fn: 3497.0000 - accuracy: 0.7611 - precision: 0.0000e+00 - recall: 0.0000e+00 - auc: 0.5000 - val_loss: 0.6866 - val_tp: 0.0000e+00 - val_fp: 0.0000e+00 - val_tn: 25969.0000 - val_fn: 8184.0000 - val_accuracy: 0.7604 - val_precision: 0.0000e+00 - val_recall: 0.0000e+00 - val_auc: 0.5000\n",
            "Epoch 56/100\n",
            "30/30 [==============================] - 0s 15ms/step - loss: 1.0239 - tp: 0.0000e+00 - fp: 0.0000e+00 - tn: 11140.0000 - fn: 3497.0000 - accuracy: 0.7611 - precision: 0.0000e+00 - recall: 0.0000e+00 - auc: 0.5000 - val_loss: 0.6866 - val_tp: 0.0000e+00 - val_fp: 0.0000e+00 - val_tn: 25969.0000 - val_fn: 8184.0000 - val_accuracy: 0.7604 - val_precision: 0.0000e+00 - val_recall: 0.0000e+00 - val_auc: 0.5000\n",
            "Epoch 57/100\n",
            "30/30 [==============================] - 0s 16ms/step - loss: 1.0239 - tp: 0.0000e+00 - fp: 0.0000e+00 - tn: 11140.0000 - fn: 3497.0000 - accuracy: 0.7611 - precision: 0.0000e+00 - recall: 0.0000e+00 - auc: 0.5000 - val_loss: 0.6865 - val_tp: 0.0000e+00 - val_fp: 0.0000e+00 - val_tn: 25969.0000 - val_fn: 8184.0000 - val_accuracy: 0.7604 - val_precision: 0.0000e+00 - val_recall: 0.0000e+00 - val_auc: 0.5000\n",
            "Epoch 58/100\n",
            "30/30 [==============================] - 1s 20ms/step - loss: 1.0239 - tp: 0.0000e+00 - fp: 0.0000e+00 - tn: 11140.0000 - fn: 3497.0000 - accuracy: 0.7611 - precision: 0.0000e+00 - recall: 0.0000e+00 - auc: 0.5000 - val_loss: 0.6865 - val_tp: 0.0000e+00 - val_fp: 0.0000e+00 - val_tn: 25969.0000 - val_fn: 8184.0000 - val_accuracy: 0.7604 - val_precision: 0.0000e+00 - val_recall: 0.0000e+00 - val_auc: 0.5000\n",
            "Epoch 59/100\n",
            "30/30 [==============================] - 0s 15ms/step - loss: 1.0239 - tp: 0.0000e+00 - fp: 0.0000e+00 - tn: 11140.0000 - fn: 3497.0000 - accuracy: 0.7611 - precision: 0.0000e+00 - recall: 0.0000e+00 - auc: 0.5000 - val_loss: 0.6864 - val_tp: 0.0000e+00 - val_fp: 0.0000e+00 - val_tn: 25969.0000 - val_fn: 8184.0000 - val_accuracy: 0.7604 - val_precision: 0.0000e+00 - val_recall: 0.0000e+00 - val_auc: 0.5000\n",
            "Epoch 60/100\n",
            "30/30 [==============================] - 1s 18ms/step - loss: 1.0239 - tp: 0.0000e+00 - fp: 0.0000e+00 - tn: 11140.0000 - fn: 3497.0000 - accuracy: 0.7611 - precision: 0.0000e+00 - recall: 0.0000e+00 - auc: 0.5000 - val_loss: 0.6863 - val_tp: 0.0000e+00 - val_fp: 0.0000e+00 - val_tn: 25969.0000 - val_fn: 8184.0000 - val_accuracy: 0.7604 - val_precision: 0.0000e+00 - val_recall: 0.0000e+00 - val_auc: 0.5000\n",
            "Epoch 61/100\n",
            "30/30 [==============================] - 0s 15ms/step - loss: 1.0239 - tp: 0.0000e+00 - fp: 0.0000e+00 - tn: 11140.0000 - fn: 3497.0000 - accuracy: 0.7611 - precision: 0.0000e+00 - recall: 0.0000e+00 - auc: 0.5000 - val_loss: 0.6863 - val_tp: 0.0000e+00 - val_fp: 0.0000e+00 - val_tn: 25969.0000 - val_fn: 8184.0000 - val_accuracy: 0.7604 - val_precision: 0.0000e+00 - val_recall: 0.0000e+00 - val_auc: 0.5000\n",
            "Epoch 62/100\n",
            "30/30 [==============================] - 1s 19ms/step - loss: 1.0239 - tp: 0.0000e+00 - fp: 0.0000e+00 - tn: 11140.0000 - fn: 3497.0000 - accuracy: 0.7611 - precision: 0.0000e+00 - recall: 0.0000e+00 - auc: 0.5000 - val_loss: 0.6862 - val_tp: 0.0000e+00 - val_fp: 0.0000e+00 - val_tn: 25969.0000 - val_fn: 8184.0000 - val_accuracy: 0.7604 - val_precision: 0.0000e+00 - val_recall: 0.0000e+00 - val_auc: 0.5000\n",
            "Epoch 63/100\n",
            "30/30 [==============================] - 0s 16ms/step - loss: 1.0239 - tp: 0.0000e+00 - fp: 0.0000e+00 - tn: 11140.0000 - fn: 3497.0000 - accuracy: 0.7611 - precision: 0.0000e+00 - recall: 0.0000e+00 - auc: 0.5000 - val_loss: 0.6862 - val_tp: 0.0000e+00 - val_fp: 0.0000e+00 - val_tn: 25969.0000 - val_fn: 8184.0000 - val_accuracy: 0.7604 - val_precision: 0.0000e+00 - val_recall: 0.0000e+00 - val_auc: 0.5000\n",
            "Epoch 64/100\n",
            "30/30 [==============================] - 1s 19ms/step - loss: 1.0239 - tp: 0.0000e+00 - fp: 0.0000e+00 - tn: 11140.0000 - fn: 3497.0000 - accuracy: 0.7611 - precision: 0.0000e+00 - recall: 0.0000e+00 - auc: 0.5000 - val_loss: 0.6861 - val_tp: 0.0000e+00 - val_fp: 0.0000e+00 - val_tn: 25969.0000 - val_fn: 8184.0000 - val_accuracy: 0.7604 - val_precision: 0.0000e+00 - val_recall: 0.0000e+00 - val_auc: 0.5000\n",
            "Epoch 65/100\n",
            "30/30 [==============================] - 0s 16ms/step - loss: 1.0239 - tp: 0.0000e+00 - fp: 0.0000e+00 - tn: 11140.0000 - fn: 3497.0000 - accuracy: 0.7611 - precision: 0.0000e+00 - recall: 0.0000e+00 - auc: 0.5000 - val_loss: 0.6861 - val_tp: 0.0000e+00 - val_fp: 0.0000e+00 - val_tn: 25969.0000 - val_fn: 8184.0000 - val_accuracy: 0.7604 - val_precision: 0.0000e+00 - val_recall: 0.0000e+00 - val_auc: 0.5000\n",
            "Epoch 66/100\n",
            "30/30 [==============================] - 0s 16ms/step - loss: 1.0239 - tp: 0.0000e+00 - fp: 0.0000e+00 - tn: 11140.0000 - fn: 3497.0000 - accuracy: 0.7611 - precision: 0.0000e+00 - recall: 0.0000e+00 - auc: 0.5000 - val_loss: 0.6860 - val_tp: 0.0000e+00 - val_fp: 0.0000e+00 - val_tn: 25969.0000 - val_fn: 8184.0000 - val_accuracy: 0.7604 - val_precision: 0.0000e+00 - val_recall: 0.0000e+00 - val_auc: 0.5000\n",
            "Epoch 67/100\n",
            "30/30 [==============================] - 1s 33ms/step - loss: 1.0239 - tp: 0.0000e+00 - fp: 0.0000e+00 - tn: 11140.0000 - fn: 3497.0000 - accuracy: 0.7611 - precision: 0.0000e+00 - recall: 0.0000e+00 - auc: 0.5000 - val_loss: 0.6860 - val_tp: 0.0000e+00 - val_fp: 0.0000e+00 - val_tn: 25969.0000 - val_fn: 8184.0000 - val_accuracy: 0.7604 - val_precision: 0.0000e+00 - val_recall: 0.0000e+00 - val_auc: 0.5000\n",
            "Epoch 68/100\n",
            "30/30 [==============================] - 1s 37ms/step - loss: 1.0239 - tp: 0.0000e+00 - fp: 0.0000e+00 - tn: 11140.0000 - fn: 3497.0000 - accuracy: 0.7611 - precision: 0.0000e+00 - recall: 0.0000e+00 - auc: 0.5000 - val_loss: 0.6859 - val_tp: 0.0000e+00 - val_fp: 0.0000e+00 - val_tn: 25969.0000 - val_fn: 8184.0000 - val_accuracy: 0.7604 - val_precision: 0.0000e+00 - val_recall: 0.0000e+00 - val_auc: 0.5000\n",
            "Epoch 69/100\n",
            "30/30 [==============================] - 1s 26ms/step - loss: 1.0239 - tp: 0.0000e+00 - fp: 0.0000e+00 - tn: 11140.0000 - fn: 3497.0000 - accuracy: 0.7611 - precision: 0.0000e+00 - recall: 0.0000e+00 - auc: 0.5000 - val_loss: 0.6859 - val_tp: 0.0000e+00 - val_fp: 0.0000e+00 - val_tn: 25969.0000 - val_fn: 8184.0000 - val_accuracy: 0.7604 - val_precision: 0.0000e+00 - val_recall: 0.0000e+00 - val_auc: 0.5000\n",
            "Epoch 70/100\n",
            "30/30 [==============================] - 1s 38ms/step - loss: 1.0239 - tp: 0.0000e+00 - fp: 0.0000e+00 - tn: 11140.0000 - fn: 3497.0000 - accuracy: 0.7611 - precision: 0.0000e+00 - recall: 0.0000e+00 - auc: 0.5000 - val_loss: 0.6858 - val_tp: 0.0000e+00 - val_fp: 0.0000e+00 - val_tn: 25969.0000 - val_fn: 8184.0000 - val_accuracy: 0.7604 - val_precision: 0.0000e+00 - val_recall: 0.0000e+00 - val_auc: 0.5000\n",
            "Epoch 71/100\n",
            "30/30 [==============================] - 1s 38ms/step - loss: 1.0239 - tp: 0.0000e+00 - fp: 0.0000e+00 - tn: 11140.0000 - fn: 3497.0000 - accuracy: 0.7611 - precision: 0.0000e+00 - recall: 0.0000e+00 - auc: 0.5000 - val_loss: 0.6858 - val_tp: 0.0000e+00 - val_fp: 0.0000e+00 - val_tn: 25969.0000 - val_fn: 8184.0000 - val_accuracy: 0.7604 - val_precision: 0.0000e+00 - val_recall: 0.0000e+00 - val_auc: 0.5000\n",
            "Epoch 72/100\n",
            "30/30 [==============================] - 1s 39ms/step - loss: 1.0239 - tp: 0.0000e+00 - fp: 0.0000e+00 - tn: 11140.0000 - fn: 3497.0000 - accuracy: 0.7611 - precision: 0.0000e+00 - recall: 0.0000e+00 - auc: 0.5000 - val_loss: 0.6858 - val_tp: 0.0000e+00 - val_fp: 0.0000e+00 - val_tn: 25969.0000 - val_fn: 8184.0000 - val_accuracy: 0.7604 - val_precision: 0.0000e+00 - val_recall: 0.0000e+00 - val_auc: 0.5000\n",
            "Epoch 73/100\n",
            "30/30 [==============================] - 1s 40ms/step - loss: 1.0239 - tp: 0.0000e+00 - fp: 0.0000e+00 - tn: 11140.0000 - fn: 3497.0000 - accuracy: 0.7611 - precision: 0.0000e+00 - recall: 0.0000e+00 - auc: 0.5000 - val_loss: 0.6857 - val_tp: 0.0000e+00 - val_fp: 0.0000e+00 - val_tn: 25969.0000 - val_fn: 8184.0000 - val_accuracy: 0.7604 - val_precision: 0.0000e+00 - val_recall: 0.0000e+00 - val_auc: 0.5000\n",
            "Epoch 74/100\n",
            "30/30 [==============================] - 1s 36ms/step - loss: 1.0239 - tp: 0.0000e+00 - fp: 0.0000e+00 - tn: 11140.0000 - fn: 3497.0000 - accuracy: 0.7611 - precision: 0.0000e+00 - recall: 0.0000e+00 - auc: 0.5000 - val_loss: 0.6856 - val_tp: 0.0000e+00 - val_fp: 0.0000e+00 - val_tn: 25969.0000 - val_fn: 8184.0000 - val_accuracy: 0.7604 - val_precision: 0.0000e+00 - val_recall: 0.0000e+00 - val_auc: 0.5000\n",
            "Epoch 75/100\n",
            "30/30 [==============================] - 1s 38ms/step - loss: 1.0239 - tp: 0.0000e+00 - fp: 0.0000e+00 - tn: 11140.0000 - fn: 3497.0000 - accuracy: 0.7611 - precision: 0.0000e+00 - recall: 0.0000e+00 - auc: 0.5000 - val_loss: 0.6856 - val_tp: 0.0000e+00 - val_fp: 0.0000e+00 - val_tn: 25969.0000 - val_fn: 8184.0000 - val_accuracy: 0.7604 - val_precision: 0.0000e+00 - val_recall: 0.0000e+00 - val_auc: 0.5000\n",
            "Epoch 76/100\n",
            "30/30 [==============================] - 1s 24ms/step - loss: 1.0239 - tp: 0.0000e+00 - fp: 0.0000e+00 - tn: 11140.0000 - fn: 3497.0000 - accuracy: 0.7611 - precision: 0.0000e+00 - recall: 0.0000e+00 - auc: 0.5000 - val_loss: 0.6856 - val_tp: 0.0000e+00 - val_fp: 0.0000e+00 - val_tn: 25969.0000 - val_fn: 8184.0000 - val_accuracy: 0.7604 - val_precision: 0.0000e+00 - val_recall: 0.0000e+00 - val_auc: 0.5000\n",
            "Epoch 77/100\n",
            "30/30 [==============================] - 1s 38ms/step - loss: 1.0239 - tp: 0.0000e+00 - fp: 0.0000e+00 - tn: 11140.0000 - fn: 3497.0000 - accuracy: 0.7611 - precision: 0.0000e+00 - recall: 0.0000e+00 - auc: 0.5000 - val_loss: 0.6855 - val_tp: 0.0000e+00 - val_fp: 0.0000e+00 - val_tn: 25969.0000 - val_fn: 8184.0000 - val_accuracy: 0.7604 - val_precision: 0.0000e+00 - val_recall: 0.0000e+00 - val_auc: 0.5000\n",
            "Epoch 78/100\n",
            "30/30 [==============================] - 1s 36ms/step - loss: 1.0239 - tp: 0.0000e+00 - fp: 0.0000e+00 - tn: 11140.0000 - fn: 3497.0000 - accuracy: 0.7611 - precision: 0.0000e+00 - recall: 0.0000e+00 - auc: 0.5000 - val_loss: 0.6855 - val_tp: 0.0000e+00 - val_fp: 0.0000e+00 - val_tn: 25969.0000 - val_fn: 8184.0000 - val_accuracy: 0.7604 - val_precision: 0.0000e+00 - val_recall: 0.0000e+00 - val_auc: 0.5000\n",
            "Epoch 79/100\n",
            "30/30 [==============================] - 1s 38ms/step - loss: 1.0239 - tp: 0.0000e+00 - fp: 0.0000e+00 - tn: 11140.0000 - fn: 3497.0000 - accuracy: 0.7611 - precision: 0.0000e+00 - recall: 0.0000e+00 - auc: 0.5000 - val_loss: 0.6854 - val_tp: 0.0000e+00 - val_fp: 0.0000e+00 - val_tn: 25969.0000 - val_fn: 8184.0000 - val_accuracy: 0.7604 - val_precision: 0.0000e+00 - val_recall: 0.0000e+00 - val_auc: 0.5000\n",
            "Epoch 80/100\n",
            "30/30 [==============================] - 1s 31ms/step - loss: 1.0239 - tp: 0.0000e+00 - fp: 0.0000e+00 - tn: 11140.0000 - fn: 3497.0000 - accuracy: 0.7611 - precision: 0.0000e+00 - recall: 0.0000e+00 - auc: 0.4970 - val_loss: 0.6854 - val_tp: 0.0000e+00 - val_fp: 0.0000e+00 - val_tn: 25969.0000 - val_fn: 8184.0000 - val_accuracy: 0.7604 - val_precision: 0.0000e+00 - val_recall: 0.0000e+00 - val_auc: 0.5000\n",
            "Epoch 81/100\n",
            "30/30 [==============================] - 1s 28ms/step - loss: 1.0239 - tp: 0.0000e+00 - fp: 0.0000e+00 - tn: 11140.0000 - fn: 3497.0000 - accuracy: 0.7611 - precision: 0.0000e+00 - recall: 0.0000e+00 - auc: 0.5067 - val_loss: 0.6854 - val_tp: 0.0000e+00 - val_fp: 0.0000e+00 - val_tn: 25969.0000 - val_fn: 8184.0000 - val_accuracy: 0.7604 - val_precision: 0.0000e+00 - val_recall: 0.0000e+00 - val_auc: 0.5000\n",
            "Epoch 82/100\n",
            "30/30 [==============================] - 1s 35ms/step - loss: 1.0239 - tp: 0.0000e+00 - fp: 0.0000e+00 - tn: 11140.0000 - fn: 3497.0000 - accuracy: 0.7611 - precision: 0.0000e+00 - recall: 0.0000e+00 - auc: 0.5000 - val_loss: 0.6853 - val_tp: 0.0000e+00 - val_fp: 0.0000e+00 - val_tn: 25969.0000 - val_fn: 8184.0000 - val_accuracy: 0.7604 - val_precision: 0.0000e+00 - val_recall: 0.0000e+00 - val_auc: 0.5000\n",
            "Epoch 83/100\n",
            "30/30 [==============================] - 1s 44ms/step - loss: 1.0238 - tp: 0.0000e+00 - fp: 0.0000e+00 - tn: 11140.0000 - fn: 3497.0000 - accuracy: 0.7611 - precision: 0.0000e+00 - recall: 0.0000e+00 - auc: 0.5000 - val_loss: 0.6853 - val_tp: 0.0000e+00 - val_fp: 0.0000e+00 - val_tn: 25969.0000 - val_fn: 8184.0000 - val_accuracy: 0.7604 - val_precision: 0.0000e+00 - val_recall: 0.0000e+00 - val_auc: 0.5000\n",
            "Epoch 84/100\n",
            "30/30 [==============================] - 1s 25ms/step - loss: 1.0238 - tp: 0.0000e+00 - fp: 0.0000e+00 - tn: 11140.0000 - fn: 3497.0000 - accuracy: 0.7611 - precision: 0.0000e+00 - recall: 0.0000e+00 - auc: 0.5000 - val_loss: 0.6853 - val_tp: 0.0000e+00 - val_fp: 0.0000e+00 - val_tn: 25969.0000 - val_fn: 8184.0000 - val_accuracy: 0.7604 - val_precision: 0.0000e+00 - val_recall: 0.0000e+00 - val_auc: 0.5000\n",
            "Epoch 85/100\n",
            "30/30 [==============================] - 1s 23ms/step - loss: 1.0238 - tp: 0.0000e+00 - fp: 0.0000e+00 - tn: 11140.0000 - fn: 3497.0000 - accuracy: 0.7611 - precision: 0.0000e+00 - recall: 0.0000e+00 - auc: 0.5000 - val_loss: 0.6852 - val_tp: 0.0000e+00 - val_fp: 0.0000e+00 - val_tn: 25969.0000 - val_fn: 8184.0000 - val_accuracy: 0.7604 - val_precision: 0.0000e+00 - val_recall: 0.0000e+00 - val_auc: 0.5000\n",
            "Epoch 86/100\n",
            "30/30 [==============================] - 1s 24ms/step - loss: 1.0238 - tp: 0.0000e+00 - fp: 0.0000e+00 - tn: 11140.0000 - fn: 3497.0000 - accuracy: 0.7611 - precision: 0.0000e+00 - recall: 0.0000e+00 - auc: 0.5000 - val_loss: 0.6852 - val_tp: 0.0000e+00 - val_fp: 0.0000e+00 - val_tn: 25969.0000 - val_fn: 8184.0000 - val_accuracy: 0.7604 - val_precision: 0.0000e+00 - val_recall: 0.0000e+00 - val_auc: 0.5000\n",
            "Epoch 87/100\n",
            "30/30 [==============================] - 1s 34ms/step - loss: 1.0238 - tp: 0.0000e+00 - fp: 0.0000e+00 - tn: 11140.0000 - fn: 3497.0000 - accuracy: 0.7611 - precision: 0.0000e+00 - recall: 0.0000e+00 - auc: 0.5000 - val_loss: 0.6852 - val_tp: 0.0000e+00 - val_fp: 0.0000e+00 - val_tn: 25969.0000 - val_fn: 8184.0000 - val_accuracy: 0.7604 - val_precision: 0.0000e+00 - val_recall: 0.0000e+00 - val_auc: 0.5000\n",
            "Epoch 88/100\n",
            "30/30 [==============================] - 1s 38ms/step - loss: 1.0238 - tp: 0.0000e+00 - fp: 0.0000e+00 - tn: 11140.0000 - fn: 3497.0000 - accuracy: 0.7611 - precision: 0.0000e+00 - recall: 0.0000e+00 - auc: 0.5000 - val_loss: 0.6851 - val_tp: 0.0000e+00 - val_fp: 0.0000e+00 - val_tn: 25969.0000 - val_fn: 8184.0000 - val_accuracy: 0.7604 - val_precision: 0.0000e+00 - val_recall: 0.0000e+00 - val_auc: 0.5000\n",
            "Epoch 89/100\n",
            "30/30 [==============================] - 1s 33ms/step - loss: 1.0238 - tp: 0.0000e+00 - fp: 0.0000e+00 - tn: 11140.0000 - fn: 3497.0000 - accuracy: 0.7611 - precision: 0.0000e+00 - recall: 0.0000e+00 - auc: 0.5000 - val_loss: 0.6851 - val_tp: 0.0000e+00 - val_fp: 0.0000e+00 - val_tn: 25969.0000 - val_fn: 8184.0000 - val_accuracy: 0.7604 - val_precision: 0.0000e+00 - val_recall: 0.0000e+00 - val_auc: 0.5000\n",
            "Epoch 90/100\n",
            "30/30 [==============================] - 1s 32ms/step - loss: 1.0238 - tp: 0.0000e+00 - fp: 0.0000e+00 - tn: 11140.0000 - fn: 3497.0000 - accuracy: 0.7611 - precision: 0.0000e+00 - recall: 0.0000e+00 - auc: 0.5000 - val_loss: 0.6851 - val_tp: 0.0000e+00 - val_fp: 0.0000e+00 - val_tn: 25969.0000 - val_fn: 8184.0000 - val_accuracy: 0.7604 - val_precision: 0.0000e+00 - val_recall: 0.0000e+00 - val_auc: 0.5000\n",
            "Epoch 91/100\n",
            "30/30 [==============================] - 1s 29ms/step - loss: 1.0238 - tp: 0.0000e+00 - fp: 0.0000e+00 - tn: 11140.0000 - fn: 3497.0000 - accuracy: 0.7611 - precision: 0.0000e+00 - recall: 0.0000e+00 - auc: 0.5000 - val_loss: 0.6850 - val_tp: 0.0000e+00 - val_fp: 0.0000e+00 - val_tn: 25969.0000 - val_fn: 8184.0000 - val_accuracy: 0.7604 - val_precision: 0.0000e+00 - val_recall: 0.0000e+00 - val_auc: 0.5000\n",
            "Epoch 92/100\n",
            "30/30 [==============================] - 1s 17ms/step - loss: 1.0238 - tp: 0.0000e+00 - fp: 0.0000e+00 - tn: 11140.0000 - fn: 3497.0000 - accuracy: 0.7611 - precision: 0.0000e+00 - recall: 0.0000e+00 - auc: 0.5000 - val_loss: 0.6850 - val_tp: 0.0000e+00 - val_fp: 0.0000e+00 - val_tn: 25969.0000 - val_fn: 8184.0000 - val_accuracy: 0.7604 - val_precision: 0.0000e+00 - val_recall: 0.0000e+00 - val_auc: 0.5000\n",
            "Epoch 93/100\n",
            "30/30 [==============================] - 1s 20ms/step - loss: 1.0238 - tp: 0.0000e+00 - fp: 0.0000e+00 - tn: 11140.0000 - fn: 3497.0000 - accuracy: 0.7611 - precision: 0.0000e+00 - recall: 0.0000e+00 - auc: 0.5000 - val_loss: 0.6849 - val_tp: 0.0000e+00 - val_fp: 0.0000e+00 - val_tn: 25969.0000 - val_fn: 8184.0000 - val_accuracy: 0.7604 - val_precision: 0.0000e+00 - val_recall: 0.0000e+00 - val_auc: 0.5000\n",
            "Epoch 94/100\n",
            "30/30 [==============================] - 1s 21ms/step - loss: 1.0238 - tp: 0.0000e+00 - fp: 0.0000e+00 - tn: 11140.0000 - fn: 3497.0000 - accuracy: 0.7611 - precision: 0.0000e+00 - recall: 0.0000e+00 - auc: 0.5000 - val_loss: 0.6849 - val_tp: 0.0000e+00 - val_fp: 0.0000e+00 - val_tn: 25969.0000 - val_fn: 8184.0000 - val_accuracy: 0.7604 - val_precision: 0.0000e+00 - val_recall: 0.0000e+00 - val_auc: 0.5000\n",
            "Epoch 95/100\n",
            "30/30 [==============================] - 1s 27ms/step - loss: 1.0238 - tp: 0.0000e+00 - fp: 0.0000e+00 - tn: 11140.0000 - fn: 3497.0000 - accuracy: 0.7611 - precision: 0.0000e+00 - recall: 0.0000e+00 - auc: 0.5000 - val_loss: 0.6849 - val_tp: 0.0000e+00 - val_fp: 0.0000e+00 - val_tn: 25969.0000 - val_fn: 8184.0000 - val_accuracy: 0.7604 - val_precision: 0.0000e+00 - val_recall: 0.0000e+00 - val_auc: 0.5000\n",
            "Epoch 96/100\n",
            "30/30 [==============================] - 1s 18ms/step - loss: 1.0238 - tp: 0.0000e+00 - fp: 0.0000e+00 - tn: 11140.0000 - fn: 3497.0000 - accuracy: 0.7611 - precision: 0.0000e+00 - recall: 0.0000e+00 - auc: 0.5000 - val_loss: 0.6848 - val_tp: 0.0000e+00 - val_fp: 0.0000e+00 - val_tn: 25969.0000 - val_fn: 8184.0000 - val_accuracy: 0.7604 - val_precision: 0.0000e+00 - val_recall: 0.0000e+00 - val_auc: 0.5000\n",
            "Epoch 97/100\n",
            "30/30 [==============================] - 1s 25ms/step - loss: 1.0238 - tp: 0.0000e+00 - fp: 0.0000e+00 - tn: 11140.0000 - fn: 3497.0000 - accuracy: 0.7611 - precision: 0.0000e+00 - recall: 0.0000e+00 - auc: 0.5000 - val_loss: 0.6848 - val_tp: 0.0000e+00 - val_fp: 0.0000e+00 - val_tn: 25969.0000 - val_fn: 8184.0000 - val_accuracy: 0.7604 - val_precision: 0.0000e+00 - val_recall: 0.0000e+00 - val_auc: 0.5000\n",
            "Epoch 98/100\n",
            "30/30 [==============================] - 1s 26ms/step - loss: 1.0238 - tp: 0.0000e+00 - fp: 0.0000e+00 - tn: 11140.0000 - fn: 3497.0000 - accuracy: 0.7611 - precision: 0.0000e+00 - recall: 0.0000e+00 - auc: 0.5000 - val_loss: 0.6848 - val_tp: 0.0000e+00 - val_fp: 0.0000e+00 - val_tn: 25969.0000 - val_fn: 8184.0000 - val_accuracy: 0.7604 - val_precision: 0.0000e+00 - val_recall: 0.0000e+00 - val_auc: 0.5000\n",
            "Epoch 99/100\n",
            "30/30 [==============================] - 1s 43ms/step - loss: 1.0238 - tp: 0.0000e+00 - fp: 0.0000e+00 - tn: 11140.0000 - fn: 3497.0000 - accuracy: 0.7611 - precision: 0.0000e+00 - recall: 0.0000e+00 - auc: 0.5000 - val_loss: 0.6847 - val_tp: 0.0000e+00 - val_fp: 0.0000e+00 - val_tn: 25969.0000 - val_fn: 8184.0000 - val_accuracy: 0.7604 - val_precision: 0.0000e+00 - val_recall: 0.0000e+00 - val_auc: 0.5000\n",
            "Epoch 100/100\n",
            "30/30 [==============================] - 1s 43ms/step - loss: 1.0238 - tp: 0.0000e+00 - fp: 0.0000e+00 - tn: 11140.0000 - fn: 3497.0000 - accuracy: 0.7611 - precision: 0.0000e+00 - recall: 0.0000e+00 - auc: 0.5000 - val_loss: 0.6847 - val_tp: 0.0000e+00 - val_fp: 0.0000e+00 - val_tn: 25969.0000 - val_fn: 8184.0000 - val_accuracy: 0.7604 - val_precision: 0.0000e+00 - val_recall: 0.0000e+00 - val_auc: 0.5000\n"
          ]
        }
      ]
    },
    {
      "cell_type": "code",
      "source": [
        "model3.load_weights(checkpoint_filepath3)\n",
        "model3.compile(optimizer='adam', loss='binary_crossentropy', metrics=['accuracy'])"
      ],
      "metadata": {
        "id": "KbzqF-gC085K"
      },
      "execution_count": null,
      "outputs": []
    },
    {
      "cell_type": "code",
      "source": [
        "(accuracy_result3, y_predict_3) = accuracy_score_fn(model3, test_set_scaled, test_classes_val)"
      ],
      "metadata": {
        "colab": {
          "base_uri": "https://localhost:8080/"
        },
        "outputId": "71416b8b-0830-4bf2-b96e-7a0b412b97e1",
        "id": "90ouY55nVXft"
      },
      "execution_count": null,
      "outputs": [
        {
          "output_type": "stream",
          "name": "stdout",
          "text": [
            "1068/1068 [==============================] - 2s 1ms/step\n"
          ]
        }
      ]
    },
    {
      "cell_type": "code",
      "source": [
        "print(accuracy_result3)"
      ],
      "metadata": {
        "colab": {
          "base_uri": "https://localhost:8080/"
        },
        "outputId": "55e24f50-6fa7-451b-bb9d-7cbec5eceb1e",
        "id": "i91NI8WeVXft"
      },
      "execution_count": null,
      "outputs": [
        {
          "output_type": "stream",
          "name": "stdout",
          "text": [
            "0.7603724416595906\n"
          ]
        }
      ]
    },
    {
      "cell_type": "markdown",
      "source": [
        "This is the worst neural network configuration which basically immedietly stops and puts every record in under 50k income. "
      ],
      "metadata": {
        "id": "103WGQ5wI3qD"
      }
    },
    {
      "cell_type": "code",
      "source": [
        "nn3_report = classification_report(test_classes_val.values, y_predict_3, output_dict=True)\n",
        "nn3_matrix = confusion_matrix(test_classes_val.values, y_predict_3)\n",
        "nn_report.append(nn3_report['accuracy'])\n",
        "generate_confusion_matrix_heat_map(nn3_matrix, 'Neural Network 50-128-64-1*')"
      ],
      "metadata": {
        "colab": {
          "base_uri": "https://localhost:8080/",
          "height": 431
        },
        "outputId": "7e2a8813-e582-4d6a-c6f8-65d1962ab050",
        "id": "oZajpC15VXft"
      },
      "execution_count": null,
      "outputs": [
        {
          "output_type": "stream",
          "name": "stderr",
          "text": [
            "/usr/local/lib/python3.8/dist-packages/sklearn/metrics/_classification.py:1318: UndefinedMetricWarning: Precision and F-score are ill-defined and being set to 0.0 in labels with no predicted samples. Use `zero_division` parameter to control this behavior.\n",
            "  _warn_prf(average, modifier, msg_start, len(result))\n",
            "/usr/local/lib/python3.8/dist-packages/sklearn/metrics/_classification.py:1318: UndefinedMetricWarning: Precision and F-score are ill-defined and being set to 0.0 in labels with no predicted samples. Use `zero_division` parameter to control this behavior.\n",
            "  _warn_prf(average, modifier, msg_start, len(result))\n",
            "/usr/local/lib/python3.8/dist-packages/sklearn/metrics/_classification.py:1318: UndefinedMetricWarning: Precision and F-score are ill-defined and being set to 0.0 in labels with no predicted samples. Use `zero_division` parameter to control this behavior.\n",
            "  _warn_prf(average, modifier, msg_start, len(result))\n"
          ]
        },
        {
          "output_type": "display_data",
          "data": {
            "text/plain": [
              "<Figure size 432x288 with 2 Axes>"
            ],
            "image/png": "[encoded data removed]"
          },
          "metadata": {
            "needs_background": "light"
          }
        }
      ]
    },
    {
      "cell_type": "code",
      "source": [
        "plt.plot(history3.history['loss'], label='train')\n",
        "plt.plot(history3.history['val_loss'], label='test')\n",
        "plt.title('model loss')\n",
        "plt.legend()"
      ],
      "metadata": {
        "colab": {
          "base_uri": "https://localhost:8080/",
          "height": 298
        },
        "outputId": "ea8fdc9d-b1db-4722-f811-6a82cd9254d6",
        "id": "VpI5v182VXft"
      },
      "execution_count": null,
      "outputs": [
        {
          "output_type": "execute_result",
          "data": {
            "text/plain": [
              "<matplotlib.legend.Legend at 0x7f5fe27170a0>"
            ]
          },
          "metadata": {},
          "execution_count": 79
        },
        {
          "output_type": "display_data",
          "data": {
            "text/plain": [
              "<Figure size 432x288 with 1 Axes>"
            ],
            "image/png": "[encoded data removed]"
          },
          "metadata": {
            "needs_background": "light"
          }
        }
      ]
    },
    {
      "cell_type": "code",
      "source": [
        "plt.plot(history3.history['accuracy'], label='train')\n",
        "plt.plot(history3.history['val_accuracy'], label='test')\n",
        "plt.title('accuracy')\n",
        "plt.legend()"
      ],
      "metadata": {
        "colab": {
          "base_uri": "https://localhost:8080/",
          "height": 298
        },
        "id": "6_s5MVPUZz_6",
        "outputId": "a52035b5-0f73-48d5-bbab-1fb971b50d2d"
      },
      "execution_count": null,
      "outputs": [
        {
          "output_type": "execute_result",
          "data": {
            "text/plain": [
              "<matplotlib.legend.Legend at 0x7f5fe1e22940>"
            ]
          },
          "metadata": {},
          "execution_count": 80
        },
        {
          "output_type": "display_data",
          "data": {
            "text/plain": [
              "<Figure size 432x288 with 1 Axes>"
            ],
            "image/png": "[encoded data removed]"
          },
          "metadata": {
            "needs_background": "light"
          }
        }
      ]
    },
    {
      "cell_type": "code",
      "source": [
        "model3.summary()"
      ],
      "metadata": {
        "outputId": "f32ae12c-91c2-4700-e0d5-b3e5ebacdaeb",
        "colab": {
          "base_uri": "https://localhost:8080/"
        },
        "id": "fUCpwpaNVXfu"
      },
      "execution_count": null,
      "outputs": [
        {
          "output_type": "stream",
          "name": "stdout",
          "text": [
            "Model: \"sequential_2\"\n",
            "_________________________________________________________________\n",
            " Layer (type)                Output Shape              Param #   \n",
            "=================================================================\n",
            " input_layer (Dense)         (None, 50)                2550      \n",
            "                                                                 \n",
            " layer1 (Dense)              (None, 128)               6528      \n",
            "                                                                 \n",
            " layer2 (Dense)              (None, 64)                8256      \n",
            "                                                                 \n",
            " layer3 (Dense)              (None, 32)                2080      \n",
            "                                                                 \n",
            " layer4 (Dense)              (None, 16)                528       \n",
            "                                                                 \n",
            " output-layer (Dense)        (None, 1)                 17        \n",
            "                                                                 \n",
            "=================================================================\n",
            "Total params: 19,959\n",
            "Trainable params: 19,959\n",
            "Non-trainable params: 0\n",
            "_________________________________________________________________\n"
          ]
        }
      ]
    },
    {
      "cell_type": "code",
      "source": [
        "ann_viz(model3, view=True, title=\"3rd\", filename=\"3.nn\")"
      ],
      "metadata": {
        "id": "Xyg_Idt-VXfu"
      },
      "execution_count": null,
      "outputs": []
    },
    {
      "cell_type": "markdown",
      "source": [
        "## Neural Netwok 4 (50-128-256-128-64-32-1) *\n"
      ],
      "metadata": {
        "id": "VUJ89803gSfW"
      }
    },
    {
      "cell_type": "markdown",
      "source": [
        "*Network* 50-128-256-128-64-32-1 with 3 dropout layers\n",
        "Epochs: 100  \n",
        "Batch size: 500\n",
        "\n"
      ],
      "metadata": {
        "id": "XZ89cC2kgSfX"
      }
    },
    {
      "cell_type": "code",
      "source": [
        "from keras.layers.regularization.dropout import Dropout\n",
        "import tensorflow as tf\n",
        "\n",
        "METRICS = [\n",
        "  tf.keras.metrics.BinaryAccuracy(name='accuracy'),\n",
        "]\n",
        "\n",
        "model4 = Sequential()\n",
        "model4.add(Dense(50, input_dim=in_dim, activation='relu', name='input_layer'))\n",
        "\n",
        "model4.add(Dense(128, activation='relu', name='layer1'))\n",
        "model4.add(Dense(256, activation='relu', name='layer2'))\n",
        "model4.add(Dropout(rate=0.2))\n",
        "model4.add(Dense(128, activation='relu', name='layer3'))\n",
        "model4.add(Dropout(rate=0.5))\n",
        "model4.add(Dense(64, activation='relu', name='layer4'))\n",
        "model4.add(Dropout(rate=0.5))\n",
        "model4.add(Dense(32, activation='relu', name='layer5'))\n",
        "model4.add(Dropout(rate=0.5))\n",
        "model4.add(Dense(1, activation='sigmoid', name='output-layer'))\n",
        "\n",
        "model4.compile(loss='binary_crossentropy', \n",
        "              optimizer='adam',\n",
        "              metrics=METRICS)"
      ],
      "metadata": {
        "id": "o2Yq5I52gSfX"
      },
      "execution_count": null,
      "outputs": []
    },
    {
      "cell_type": "code",
      "source": [
        "from keras.callbacks import ReduceLROnPlateau\n",
        "from keras.callbacks import LearningRateScheduler\n",
        "from keras import regularizers\n",
        "import tensorflow as tf\n",
        "\n",
        "def scheduler(epoch, lr):\n",
        "  if epoch < 50:\n",
        "    return lr\n",
        "  else:\n",
        "    return lr * tf.math.exp(-0.1)\n",
        "\n",
        "\n",
        "reduce_lr = ReduceLROnPlateau(monitor='val_loss', factor=0.2,\n",
        "                              patience=2, min_lr=0.005)\n",
        "\n",
        "scheduler = LearningRateScheduler(scheduler)"
      ],
      "metadata": {
        "id": "Cb1Z-HxWgSfY"
      },
      "execution_count": null,
      "outputs": []
    },
    {
      "cell_type": "code",
      "source": [
        "checkpoint_filepath4 = '/tmp/checkpoint4'\n",
        "model_checkpoint_callback4 = tf.keras.callbacks.ModelCheckpoint(\n",
        "    filepath=checkpoint_filepath4,\n",
        "    save_weights_only=True,\n",
        "    monitor='val_accuracy',\n",
        "    mode='max',\n",
        "    save_best_only=True)"
      ],
      "metadata": {
        "id": "xB4Eot_rgSfY"
      },
      "execution_count": null,
      "outputs": []
    },
    {
      "cell_type": "code",
      "source": [
        "epochs = 100\n",
        "batch_size = 500\n",
        "\n",
        "name2 = \"neural_with_additonal_4\"\n",
        "logdir=\"logs/fit/\" + datetime.datetime.now().strftime(\"%Y%m%d-%H%M%S\") + name2\n",
        "tensorboard_callback = keras.callbacks.TensorBoard(log_dir=logdir)\n",
        "\n",
        "history4 = model4.fit(train_set_scaled,\n",
        "                    train_classes_val.values,\n",
        "                    validation_data=(test_set_scaled, test_classes_val.values),\n",
        "                    epochs=epochs,\n",
        "                    batch_size=batch_size,\n",
        "                    verbose=1, callbacks=[tensorboard_callback, model_checkpoint_callback4, reduce_lr], class_weight={0: 1, 1: 3})"
      ],
      "metadata": {
        "colab": {
          "base_uri": "https://localhost:8080/"
        },
        "outputId": "868a61e0-7f2b-43bb-bb34-84f8d254f4e1",
        "id": "o3wBx7Z3gSfY"
      },
      "execution_count": null,
      "outputs": [
        {
          "output_type": "stream",
          "name": "stdout",
          "text": [
            "Epoch 1/100\n",
            "30/30 [==============================] - 2s 32ms/step - loss: 0.9542 - accuracy: 0.6095 - val_loss: 0.4719 - val_accuracy: 0.7562 - lr: 0.0010\n",
            "Epoch 2/100\n",
            "30/30 [==============================] - 1s 26ms/step - loss: 0.7240 - accuracy: 0.7633 - val_loss: 0.4215 - val_accuracy: 0.7771 - lr: 0.0010\n",
            "Epoch 3/100\n",
            "30/30 [==============================] - 1s 26ms/step - loss: 0.6485 - accuracy: 0.7859 - val_loss: 0.4061 - val_accuracy: 0.7812 - lr: 0.0010\n",
            "Epoch 4/100\n",
            "30/30 [==============================] - 1s 26ms/step - loss: 0.6178 - accuracy: 0.7909 - val_loss: 0.3845 - val_accuracy: 0.7892 - lr: 0.0010\n",
            "Epoch 5/100\n",
            "30/30 [==============================] - 1s 25ms/step - loss: 0.6031 - accuracy: 0.7943 - val_loss: 0.3851 - val_accuracy: 0.7950 - lr: 0.0010\n",
            "Epoch 6/100\n",
            "30/30 [==============================] - 1s 24ms/step - loss: 0.5872 - accuracy: 0.7966 - val_loss: 0.3756 - val_accuracy: 0.7967 - lr: 0.0010\n",
            "Epoch 7/100\n",
            "30/30 [==============================] - 1s 23ms/step - loss: 0.5802 - accuracy: 0.8043 - val_loss: 0.3694 - val_accuracy: 0.7980 - lr: 0.0010\n",
            "Epoch 8/100\n",
            "30/30 [==============================] - 1s 26ms/step - loss: 0.5727 - accuracy: 0.8008 - val_loss: 0.3658 - val_accuracy: 0.8021 - lr: 0.0010\n",
            "Epoch 9/100\n",
            "30/30 [==============================] - 1s 26ms/step - loss: 0.5649 - accuracy: 0.8054 - val_loss: 0.4016 - val_accuracy: 0.7746 - lr: 0.0010\n",
            "Epoch 10/100\n",
            "30/30 [==============================] - 1s 23ms/step - loss: 0.5504 - accuracy: 0.8018 - val_loss: 0.3970 - val_accuracy: 0.7820 - lr: 0.0010\n",
            "Epoch 11/100\n",
            "30/30 [==============================] - 1s 25ms/step - loss: 0.5432 - accuracy: 0.8097 - val_loss: 0.3924 - val_accuracy: 0.7916 - lr: 0.0010\n",
            "Epoch 12/100\n",
            "30/30 [==============================] - 1s 27ms/step - loss: 0.5383 - accuracy: 0.8059 - val_loss: 0.4167 - val_accuracy: 0.7796 - lr: 0.0010\n",
            "Epoch 13/100\n",
            "30/30 [==============================] - 1s 23ms/step - loss: 0.5339 - accuracy: 0.8110 - val_loss: 0.4056 - val_accuracy: 0.7797 - lr: 0.0010\n",
            "Epoch 14/100\n",
            "30/30 [==============================] - 1s 24ms/step - loss: 0.5257 - accuracy: 0.8100 - val_loss: 0.4039 - val_accuracy: 0.7883 - lr: 0.0010\n",
            "Epoch 15/100\n",
            "30/30 [==============================] - 1s 22ms/step - loss: 0.5200 - accuracy: 0.8174 - val_loss: 0.4114 - val_accuracy: 0.7743 - lr: 0.0010\n",
            "Epoch 16/100\n",
            "30/30 [==============================] - 1s 25ms/step - loss: 0.5137 - accuracy: 0.8134 - val_loss: 0.4104 - val_accuracy: 0.7797 - lr: 0.0010\n",
            "Epoch 17/100\n",
            "30/30 [==============================] - 1s 25ms/step - loss: 0.5107 - accuracy: 0.8146 - val_loss: 0.4090 - val_accuracy: 0.7789 - lr: 0.0010\n",
            "Epoch 18/100\n",
            "30/30 [==============================] - 1s 24ms/step - loss: 0.5017 - accuracy: 0.8145 - val_loss: 0.4097 - val_accuracy: 0.7984 - lr: 0.0010\n",
            "Epoch 19/100\n",
            "30/30 [==============================] - 1s 26ms/step - loss: 0.4861 - accuracy: 0.8233 - val_loss: 0.4186 - val_accuracy: 0.8019 - lr: 0.0010\n",
            "Epoch 20/100\n",
            "30/30 [==============================] - 1s 23ms/step - loss: 0.4893 - accuracy: 0.8247 - val_loss: 0.4059 - val_accuracy: 0.8021 - lr: 0.0010\n",
            "Epoch 21/100\n",
            "30/30 [==============================] - 1s 25ms/step - loss: 0.4829 - accuracy: 0.8233 - val_loss: 0.4184 - val_accuracy: 0.8026 - lr: 0.0010\n",
            "Epoch 22/100\n",
            "30/30 [==============================] - 1s 26ms/step - loss: 0.4829 - accuracy: 0.8174 - val_loss: 0.4210 - val_accuracy: 0.8052 - lr: 0.0010\n",
            "Epoch 23/100\n",
            "30/30 [==============================] - 1s 22ms/step - loss: 0.4741 - accuracy: 0.8261 - val_loss: 0.4425 - val_accuracy: 0.7943 - lr: 0.0010\n",
            "Epoch 24/100\n",
            "30/30 [==============================] - 1s 24ms/step - loss: 0.4682 - accuracy: 0.8278 - val_loss: 0.4641 - val_accuracy: 0.7796 - lr: 0.0010\n",
            "Epoch 25/100\n",
            "30/30 [==============================] - 1s 24ms/step - loss: 0.4645 - accuracy: 0.8293 - val_loss: 0.4583 - val_accuracy: 0.7837 - lr: 0.0010\n",
            "Epoch 26/100\n",
            "30/30 [==============================] - 1s 26ms/step - loss: 0.4552 - accuracy: 0.8261 - val_loss: 0.4502 - val_accuracy: 0.7873 - lr: 0.0010\n",
            "Epoch 27/100\n",
            "30/30 [==============================] - 1s 25ms/step - loss: 0.4530 - accuracy: 0.8319 - val_loss: 0.4756 - val_accuracy: 0.7916 - lr: 0.0010\n",
            "Epoch 28/100\n",
            "30/30 [==============================] - 1s 25ms/step - loss: 0.4455 - accuracy: 0.8381 - val_loss: 0.4725 - val_accuracy: 0.7882 - lr: 0.0010\n",
            "Epoch 29/100\n",
            "30/30 [==============================] - 1s 22ms/step - loss: 0.4375 - accuracy: 0.8338 - val_loss: 0.5061 - val_accuracy: 0.7957 - lr: 0.0010\n",
            "Epoch 30/100\n",
            "30/30 [==============================] - 1s 25ms/step - loss: 0.4405 - accuracy: 0.8355 - val_loss: 0.5050 - val_accuracy: 0.7823 - lr: 0.0010\n",
            "Epoch 31/100\n",
            "30/30 [==============================] - 1s 26ms/step - loss: 0.4390 - accuracy: 0.8319 - val_loss: 0.4805 - val_accuracy: 0.8075 - lr: 0.0010\n",
            "Epoch 32/100\n",
            "30/30 [==============================] - 1s 25ms/step - loss: 0.4342 - accuracy: 0.8393 - val_loss: 0.5082 - val_accuracy: 0.7903 - lr: 0.0010\n",
            "Epoch 33/100\n",
            "30/30 [==============================] - 1s 22ms/step - loss: 0.4258 - accuracy: 0.8381 - val_loss: 0.4968 - val_accuracy: 0.7987 - lr: 0.0010\n",
            "Epoch 34/100\n",
            "30/30 [==============================] - 1s 26ms/step - loss: 0.4227 - accuracy: 0.8425 - val_loss: 0.5293 - val_accuracy: 0.7926 - lr: 0.0010\n",
            "Epoch 35/100\n",
            "30/30 [==============================] - 1s 24ms/step - loss: 0.4190 - accuracy: 0.8410 - val_loss: 0.5316 - val_accuracy: 0.7986 - lr: 0.0010\n",
            "Epoch 36/100\n",
            "30/30 [==============================] - 1s 23ms/step - loss: 0.4090 - accuracy: 0.8439 - val_loss: 0.5542 - val_accuracy: 0.8021 - lr: 0.0010\n",
            "Epoch 37/100\n",
            "30/30 [==============================] - 1s 26ms/step - loss: 0.4051 - accuracy: 0.8490 - val_loss: 0.5833 - val_accuracy: 0.8079 - lr: 0.0010\n",
            "Epoch 38/100\n",
            "30/30 [==============================] - 1s 24ms/step - loss: 0.4060 - accuracy: 0.8468 - val_loss: 0.5633 - val_accuracy: 0.7782 - lr: 0.0010\n",
            "Epoch 39/100\n",
            "30/30 [==============================] - 1s 22ms/step - loss: 0.4099 - accuracy: 0.8467 - val_loss: 0.5816 - val_accuracy: 0.7909 - lr: 0.0010\n",
            "Epoch 40/100\n",
            "30/30 [==============================] - 1s 24ms/step - loss: 0.4048 - accuracy: 0.8451 - val_loss: 0.5876 - val_accuracy: 0.7970 - lr: 0.0010\n",
            "Epoch 41/100\n",
            "30/30 [==============================] - 1s 36ms/step - loss: 0.3989 - accuracy: 0.8486 - val_loss: 0.5902 - val_accuracy: 0.8063 - lr: 0.0010\n",
            "Epoch 42/100\n",
            "30/30 [==============================] - 1s 31ms/step - loss: 0.3934 - accuracy: 0.8511 - val_loss: 0.5990 - val_accuracy: 0.7939 - lr: 0.0010\n",
            "Epoch 43/100\n",
            "30/30 [==============================] - 1s 25ms/step - loss: 0.3930 - accuracy: 0.8516 - val_loss: 0.5725 - val_accuracy: 0.7878 - lr: 0.0010\n",
            "Epoch 44/100\n",
            "30/30 [==============================] - 1s 25ms/step - loss: 0.3846 - accuracy: 0.8565 - val_loss: 0.6416 - val_accuracy: 0.7983 - lr: 0.0010\n",
            "Epoch 45/100\n",
            "30/30 [==============================] - 1s 22ms/step - loss: 0.3891 - accuracy: 0.8505 - val_loss: 0.6472 - val_accuracy: 0.8009 - lr: 0.0010\n",
            "Epoch 46/100\n",
            "30/30 [==============================] - 1s 23ms/step - loss: 0.3871 - accuracy: 0.8569 - val_loss: 0.5958 - val_accuracy: 0.7988 - lr: 0.0010\n",
            "Epoch 47/100\n",
            "30/30 [==============================] - 1s 25ms/step - loss: 0.3780 - accuracy: 0.8543 - val_loss: 0.6924 - val_accuracy: 0.7937 - lr: 0.0010\n",
            "Epoch 48/100\n",
            "30/30 [==============================] - 1s 25ms/step - loss: 0.3847 - accuracy: 0.8579 - val_loss: 0.6518 - val_accuracy: 0.7924 - lr: 0.0010\n",
            "Epoch 49/100\n",
            "30/30 [==============================] - 1s 23ms/step - loss: 0.3762 - accuracy: 0.8591 - val_loss: 0.6789 - val_accuracy: 0.7954 - lr: 0.0010\n",
            "Epoch 50/100\n",
            "30/30 [==============================] - 1s 25ms/step - loss: 0.3606 - accuracy: 0.8611 - val_loss: 0.6913 - val_accuracy: 0.7892 - lr: 0.0010\n",
            "Epoch 51/100\n",
            "30/30 [==============================] - 1s 23ms/step - loss: 0.3593 - accuracy: 0.8612 - val_loss: 0.7386 - val_accuracy: 0.8047 - lr: 0.0010\n",
            "Epoch 52/100\n",
            "30/30 [==============================] - 1s 26ms/step - loss: 0.3590 - accuracy: 0.8662 - val_loss: 0.7424 - val_accuracy: 0.7993 - lr: 0.0010\n",
            "Epoch 53/100\n",
            "30/30 [==============================] - 2s 57ms/step - loss: 0.3578 - accuracy: 0.8620 - val_loss: 0.7043 - val_accuracy: 0.7920 - lr: 0.0010\n",
            "Epoch 54/100\n",
            "30/30 [==============================] - 1s 23ms/step - loss: 0.3576 - accuracy: 0.8646 - val_loss: 0.7782 - val_accuracy: 0.7971 - lr: 0.0010\n",
            "Epoch 55/100\n",
            "30/30 [==============================] - 1s 25ms/step - loss: 0.3557 - accuracy: 0.8625 - val_loss: 0.7893 - val_accuracy: 0.8021 - lr: 0.0010\n",
            "Epoch 56/100\n",
            "30/30 [==============================] - 1s 25ms/step - loss: 0.3489 - accuracy: 0.8670 - val_loss: 0.7802 - val_accuracy: 0.7927 - lr: 0.0010\n",
            "Epoch 57/100\n",
            "30/30 [==============================] - 1s 25ms/step - loss: 0.3499 - accuracy: 0.8733 - val_loss: 0.7677 - val_accuracy: 0.8065 - lr: 0.0010\n",
            "Epoch 58/100\n",
            "30/30 [==============================] - 1s 25ms/step - loss: 0.3513 - accuracy: 0.8621 - val_loss: 0.8446 - val_accuracy: 0.8000 - lr: 0.0010\n",
            "Epoch 59/100\n",
            "30/30 [==============================] - 1s 23ms/step - loss: 0.3470 - accuracy: 0.8682 - val_loss: 0.7344 - val_accuracy: 0.7950 - lr: 0.0010\n",
            "Epoch 60/100\n",
            "30/30 [==============================] - 1s 24ms/step - loss: 0.3500 - accuracy: 0.8705 - val_loss: 0.8126 - val_accuracy: 0.8041 - lr: 0.0010\n",
            "Epoch 61/100\n",
            "30/30 [==============================] - 1s 25ms/step - loss: 0.3552 - accuracy: 0.8661 - val_loss: 0.7960 - val_accuracy: 0.8022 - lr: 0.0010\n",
            "Epoch 62/100\n",
            "30/30 [==============================] - 1s 25ms/step - loss: 0.3428 - accuracy: 0.8693 - val_loss: 0.8108 - val_accuracy: 0.7909 - lr: 0.0010\n",
            "Epoch 63/100\n",
            "30/30 [==============================] - 1s 36ms/step - loss: 0.3409 - accuracy: 0.8678 - val_loss: 0.8388 - val_accuracy: 0.7976 - lr: 0.0010\n",
            "Epoch 64/100\n",
            "30/30 [==============================] - 1s 30ms/step - loss: 0.3290 - accuracy: 0.8753 - val_loss: 0.7993 - val_accuracy: 0.7921 - lr: 0.0010\n",
            "Epoch 65/100\n",
            "30/30 [==============================] - 1s 43ms/step - loss: 0.3424 - accuracy: 0.8696 - val_loss: 0.8103 - val_accuracy: 0.7919 - lr: 0.0010\n",
            "Epoch 66/100\n",
            "30/30 [==============================] - 1s 23ms/step - loss: 0.3406 - accuracy: 0.8757 - val_loss: 0.8092 - val_accuracy: 0.8044 - lr: 0.0010\n",
            "Epoch 67/100\n",
            "30/30 [==============================] - 1s 24ms/step - loss: 0.3302 - accuracy: 0.8750 - val_loss: 0.8064 - val_accuracy: 0.8080 - lr: 0.0010\n",
            "Epoch 68/100\n",
            "30/30 [==============================] - 1s 23ms/step - loss: 0.3313 - accuracy: 0.8746 - val_loss: 0.8565 - val_accuracy: 0.8044 - lr: 0.0010\n",
            "Epoch 69/100\n",
            "30/30 [==============================] - 1s 26ms/step - loss: 0.3245 - accuracy: 0.8787 - val_loss: 0.9087 - val_accuracy: 0.7995 - lr: 0.0010\n",
            "Epoch 70/100\n",
            "30/30 [==============================] - 1s 25ms/step - loss: 0.3133 - accuracy: 0.8814 - val_loss: 0.9112 - val_accuracy: 0.7910 - lr: 0.0010\n",
            "Epoch 71/100\n",
            "30/30 [==============================] - 1s 24ms/step - loss: 0.3171 - accuracy: 0.8783 - val_loss: 0.9077 - val_accuracy: 0.7854 - lr: 0.0010\n",
            "Epoch 72/100\n",
            "30/30 [==============================] - 1s 24ms/step - loss: 0.3337 - accuracy: 0.8763 - val_loss: 0.8973 - val_accuracy: 0.8109 - lr: 0.0010\n",
            "Epoch 73/100\n",
            "30/30 [==============================] - 1s 23ms/step - loss: 0.3179 - accuracy: 0.8839 - val_loss: 0.9126 - val_accuracy: 0.8024 - lr: 0.0010\n",
            "Epoch 74/100\n",
            "30/30 [==============================] - 1s 25ms/step - loss: 0.3121 - accuracy: 0.8839 - val_loss: 0.9703 - val_accuracy: 0.8004 - lr: 0.0010\n",
            "Epoch 75/100\n",
            "30/30 [==============================] - 1s 25ms/step - loss: 0.3069 - accuracy: 0.8847 - val_loss: 0.9793 - val_accuracy: 0.7922 - lr: 0.0010\n",
            "Epoch 76/100\n",
            "30/30 [==============================] - 1s 24ms/step - loss: 0.3137 - accuracy: 0.8836 - val_loss: 0.9549 - val_accuracy: 0.7912 - lr: 0.0010\n",
            "Epoch 77/100\n",
            "30/30 [==============================] - 1s 25ms/step - loss: 0.3149 - accuracy: 0.8808 - val_loss: 0.9873 - val_accuracy: 0.8038 - lr: 0.0010\n",
            "Epoch 78/100\n",
            "30/30 [==============================] - 1s 25ms/step - loss: 0.3061 - accuracy: 0.8876 - val_loss: 1.0132 - val_accuracy: 0.8114 - lr: 0.0010\n",
            "Epoch 79/100\n",
            "30/30 [==============================] - 1s 24ms/step - loss: 0.3059 - accuracy: 0.8843 - val_loss: 0.9623 - val_accuracy: 0.8001 - lr: 0.0010\n",
            "Epoch 80/100\n",
            "30/30 [==============================] - 1s 25ms/step - loss: 0.3009 - accuracy: 0.8894 - val_loss: 1.0343 - val_accuracy: 0.7950 - lr: 0.0010\n",
            "Epoch 81/100\n",
            "30/30 [==============================] - 1s 25ms/step - loss: 0.2912 - accuracy: 0.8871 - val_loss: 1.0712 - val_accuracy: 0.7992 - lr: 0.0010\n",
            "Epoch 82/100\n",
            "30/30 [==============================] - 1s 23ms/step - loss: 0.2909 - accuracy: 0.8888 - val_loss: 1.1579 - val_accuracy: 0.7995 - lr: 0.0010\n",
            "Epoch 83/100\n",
            "30/30 [==============================] - 1s 26ms/step - loss: 0.2903 - accuracy: 0.8892 - val_loss: 1.0706 - val_accuracy: 0.8004 - lr: 0.0010\n",
            "Epoch 84/100\n",
            "30/30 [==============================] - 1s 25ms/step - loss: 0.2912 - accuracy: 0.8907 - val_loss: 1.0292 - val_accuracy: 0.7963 - lr: 0.0010\n",
            "Epoch 85/100\n",
            "30/30 [==============================] - 1s 25ms/step - loss: 0.2877 - accuracy: 0.8923 - val_loss: 1.1449 - val_accuracy: 0.8033 - lr: 0.0010\n",
            "Epoch 86/100\n",
            "30/30 [==============================] - 1s 24ms/step - loss: 0.3259 - accuracy: 0.8806 - val_loss: 1.0071 - val_accuracy: 0.7947 - lr: 0.0010\n",
            "Epoch 87/100\n",
            "30/30 [==============================] - 1s 26ms/step - loss: 0.3013 - accuracy: 0.8851 - val_loss: 1.1024 - val_accuracy: 0.7997 - lr: 0.0010\n",
            "Epoch 88/100\n",
            "30/30 [==============================] - 1s 26ms/step - loss: 0.2889 - accuracy: 0.8919 - val_loss: 1.0780 - val_accuracy: 0.7923 - lr: 0.0010\n",
            "Epoch 89/100\n",
            "30/30 [==============================] - 1s 25ms/step - loss: 0.2875 - accuracy: 0.8906 - val_loss: 1.1286 - val_accuracy: 0.8007 - lr: 0.0010\n",
            "Epoch 90/100\n",
            "30/30 [==============================] - 1s 25ms/step - loss: 0.2829 - accuracy: 0.8943 - val_loss: 1.2419 - val_accuracy: 0.8000 - lr: 0.0010\n",
            "Epoch 91/100\n",
            "30/30 [==============================] - 1s 24ms/step - loss: 0.2897 - accuracy: 0.8939 - val_loss: 1.2501 - val_accuracy: 0.8029 - lr: 0.0010\n",
            "Epoch 92/100\n",
            "30/30 [==============================] - 1s 26ms/step - loss: 0.2882 - accuracy: 0.8913 - val_loss: 1.1685 - val_accuracy: 0.7910 - lr: 0.0010\n",
            "Epoch 93/100\n",
            "30/30 [==============================] - 1s 25ms/step - loss: 0.2940 - accuracy: 0.8892 - val_loss: 1.1245 - val_accuracy: 0.7952 - lr: 0.0010\n",
            "Epoch 94/100\n",
            "30/30 [==============================] - 1s 24ms/step - loss: 0.2813 - accuracy: 0.8950 - val_loss: 1.2477 - val_accuracy: 0.8036 - lr: 0.0010\n",
            "Epoch 95/100\n",
            "30/30 [==============================] - 1s 23ms/step - loss: 0.2728 - accuracy: 0.8959 - val_loss: 1.2252 - val_accuracy: 0.7993 - lr: 0.0010\n",
            "Epoch 96/100\n",
            "30/30 [==============================] - 1s 25ms/step - loss: 0.2815 - accuracy: 0.8929 - val_loss: 1.1642 - val_accuracy: 0.7928 - lr: 0.0010\n",
            "Epoch 97/100\n",
            "30/30 [==============================] - 1s 25ms/step - loss: 0.2776 - accuracy: 0.8992 - val_loss: 1.2392 - val_accuracy: 0.7989 - lr: 0.0010\n",
            "Epoch 98/100\n",
            "30/30 [==============================] - 1s 26ms/step - loss: 0.2818 - accuracy: 0.8932 - val_loss: 1.2358 - val_accuracy: 0.8025 - lr: 0.0010\n",
            "Epoch 99/100\n",
            "30/30 [==============================] - 1s 25ms/step - loss: 0.2845 - accuracy: 0.8960 - val_loss: 1.3094 - val_accuracy: 0.8000 - lr: 0.0010\n",
            "Epoch 100/100\n",
            "30/30 [==============================] - 1s 25ms/step - loss: 0.2762 - accuracy: 0.8948 - val_loss: 1.2435 - val_accuracy: 0.8051 - lr: 0.0010\n"
          ]
        }
      ]
    },
    {
      "cell_type": "code",
      "source": [
        "model4.load_weights(checkpoint_filepath4)\n",
        "model4.compile(optimizer='adam', loss='binary_crossentropy', metrics=['accuracy'])"
      ],
      "metadata": {
        "id": "FOi7J8C8yrPg"
      },
      "execution_count": null,
      "outputs": []
    },
    {
      "cell_type": "code",
      "source": [
        "(accuracy_result4_from_checkpoint, y_predict4_from_checkpoint) = accuracy_score_fn(model4, test_set_scaled, test_classes_val)"
      ],
      "metadata": {
        "colab": {
          "base_uri": "https://localhost:8080/"
        },
        "id": "06v_CYPnzsje",
        "outputId": "baacbbd5-e48d-45d5-d77d-69efe91e661a"
      },
      "execution_count": null,
      "outputs": [
        {
          "output_type": "stream",
          "name": "stdout",
          "text": [
            "1068/1068 [==============================] - 2s 2ms/step\n"
          ]
        }
      ]
    },
    {
      "cell_type": "code",
      "source": [
        "nn4_report = classification_report(test_classes_val.values, y_predict4_from_checkpoint, output_dict=True)\n",
        "nn4_matrix = confusion_matrix(test_classes_val.values, y_predict4_from_checkpoint)\n",
        "nn_report.append(nn4_report['accuracy'])\n",
        "generate_confusion_matrix_heat_map(nn4_matrix, 'Neural Network 50-128-256-128-64-32-1*-1')"
      ],
      "metadata": {
        "colab": {
          "base_uri": "https://localhost:8080/",
          "height": 307
        },
        "id": "iMgPtPHl0Ejv",
        "outputId": "6e78075d-c3c8-4272-c2bc-44cbc5a308b0"
      },
      "execution_count": null,
      "outputs": [
        {
          "output_type": "display_data",
          "data": {
            "text/plain": [
              "<Figure size 432x288 with 2 Axes>"
            ],
            "image/png": "[encoded data removed]"
          },
          "metadata": {
            "needs_background": "light"
          }
        }
      ]
    },
    {
      "cell_type": "code",
      "source": [
        "print(accuracy_result4_from_checkpoint)"
      ],
      "metadata": {
        "colab": {
          "base_uri": "https://localhost:8080/"
        },
        "id": "gp4t3HKl0OuD",
        "outputId": "e270a7c9-52a2-4f9d-d99d-b23f20141628"
      },
      "execution_count": null,
      "outputs": [
        {
          "output_type": "stream",
          "name": "stdout",
          "text": [
            "0.8114074898251984\n"
          ]
        }
      ]
    },
    {
      "cell_type": "code",
      "source": [
        "plt.plot(history4.history['loss'], label='train')\n",
        "plt.plot(history4.history['val_loss'], label='test')\n",
        "plt.title('model loss')\n",
        "plt.legend()"
      ],
      "metadata": {
        "colab": {
          "base_uri": "https://localhost:8080/",
          "height": 298
        },
        "outputId": "39346d82-aced-4b69-8063-69e76a5d771d",
        "id": "_PMwqcWigSfZ"
      },
      "execution_count": null,
      "outputs": [
        {
          "output_type": "execute_result",
          "data": {
            "text/plain": [
              "<matplotlib.legend.Legend at 0x7f5fe1acc640>"
            ]
          },
          "metadata": {},
          "execution_count": 91
        },
        {
          "output_type": "display_data",
          "data": {
            "text/plain": [
              "<Figure size 432x288 with 1 Axes>"
            ],
            "image/png": "[encoded data removed]"
          },
          "metadata": {
            "needs_background": "light"
          }
        }
      ]
    },
    {
      "cell_type": "code",
      "source": [
        "plt.plot(history4.history['accuracy'], label='train')\n",
        "plt.plot(history4.history['val_accuracy'], label='test')\n",
        "plt.title('accuracy')\n",
        "plt.legend()"
      ],
      "metadata": {
        "colab": {
          "base_uri": "https://localhost:8080/",
          "height": 298
        },
        "outputId": "9ed83baa-f74a-4818-d46b-5fc1adb1d2aa",
        "id": "o18Iarn-gSfZ"
      },
      "execution_count": null,
      "outputs": [
        {
          "output_type": "execute_result",
          "data": {
            "text/plain": [
              "<matplotlib.legend.Legend at 0x7f5fe1aa9af0>"
            ]
          },
          "metadata": {},
          "execution_count": 92
        },
        {
          "output_type": "display_data",
          "data": {
            "text/plain": [
              "<Figure size 432x288 with 1 Axes>"
            ],
            "image/png": "[encoded data removed]"
          },
          "metadata": {
            "needs_background": "light"
          }
        }
      ]
    },
    {
      "cell_type": "code",
      "source": [
        "model4.summary()"
      ],
      "metadata": {
        "outputId": "8ac9a7e8-27f4-4aed-ad2d-be513b994f7a",
        "colab": {
          "base_uri": "https://localhost:8080/"
        },
        "id": "Aho_84EwgSfZ"
      },
      "execution_count": null,
      "outputs": [
        {
          "output_type": "stream",
          "name": "stdout",
          "text": [
            "Model: \"sequential_3\"\n",
            "_________________________________________________________________\n",
            " Layer (type)                Output Shape              Param #   \n",
            "=================================================================\n",
            " input_layer (Dense)         (None, 50)                2550      \n",
            "                                                                 \n",
            " layer1 (Dense)              (None, 128)               6528      \n",
            "                                                                 \n",
            " layer2 (Dense)              (None, 256)               33024     \n",
            "                                                                 \n",
            " dropout (Dropout)           (None, 256)               0         \n",
            "                                                                 \n",
            " layer3 (Dense)              (None, 128)               32896     \n",
            "                                                                 \n",
            " dropout_1 (Dropout)         (None, 128)               0         \n",
            "                                                                 \n",
            " layer4 (Dense)              (None, 64)                8256      \n",
            "                                                                 \n",
            " dropout_2 (Dropout)         (None, 64)                0         \n",
            "                                                                 \n",
            " layer5 (Dense)              (None, 32)                2080      \n",
            "                                                                 \n",
            " dropout_3 (Dropout)         (None, 32)                0         \n",
            "                                                                 \n",
            " output-layer (Dense)        (None, 1)                 33        \n",
            "                                                                 \n",
            "=================================================================\n",
            "Total params: 85,367\n",
            "Trainable params: 85,367\n",
            "Non-trainable params: 0\n",
            "_________________________________________________________________\n"
          ]
        }
      ]
    },
    {
      "cell_type": "code",
      "source": [
        "ann_viz(model4, view=True, title=\"4th\", filename=\"4.nn\")"
      ],
      "metadata": {
        "id": "iFFFmTHegSfZ"
      },
      "execution_count": null,
      "outputs": []
    },
    {
      "cell_type": "code",
      "source": [
        "nn_report"
      ],
      "metadata": {
        "colab": {
          "base_uri": "https://localhost:8080/"
        },
        "id": "14bUi-qw_gd8",
        "outputId": "f7deafb5-ea66-4ac7-df8c-4c1a5434f445"
      },
      "execution_count": null,
      "outputs": [
        {
          "output_type": "execute_result",
          "data": {
            "text/plain": [
              "[0.816472930635669, 0.822475331596053, 0.7603724416595906, 0.8114074898251984]"
            ]
          },
          "metadata": {},
          "execution_count": 95
        }
      ]
    },
    {
      "cell_type": "markdown",
      "source": [
        "## Neural Network 5 (50-128-61-1)  \n",
        "with 2 Dropout layers with rate=0.2\n",
        "and with **Nadam** optimizer.\n",
        "\n",
        "This produces the best results."
      ],
      "metadata": {
        "id": "k41eoBEtAJNt"
      }
    },
    {
      "cell_type": "code",
      "source": [
        "optimizer = tf.keras.optimizers.Nadam(learning_rate=0.01)"
      ],
      "metadata": {
        "id": "AmlX3k7xEmiZ"
      },
      "execution_count": null,
      "outputs": []
    },
    {
      "cell_type": "code",
      "source": [
        "model5 = Sequential()\n",
        "model5.add(Dense(50, input_dim=in_dim, activation='relu', name='input_layer'))\n",
        "\n",
        "model5.add(Dense(128, activation='relu', name='layer1'))\n",
        "model5.add(Dropout(rate=0.2))\n",
        "model5.add(Dense(64, activation='relu', name='layer2'))\n",
        "model5.add(Dropout(rate=0.2))\n",
        "model5.add(Dense(1, activation='sigmoid', name='output-layer'))\n",
        "\n",
        "model5.compile(loss='binary_crossentropy', \n",
        "              optimizer=optimizer,\n",
        "              metrics=['accuracy'])"
      ],
      "metadata": {
        "id": "6XdYnvdgAJNu"
      },
      "execution_count": null,
      "outputs": []
    },
    {
      "cell_type": "code",
      "source": [
        "import tensorflow as tf\n",
        "\n",
        "checkpoint_filepath5 = '/tmp/checkpoint11'\n",
        "model_checkpoint_callback5 = tf.keras.callbacks.ModelCheckpoint(\n",
        "    filepath=checkpoint_filepath5,\n",
        "    save_weights_only=True,\n",
        "    monitor='val_accuracy',\n",
        "    mode='max',\n",
        "    save_best_only=True)\n"
      ],
      "metadata": {
        "id": "V-yMvAC7AJNu"
      },
      "execution_count": null,
      "outputs": []
    },
    {
      "cell_type": "code",
      "source": [
        "history5 = run_nn(model5, train_set_scaled, train_classes_val, 100, 500, '50-128-64-1', model_checkpoint_callback5)"
      ],
      "metadata": {
        "colab": {
          "base_uri": "https://localhost:8080/"
        },
        "id": "gwFHVosvDXc2",
        "outputId": "dd8c864d-07b8-4ba8-821a-6f01eb4e2d65"
      },
      "execution_count": null,
      "outputs": [
        {
          "output_type": "stream",
          "name": "stdout",
          "text": [
            "Epoch 1/100\n",
            "30/30 [==============================] - 2s 26ms/step - loss: 0.6944 - accuracy: 0.7661 - val_loss: 0.4812 - val_accuracy: 0.7588\n",
            "Epoch 2/100\n",
            "30/30 [==============================] - 1s 20ms/step - loss: 0.5722 - accuracy: 0.8015 - val_loss: 0.3691 - val_accuracy: 0.8156\n",
            "Epoch 3/100\n",
            "30/30 [==============================] - 0s 14ms/step - loss: 0.5597 - accuracy: 0.8075 - val_loss: 0.4461 - val_accuracy: 0.7793\n",
            "Epoch 4/100\n",
            "30/30 [==============================] - 1s 19ms/step - loss: 0.5447 - accuracy: 0.8144 - val_loss: 0.4410 - val_accuracy: 0.7851\n",
            "Epoch 5/100\n",
            "30/30 [==============================] - 1s 19ms/step - loss: 0.5340 - accuracy: 0.8166 - val_loss: 0.3460 - val_accuracy: 0.8291\n",
            "Epoch 6/100\n",
            "30/30 [==============================] - 1s 19ms/step - loss: 0.5268 - accuracy: 0.8170 - val_loss: 0.3747 - val_accuracy: 0.8034\n",
            "Epoch 7/100\n",
            "30/30 [==============================] - 0s 13ms/step - loss: 0.5262 - accuracy: 0.8155 - val_loss: 0.3961 - val_accuracy: 0.8093\n",
            "Epoch 8/100\n",
            "30/30 [==============================] - 0s 14ms/step - loss: 0.5131 - accuracy: 0.8202 - val_loss: 0.3827 - val_accuracy: 0.8008\n",
            "Epoch 9/100\n",
            "30/30 [==============================] - 1s 18ms/step - loss: 0.5104 - accuracy: 0.8216 - val_loss: 0.4222 - val_accuracy: 0.7880\n",
            "Epoch 10/100\n",
            "30/30 [==============================] - 0s 13ms/step - loss: 0.5092 - accuracy: 0.8190 - val_loss: 0.3545 - val_accuracy: 0.8199\n",
            "Epoch 11/100\n",
            "30/30 [==============================] - 1s 19ms/step - loss: 0.5001 - accuracy: 0.8260 - val_loss: 0.4434 - val_accuracy: 0.7772\n",
            "Epoch 12/100\n",
            "30/30 [==============================] - 0s 13ms/step - loss: 0.4924 - accuracy: 0.8235 - val_loss: 0.4126 - val_accuracy: 0.7957\n",
            "Epoch 13/100\n",
            "30/30 [==============================] - 0s 13ms/step - loss: 0.4927 - accuracy: 0.8254 - val_loss: 0.3984 - val_accuracy: 0.7917\n",
            "Epoch 14/100\n",
            "30/30 [==============================] - 0s 13ms/step - loss: 0.4845 - accuracy: 0.8274 - val_loss: 0.4568 - val_accuracy: 0.7851\n",
            "Epoch 15/100\n",
            "30/30 [==============================] - 0s 15ms/step - loss: 0.4779 - accuracy: 0.8248 - val_loss: 0.4550 - val_accuracy: 0.7942\n",
            "Epoch 16/100\n",
            "30/30 [==============================] - 0s 13ms/step - loss: 0.4676 - accuracy: 0.8315 - val_loss: 0.4388 - val_accuracy: 0.7960\n",
            "Epoch 17/100\n",
            "30/30 [==============================] - 1s 18ms/step - loss: 0.4793 - accuracy: 0.8272 - val_loss: 0.4379 - val_accuracy: 0.7879\n",
            "Epoch 18/100\n",
            "30/30 [==============================] - 1s 19ms/step - loss: 0.4682 - accuracy: 0.8253 - val_loss: 0.4061 - val_accuracy: 0.8250\n",
            "Epoch 19/100\n",
            "30/30 [==============================] - 0s 14ms/step - loss: 0.4618 - accuracy: 0.8282 - val_loss: 0.3936 - val_accuracy: 0.8146\n",
            "Epoch 20/100\n",
            "30/30 [==============================] - 1s 19ms/step - loss: 0.4625 - accuracy: 0.8289 - val_loss: 0.4095 - val_accuracy: 0.8044\n",
            "Epoch 21/100\n",
            "30/30 [==============================] - 0s 14ms/step - loss: 0.4512 - accuracy: 0.8324 - val_loss: 0.4667 - val_accuracy: 0.8075\n",
            "Epoch 22/100\n",
            "30/30 [==============================] - 1s 19ms/step - loss: 0.4529 - accuracy: 0.8362 - val_loss: 0.4953 - val_accuracy: 0.7714\n",
            "Epoch 23/100\n",
            "30/30 [==============================] - 0s 12ms/step - loss: 0.4443 - accuracy: 0.8303 - val_loss: 0.4937 - val_accuracy: 0.7816\n",
            "Epoch 24/100\n",
            "30/30 [==============================] - 1s 18ms/step - loss: 0.4397 - accuracy: 0.8372 - val_loss: 0.4509 - val_accuracy: 0.8000\n",
            "Epoch 25/100\n",
            "30/30 [==============================] - 1s 19ms/step - loss: 0.4394 - accuracy: 0.8359 - val_loss: 0.4451 - val_accuracy: 0.8099\n",
            "Epoch 26/100\n",
            "30/30 [==============================] - 0s 14ms/step - loss: 0.4307 - accuracy: 0.8401 - val_loss: 0.4782 - val_accuracy: 0.7740\n",
            "Epoch 27/100\n",
            "30/30 [==============================] - 0s 13ms/step - loss: 0.4375 - accuracy: 0.8341 - val_loss: 0.5585 - val_accuracy: 0.7782\n",
            "Epoch 28/100\n",
            "30/30 [==============================] - 0s 14ms/step - loss: 0.4292 - accuracy: 0.8403 - val_loss: 0.5660 - val_accuracy: 0.7916\n",
            "Epoch 29/100\n",
            "30/30 [==============================] - 1s 19ms/step - loss: 0.4298 - accuracy: 0.8380 - val_loss: 0.4762 - val_accuracy: 0.7849\n",
            "Epoch 30/100\n",
            "30/30 [==============================] - 1s 19ms/step - loss: 0.4306 - accuracy: 0.8345 - val_loss: 0.4582 - val_accuracy: 0.8117\n",
            "Epoch 31/100\n",
            "30/30 [==============================] - 1s 18ms/step - loss: 0.4254 - accuracy: 0.8427 - val_loss: 0.4595 - val_accuracy: 0.8134\n",
            "Epoch 32/100\n",
            "30/30 [==============================] - 0s 14ms/step - loss: 0.4201 - accuracy: 0.8406 - val_loss: 0.5295 - val_accuracy: 0.7607\n",
            "Epoch 33/100\n",
            "30/30 [==============================] - 0s 12ms/step - loss: 0.4203 - accuracy: 0.8414 - val_loss: 0.5151 - val_accuracy: 0.7870\n",
            "Epoch 34/100\n",
            "30/30 [==============================] - 0s 13ms/step - loss: 0.4164 - accuracy: 0.8424 - val_loss: 0.4867 - val_accuracy: 0.8195\n",
            "Epoch 35/100\n",
            "30/30 [==============================] - 0s 13ms/step - loss: 0.4050 - accuracy: 0.8476 - val_loss: 0.5446 - val_accuracy: 0.8022\n",
            "Epoch 36/100\n",
            "30/30 [==============================] - 0s 13ms/step - loss: 0.4027 - accuracy: 0.8476 - val_loss: 0.5199 - val_accuracy: 0.8100\n",
            "Epoch 37/100\n",
            "30/30 [==============================] - 0s 15ms/step - loss: 0.4005 - accuracy: 0.8489 - val_loss: 0.5154 - val_accuracy: 0.8005\n",
            "Epoch 38/100\n",
            "30/30 [==============================] - 0s 13ms/step - loss: 0.4009 - accuracy: 0.8472 - val_loss: 0.5197 - val_accuracy: 0.8032\n",
            "Epoch 39/100\n",
            "30/30 [==============================] - 1s 18ms/step - loss: 0.3967 - accuracy: 0.8509 - val_loss: 0.5632 - val_accuracy: 0.8055\n",
            "Epoch 40/100\n",
            "30/30 [==============================] - 0s 13ms/step - loss: 0.3943 - accuracy: 0.8493 - val_loss: 0.5459 - val_accuracy: 0.7995\n",
            "Epoch 41/100\n",
            "30/30 [==============================] - 0s 13ms/step - loss: 0.3900 - accuracy: 0.8490 - val_loss: 0.5726 - val_accuracy: 0.7995\n",
            "Epoch 42/100\n",
            "30/30 [==============================] - 0s 14ms/step - loss: 0.3910 - accuracy: 0.8498 - val_loss: 0.5961 - val_accuracy: 0.7938\n",
            "Epoch 43/100\n",
            "30/30 [==============================] - 0s 13ms/step - loss: 0.3837 - accuracy: 0.8534 - val_loss: 0.6278 - val_accuracy: 0.8015\n",
            "Epoch 44/100\n",
            "30/30 [==============================] - 0s 14ms/step - loss: 0.3961 - accuracy: 0.8511 - val_loss: 0.5393 - val_accuracy: 0.7849\n",
            "Epoch 45/100\n",
            "30/30 [==============================] - 1s 19ms/step - loss: 0.3980 - accuracy: 0.8503 - val_loss: 0.5458 - val_accuracy: 0.7896\n",
            "Epoch 46/100\n",
            "30/30 [==============================] - 1s 40ms/step - loss: 0.3966 - accuracy: 0.8498 - val_loss: 0.5055 - val_accuracy: 0.7839\n",
            "Epoch 47/100\n",
            "30/30 [==============================] - 1s 19ms/step - loss: 0.3841 - accuracy: 0.8532 - val_loss: 0.5575 - val_accuracy: 0.8018\n",
            "Epoch 48/100\n",
            "30/30 [==============================] - 1s 32ms/step - loss: 0.3872 - accuracy: 0.8505 - val_loss: 0.6020 - val_accuracy: 0.7905\n",
            "Epoch 49/100\n",
            "30/30 [==============================] - 1s 26ms/step - loss: 0.3810 - accuracy: 0.8515 - val_loss: 0.6070 - val_accuracy: 0.7958\n",
            "Epoch 50/100\n",
            "30/30 [==============================] - 0s 14ms/step - loss: 0.3756 - accuracy: 0.8584 - val_loss: 0.5396 - val_accuracy: 0.8008\n",
            "Epoch 51/100\n",
            "30/30 [==============================] - 1s 19ms/step - loss: 0.3691 - accuracy: 0.8612 - val_loss: 0.6174 - val_accuracy: 0.7891\n",
            "Epoch 52/100\n",
            "30/30 [==============================] - 0s 13ms/step - loss: 0.3751 - accuracy: 0.8550 - val_loss: 0.6100 - val_accuracy: 0.7861\n",
            "Epoch 53/100\n",
            "30/30 [==============================] - 1s 19ms/step - loss: 0.3930 - accuracy: 0.8506 - val_loss: 0.5583 - val_accuracy: 0.8073\n",
            "Epoch 54/100\n",
            "30/30 [==============================] - 0s 14ms/step - loss: 0.3770 - accuracy: 0.8535 - val_loss: 0.5753 - val_accuracy: 0.7962\n",
            "Epoch 55/100\n",
            "30/30 [==============================] - 0s 13ms/step - loss: 0.3829 - accuracy: 0.8524 - val_loss: 0.6164 - val_accuracy: 0.8016\n",
            "Epoch 56/100\n",
            "30/30 [==============================] - 1s 19ms/step - loss: 0.3715 - accuracy: 0.8581 - val_loss: 0.5961 - val_accuracy: 0.8041\n",
            "Epoch 57/100\n",
            "30/30 [==============================] - 0s 13ms/step - loss: 0.3752 - accuracy: 0.8573 - val_loss: 0.6196 - val_accuracy: 0.7990\n",
            "Epoch 58/100\n",
            "30/30 [==============================] - 1s 18ms/step - loss: 0.3719 - accuracy: 0.8616 - val_loss: 0.5901 - val_accuracy: 0.7898\n",
            "Epoch 59/100\n",
            "30/30 [==============================] - 0s 13ms/step - loss: 0.3587 - accuracy: 0.8617 - val_loss: 0.6831 - val_accuracy: 0.8057\n",
            "Epoch 60/100\n",
            "30/30 [==============================] - 1s 19ms/step - loss: 0.3547 - accuracy: 0.8666 - val_loss: 0.6800 - val_accuracy: 0.8011\n",
            "Epoch 61/100\n",
            "30/30 [==============================] - 0s 13ms/step - loss: 0.3567 - accuracy: 0.8631 - val_loss: 0.6697 - val_accuracy: 0.7946\n",
            "Epoch 62/100\n",
            "30/30 [==============================] - 0s 13ms/step - loss: 0.3549 - accuracy: 0.8629 - val_loss: 0.6367 - val_accuracy: 0.8026\n",
            "Epoch 63/100\n",
            "30/30 [==============================] - 0s 14ms/step - loss: 0.3607 - accuracy: 0.8574 - val_loss: 0.6587 - val_accuracy: 0.7879\n",
            "Epoch 64/100\n",
            "30/30 [==============================] - 0s 13ms/step - loss: 0.3537 - accuracy: 0.8627 - val_loss: 0.6793 - val_accuracy: 0.7958\n",
            "Epoch 65/100\n",
            "30/30 [==============================] - 1s 19ms/step - loss: 0.3654 - accuracy: 0.8591 - val_loss: 0.6076 - val_accuracy: 0.7827\n",
            "Epoch 66/100\n",
            "30/30 [==============================] - 0s 13ms/step - loss: 0.3508 - accuracy: 0.8614 - val_loss: 0.6647 - val_accuracy: 0.7868\n",
            "Epoch 67/100\n",
            "30/30 [==============================] - 1s 19ms/step - loss: 0.3539 - accuracy: 0.8601 - val_loss: 0.6774 - val_accuracy: 0.8043\n",
            "Epoch 68/100\n",
            "30/30 [==============================] - 0s 13ms/step - loss: 0.3494 - accuracy: 0.8593 - val_loss: 0.7048 - val_accuracy: 0.8007\n",
            "Epoch 69/100\n",
            "30/30 [==============================] - 0s 14ms/step - loss: 0.3550 - accuracy: 0.8612 - val_loss: 0.6326 - val_accuracy: 0.7721\n",
            "Epoch 70/100\n",
            "30/30 [==============================] - 1s 20ms/step - loss: 0.3602 - accuracy: 0.8572 - val_loss: 0.6298 - val_accuracy: 0.7962\n",
            "Epoch 71/100\n",
            "30/30 [==============================] - 0s 14ms/step - loss: 0.3483 - accuracy: 0.8642 - val_loss: 0.6811 - val_accuracy: 0.7836\n",
            "Epoch 72/100\n",
            "30/30 [==============================] - 0s 14ms/step - loss: 0.3515 - accuracy: 0.8626 - val_loss: 0.6854 - val_accuracy: 0.8000\n",
            "Epoch 73/100\n",
            "30/30 [==============================] - 0s 12ms/step - loss: 0.3360 - accuracy: 0.8704 - val_loss: 0.7372 - val_accuracy: 0.8024\n",
            "Epoch 74/100\n",
            "30/30 [==============================] - 1s 18ms/step - loss: 0.3387 - accuracy: 0.8688 - val_loss: 0.7587 - val_accuracy: 0.8015\n",
            "Epoch 75/100\n",
            "30/30 [==============================] - 1s 19ms/step - loss: 0.3369 - accuracy: 0.8677 - val_loss: 0.7555 - val_accuracy: 0.8035\n",
            "Epoch 76/100\n",
            "30/30 [==============================] - 1s 19ms/step - loss: 0.3325 - accuracy: 0.8664 - val_loss: 0.8336 - val_accuracy: 0.8010\n",
            "Epoch 77/100\n",
            "30/30 [==============================] - 0s 14ms/step - loss: 0.3408 - accuracy: 0.8670 - val_loss: 0.7754 - val_accuracy: 0.8007\n",
            "Epoch 78/100\n",
            "30/30 [==============================] - 1s 19ms/step - loss: 0.3434 - accuracy: 0.8660 - val_loss: 0.7457 - val_accuracy: 0.8019\n",
            "Epoch 79/100\n",
            "30/30 [==============================] - 1s 20ms/step - loss: 0.3281 - accuracy: 0.8698 - val_loss: 0.7971 - val_accuracy: 0.7949\n",
            "Epoch 80/100\n",
            "30/30 [==============================] - 0s 14ms/step - loss: 0.3369 - accuracy: 0.8686 - val_loss: 0.6915 - val_accuracy: 0.7917\n",
            "Epoch 81/100\n",
            "30/30 [==============================] - 0s 13ms/step - loss: 0.3413 - accuracy: 0.8673 - val_loss: 0.7367 - val_accuracy: 0.8034\n",
            "Epoch 82/100\n",
            "30/30 [==============================] - 1s 18ms/step - loss: 0.3340 - accuracy: 0.8714 - val_loss: 0.6835 - val_accuracy: 0.7930\n",
            "Epoch 83/100\n",
            "30/30 [==============================] - 0s 12ms/step - loss: 0.3337 - accuracy: 0.8692 - val_loss: 0.7887 - val_accuracy: 0.7996\n",
            "Epoch 84/100\n",
            "30/30 [==============================] - 1s 19ms/step - loss: 0.3305 - accuracy: 0.8707 - val_loss: 0.7798 - val_accuracy: 0.8007\n",
            "Epoch 85/100\n",
            "30/30 [==============================] - 0s 16ms/step - loss: 0.3262 - accuracy: 0.8731 - val_loss: 0.7631 - val_accuracy: 0.7999\n",
            "Epoch 86/100\n",
            "30/30 [==============================] - 1s 22ms/step - loss: 0.3228 - accuracy: 0.8716 - val_loss: 0.7889 - val_accuracy: 0.8020\n",
            "Epoch 87/100\n",
            "30/30 [==============================] - 1s 20ms/step - loss: 0.3258 - accuracy: 0.8724 - val_loss: 0.8374 - val_accuracy: 0.7997\n",
            "Epoch 88/100\n",
            "30/30 [==============================] - 1s 18ms/step - loss: 0.3322 - accuracy: 0.8675 - val_loss: 0.7509 - val_accuracy: 0.7968\n",
            "Epoch 89/100\n",
            "30/30 [==============================] - 1s 17ms/step - loss: 0.3221 - accuracy: 0.8735 - val_loss: 0.8097 - val_accuracy: 0.8101\n",
            "Epoch 90/100\n",
            "30/30 [==============================] - 1s 17ms/step - loss: 0.3217 - accuracy: 0.8736 - val_loss: 0.7921 - val_accuracy: 0.8082\n",
            "Epoch 91/100\n",
            "30/30 [==============================] - 1s 20ms/step - loss: 0.3261 - accuracy: 0.8742 - val_loss: 0.7942 - val_accuracy: 0.7925\n",
            "Epoch 92/100\n",
            "30/30 [==============================] - 0s 16ms/step - loss: 0.3262 - accuracy: 0.8731 - val_loss: 0.7298 - val_accuracy: 0.7989\n",
            "Epoch 93/100\n",
            "30/30 [==============================] - 1s 19ms/step - loss: 0.3229 - accuracy: 0.8731 - val_loss: 0.7579 - val_accuracy: 0.8014\n",
            "Epoch 94/100\n",
            "30/30 [==============================] - 1s 22ms/step - loss: 0.3205 - accuracy: 0.8779 - val_loss: 0.8157 - val_accuracy: 0.8094\n",
            "Epoch 95/100\n",
            "30/30 [==============================] - 1s 22ms/step - loss: 0.3276 - accuracy: 0.8726 - val_loss: 0.7655 - val_accuracy: 0.8015\n",
            "Epoch 96/100\n",
            "30/30 [==============================] - 1s 22ms/step - loss: 0.3167 - accuracy: 0.8772 - val_loss: 0.7776 - val_accuracy: 0.7974\n",
            "Epoch 97/100\n",
            "30/30 [==============================] - 1s 25ms/step - loss: 0.3192 - accuracy: 0.8756 - val_loss: 0.8146 - val_accuracy: 0.8046\n",
            "Epoch 98/100\n",
            "30/30 [==============================] - 1s 19ms/step - loss: 0.3103 - accuracy: 0.8798 - val_loss: 0.8290 - val_accuracy: 0.8034\n",
            "Epoch 99/100\n",
            "30/30 [==============================] - 0s 13ms/step - loss: 0.3150 - accuracy: 0.8780 - val_loss: 0.7725 - val_accuracy: 0.7862\n",
            "Epoch 100/100\n",
            "30/30 [==============================] - 1s 19ms/step - loss: 0.3333 - accuracy: 0.8686 - val_loss: 0.8252 - val_accuracy: 0.8041\n"
          ]
        }
      ]
    },
    {
      "cell_type": "code",
      "source": [
        "model5.load_weights(checkpoint_filepath5)\n",
        "model5.compile(loss='binary_crossentropy', \n",
        "              optimizer='ftrl',\n",
        "              metrics=['accuracy'])"
      ],
      "metadata": {
        "id": "sm9y1tiEAJNv"
      },
      "execution_count": null,
      "outputs": []
    },
    {
      "cell_type": "code",
      "source": [
        "(accuracy_result, y_predict_5) = accuracy_score_fn(model5, test_set_scaled, test_classes_val)\n",
        "print(accuracy_result)"
      ],
      "metadata": {
        "colab": {
          "base_uri": "https://localhost:8080/"
        },
        "outputId": "a814ef9d-a0e5-49e4-fdfb-543f9e91c1c8",
        "id": "1DtFtwjDAJNv"
      },
      "execution_count": null,
      "outputs": [
        {
          "output_type": "stream",
          "name": "stdout",
          "text": [
            "1068/1068 [==============================] - 2s 1ms/step\n",
            "0.8290633326501332\n"
          ]
        }
      ]
    },
    {
      "cell_type": "code",
      "source": [
        "nn1_report = classification_report(test_classes_val.values, y_predict_5, output_dict=True)\n",
        "nn1_matrix = confusion_matrix(test_classes_val.values, y_predict_5)\n",
        "nn_report =  [accuracy_result]\n",
        "generate_confusion_matrix_heat_map(nn1_matrix, 'Neural Network 50-20-20-1-tanh-ftrl')"
      ],
      "metadata": {
        "colab": {
          "base_uri": "https://localhost:8080/",
          "height": 307
        },
        "outputId": "2cb766b1-0df7-49b3-f91f-002b3fc05d04",
        "id": "qmNVB_rLAJNv"
      },
      "execution_count": null,
      "outputs": [
        {
          "output_type": "display_data",
          "data": {
            "text/plain": [
              "<Figure size 432x288 with 2 Axes>"
            ],
            "image/png": "[encoded data removed]"
          },
          "metadata": {
            "needs_background": "light"
          }
        }
      ]
    },
    {
      "cell_type": "code",
      "source": [
        "plt.plot(history5.history['loss'], label='train')\n",
        "plt.plot(history5.history['val_loss'], label='test')\n",
        "plt.title('model loss')\n",
        "plt.legend()"
      ],
      "metadata": {
        "colab": {
          "base_uri": "https://localhost:8080/",
          "height": 298
        },
        "outputId": "41f5455d-c144-44cf-c9a6-a42680e0debd",
        "id": "1V8H8jIPAJNv"
      },
      "execution_count": null,
      "outputs": [
        {
          "output_type": "execute_result",
          "data": {
            "text/plain": [
              "<matplotlib.legend.Legend at 0x7f5fe405cb80>"
            ]
          },
          "metadata": {},
          "execution_count": 103
        },
        {
          "output_type": "display_data",
          "data": {
            "text/plain": [
              "<Figure size 432x288 with 1 Axes>"
            ],
            "image/png": "[encoded data removed]"
          },
          "metadata": {
            "needs_background": "light"
          }
        }
      ]
    },
    {
      "cell_type": "code",
      "source": [
        "!pip3 install ann_visualizer\n",
        "!pip3 install graphviz\n",
        "\n",
        "from ann_visualizer.visualize import ann_viz\n",
        "\n",
        "ann_viz(model, view=True, title=\"5th\", filename=\"5.nn\")"
      ],
      "metadata": {
        "colab": {
          "base_uri": "https://localhost:8080/"
        },
        "outputId": "8b73cdca-18d5-47af-e572-05370c83d144",
        "id": "llaEcep_AJNv"
      },
      "execution_count": null,
      "outputs": [
        {
          "output_type": "stream",
          "name": "stdout",
          "text": [
            "Looking in indexes: https://pypi.org/simple, https://us-python.pkg.dev/colab-wheels/public/simple/\n",
            "Requirement already satisfied: ann_visualizer in /usr/local/lib/python3.8/dist-packages (2.5)\n",
            "Looking in indexes: https://pypi.org/simple, https://us-python.pkg.dev/colab-wheels/public/simple/\n",
            "Requirement already satisfied: graphviz in /usr/local/lib/python3.8/dist-packages (0.10.1)\n"
          ]
        }
      ]
    },
    {
      "cell_type": "markdown",
      "source": [
        "Results\n",
        "\n"
      ],
      "metadata": {
        "id": "WRdtFXlAqSWn"
      }
    },
    {
      "cell_type": "code",
      "source": [
        "max_nn = np.max(nn_report)"
      ],
      "metadata": {
        "id": "FPncbaZeQiPJ"
      },
      "execution_count": null,
      "outputs": []
    },
    {
      "cell_type": "markdown",
      "source": [
        "In that Neural Network (hidden layers: 128 relu, 64 relu)  configuration the Nadam optimizer produced the best results regarding prediction over test set. "
      ],
      "metadata": {
        "id": "Ag96TQQdHTS6"
      }
    },
    {
      "cell_type": "markdown",
      "source": [
        "# Comparing Results"
      ],
      "metadata": {
        "id": "wOfCdhLJsJ-L"
      }
    },
    {
      "cell_type": "code",
      "source": [
        "results['nn'] = max_nn\n",
        "\n",
        "models = [('Naive Bayes', results['bayes'] * 100),\n",
        "          ('Decision Tree', results[\"decison_tree\"] * 100),\n",
        "          ('kNN', results[\"knn\"] * 100),\n",
        "          ('Neural Networks', results[\"nn\"] * 100)]\n",
        "\n",
        "df_all_models = pd.DataFrame(models, columns = ['Model', 'Accuracy'])\n",
        "\n",
        "df_all_models"
      ],
      "metadata": {
        "id": "-Ht_6cf0NRqT",
        "colab": {
          "base_uri": "https://localhost:8080/",
          "height": 175
        },
        "outputId": "d40d6103-f2c7-4115-b265-4828f3c2db9b"
      },
      "execution_count": null,
      "outputs": [
        {
          "output_type": "execute_result",
          "data": {
            "text/plain": [
              "             Model   Accuracy\n",
              "0      Naive Bayes  75.934764\n",
              "1    Decision Tree  80.707405\n",
              "2              kNN  82.677949\n",
              "3  Neural Networks  82.906333"
            ],
            "text/html": [
              "\n",
              "  <div id=\"df-5de7f1b8-6fef-4994-a4f3-936d08b8a4d2\">\n",
              "    <div class=\"colab-df-container\">\n",
              "      <div>\n",
              "<style scoped>\n",
              "    .dataframe tbody tr th:only-of-type {\n",
              "        vertical-align: middle;\n",
              "    }\n",
              "\n",
              "    .dataframe tbody tr th {\n",
              "        vertical-align: top;\n",
              "    }\n",
              "\n",
              "    .dataframe thead th {\n",
              "        text-align: right;\n",
              "    }\n",
              "</style>\n",
              "<table border=\"1\" class=\"dataframe\">\n",
              "  <thead>\n",
              "    <tr style=\"text-align: right;\">\n",
              "      <th></th>\n",
              "      <th>Model</th>\n",
              "      <th>Accuracy</th>\n",
              "    </tr>\n",
              "  </thead>\n",
              "  <tbody>\n",
              "    <tr>\n",
              "      <th>0</th>\n",
              "      <td>Naive Bayes</td>\n",
              "      <td>75.934764</td>\n",
              "    </tr>\n",
              "    <tr>\n",
              "      <th>1</th>\n",
              "      <td>Decision Tree</td>\n",
              "      <td>80.707405</td>\n",
              "    </tr>\n",
              "    <tr>\n",
              "      <th>2</th>\n",
              "      <td>kNN</td>\n",
              "      <td>82.677949</td>\n",
              "    </tr>\n",
              "    <tr>\n",
              "      <th>3</th>\n",
              "      <td>Neural Networks</td>\n",
              "      <td>82.906333</td>\n",
              "    </tr>\n",
              "  </tbody>\n",
              "</table>\n",
              "</div>\n",
              "      <button class=\"colab-df-convert\" onclick=\"convertToInteractive('df-5de7f1b8-6fef-4994-a4f3-936d08b8a4d2')\"\n",
              "              title=\"Convert this dataframe to an interactive table.\"\n",
              "              style=\"display:none;\">\n",
              "        \n",
              "  <svg xmlns=\"http://www.w3.org/2000/svg\" height=\"24px\"viewBox=\"0 0 24 24\"\n",
              "       width=\"24px\">\n",
              "    <path d=\"M0 0h24v24H0V0z\" fill=\"none\"/>\n",
              "    <path d=\"M18.56 5.44l.94 2.06.94-2.06 2.06-.94-2.06-.94-.94-2.06-.94 2.06-2.06.94zm-11 1L8.5 8.5l.94-2.06 2.06-.94-2.06-.94L8.5 2.5l-.94 2.06-2.06.94zm10 10l.94 2.06.94-2.06 2.06-.94-2.06-.94-.94-2.06-.94 2.06-2.06.94z\"/><path d=\"M17.41 7.96l-1.37-1.37c-.4-.4-.92-.59-1.43-.59-.52 0-1.04.2-1.43.59L10.3 9.45l-7.72 7.72c-.78.78-.78 2.05 0 2.83L4 21.41c.39.39.9.59 1.41.59.51 0 1.02-.2 1.41-.59l7.78-7.78 2.81-2.81c.8-.78.8-2.07 0-2.86zM5.41 20L4 18.59l7.72-7.72 1.47 1.35L5.41 20z\"/>\n",
              "  </svg>\n",
              "      </button>\n",
              "      \n",
              "  <style>\n",
              "    .colab-df-container {\n",
              "      display:flex;\n",
              "      flex-wrap:wrap;\n",
              "      gap: 12px;\n",
              "    }\n",
              "\n",
              "    .colab-df-convert {\n",
              "      background-color: #E8F0FE;\n",
              "      border: none;\n",
              "      border-radius: 50%;\n",
              "      cursor: pointer;\n",
              "      display: none;\n",
              "      fill: #1967D2;\n",
              "      height: 32px;\n",
              "      padding: 0 0 0 0;\n",
              "      width: 32px;\n",
              "    }\n",
              "\n",
              "    .colab-df-convert:hover {\n",
              "      background-color: #E2EBFA;\n",
              "      box-shadow: 0px 1px 2px rgba(60, 64, 67, 0.3), 0px 1px 3px 1px rgba(60, 64, 67, 0.15);\n",
              "      fill: #174EA6;\n",
              "    }\n",
              "\n",
              "    [theme=dark] .colab-df-convert {\n",
              "      background-color: #3B4455;\n",
              "      fill: #D2E3FC;\n",
              "    }\n",
              "\n",
              "    [theme=dark] .colab-df-convert:hover {\n",
              "      background-color: #434B5C;\n",
              "      box-shadow: 0px 1px 3px 1px rgba(0, 0, 0, 0.15);\n",
              "      filter: drop-shadow(0px 1px 2px rgba(0, 0, 0, 0.3));\n",
              "      fill: #FFFFFF;\n",
              "    }\n",
              "  </style>\n",
              "\n",
              "      <script>\n",
              "        const buttonEl =\n",
              "          document.querySelector('#df-5de7f1b8-6fef-4994-a4f3-936d08b8a4d2 button.colab-df-convert');\n",
              "        buttonEl.style.display =\n",
              "          google.colab.kernel.accessAllowed ? 'block' : 'none';\n",
              "\n",
              "        async function convertToInteractive(key) {\n",
              "          const element = document.querySelector('#df-5de7f1b8-6fef-4994-a4f3-936d08b8a4d2');\n",
              "          const dataTable =\n",
              "            await google.colab.kernel.invokeFunction('convertToInteractive',\n",
              "                                                     [key], {});\n",
              "          if (!dataTable) return;\n",
              "\n",
              "          const docLinkHtml = 'Like what you see? Visit the ' +\n",
              "            '<a target=\"_blank\" href=https://colab.research.google.com/notebooks/data_table.ipynb>data table notebook</a>'\n",
              "            + ' to learn more about interactive tables.';\n",
              "          element.innerHTML = '';\n",
              "          dataTable['output_type'] = 'display_data';\n",
              "          await google.colab.output.renderOutput(dataTable, element);\n",
              "          const docLink = document.createElement('div');\n",
              "          docLink.innerHTML = docLinkHtml;\n",
              "          element.appendChild(docLink);\n",
              "        }\n",
              "      </script>\n",
              "    </div>\n",
              "  </div>\n",
              "  "
            ]
          },
          "metadata": {},
          "execution_count": 106
        }
      ]
    },
    {
      "cell_type": "code",
      "source": [
        "plt.subplots(figsize=(12, 10))\n",
        "sns.barplot(y = df_all_models['Accuracy'], x = df_all_models['Model'], palette = 'BuPu')\n",
        "plt.xlabel(\"Models\")\n",
        "plt.title('Accuracy')\n",
        "plt.show()"
      ],
      "metadata": {
        "colab": {
          "base_uri": "https://localhost:8080/",
          "height": 621
        },
        "id": "qc8il84UshOU",
        "outputId": "9ed0145e-65e7-4a1a-f3d3-7078351c1f99"
      },
      "execution_count": null,
      "outputs": [
        {
          "output_type": "display_data",
          "data": {
            "text/plain": [
              "<Figure size 864x720 with 1 Axes>"
            ],
            "image/png": "[encoded data removed]"
          },
          "metadata": {
            "needs_background": "light"
          }
        }
      ]
    },
    {
      "cell_type": "markdown",
      "source": [
        "Neural Networks produced highest prediction rate, however it was bearly winning over kNN. The worst was Decision Tree. "
      ],
      "metadata": {
        "id": "bkZSpouDH2Kf"
      }
    },
    {
      "cell_type": "markdown",
      "source": [
        "# Apriori "
      ],
      "metadata": {
        "id": "PBL05YKGPTde"
      }
    },
    {
      "cell_type": "code",
      "source": [
        "import pandas as pd\n",
        "import numpy as np\n",
        "train_data_a = pd.read_csv('drive/MyDrive/inf/io/census/adult.train.csv')\n",
        "test_data_a = pd.read_csv('drive/MyDrive/inf/io/census/adult.test.csv')\n",
        "\n",
        "data_a = pd.concat([train_data_a, test_data_a])"
      ],
      "metadata": {
        "id": "Ae2ZiB1nINx9"
      },
      "execution_count": null,
      "outputs": []
    },
    {
      "cell_type": "code",
      "source": [
        "data_a"
      ],
      "metadata": {
        "colab": {
          "base_uri": "https://localhost:8080/",
          "height": 424
        },
        "id": "2MawVgVJI85h",
        "outputId": "b45bb246-708d-44f4-f852-87a016754b15"
      },
      "execution_count": null,
      "outputs": [
        {
          "output_type": "execute_result",
          "data": {
            "text/plain": [
              "       age          workclass  fnlwgt    eduction  education.num  \\\n",
              "0       39          State-gov   77516   Bachelors             13   \n",
              "1       50   Self-emp-not-inc   83311   Bachelors             13   \n",
              "2       38            Private  215646     HS-grad              9   \n",
              "3       53            Private  234721        11th              7   \n",
              "4       28            Private  338409   Bachelors             13   \n",
              "...    ...                ...     ...         ...            ...   \n",
              "16276   39            Private  215419   Bachelors             13   \n",
              "16277   64                  ?  321403     HS-grad              9   \n",
              "16278   38            Private  374983   Bachelors             13   \n",
              "16279   44            Private   83891   Bachelors             13   \n",
              "16280   35       Self-emp-inc  182148   Bachelors             13   \n",
              "\n",
              "            marital.status          occupation     relationship  \\\n",
              "0            Never-married        Adm-clerical    Not-in-family   \n",
              "1       Married-civ-spouse     Exec-managerial          Husband   \n",
              "2                 Divorced   Handlers-cleaners    Not-in-family   \n",
              "3       Married-civ-spouse   Handlers-cleaners          Husband   \n",
              "4       Married-civ-spouse      Prof-specialty             Wife   \n",
              "...                    ...                 ...              ...   \n",
              "16276             Divorced      Prof-specialty    Not-in-family   \n",
              "16277              Widowed                   ?   Other-relative   \n",
              "16278   Married-civ-spouse      Prof-specialty          Husband   \n",
              "16279             Divorced        Adm-clerical        Own-child   \n",
              "16280   Married-civ-spouse     Exec-managerial          Husband   \n",
              "\n",
              "                      race      sex  capital.gain  capital.loss  \\\n",
              "0                    White     Male          2174             0   \n",
              "1                    White     Male             0             0   \n",
              "2                    White     Male             0             0   \n",
              "3                    Black     Male             0             0   \n",
              "4                    Black   Female             0             0   \n",
              "...                    ...      ...           ...           ...   \n",
              "16276                White   Female             0             0   \n",
              "16277                Black     Male             0             0   \n",
              "16278                White     Male             0             0   \n",
              "16279   Asian-Pac-Islander     Male          5455             0   \n",
              "16280                White     Male             0             0   \n",
              "\n",
              "       hours.per.week  native.country   income  \n",
              "0                  40   United-States    <=50K  \n",
              "1                  13   United-States    <=50K  \n",
              "2                  40   United-States    <=50K  \n",
              "3                  40   United-States    <=50K  \n",
              "4                  40            Cuba    <=50K  \n",
              "...               ...             ...      ...  \n",
              "16276              36   United-States   <=50K.  \n",
              "16277              40   United-States   <=50K.  \n",
              "16278              50   United-States   <=50K.  \n",
              "16279              40   United-States   <=50K.  \n",
              "16280              60   United-States    >50K.  \n",
              "\n",
              "[48842 rows x 15 columns]"
            ],
            "text/html": [
              "\n",
              "  <div id=\"df-1e97c783-af2b-4578-99bc-b8c64d4e72f6\">\n",
              "    <div class=\"colab-df-container\">\n",
              "      <div>\n",
              "<style scoped>\n",
              "    .dataframe tbody tr th:only-of-type {\n",
              "        vertical-align: middle;\n",
              "    }\n",
              "\n",
              "    .dataframe tbody tr th {\n",
              "        vertical-align: top;\n",
              "    }\n",
              "\n",
              "    .dataframe thead th {\n",
              "        text-align: right;\n",
              "    }\n",
              "</style>\n",
              "<table border=\"1\" class=\"dataframe\">\n",
              "  <thead>\n",
              "    <tr style=\"text-align: right;\">\n",
              "      <th></th>\n",
              "      <th>age</th>\n",
              "      <th>workclass</th>\n",
              "      <th>fnlwgt</th>\n",
              "      <th>eduction</th>\n",
              "      <th>education.num</th>\n",
              "      <th>marital.status</th>\n",
              "      <th>occupation</th>\n",
              "      <th>relationship</th>\n",
              "      <th>race</th>\n",
              "      <th>sex</th>\n",
              "      <th>capital.gain</th>\n",
              "      <th>capital.loss</th>\n",
              "      <th>hours.per.week</th>\n",
              "      <th>native.country</th>\n",
              "      <th>income</th>\n",
              "    </tr>\n",
              "  </thead>\n",
              "  <tbody>\n",
              "    <tr>\n",
              "      <th>0</th>\n",
              "      <td>39</td>\n",
              "      <td>State-gov</td>\n",
              "      <td>77516</td>\n",
              "      <td>Bachelors</td>\n",
              "      <td>13</td>\n",
              "      <td>Never-married</td>\n",
              "      <td>Adm-clerical</td>\n",
              "      <td>Not-in-family</td>\n",
              "      <td>White</td>\n",
              "      <td>Male</td>\n",
              "      <td>2174</td>\n",
              "      <td>0</td>\n",
              "      <td>40</td>\n",
              "      <td>United-States</td>\n",
              "      <td>&lt;=50K</td>\n",
              "    </tr>\n",
              "    <tr>\n",
              "      <th>1</th>\n",
              "      <td>50</td>\n",
              "      <td>Self-emp-not-inc</td>\n",
              "      <td>83311</td>\n",
              "      <td>Bachelors</td>\n",
              "      <td>13</td>\n",
              "      <td>Married-civ-spouse</td>\n",
              "      <td>Exec-managerial</td>\n",
              "      <td>Husband</td>\n",
              "      <td>White</td>\n",
              "      <td>Male</td>\n",
              "      <td>0</td>\n",
              "      <td>0</td>\n",
              "      <td>13</td>\n",
              "      <td>United-States</td>\n",
              "      <td>&lt;=50K</td>\n",
              "    </tr>\n",
              "    <tr>\n",
              "      <th>2</th>\n",
              "      <td>38</td>\n",
              "      <td>Private</td>\n",
              "      <td>215646</td>\n",
              "      <td>HS-grad</td>\n",
              "      <td>9</td>\n",
              "      <td>Divorced</td>\n",
              "      <td>Handlers-cleaners</td>\n",
              "      <td>Not-in-family</td>\n",
              "      <td>White</td>\n",
              "      <td>Male</td>\n",
              "      <td>0</td>\n",
              "      <td>0</td>\n",
              "      <td>40</td>\n",
              "      <td>United-States</td>\n",
              "      <td>&lt;=50K</td>\n",
              "    </tr>\n",
              "    <tr>\n",
              "      <th>3</th>\n",
              "      <td>53</td>\n",
              "      <td>Private</td>\n",
              "      <td>234721</td>\n",
              "      <td>11th</td>\n",
              "      <td>7</td>\n",
              "      <td>Married-civ-spouse</td>\n",
              "      <td>Handlers-cleaners</td>\n",
              "      <td>Husband</td>\n",
              "      <td>Black</td>\n",
              "      <td>Male</td>\n",
              "      <td>0</td>\n",
              "      <td>0</td>\n",
              "      <td>40</td>\n",
              "      <td>United-States</td>\n",
              "      <td>&lt;=50K</td>\n",
              "    </tr>\n",
              "    <tr>\n",
              "      <th>4</th>\n",
              "      <td>28</td>\n",
              "      <td>Private</td>\n",
              "      <td>338409</td>\n",
              "      <td>Bachelors</td>\n",
              "      <td>13</td>\n",
              "      <td>Married-civ-spouse</td>\n",
              "      <td>Prof-specialty</td>\n",
              "      <td>Wife</td>\n",
              "      <td>Black</td>\n",
              "      <td>Female</td>\n",
              "      <td>0</td>\n",
              "      <td>0</td>\n",
              "      <td>40</td>\n",
              "      <td>Cuba</td>\n",
              "      <td>&lt;=50K</td>\n",
              "    </tr>\n",
              "    <tr>\n",
              "      <th>...</th>\n",
              "      <td>...</td>\n",
              "      <td>...</td>\n",
              "      <td>...</td>\n",
              "      <td>...</td>\n",
              "      <td>...</td>\n",
              "      <td>...</td>\n",
              "      <td>...</td>\n",
              "      <td>...</td>\n",
              "      <td>...</td>\n",
              "      <td>...</td>\n",
              "      <td>...</td>\n",
              "      <td>...</td>\n",
              "      <td>...</td>\n",
              "      <td>...</td>\n",
              "      <td>...</td>\n",
              "    </tr>\n",
              "    <tr>\n",
              "      <th>16276</th>\n",
              "      <td>39</td>\n",
              "      <td>Private</td>\n",
              "      <td>215419</td>\n",
              "      <td>Bachelors</td>\n",
              "      <td>13</td>\n",
              "      <td>Divorced</td>\n",
              "      <td>Prof-specialty</td>\n",
              "      <td>Not-in-family</td>\n",
              "      <td>White</td>\n",
              "      <td>Female</td>\n",
              "      <td>0</td>\n",
              "      <td>0</td>\n",
              "      <td>36</td>\n",
              "      <td>United-States</td>\n",
              "      <td>&lt;=50K.</td>\n",
              "    </tr>\n",
              "    <tr>\n",
              "      <th>16277</th>\n",
              "      <td>64</td>\n",
              "      <td>?</td>\n",
              "      <td>321403</td>\n",
              "      <td>HS-grad</td>\n",
              "      <td>9</td>\n",
              "      <td>Widowed</td>\n",
              "      <td>?</td>\n",
              "      <td>Other-relative</td>\n",
              "      <td>Black</td>\n",
              "      <td>Male</td>\n",
              "      <td>0</td>\n",
              "      <td>0</td>\n",
              "      <td>40</td>\n",
              "      <td>United-States</td>\n",
              "      <td>&lt;=50K.</td>\n",
              "    </tr>\n",
              "    <tr>\n",
              "      <th>16278</th>\n",
              "      <td>38</td>\n",
              "      <td>Private</td>\n",
              "      <td>374983</td>\n",
              "      <td>Bachelors</td>\n",
              "      <td>13</td>\n",
              "      <td>Married-civ-spouse</td>\n",
              "      <td>Prof-specialty</td>\n",
              "      <td>Husband</td>\n",
              "      <td>White</td>\n",
              "      <td>Male</td>\n",
              "      <td>0</td>\n",
              "      <td>0</td>\n",
              "      <td>50</td>\n",
              "      <td>United-States</td>\n",
              "      <td>&lt;=50K.</td>\n",
              "    </tr>\n",
              "    <tr>\n",
              "      <th>16279</th>\n",
              "      <td>44</td>\n",
              "      <td>Private</td>\n",
              "      <td>83891</td>\n",
              "      <td>Bachelors</td>\n",
              "      <td>13</td>\n",
              "      <td>Divorced</td>\n",
              "      <td>Adm-clerical</td>\n",
              "      <td>Own-child</td>\n",
              "      <td>Asian-Pac-Islander</td>\n",
              "      <td>Male</td>\n",
              "      <td>5455</td>\n",
              "      <td>0</td>\n",
              "      <td>40</td>\n",
              "      <td>United-States</td>\n",
              "      <td>&lt;=50K.</td>\n",
              "    </tr>\n",
              "    <tr>\n",
              "      <th>16280</th>\n",
              "      <td>35</td>\n",
              "      <td>Self-emp-inc</td>\n",
              "      <td>182148</td>\n",
              "      <td>Bachelors</td>\n",
              "      <td>13</td>\n",
              "      <td>Married-civ-spouse</td>\n",
              "      <td>Exec-managerial</td>\n",
              "      <td>Husband</td>\n",
              "      <td>White</td>\n",
              "      <td>Male</td>\n",
              "      <td>0</td>\n",
              "      <td>0</td>\n",
              "      <td>60</td>\n",
              "      <td>United-States</td>\n",
              "      <td>&gt;50K.</td>\n",
              "    </tr>\n",
              "  </tbody>\n",
              "</table>\n",
              "<p>48842 rows × 15 columns</p>\n",
              "</div>\n",
              "      <button class=\"colab-df-convert\" onclick=\"convertToInteractive('df-1e97c783-af2b-4578-99bc-b8c64d4e72f6')\"\n",
              "              title=\"Convert this dataframe to an interactive table.\"\n",
              "              style=\"display:none;\">\n",
              "        \n",
              "  <svg xmlns=\"http://www.w3.org/2000/svg\" height=\"24px\"viewBox=\"0 0 24 24\"\n",
              "       width=\"24px\">\n",
              "    <path d=\"M0 0h24v24H0V0z\" fill=\"none\"/>\n",
              "    <path d=\"M18.56 5.44l.94 2.06.94-2.06 2.06-.94-2.06-.94-.94-2.06-.94 2.06-2.06.94zm-11 1L8.5 8.5l.94-2.06 2.06-.94-2.06-.94L8.5 2.5l-.94 2.06-2.06.94zm10 10l.94 2.06.94-2.06 2.06-.94-2.06-.94-.94-2.06-.94 2.06-2.06.94z\"/><path d=\"M17.41 7.96l-1.37-1.37c-.4-.4-.92-.59-1.43-.59-.52 0-1.04.2-1.43.59L10.3 9.45l-7.72 7.72c-.78.78-.78 2.05 0 2.83L4 21.41c.39.39.9.59 1.41.59.51 0 1.02-.2 1.41-.59l7.78-7.78 2.81-2.81c.8-.78.8-2.07 0-2.86zM5.41 20L4 18.59l7.72-7.72 1.47 1.35L5.41 20z\"/>\n",
              "  </svg>\n",
              "      </button>\n",
              "      \n",
              "  <style>\n",
              "    .colab-df-container {\n",
              "      display:flex;\n",
              "      flex-wrap:wrap;\n",
              "      gap: 12px;\n",
              "    }\n",
              "\n",
              "    .colab-df-convert {\n",
              "      background-color: #E8F0FE;\n",
              "      border: none;\n",
              "      border-radius: 50%;\n",
              "      cursor: pointer;\n",
              "      display: none;\n",
              "      fill: #1967D2;\n",
              "      height: 32px;\n",
              "      padding: 0 0 0 0;\n",
              "      width: 32px;\n",
              "    }\n",
              "\n",
              "    .colab-df-convert:hover {\n",
              "      background-color: #E2EBFA;\n",
              "      box-shadow: 0px 1px 2px rgba(60, 64, 67, 0.3), 0px 1px 3px 1px rgba(60, 64, 67, 0.15);\n",
              "      fill: #174EA6;\n",
              "    }\n",
              "\n",
              "    [theme=dark] .colab-df-convert {\n",
              "      background-color: #3B4455;\n",
              "      fill: #D2E3FC;\n",
              "    }\n",
              "\n",
              "    [theme=dark] .colab-df-convert:hover {\n",
              "      background-color: #434B5C;\n",
              "      box-shadow: 0px 1px 3px 1px rgba(0, 0, 0, 0.15);\n",
              "      filter: drop-shadow(0px 1px 2px rgba(0, 0, 0, 0.3));\n",
              "      fill: #FFFFFF;\n",
              "    }\n",
              "  </style>\n",
              "\n",
              "      <script>\n",
              "        const buttonEl =\n",
              "          document.querySelector('#df-1e97c783-af2b-4578-99bc-b8c64d4e72f6 button.colab-df-convert');\n",
              "        buttonEl.style.display =\n",
              "          google.colab.kernel.accessAllowed ? 'block' : 'none';\n",
              "\n",
              "        async function convertToInteractive(key) {\n",
              "          const element = document.querySelector('#df-1e97c783-af2b-4578-99bc-b8c64d4e72f6');\n",
              "          const dataTable =\n",
              "            await google.colab.kernel.invokeFunction('convertToInteractive',\n",
              "                                                     [key], {});\n",
              "          if (!dataTable) return;\n",
              "\n",
              "          const docLinkHtml = 'Like what you see? Visit the ' +\n",
              "            '<a target=\"_blank\" href=https://colab.research.google.com/notebooks/data_table.ipynb>data table notebook</a>'\n",
              "            + ' to learn more about interactive tables.';\n",
              "          element.innerHTML = '';\n",
              "          dataTable['output_type'] = 'display_data';\n",
              "          await google.colab.output.renderOutput(dataTable, element);\n",
              "          const docLink = document.createElement('div');\n",
              "          docLink.innerHTML = docLinkHtml;\n",
              "          element.appendChild(docLink);\n",
              "        }\n",
              "      </script>\n",
              "    </div>\n",
              "  </div>\n",
              "  "
            ]
          },
          "metadata": {},
          "execution_count": 7
        }
      ]
    },
    {
      "cell_type": "markdown",
      "source": [
        "Cleaning up the data as there are `<=50K` and `<=50K.` "
      ],
      "metadata": {
        "id": "oBeOuU1oGPQR"
      }
    },
    {
      "cell_type": "code",
      "source": [
        "data_a['income'] = data_a['income'].replace(' <=50K.', ' <=50K')\n",
        "data_a['income'] = data_a['income'].replace(' >50K.', ' >50K')\n",
        "data_a['income'].unique()"
      ],
      "metadata": {
        "colab": {
          "base_uri": "https://localhost:8080/"
        },
        "id": "mCo356uZLPk3",
        "outputId": "bd401846-e580-4b28-84c4-508b3d24f9fd"
      },
      "execution_count": null,
      "outputs": [
        {
          "output_type": "execute_result",
          "data": {
            "text/plain": [
              "array([' <=50K', ' >50K'], dtype=object)"
            ]
          },
          "metadata": {},
          "execution_count": 8
        }
      ]
    },
    {
      "cell_type": "markdown",
      "source": [
        "Binning age into categories and countries"
      ],
      "metadata": {
        "id": "P7wDJ_wRGWoa"
      }
    },
    {
      "cell_type": "code",
      "source": [
        "data_a[\"age\"] = pd.cut(data_a[\"age\"], bins= [0,39,59,100], labels = [\"Young Adults\", \"Middle-aged Adults\", \"Old Adults\"])\n",
        "\n",
        "def native_country_map(r):\n",
        "  if r in [' United-States', 'Mexico']:\n",
        "    return r\n",
        "  return 'Other' \n",
        "\n",
        "data_a['native.country'] = data_a['native.country'].map(lambda x: native_country_map(x))\n",
        "#data_a['native.country'] = np.where(data_a['native.country'].isin([' United-States', ' Mexico']),\n",
        " #                          data['native.country'].str.title(),\n",
        "  #                         'Other')\n",
        "data_a['capital.gain'] = np.where(data_a[\"capital.gain\"].isin([0]), 0, 1)\n",
        "data_a['hours.per.week'] = pd.cut(data_a[\"hours.per.week\"], bins= [0, 39,40, 100], labels=[\"Less Than 40 hours\", \"40 hours\", \"More than 40 hours\"])\n"
      ],
      "metadata": {
        "id": "K_Bz1PuSLnR2"
      },
      "execution_count": null,
      "outputs": []
    },
    {
      "cell_type": "markdown",
      "source": [
        "Dropping fnlwgt and education.num"
      ],
      "metadata": {
        "id": "gX7oUD9OGg-l"
      }
    },
    {
      "cell_type": "code",
      "source": [
        "data_a = data_a.drop('fnlwgt', axis=1)"
      ],
      "metadata": {
        "id": "XSU6FfsuRsAJ"
      },
      "execution_count": null,
      "outputs": []
    },
    {
      "cell_type": "code",
      "source": [
        "data_a = data_a.drop('education.num', axis=1)"
      ],
      "metadata": {
        "id": "UBEGGT2zRvgY"
      },
      "execution_count": null,
      "outputs": []
    },
    {
      "cell_type": "markdown",
      "source": [
        "Removing any records with missing data"
      ],
      "metadata": {
        "id": "1iaBSPa9GkHL"
      }
    },
    {
      "cell_type": "code",
      "source": [
        "data_a = data_a.replace(' ?', np.NaN)\n",
        "data_a = data_a.dropna()\n",
        "data_a = pd.get_dummies(data_a)\n",
        "data_a"
      ],
      "metadata": {
        "colab": {
          "base_uri": "https://localhost:8080/",
          "height": 502
        },
        "id": "lnc2R7b3J04b",
        "outputId": "b5fe3329-867a-458b-9cae-2c1fa1cdd37e"
      },
      "execution_count": null,
      "outputs": [
        {
          "output_type": "execute_result",
          "data": {
            "text/plain": [
              "       capital.gain  capital.loss  age_Young Adults  age_Middle-aged Adults  \\\n",
              "0                 1             0                 1                       0   \n",
              "1                 0             0                 0                       1   \n",
              "2                 0             0                 1                       0   \n",
              "3                 0             0                 0                       1   \n",
              "4                 0             0                 1                       0   \n",
              "...             ...           ...               ...                     ...   \n",
              "16275             0             0                 1                       0   \n",
              "16276             0             0                 1                       0   \n",
              "16278             0             0                 1                       0   \n",
              "16279             1             0                 0                       1   \n",
              "16280             0             0                 1                       0   \n",
              "\n",
              "       age_Old Adults  workclass_ Federal-gov  workclass_ Local-gov  \\\n",
              "0                   0                       0                     0   \n",
              "1                   0                       0                     0   \n",
              "2                   0                       0                     0   \n",
              "3                   0                       0                     0   \n",
              "4                   0                       0                     0   \n",
              "...               ...                     ...                   ...   \n",
              "16275               0                       0                     0   \n",
              "16276               0                       0                     0   \n",
              "16278               0                       0                     0   \n",
              "16279               0                       0                     0   \n",
              "16280               0                       0                     0   \n",
              "\n",
              "       workclass_ Private  workclass_ Self-emp-inc  \\\n",
              "0                       0                        0   \n",
              "1                       0                        0   \n",
              "2                       1                        0   \n",
              "3                       1                        0   \n",
              "4                       1                        0   \n",
              "...                   ...                      ...   \n",
              "16275                   1                        0   \n",
              "16276                   1                        0   \n",
              "16278                   1                        0   \n",
              "16279                   1                        0   \n",
              "16280                   0                        1   \n",
              "\n",
              "       workclass_ Self-emp-not-inc  ...  race_ White  sex_ Female  sex_ Male  \\\n",
              "0                                0  ...            1            0          1   \n",
              "1                                1  ...            1            0          1   \n",
              "2                                0  ...            1            0          1   \n",
              "3                                0  ...            0            0          1   \n",
              "4                                0  ...            0            1          0   \n",
              "...                            ...  ...          ...          ...        ...   \n",
              "16275                            0  ...            1            0          1   \n",
              "16276                            0  ...            1            1          0   \n",
              "16278                            0  ...            1            0          1   \n",
              "16279                            0  ...            0            0          1   \n",
              "16280                            0  ...            1            0          1   \n",
              "\n",
              "       hours.per.week_Less Than 40 hours  hours.per.week_40 hours  \\\n",
              "0                                      0                        1   \n",
              "1                                      1                        0   \n",
              "2                                      0                        1   \n",
              "3                                      0                        1   \n",
              "4                                      0                        1   \n",
              "...                                  ...                      ...   \n",
              "16275                                  0                        1   \n",
              "16276                                  1                        0   \n",
              "16278                                  0                        0   \n",
              "16279                                  0                        1   \n",
              "16280                                  0                        0   \n",
              "\n",
              "       hours.per.week_More than 40 hours  native.country_ United-States  \\\n",
              "0                                      0                              1   \n",
              "1                                      0                              1   \n",
              "2                                      0                              1   \n",
              "3                                      0                              1   \n",
              "4                                      0                              0   \n",
              "...                                  ...                            ...   \n",
              "16275                                  0                              1   \n",
              "16276                                  0                              1   \n",
              "16278                                  1                              1   \n",
              "16279                                  0                              1   \n",
              "16280                                  1                              1   \n",
              "\n",
              "       native.country_Other  income_ <=50K  income_ >50K  \n",
              "0                         0              1             0  \n",
              "1                         0              1             0  \n",
              "2                         0              1             0  \n",
              "3                         0              1             0  \n",
              "4                         1              1             0  \n",
              "...                     ...            ...           ...  \n",
              "16275                     0              1             0  \n",
              "16276                     0              1             0  \n",
              "16278                     0              1             0  \n",
              "16279                     0              1             0  \n",
              "16280                     0              0             1  \n",
              "\n",
              "[46033 rows x 69 columns]"
            ],
            "text/html": [
              "\n",
              "  <div id=\"df-127db8a5-916f-4ac6-ade6-40f96e3be780\">\n",
              "    <div class=\"colab-df-container\">\n",
              "      <div>\n",
              "<style scoped>\n",
              "    .dataframe tbody tr th:only-of-type {\n",
              "        vertical-align: middle;\n",
              "    }\n",
              "\n",
              "    .dataframe tbody tr th {\n",
              "        vertical-align: top;\n",
              "    }\n",
              "\n",
              "    .dataframe thead th {\n",
              "        text-align: right;\n",
              "    }\n",
              "</style>\n",
              "<table border=\"1\" class=\"dataframe\">\n",
              "  <thead>\n",
              "    <tr style=\"text-align: right;\">\n",
              "      <th></th>\n",
              "      <th>capital.gain</th>\n",
              "      <th>capital.loss</th>\n",
              "      <th>age_Young Adults</th>\n",
              "      <th>age_Middle-aged Adults</th>\n",
              "      <th>age_Old Adults</th>\n",
              "      <th>workclass_ Federal-gov</th>\n",
              "      <th>workclass_ Local-gov</th>\n",
              "      <th>workclass_ Private</th>\n",
              "      <th>workclass_ Self-emp-inc</th>\n",
              "      <th>workclass_ Self-emp-not-inc</th>\n",
              "      <th>...</th>\n",
              "      <th>race_ White</th>\n",
              "      <th>sex_ Female</th>\n",
              "      <th>sex_ Male</th>\n",
              "      <th>hours.per.week_Less Than 40 hours</th>\n",
              "      <th>hours.per.week_40 hours</th>\n",
              "      <th>hours.per.week_More than 40 hours</th>\n",
              "      <th>native.country_ United-States</th>\n",
              "      <th>native.country_Other</th>\n",
              "      <th>income_ &lt;=50K</th>\n",
              "      <th>income_ &gt;50K</th>\n",
              "    </tr>\n",
              "  </thead>\n",
              "  <tbody>\n",
              "    <tr>\n",
              "      <th>0</th>\n",
              "      <td>1</td>\n",
              "      <td>0</td>\n",
              "      <td>1</td>\n",
              "      <td>0</td>\n",
              "      <td>0</td>\n",
              "      <td>0</td>\n",
              "      <td>0</td>\n",
              "      <td>0</td>\n",
              "      <td>0</td>\n",
              "      <td>0</td>\n",
              "      <td>...</td>\n",
              "      <td>1</td>\n",
              "      <td>0</td>\n",
              "      <td>1</td>\n",
              "      <td>0</td>\n",
              "      <td>1</td>\n",
              "      <td>0</td>\n",
              "      <td>1</td>\n",
              "      <td>0</td>\n",
              "      <td>1</td>\n",
              "      <td>0</td>\n",
              "    </tr>\n",
              "    <tr>\n",
              "      <th>1</th>\n",
              "      <td>0</td>\n",
              "      <td>0</td>\n",
              "      <td>0</td>\n",
              "      <td>1</td>\n",
              "      <td>0</td>\n",
              "      <td>0</td>\n",
              "      <td>0</td>\n",
              "      <td>0</td>\n",
              "      <td>0</td>\n",
              "      <td>1</td>\n",
              "      <td>...</td>\n",
              "      <td>1</td>\n",
              "      <td>0</td>\n",
              "      <td>1</td>\n",
              "      <td>1</td>\n",
              "      <td>0</td>\n",
              "      <td>0</td>\n",
              "      <td>1</td>\n",
              "      <td>0</td>\n",
              "      <td>1</td>\n",
              "      <td>0</td>\n",
              "    </tr>\n",
              "    <tr>\n",
              "      <th>2</th>\n",
              "      <td>0</td>\n",
              "      <td>0</td>\n",
              "      <td>1</td>\n",
              "      <td>0</td>\n",
              "      <td>0</td>\n",
              "      <td>0</td>\n",
              "      <td>0</td>\n",
              "      <td>1</td>\n",
              "      <td>0</td>\n",
              "      <td>0</td>\n",
              "      <td>...</td>\n",
              "      <td>1</td>\n",
              "      <td>0</td>\n",
              "      <td>1</td>\n",
              "      <td>0</td>\n",
              "      <td>1</td>\n",
              "      <td>0</td>\n",
              "      <td>1</td>\n",
              "      <td>0</td>\n",
              "      <td>1</td>\n",
              "      <td>0</td>\n",
              "    </tr>\n",
              "    <tr>\n",
              "      <th>3</th>\n",
              "      <td>0</td>\n",
              "      <td>0</td>\n",
              "      <td>0</td>\n",
              "      <td>1</td>\n",
              "      <td>0</td>\n",
              "      <td>0</td>\n",
              "      <td>0</td>\n",
              "      <td>1</td>\n",
              "      <td>0</td>\n",
              "      <td>0</td>\n",
              "      <td>...</td>\n",
              "      <td>0</td>\n",
              "      <td>0</td>\n",
              "      <td>1</td>\n",
              "      <td>0</td>\n",
              "      <td>1</td>\n",
              "      <td>0</td>\n",
              "      <td>1</td>\n",
              "      <td>0</td>\n",
              "      <td>1</td>\n",
              "      <td>0</td>\n",
              "    </tr>\n",
              "    <tr>\n",
              "      <th>4</th>\n",
              "      <td>0</td>\n",
              "      <td>0</td>\n",
              "      <td>1</td>\n",
              "      <td>0</td>\n",
              "      <td>0</td>\n",
              "      <td>0</td>\n",
              "      <td>0</td>\n",
              "      <td>1</td>\n",
              "      <td>0</td>\n",
              "      <td>0</td>\n",
              "      <td>...</td>\n",
              "      <td>0</td>\n",
              "      <td>1</td>\n",
              "      <td>0</td>\n",
              "      <td>0</td>\n",
              "      <td>1</td>\n",
              "      <td>0</td>\n",
              "      <td>0</td>\n",
              "      <td>1</td>\n",
              "      <td>1</td>\n",
              "      <td>0</td>\n",
              "    </tr>\n",
              "    <tr>\n",
              "      <th>...</th>\n",
              "      <td>...</td>\n",
              "      <td>...</td>\n",
              "      <td>...</td>\n",
              "      <td>...</td>\n",
              "      <td>...</td>\n",
              "      <td>...</td>\n",
              "      <td>...</td>\n",
              "      <td>...</td>\n",
              "      <td>...</td>\n",
              "      <td>...</td>\n",
              "      <td>...</td>\n",
              "      <td>...</td>\n",
              "      <td>...</td>\n",
              "      <td>...</td>\n",
              "      <td>...</td>\n",
              "      <td>...</td>\n",
              "      <td>...</td>\n",
              "      <td>...</td>\n",
              "      <td>...</td>\n",
              "      <td>...</td>\n",
              "      <td>...</td>\n",
              "    </tr>\n",
              "    <tr>\n",
              "      <th>16275</th>\n",
              "      <td>0</td>\n",
              "      <td>0</td>\n",
              "      <td>1</td>\n",
              "      <td>0</td>\n",
              "      <td>0</td>\n",
              "      <td>0</td>\n",
              "      <td>0</td>\n",
              "      <td>1</td>\n",
              "      <td>0</td>\n",
              "      <td>0</td>\n",
              "      <td>...</td>\n",
              "      <td>1</td>\n",
              "      <td>0</td>\n",
              "      <td>1</td>\n",
              "      <td>0</td>\n",
              "      <td>1</td>\n",
              "      <td>0</td>\n",
              "      <td>1</td>\n",
              "      <td>0</td>\n",
              "      <td>1</td>\n",
              "      <td>0</td>\n",
              "    </tr>\n",
              "    <tr>\n",
              "      <th>16276</th>\n",
              "      <td>0</td>\n",
              "      <td>0</td>\n",
              "      <td>1</td>\n",
              "      <td>0</td>\n",
              "      <td>0</td>\n",
              "      <td>0</td>\n",
              "      <td>0</td>\n",
              "      <td>1</td>\n",
              "      <td>0</td>\n",
              "      <td>0</td>\n",
              "      <td>...</td>\n",
              "      <td>1</td>\n",
              "      <td>1</td>\n",
              "      <td>0</td>\n",
              "      <td>1</td>\n",
              "      <td>0</td>\n",
              "      <td>0</td>\n",
              "      <td>1</td>\n",
              "      <td>0</td>\n",
              "      <td>1</td>\n",
              "      <td>0</td>\n",
              "    </tr>\n",
              "    <tr>\n",
              "      <th>16278</th>\n",
              "      <td>0</td>\n",
              "      <td>0</td>\n",
              "      <td>1</td>\n",
              "      <td>0</td>\n",
              "      <td>0</td>\n",
              "      <td>0</td>\n",
              "      <td>0</td>\n",
              "      <td>1</td>\n",
              "      <td>0</td>\n",
              "      <td>0</td>\n",
              "      <td>...</td>\n",
              "      <td>1</td>\n",
              "      <td>0</td>\n",
              "      <td>1</td>\n",
              "      <td>0</td>\n",
              "      <td>0</td>\n",
              "      <td>1</td>\n",
              "      <td>1</td>\n",
              "      <td>0</td>\n",
              "      <td>1</td>\n",
              "      <td>0</td>\n",
              "    </tr>\n",
              "    <tr>\n",
              "      <th>16279</th>\n",
              "      <td>1</td>\n",
              "      <td>0</td>\n",
              "      <td>0</td>\n",
              "      <td>1</td>\n",
              "      <td>0</td>\n",
              "      <td>0</td>\n",
              "      <td>0</td>\n",
              "      <td>1</td>\n",
              "      <td>0</td>\n",
              "      <td>0</td>\n",
              "      <td>...</td>\n",
              "      <td>0</td>\n",
              "      <td>0</td>\n",
              "      <td>1</td>\n",
              "      <td>0</td>\n",
              "      <td>1</td>\n",
              "      <td>0</td>\n",
              "      <td>1</td>\n",
              "      <td>0</td>\n",
              "      <td>1</td>\n",
              "      <td>0</td>\n",
              "    </tr>\n",
              "    <tr>\n",
              "      <th>16280</th>\n",
              "      <td>0</td>\n",
              "      <td>0</td>\n",
              "      <td>1</td>\n",
              "      <td>0</td>\n",
              "      <td>0</td>\n",
              "      <td>0</td>\n",
              "      <td>0</td>\n",
              "      <td>0</td>\n",
              "      <td>1</td>\n",
              "      <td>0</td>\n",
              "      <td>...</td>\n",
              "      <td>1</td>\n",
              "      <td>0</td>\n",
              "      <td>1</td>\n",
              "      <td>0</td>\n",
              "      <td>0</td>\n",
              "      <td>1</td>\n",
              "      <td>1</td>\n",
              "      <td>0</td>\n",
              "      <td>0</td>\n",
              "      <td>1</td>\n",
              "    </tr>\n",
              "  </tbody>\n",
              "</table>\n",
              "<p>46033 rows × 69 columns</p>\n",
              "</div>\n",
              "      <button class=\"colab-df-convert\" onclick=\"convertToInteractive('df-127db8a5-916f-4ac6-ade6-40f96e3be780')\"\n",
              "              title=\"Convert this dataframe to an interactive table.\"\n",
              "              style=\"display:none;\">\n",
              "        \n",
              "  <svg xmlns=\"http://www.w3.org/2000/svg\" height=\"24px\"viewBox=\"0 0 24 24\"\n",
              "       width=\"24px\">\n",
              "    <path d=\"M0 0h24v24H0V0z\" fill=\"none\"/>\n",
              "    <path d=\"M18.56 5.44l.94 2.06.94-2.06 2.06-.94-2.06-.94-.94-2.06-.94 2.06-2.06.94zm-11 1L8.5 8.5l.94-2.06 2.06-.94-2.06-.94L8.5 2.5l-.94 2.06-2.06.94zm10 10l.94 2.06.94-2.06 2.06-.94-2.06-.94-.94-2.06-.94 2.06-2.06.94z\"/><path d=\"M17.41 7.96l-1.37-1.37c-.4-.4-.92-.59-1.43-.59-.52 0-1.04.2-1.43.59L10.3 9.45l-7.72 7.72c-.78.78-.78 2.05 0 2.83L4 21.41c.39.39.9.59 1.41.59.51 0 1.02-.2 1.41-.59l7.78-7.78 2.81-2.81c.8-.78.8-2.07 0-2.86zM5.41 20L4 18.59l7.72-7.72 1.47 1.35L5.41 20z\"/>\n",
              "  </svg>\n",
              "      </button>\n",
              "      \n",
              "  <style>\n",
              "    .colab-df-container {\n",
              "      display:flex;\n",
              "      flex-wrap:wrap;\n",
              "      gap: 12px;\n",
              "    }\n",
              "\n",
              "    .colab-df-convert {\n",
              "      background-color: #E8F0FE;\n",
              "      border: none;\n",
              "      border-radius: 50%;\n",
              "      cursor: pointer;\n",
              "      display: none;\n",
              "      fill: #1967D2;\n",
              "      height: 32px;\n",
              "      padding: 0 0 0 0;\n",
              "      width: 32px;\n",
              "    }\n",
              "\n",
              "    .colab-df-convert:hover {\n",
              "      background-color: #E2EBFA;\n",
              "      box-shadow: 0px 1px 2px rgba(60, 64, 67, 0.3), 0px 1px 3px 1px rgba(60, 64, 67, 0.15);\n",
              "      fill: #174EA6;\n",
              "    }\n",
              "\n",
              "    [theme=dark] .colab-df-convert {\n",
              "      background-color: #3B4455;\n",
              "      fill: #D2E3FC;\n",
              "    }\n",
              "\n",
              "    [theme=dark] .colab-df-convert:hover {\n",
              "      background-color: #434B5C;\n",
              "      box-shadow: 0px 1px 3px 1px rgba(0, 0, 0, 0.15);\n",
              "      filter: drop-shadow(0px 1px 2px rgba(0, 0, 0, 0.3));\n",
              "      fill: #FFFFFF;\n",
              "    }\n",
              "  </style>\n",
              "\n",
              "      <script>\n",
              "        const buttonEl =\n",
              "          document.querySelector('#df-127db8a5-916f-4ac6-ade6-40f96e3be780 button.colab-df-convert');\n",
              "        buttonEl.style.display =\n",
              "          google.colab.kernel.accessAllowed ? 'block' : 'none';\n",
              "\n",
              "        async function convertToInteractive(key) {\n",
              "          const element = document.querySelector('#df-127db8a5-916f-4ac6-ade6-40f96e3be780');\n",
              "          const dataTable =\n",
              "            await google.colab.kernel.invokeFunction('convertToInteractive',\n",
              "                                                     [key], {});\n",
              "          if (!dataTable) return;\n",
              "\n",
              "          const docLinkHtml = 'Like what you see? Visit the ' +\n",
              "            '<a target=\"_blank\" href=https://colab.research.google.com/notebooks/data_table.ipynb>data table notebook</a>'\n",
              "            + ' to learn more about interactive tables.';\n",
              "          element.innerHTML = '';\n",
              "          dataTable['output_type'] = 'display_data';\n",
              "          await google.colab.output.renderOutput(dataTable, element);\n",
              "          const docLink = document.createElement('div');\n",
              "          docLink.innerHTML = docLinkHtml;\n",
              "          element.appendChild(docLink);\n",
              "        }\n",
              "      </script>\n",
              "    </div>\n",
              "  </div>\n",
              "  "
            ]
          },
          "metadata": {},
          "execution_count": 12
        }
      ]
    },
    {
      "cell_type": "code",
      "source": [
        "data_a = data_a.reset_index(drop=True)"
      ],
      "metadata": {
        "id": "Gb5iKFAOTz0v"
      },
      "execution_count": null,
      "outputs": []
    },
    {
      "cell_type": "code",
      "source": [
        "data_a"
      ],
      "metadata": {
        "colab": {
          "base_uri": "https://localhost:8080/",
          "height": 502
        },
        "id": "uD6K-z1hURkY",
        "outputId": "a7ccf401-c6a6-4c74-bee1-981ebce7dd37"
      },
      "execution_count": null,
      "outputs": [
        {
          "output_type": "execute_result",
          "data": {
            "text/plain": [
              "       capital.gain  capital.loss  age_Young Adults  age_Middle-aged Adults  \\\n",
              "0                 1             0                 1                       0   \n",
              "1                 0             0                 0                       1   \n",
              "2                 0             0                 1                       0   \n",
              "3                 0             0                 0                       1   \n",
              "4                 0             0                 1                       0   \n",
              "...             ...           ...               ...                     ...   \n",
              "46028             0             0                 1                       0   \n",
              "46029             0             0                 1                       0   \n",
              "46030             0             0                 1                       0   \n",
              "46031             1             0                 0                       1   \n",
              "46032             0             0                 1                       0   \n",
              "\n",
              "       age_Old Adults  workclass_ Federal-gov  workclass_ Local-gov  \\\n",
              "0                   0                       0                     0   \n",
              "1                   0                       0                     0   \n",
              "2                   0                       0                     0   \n",
              "3                   0                       0                     0   \n",
              "4                   0                       0                     0   \n",
              "...               ...                     ...                   ...   \n",
              "46028               0                       0                     0   \n",
              "46029               0                       0                     0   \n",
              "46030               0                       0                     0   \n",
              "46031               0                       0                     0   \n",
              "46032               0                       0                     0   \n",
              "\n",
              "       workclass_ Private  workclass_ Self-emp-inc  \\\n",
              "0                       0                        0   \n",
              "1                       0                        0   \n",
              "2                       1                        0   \n",
              "3                       1                        0   \n",
              "4                       1                        0   \n",
              "...                   ...                      ...   \n",
              "46028                   1                        0   \n",
              "46029                   1                        0   \n",
              "46030                   1                        0   \n",
              "46031                   1                        0   \n",
              "46032                   0                        1   \n",
              "\n",
              "       workclass_ Self-emp-not-inc  ...  race_ White  sex_ Female  sex_ Male  \\\n",
              "0                                0  ...            1            0          1   \n",
              "1                                1  ...            1            0          1   \n",
              "2                                0  ...            1            0          1   \n",
              "3                                0  ...            0            0          1   \n",
              "4                                0  ...            0            1          0   \n",
              "...                            ...  ...          ...          ...        ...   \n",
              "46028                            0  ...            1            0          1   \n",
              "46029                            0  ...            1            1          0   \n",
              "46030                            0  ...            1            0          1   \n",
              "46031                            0  ...            0            0          1   \n",
              "46032                            0  ...            1            0          1   \n",
              "\n",
              "       hours.per.week_Less Than 40 hours  hours.per.week_40 hours  \\\n",
              "0                                      0                        1   \n",
              "1                                      1                        0   \n",
              "2                                      0                        1   \n",
              "3                                      0                        1   \n",
              "4                                      0                        1   \n",
              "...                                  ...                      ...   \n",
              "46028                                  0                        1   \n",
              "46029                                  1                        0   \n",
              "46030                                  0                        0   \n",
              "46031                                  0                        1   \n",
              "46032                                  0                        0   \n",
              "\n",
              "       hours.per.week_More than 40 hours  native.country_ United-States  \\\n",
              "0                                      0                              1   \n",
              "1                                      0                              1   \n",
              "2                                      0                              1   \n",
              "3                                      0                              1   \n",
              "4                                      0                              0   \n",
              "...                                  ...                            ...   \n",
              "46028                                  0                              1   \n",
              "46029                                  0                              1   \n",
              "46030                                  1                              1   \n",
              "46031                                  0                              1   \n",
              "46032                                  1                              1   \n",
              "\n",
              "       native.country_Other  income_ <=50K  income_ >50K  \n",
              "0                         0              1             0  \n",
              "1                         0              1             0  \n",
              "2                         0              1             0  \n",
              "3                         0              1             0  \n",
              "4                         1              1             0  \n",
              "...                     ...            ...           ...  \n",
              "46028                     0              1             0  \n",
              "46029                     0              1             0  \n",
              "46030                     0              1             0  \n",
              "46031                     0              1             0  \n",
              "46032                     0              0             1  \n",
              "\n",
              "[46033 rows x 69 columns]"
            ],
            "text/html": [
              "\n",
              "  <div id=\"df-853e2cab-4262-466f-b310-5c4de048a3f9\">\n",
              "    <div class=\"colab-df-container\">\n",
              "      <div>\n",
              "<style scoped>\n",
              "    .dataframe tbody tr th:only-of-type {\n",
              "        vertical-align: middle;\n",
              "    }\n",
              "\n",
              "    .dataframe tbody tr th {\n",
              "        vertical-align: top;\n",
              "    }\n",
              "\n",
              "    .dataframe thead th {\n",
              "        text-align: right;\n",
              "    }\n",
              "</style>\n",
              "<table border=\"1\" class=\"dataframe\">\n",
              "  <thead>\n",
              "    <tr style=\"text-align: right;\">\n",
              "      <th></th>\n",
              "      <th>capital.gain</th>\n",
              "      <th>capital.loss</th>\n",
              "      <th>age_Young Adults</th>\n",
              "      <th>age_Middle-aged Adults</th>\n",
              "      <th>age_Old Adults</th>\n",
              "      <th>workclass_ Federal-gov</th>\n",
              "      <th>workclass_ Local-gov</th>\n",
              "      <th>workclass_ Private</th>\n",
              "      <th>workclass_ Self-emp-inc</th>\n",
              "      <th>workclass_ Self-emp-not-inc</th>\n",
              "      <th>...</th>\n",
              "      <th>race_ White</th>\n",
              "      <th>sex_ Female</th>\n",
              "      <th>sex_ Male</th>\n",
              "      <th>hours.per.week_Less Than 40 hours</th>\n",
              "      <th>hours.per.week_40 hours</th>\n",
              "      <th>hours.per.week_More than 40 hours</th>\n",
              "      <th>native.country_ United-States</th>\n",
              "      <th>native.country_Other</th>\n",
              "      <th>income_ &lt;=50K</th>\n",
              "      <th>income_ &gt;50K</th>\n",
              "    </tr>\n",
              "  </thead>\n",
              "  <tbody>\n",
              "    <tr>\n",
              "      <th>0</th>\n",
              "      <td>1</td>\n",
              "      <td>0</td>\n",
              "      <td>1</td>\n",
              "      <td>0</td>\n",
              "      <td>0</td>\n",
              "      <td>0</td>\n",
              "      <td>0</td>\n",
              "      <td>0</td>\n",
              "      <td>0</td>\n",
              "      <td>0</td>\n",
              "      <td>...</td>\n",
              "      <td>1</td>\n",
              "      <td>0</td>\n",
              "      <td>1</td>\n",
              "      <td>0</td>\n",
              "      <td>1</td>\n",
              "      <td>0</td>\n",
              "      <td>1</td>\n",
              "      <td>0</td>\n",
              "      <td>1</td>\n",
              "      <td>0</td>\n",
              "    </tr>\n",
              "    <tr>\n",
              "      <th>1</th>\n",
              "      <td>0</td>\n",
              "      <td>0</td>\n",
              "      <td>0</td>\n",
              "      <td>1</td>\n",
              "      <td>0</td>\n",
              "      <td>0</td>\n",
              "      <td>0</td>\n",
              "      <td>0</td>\n",
              "      <td>0</td>\n",
              "      <td>1</td>\n",
              "      <td>...</td>\n",
              "      <td>1</td>\n",
              "      <td>0</td>\n",
              "      <td>1</td>\n",
              "      <td>1</td>\n",
              "      <td>0</td>\n",
              "      <td>0</td>\n",
              "      <td>1</td>\n",
              "      <td>0</td>\n",
              "      <td>1</td>\n",
              "      <td>0</td>\n",
              "    </tr>\n",
              "    <tr>\n",
              "      <th>2</th>\n",
              "      <td>0</td>\n",
              "      <td>0</td>\n",
              "      <td>1</td>\n",
              "      <td>0</td>\n",
              "      <td>0</td>\n",
              "      <td>0</td>\n",
              "      <td>0</td>\n",
              "      <td>1</td>\n",
              "      <td>0</td>\n",
              "      <td>0</td>\n",
              "      <td>...</td>\n",
              "      <td>1</td>\n",
              "      <td>0</td>\n",
              "      <td>1</td>\n",
              "      <td>0</td>\n",
              "      <td>1</td>\n",
              "      <td>0</td>\n",
              "      <td>1</td>\n",
              "      <td>0</td>\n",
              "      <td>1</td>\n",
              "      <td>0</td>\n",
              "    </tr>\n",
              "    <tr>\n",
              "      <th>3</th>\n",
              "      <td>0</td>\n",
              "      <td>0</td>\n",
              "      <td>0</td>\n",
              "      <td>1</td>\n",
              "      <td>0</td>\n",
              "      <td>0</td>\n",
              "      <td>0</td>\n",
              "      <td>1</td>\n",
              "      <td>0</td>\n",
              "      <td>0</td>\n",
              "      <td>...</td>\n",
              "      <td>0</td>\n",
              "      <td>0</td>\n",
              "      <td>1</td>\n",
              "      <td>0</td>\n",
              "      <td>1</td>\n",
              "      <td>0</td>\n",
              "      <td>1</td>\n",
              "      <td>0</td>\n",
              "      <td>1</td>\n",
              "      <td>0</td>\n",
              "    </tr>\n",
              "    <tr>\n",
              "      <th>4</th>\n",
              "      <td>0</td>\n",
              "      <td>0</td>\n",
              "      <td>1</td>\n",
              "      <td>0</td>\n",
              "      <td>0</td>\n",
              "      <td>0</td>\n",
              "      <td>0</td>\n",
              "      <td>1</td>\n",
              "      <td>0</td>\n",
              "      <td>0</td>\n",
              "      <td>...</td>\n",
              "      <td>0</td>\n",
              "      <td>1</td>\n",
              "      <td>0</td>\n",
              "      <td>0</td>\n",
              "      <td>1</td>\n",
              "      <td>0</td>\n",
              "      <td>0</td>\n",
              "      <td>1</td>\n",
              "      <td>1</td>\n",
              "      <td>0</td>\n",
              "    </tr>\n",
              "    <tr>\n",
              "      <th>...</th>\n",
              "      <td>...</td>\n",
              "      <td>...</td>\n",
              "      <td>...</td>\n",
              "      <td>...</td>\n",
              "      <td>...</td>\n",
              "      <td>...</td>\n",
              "      <td>...</td>\n",
              "      <td>...</td>\n",
              "      <td>...</td>\n",
              "      <td>...</td>\n",
              "      <td>...</td>\n",
              "      <td>...</td>\n",
              "      <td>...</td>\n",
              "      <td>...</td>\n",
              "      <td>...</td>\n",
              "      <td>...</td>\n",
              "      <td>...</td>\n",
              "      <td>...</td>\n",
              "      <td>...</td>\n",
              "      <td>...</td>\n",
              "      <td>...</td>\n",
              "    </tr>\n",
              "    <tr>\n",
              "      <th>46028</th>\n",
              "      <td>0</td>\n",
              "      <td>0</td>\n",
              "      <td>1</td>\n",
              "      <td>0</td>\n",
              "      <td>0</td>\n",
              "      <td>0</td>\n",
              "      <td>0</td>\n",
              "      <td>1</td>\n",
              "      <td>0</td>\n",
              "      <td>0</td>\n",
              "      <td>...</td>\n",
              "      <td>1</td>\n",
              "      <td>0</td>\n",
              "      <td>1</td>\n",
              "      <td>0</td>\n",
              "      <td>1</td>\n",
              "      <td>0</td>\n",
              "      <td>1</td>\n",
              "      <td>0</td>\n",
              "      <td>1</td>\n",
              "      <td>0</td>\n",
              "    </tr>\n",
              "    <tr>\n",
              "      <th>46029</th>\n",
              "      <td>0</td>\n",
              "      <td>0</td>\n",
              "      <td>1</td>\n",
              "      <td>0</td>\n",
              "      <td>0</td>\n",
              "      <td>0</td>\n",
              "      <td>0</td>\n",
              "      <td>1</td>\n",
              "      <td>0</td>\n",
              "      <td>0</td>\n",
              "      <td>...</td>\n",
              "      <td>1</td>\n",
              "      <td>1</td>\n",
              "      <td>0</td>\n",
              "      <td>1</td>\n",
              "      <td>0</td>\n",
              "      <td>0</td>\n",
              "      <td>1</td>\n",
              "      <td>0</td>\n",
              "      <td>1</td>\n",
              "      <td>0</td>\n",
              "    </tr>\n",
              "    <tr>\n",
              "      <th>46030</th>\n",
              "      <td>0</td>\n",
              "      <td>0</td>\n",
              "      <td>1</td>\n",
              "      <td>0</td>\n",
              "      <td>0</td>\n",
              "      <td>0</td>\n",
              "      <td>0</td>\n",
              "      <td>1</td>\n",
              "      <td>0</td>\n",
              "      <td>0</td>\n",
              "      <td>...</td>\n",
              "      <td>1</td>\n",
              "      <td>0</td>\n",
              "      <td>1</td>\n",
              "      <td>0</td>\n",
              "      <td>0</td>\n",
              "      <td>1</td>\n",
              "      <td>1</td>\n",
              "      <td>0</td>\n",
              "      <td>1</td>\n",
              "      <td>0</td>\n",
              "    </tr>\n",
              "    <tr>\n",
              "      <th>46031</th>\n",
              "      <td>1</td>\n",
              "      <td>0</td>\n",
              "      <td>0</td>\n",
              "      <td>1</td>\n",
              "      <td>0</td>\n",
              "      <td>0</td>\n",
              "      <td>0</td>\n",
              "      <td>1</td>\n",
              "      <td>0</td>\n",
              "      <td>0</td>\n",
              "      <td>...</td>\n",
              "      <td>0</td>\n",
              "      <td>0</td>\n",
              "      <td>1</td>\n",
              "      <td>0</td>\n",
              "      <td>1</td>\n",
              "      <td>0</td>\n",
              "      <td>1</td>\n",
              "      <td>0</td>\n",
              "      <td>1</td>\n",
              "      <td>0</td>\n",
              "    </tr>\n",
              "    <tr>\n",
              "      <th>46032</th>\n",
              "      <td>0</td>\n",
              "      <td>0</td>\n",
              "      <td>1</td>\n",
              "      <td>0</td>\n",
              "      <td>0</td>\n",
              "      <td>0</td>\n",
              "      <td>0</td>\n",
              "      <td>0</td>\n",
              "      <td>1</td>\n",
              "      <td>0</td>\n",
              "      <td>...</td>\n",
              "      <td>1</td>\n",
              "      <td>0</td>\n",
              "      <td>1</td>\n",
              "      <td>0</td>\n",
              "      <td>0</td>\n",
              "      <td>1</td>\n",
              "      <td>1</td>\n",
              "      <td>0</td>\n",
              "      <td>0</td>\n",
              "      <td>1</td>\n",
              "    </tr>\n",
              "  </tbody>\n",
              "</table>\n",
              "<p>46033 rows × 69 columns</p>\n",
              "</div>\n",
              "      <button class=\"colab-df-convert\" onclick=\"convertToInteractive('df-853e2cab-4262-466f-b310-5c4de048a3f9')\"\n",
              "              title=\"Convert this dataframe to an interactive table.\"\n",
              "              style=\"display:none;\">\n",
              "        \n",
              "  <svg xmlns=\"http://www.w3.org/2000/svg\" height=\"24px\"viewBox=\"0 0 24 24\"\n",
              "       width=\"24px\">\n",
              "    <path d=\"M0 0h24v24H0V0z\" fill=\"none\"/>\n",
              "    <path d=\"M18.56 5.44l.94 2.06.94-2.06 2.06-.94-2.06-.94-.94-2.06-.94 2.06-2.06.94zm-11 1L8.5 8.5l.94-2.06 2.06-.94-2.06-.94L8.5 2.5l-.94 2.06-2.06.94zm10 10l.94 2.06.94-2.06 2.06-.94-2.06-.94-.94-2.06-.94 2.06-2.06.94z\"/><path d=\"M17.41 7.96l-1.37-1.37c-.4-.4-.92-.59-1.43-.59-.52 0-1.04.2-1.43.59L10.3 9.45l-7.72 7.72c-.78.78-.78 2.05 0 2.83L4 21.41c.39.39.9.59 1.41.59.51 0 1.02-.2 1.41-.59l7.78-7.78 2.81-2.81c.8-.78.8-2.07 0-2.86zM5.41 20L4 18.59l7.72-7.72 1.47 1.35L5.41 20z\"/>\n",
              "  </svg>\n",
              "      </button>\n",
              "      \n",
              "  <style>\n",
              "    .colab-df-container {\n",
              "      display:flex;\n",
              "      flex-wrap:wrap;\n",
              "      gap: 12px;\n",
              "    }\n",
              "\n",
              "    .colab-df-convert {\n",
              "      background-color: #E8F0FE;\n",
              "      border: none;\n",
              "      border-radius: 50%;\n",
              "      cursor: pointer;\n",
              "      display: none;\n",
              "      fill: #1967D2;\n",
              "      height: 32px;\n",
              "      padding: 0 0 0 0;\n",
              "      width: 32px;\n",
              "    }\n",
              "\n",
              "    .colab-df-convert:hover {\n",
              "      background-color: #E2EBFA;\n",
              "      box-shadow: 0px 1px 2px rgba(60, 64, 67, 0.3), 0px 1px 3px 1px rgba(60, 64, 67, 0.15);\n",
              "      fill: #174EA6;\n",
              "    }\n",
              "\n",
              "    [theme=dark] .colab-df-convert {\n",
              "      background-color: #3B4455;\n",
              "      fill: #D2E3FC;\n",
              "    }\n",
              "\n",
              "    [theme=dark] .colab-df-convert:hover {\n",
              "      background-color: #434B5C;\n",
              "      box-shadow: 0px 1px 3px 1px rgba(0, 0, 0, 0.15);\n",
              "      filter: drop-shadow(0px 1px 2px rgba(0, 0, 0, 0.3));\n",
              "      fill: #FFFFFF;\n",
              "    }\n",
              "  </style>\n",
              "\n",
              "      <script>\n",
              "        const buttonEl =\n",
              "          document.querySelector('#df-853e2cab-4262-466f-b310-5c4de048a3f9 button.colab-df-convert');\n",
              "        buttonEl.style.display =\n",
              "          google.colab.kernel.accessAllowed ? 'block' : 'none';\n",
              "\n",
              "        async function convertToInteractive(key) {\n",
              "          const element = document.querySelector('#df-853e2cab-4262-466f-b310-5c4de048a3f9');\n",
              "          const dataTable =\n",
              "            await google.colab.kernel.invokeFunction('convertToInteractive',\n",
              "                                                     [key], {});\n",
              "          if (!dataTable) return;\n",
              "\n",
              "          const docLinkHtml = 'Like what you see? Visit the ' +\n",
              "            '<a target=\"_blank\" href=https://colab.research.google.com/notebooks/data_table.ipynb>data table notebook</a>'\n",
              "            + ' to learn more about interactive tables.';\n",
              "          element.innerHTML = '';\n",
              "          dataTable['output_type'] = 'display_data';\n",
              "          await google.colab.output.renderOutput(dataTable, element);\n",
              "          const docLink = document.createElement('div');\n",
              "          docLink.innerHTML = docLinkHtml;\n",
              "          element.appendChild(docLink);\n",
              "        }\n",
              "      </script>\n",
              "    </div>\n",
              "  </div>\n",
              "  "
            ]
          },
          "metadata": {},
          "execution_count": 14
        }
      ]
    },
    {
      "cell_type": "markdown",
      "source": [
        "Binning capital.loss into any loss = 1 and no loss = 0"
      ],
      "metadata": {
        "id": "N78CvXgRGq4H"
      }
    },
    {
      "cell_type": "code",
      "source": [
        "data_a['capital.loss'] = np.where(data_a[\"capital.loss\"].isin([0]), 0, 1)"
      ],
      "metadata": {
        "id": "1tUDXR4sUrxu"
      },
      "execution_count": null,
      "outputs": []
    },
    {
      "cell_type": "markdown",
      "source": [
        "Running apriori"
      ],
      "metadata": {
        "id": "AxiWi4_GGxYr"
      }
    },
    {
      "cell_type": "code",
      "source": [
        "from mlxtend.frequent_patterns import apriori, association_rules\n",
        "import matplotlib.pyplot as plt\n",
        "\n",
        "freq_items = apriori(data_a, min_support=0.2, use_colnames=True)\n",
        "freq_items.head(7)"
      ],
      "metadata": {
        "colab": {
          "base_uri": "https://localhost:8080/",
          "height": 269
        },
        "id": "p-u5kmsWPVrQ",
        "outputId": "ee8b8a54-96bd-4409-f3d0-83e26dd9b5ea"
      },
      "execution_count": null,
      "outputs": [
        {
          "output_type": "execute_result",
          "data": {
            "text/plain": [
              "    support                              itemsets\n",
              "0  0.561749                    (age_Young Adults)\n",
              "1  0.366411              (age_Middle-aged Adults)\n",
              "2  0.736559                  (workclass_ Private)\n",
              "3  0.325245                   (eduction_ HS-grad)\n",
              "4  0.218018              (eduction_ Some-college)\n",
              "5  0.465992  (marital.status_ Married-civ-spouse)\n",
              "6  0.323138       (marital.status_ Never-married)"
            ],
            "text/html": [
              "\n",
              "  <div id=\"df-70d85034-b1a3-4b9e-a55b-1ce7151a4615\">\n",
              "    <div class=\"colab-df-container\">\n",
              "      <div>\n",
              "<style scoped>\n",
              "    .dataframe tbody tr th:only-of-type {\n",
              "        vertical-align: middle;\n",
              "    }\n",
              "\n",
              "    .dataframe tbody tr th {\n",
              "        vertical-align: top;\n",
              "    }\n",
              "\n",
              "    .dataframe thead th {\n",
              "        text-align: right;\n",
              "    }\n",
              "</style>\n",
              "<table border=\"1\" class=\"dataframe\">\n",
              "  <thead>\n",
              "    <tr style=\"text-align: right;\">\n",
              "      <th></th>\n",
              "      <th>support</th>\n",
              "      <th>itemsets</th>\n",
              "    </tr>\n",
              "  </thead>\n",
              "  <tbody>\n",
              "    <tr>\n",
              "      <th>0</th>\n",
              "      <td>0.561749</td>\n",
              "      <td>(age_Young Adults)</td>\n",
              "    </tr>\n",
              "    <tr>\n",
              "      <th>1</th>\n",
              "      <td>0.366411</td>\n",
              "      <td>(age_Middle-aged Adults)</td>\n",
              "    </tr>\n",
              "    <tr>\n",
              "      <th>2</th>\n",
              "      <td>0.736559</td>\n",
              "      <td>(workclass_ Private)</td>\n",
              "    </tr>\n",
              "    <tr>\n",
              "      <th>3</th>\n",
              "      <td>0.325245</td>\n",
              "      <td>(eduction_ HS-grad)</td>\n",
              "    </tr>\n",
              "    <tr>\n",
              "      <th>4</th>\n",
              "      <td>0.218018</td>\n",
              "      <td>(eduction_ Some-college)</td>\n",
              "    </tr>\n",
              "    <tr>\n",
              "      <th>5</th>\n",
              "      <td>0.465992</td>\n",
              "      <td>(marital.status_ Married-civ-spouse)</td>\n",
              "    </tr>\n",
              "    <tr>\n",
              "      <th>6</th>\n",
              "      <td>0.323138</td>\n",
              "      <td>(marital.status_ Never-married)</td>\n",
              "    </tr>\n",
              "  </tbody>\n",
              "</table>\n",
              "</div>\n",
              "      <button class=\"colab-df-convert\" onclick=\"convertToInteractive('df-70d85034-b1a3-4b9e-a55b-1ce7151a4615')\"\n",
              "              title=\"Convert this dataframe to an interactive table.\"\n",
              "              style=\"display:none;\">\n",
              "        \n",
              "  <svg xmlns=\"http://www.w3.org/2000/svg\" height=\"24px\"viewBox=\"0 0 24 24\"\n",
              "       width=\"24px\">\n",
              "    <path d=\"M0 0h24v24H0V0z\" fill=\"none\"/>\n",
              "    <path d=\"M18.56 5.44l.94 2.06.94-2.06 2.06-.94-2.06-.94-.94-2.06-.94 2.06-2.06.94zm-11 1L8.5 8.5l.94-2.06 2.06-.94-2.06-.94L8.5 2.5l-.94 2.06-2.06.94zm10 10l.94 2.06.94-2.06 2.06-.94-2.06-.94-.94-2.06-.94 2.06-2.06.94z\"/><path d=\"M17.41 7.96l-1.37-1.37c-.4-.4-.92-.59-1.43-.59-.52 0-1.04.2-1.43.59L10.3 9.45l-7.72 7.72c-.78.78-.78 2.05 0 2.83L4 21.41c.39.39.9.59 1.41.59.51 0 1.02-.2 1.41-.59l7.78-7.78 2.81-2.81c.8-.78.8-2.07 0-2.86zM5.41 20L4 18.59l7.72-7.72 1.47 1.35L5.41 20z\"/>\n",
              "  </svg>\n",
              "      </button>\n",
              "      \n",
              "  <style>\n",
              "    .colab-df-container {\n",
              "      display:flex;\n",
              "      flex-wrap:wrap;\n",
              "      gap: 12px;\n",
              "    }\n",
              "\n",
              "    .colab-df-convert {\n",
              "      background-color: #E8F0FE;\n",
              "      border: none;\n",
              "      border-radius: 50%;\n",
              "      cursor: pointer;\n",
              "      display: none;\n",
              "      fill: #1967D2;\n",
              "      height: 32px;\n",
              "      padding: 0 0 0 0;\n",
              "      width: 32px;\n",
              "    }\n",
              "\n",
              "    .colab-df-convert:hover {\n",
              "      background-color: #E2EBFA;\n",
              "      box-shadow: 0px 1px 2px rgba(60, 64, 67, 0.3), 0px 1px 3px 1px rgba(60, 64, 67, 0.15);\n",
              "      fill: #174EA6;\n",
              "    }\n",
              "\n",
              "    [theme=dark] .colab-df-convert {\n",
              "      background-color: #3B4455;\n",
              "      fill: #D2E3FC;\n",
              "    }\n",
              "\n",
              "    [theme=dark] .colab-df-convert:hover {\n",
              "      background-color: #434B5C;\n",
              "      box-shadow: 0px 1px 3px 1px rgba(0, 0, 0, 0.15);\n",
              "      filter: drop-shadow(0px 1px 2px rgba(0, 0, 0, 0.3));\n",
              "      fill: #FFFFFF;\n",
              "    }\n",
              "  </style>\n",
              "\n",
              "      <script>\n",
              "        const buttonEl =\n",
              "          document.querySelector('#df-70d85034-b1a3-4b9e-a55b-1ce7151a4615 button.colab-df-convert');\n",
              "        buttonEl.style.display =\n",
              "          google.colab.kernel.accessAllowed ? 'block' : 'none';\n",
              "\n",
              "        async function convertToInteractive(key) {\n",
              "          const element = document.querySelector('#df-70d85034-b1a3-4b9e-a55b-1ce7151a4615');\n",
              "          const dataTable =\n",
              "            await google.colab.kernel.invokeFunction('convertToInteractive',\n",
              "                                                     [key], {});\n",
              "          if (!dataTable) return;\n",
              "\n",
              "          const docLinkHtml = 'Like what you see? Visit the ' +\n",
              "            '<a target=\"_blank\" href=https://colab.research.google.com/notebooks/data_table.ipynb>data table notebook</a>'\n",
              "            + ' to learn more about interactive tables.';\n",
              "          element.innerHTML = '';\n",
              "          dataTable['output_type'] = 'display_data';\n",
              "          await google.colab.output.renderOutput(dataTable, element);\n",
              "          const docLink = document.createElement('div');\n",
              "          docLink.innerHTML = docLinkHtml;\n",
              "          element.appendChild(docLink);\n",
              "        }\n",
              "      </script>\n",
              "    </div>\n",
              "  </div>\n",
              "  "
            ]
          },
          "metadata": {},
          "execution_count": 16
        }
      ]
    },
    {
      "cell_type": "code",
      "source": [
        "freq_items.head(20)"
      ],
      "metadata": {
        "colab": {
          "base_uri": "https://localhost:8080/",
          "height": 677
        },
        "id": "0l2tgyRb98c2",
        "outputId": "e881e8d3-bd58-41bd-d0c0-e74316fba2ee"
      },
      "execution_count": null,
      "outputs": [
        {
          "output_type": "execute_result",
          "data": {
            "text/plain": [
              "     support                                           itemsets\n",
              "0   0.561749                                 (age_Young Adults)\n",
              "1   0.366411                           (age_Middle-aged Adults)\n",
              "2   0.736559                               (workclass_ Private)\n",
              "3   0.325245                                (eduction_ HS-grad)\n",
              "4   0.218018                           (eduction_ Some-college)\n",
              "5   0.465992               (marital.status_ Married-civ-spouse)\n",
              "6   0.323138                    (marital.status_ Never-married)\n",
              "7   0.412856                            (relationship_ Husband)\n",
              "8   0.258858                      (relationship_ Not-in-family)\n",
              "9   0.856864                                      (race_ White)\n",
              "10  0.324094                                      (sex_ Female)\n",
              "11  0.675906                                        (sex_ Male)\n",
              "12  0.222471                (hours.per.week_Less Than 40 hours)\n",
              "13  0.472856                          (hours.per.week_40 hours)\n",
              "14  0.304673                (hours.per.week_More than 40 hours)\n",
              "15  0.897009                    (native.country_ United-States)\n",
              "16  0.751874                                    (income_ <=50K)\n",
              "17  0.248126                                     (income_ >50K)\n",
              "18  0.453718             (age_Young Adults, workclass_ Private)\n",
              "19  0.200400  (age_Young Adults, marital.status_ Married-civ..."
            ],
            "text/html": [
              "\n",
              "  <div id=\"df-c4b5d9fb-2707-4906-8971-52f82466b5e8\">\n",
              "    <div class=\"colab-df-container\">\n",
              "      <div>\n",
              "<style scoped>\n",
              "    .dataframe tbody tr th:only-of-type {\n",
              "        vertical-align: middle;\n",
              "    }\n",
              "\n",
              "    .dataframe tbody tr th {\n",
              "        vertical-align: top;\n",
              "    }\n",
              "\n",
              "    .dataframe thead th {\n",
              "        text-align: right;\n",
              "    }\n",
              "</style>\n",
              "<table border=\"1\" class=\"dataframe\">\n",
              "  <thead>\n",
              "    <tr style=\"text-align: right;\">\n",
              "      <th></th>\n",
              "      <th>support</th>\n",
              "      <th>itemsets</th>\n",
              "    </tr>\n",
              "  </thead>\n",
              "  <tbody>\n",
              "    <tr>\n",
              "      <th>0</th>\n",
              "      <td>0.561749</td>\n",
              "      <td>(age_Young Adults)</td>\n",
              "    </tr>\n",
              "    <tr>\n",
              "      <th>1</th>\n",
              "      <td>0.366411</td>\n",
              "      <td>(age_Middle-aged Adults)</td>\n",
              "    </tr>\n",
              "    <tr>\n",
              "      <th>2</th>\n",
              "      <td>0.736559</td>\n",
              "      <td>(workclass_ Private)</td>\n",
              "    </tr>\n",
              "    <tr>\n",
              "      <th>3</th>\n",
              "      <td>0.325245</td>\n",
              "      <td>(eduction_ HS-grad)</td>\n",
              "    </tr>\n",
              "    <tr>\n",
              "      <th>4</th>\n",
              "      <td>0.218018</td>\n",
              "      <td>(eduction_ Some-college)</td>\n",
              "    </tr>\n",
              "    <tr>\n",
              "      <th>5</th>\n",
              "      <td>0.465992</td>\n",
              "      <td>(marital.status_ Married-civ-spouse)</td>\n",
              "    </tr>\n",
              "    <tr>\n",
              "      <th>6</th>\n",
              "      <td>0.323138</td>\n",
              "      <td>(marital.status_ Never-married)</td>\n",
              "    </tr>\n",
              "    <tr>\n",
              "      <th>7</th>\n",
              "      <td>0.412856</td>\n",
              "      <td>(relationship_ Husband)</td>\n",
              "    </tr>\n",
              "    <tr>\n",
              "      <th>8</th>\n",
              "      <td>0.258858</td>\n",
              "      <td>(relationship_ Not-in-family)</td>\n",
              "    </tr>\n",
              "    <tr>\n",
              "      <th>9</th>\n",
              "      <td>0.856864</td>\n",
              "      <td>(race_ White)</td>\n",
              "    </tr>\n",
              "    <tr>\n",
              "      <th>10</th>\n",
              "      <td>0.324094</td>\n",
              "      <td>(sex_ Female)</td>\n",
              "    </tr>\n",
              "    <tr>\n",
              "      <th>11</th>\n",
              "      <td>0.675906</td>\n",
              "      <td>(sex_ Male)</td>\n",
              "    </tr>\n",
              "    <tr>\n",
              "      <th>12</th>\n",
              "      <td>0.222471</td>\n",
              "      <td>(hours.per.week_Less Than 40 hours)</td>\n",
              "    </tr>\n",
              "    <tr>\n",
              "      <th>13</th>\n",
              "      <td>0.472856</td>\n",
              "      <td>(hours.per.week_40 hours)</td>\n",
              "    </tr>\n",
              "    <tr>\n",
              "      <th>14</th>\n",
              "      <td>0.304673</td>\n",
              "      <td>(hours.per.week_More than 40 hours)</td>\n",
              "    </tr>\n",
              "    <tr>\n",
              "      <th>15</th>\n",
              "      <td>0.897009</td>\n",
              "      <td>(native.country_ United-States)</td>\n",
              "    </tr>\n",
              "    <tr>\n",
              "      <th>16</th>\n",
              "      <td>0.751874</td>\n",
              "      <td>(income_ &lt;=50K)</td>\n",
              "    </tr>\n",
              "    <tr>\n",
              "      <th>17</th>\n",
              "      <td>0.248126</td>\n",
              "      <td>(income_ &gt;50K)</td>\n",
              "    </tr>\n",
              "    <tr>\n",
              "      <th>18</th>\n",
              "      <td>0.453718</td>\n",
              "      <td>(age_Young Adults, workclass_ Private)</td>\n",
              "    </tr>\n",
              "    <tr>\n",
              "      <th>19</th>\n",
              "      <td>0.200400</td>\n",
              "      <td>(age_Young Adults, marital.status_ Married-civ...</td>\n",
              "    </tr>\n",
              "  </tbody>\n",
              "</table>\n",
              "</div>\n",
              "      <button class=\"colab-df-convert\" onclick=\"convertToInteractive('df-c4b5d9fb-2707-4906-8971-52f82466b5e8')\"\n",
              "              title=\"Convert this dataframe to an interactive table.\"\n",
              "              style=\"display:none;\">\n",
              "        \n",
              "  <svg xmlns=\"http://www.w3.org/2000/svg\" height=\"24px\"viewBox=\"0 0 24 24\"\n",
              "       width=\"24px\">\n",
              "    <path d=\"M0 0h24v24H0V0z\" fill=\"none\"/>\n",
              "    <path d=\"M18.56 5.44l.94 2.06.94-2.06 2.06-.94-2.06-.94-.94-2.06-.94 2.06-2.06.94zm-11 1L8.5 8.5l.94-2.06 2.06-.94-2.06-.94L8.5 2.5l-.94 2.06-2.06.94zm10 10l.94 2.06.94-2.06 2.06-.94-2.06-.94-.94-2.06-.94 2.06-2.06.94z\"/><path d=\"M17.41 7.96l-1.37-1.37c-.4-.4-.92-.59-1.43-.59-.52 0-1.04.2-1.43.59L10.3 9.45l-7.72 7.72c-.78.78-.78 2.05 0 2.83L4 21.41c.39.39.9.59 1.41.59.51 0 1.02-.2 1.41-.59l7.78-7.78 2.81-2.81c.8-.78.8-2.07 0-2.86zM5.41 20L4 18.59l7.72-7.72 1.47 1.35L5.41 20z\"/>\n",
              "  </svg>\n",
              "      </button>\n",
              "      \n",
              "  <style>\n",
              "    .colab-df-container {\n",
              "      display:flex;\n",
              "      flex-wrap:wrap;\n",
              "      gap: 12px;\n",
              "    }\n",
              "\n",
              "    .colab-df-convert {\n",
              "      background-color: #E8F0FE;\n",
              "      border: none;\n",
              "      border-radius: 50%;\n",
              "      cursor: pointer;\n",
              "      display: none;\n",
              "      fill: #1967D2;\n",
              "      height: 32px;\n",
              "      padding: 0 0 0 0;\n",
              "      width: 32px;\n",
              "    }\n",
              "\n",
              "    .colab-df-convert:hover {\n",
              "      background-color: #E2EBFA;\n",
              "      box-shadow: 0px 1px 2px rgba(60, 64, 67, 0.3), 0px 1px 3px 1px rgba(60, 64, 67, 0.15);\n",
              "      fill: #174EA6;\n",
              "    }\n",
              "\n",
              "    [theme=dark] .colab-df-convert {\n",
              "      background-color: #3B4455;\n",
              "      fill: #D2E3FC;\n",
              "    }\n",
              "\n",
              "    [theme=dark] .colab-df-convert:hover {\n",
              "      background-color: #434B5C;\n",
              "      box-shadow: 0px 1px 3px 1px rgba(0, 0, 0, 0.15);\n",
              "      filter: drop-shadow(0px 1px 2px rgba(0, 0, 0, 0.3));\n",
              "      fill: #FFFFFF;\n",
              "    }\n",
              "  </style>\n",
              "\n",
              "      <script>\n",
              "        const buttonEl =\n",
              "          document.querySelector('#df-c4b5d9fb-2707-4906-8971-52f82466b5e8 button.colab-df-convert');\n",
              "        buttonEl.style.display =\n",
              "          google.colab.kernel.accessAllowed ? 'block' : 'none';\n",
              "\n",
              "        async function convertToInteractive(key) {\n",
              "          const element = document.querySelector('#df-c4b5d9fb-2707-4906-8971-52f82466b5e8');\n",
              "          const dataTable =\n",
              "            await google.colab.kernel.invokeFunction('convertToInteractive',\n",
              "                                                     [key], {});\n",
              "          if (!dataTable) return;\n",
              "\n",
              "          const docLinkHtml = 'Like what you see? Visit the ' +\n",
              "            '<a target=\"_blank\" href=https://colab.research.google.com/notebooks/data_table.ipynb>data table notebook</a>'\n",
              "            + ' to learn more about interactive tables.';\n",
              "          element.innerHTML = '';\n",
              "          dataTable['output_type'] = 'display_data';\n",
              "          await google.colab.output.renderOutput(dataTable, element);\n",
              "          const docLink = document.createElement('div');\n",
              "          docLink.innerHTML = docLinkHtml;\n",
              "          element.appendChild(docLink);\n",
              "        }\n",
              "      </script>\n",
              "    </div>\n",
              "  </div>\n",
              "  "
            ]
          },
          "metadata": {},
          "execution_count": 17
        }
      ]
    },
    {
      "cell_type": "code",
      "source": [
        "rules = association_rules(freq_items, metric=\"confidence\", min_threshold=0.6)\n",
        "rules.head()"
      ],
      "metadata": {
        "colab": {
          "base_uri": "https://localhost:8080/",
          "height": 206
        },
        "id": "vEzZhR_g9npS",
        "outputId": "59982ac0-9b99-45e2-b1d5-c963ff01b70a"
      },
      "execution_count": null,
      "outputs": [
        {
          "output_type": "execute_result",
          "data": {
            "text/plain": [
              "                       antecedents           consequents  antecedent support  \\\n",
              "0               (age_Young Adults)  (workclass_ Private)            0.561749   \n",
              "1             (workclass_ Private)    (age_Young Adults)            0.736559   \n",
              "2  (marital.status_ Never-married)    (age_Young Adults)            0.323138   \n",
              "3               (age_Young Adults)         (race_ White)            0.561749   \n",
              "4               (age_Young Adults)           (sex_ Male)            0.561749   \n",
              "\n",
              "   consequent support   support  confidence      lift  leverage  conviction  \n",
              "0            0.736559  0.453718    0.807688  1.096570  0.039957    1.369864  \n",
              "1            0.561749  0.453718    0.615997  1.096570  0.039957    1.141270  \n",
              "2            0.561749  0.282406    0.873950  1.555765  0.100884    3.476790  \n",
              "3            0.856864  0.476919    0.848989  0.990810 -0.004424    0.947853  \n",
              "4            0.675906  0.365977    0.651495  0.963883 -0.013713    0.929953  "
            ],
            "text/html": [
              "\n",
              "  <div id=\"df-4fac8c80-5f96-4488-9d78-be535f0932d2\">\n",
              "    <div class=\"colab-df-container\">\n",
              "      <div>\n",
              "<style scoped>\n",
              "    .dataframe tbody tr th:only-of-type {\n",
              "        vertical-align: middle;\n",
              "    }\n",
              "\n",
              "    .dataframe tbody tr th {\n",
              "        vertical-align: top;\n",
              "    }\n",
              "\n",
              "    .dataframe thead th {\n",
              "        text-align: right;\n",
              "    }\n",
              "</style>\n",
              "<table border=\"1\" class=\"dataframe\">\n",
              "  <thead>\n",
              "    <tr style=\"text-align: right;\">\n",
              "      <th></th>\n",
              "      <th>antecedents</th>\n",
              "      <th>consequents</th>\n",
              "      <th>antecedent support</th>\n",
              "      <th>consequent support</th>\n",
              "      <th>support</th>\n",
              "      <th>confidence</th>\n",
              "      <th>lift</th>\n",
              "      <th>leverage</th>\n",
              "      <th>conviction</th>\n",
              "    </tr>\n",
              "  </thead>\n",
              "  <tbody>\n",
              "    <tr>\n",
              "      <th>0</th>\n",
              "      <td>(age_Young Adults)</td>\n",
              "      <td>(workclass_ Private)</td>\n",
              "      <td>0.561749</td>\n",
              "      <td>0.736559</td>\n",
              "      <td>0.453718</td>\n",
              "      <td>0.807688</td>\n",
              "      <td>1.096570</td>\n",
              "      <td>0.039957</td>\n",
              "      <td>1.369864</td>\n",
              "    </tr>\n",
              "    <tr>\n",
              "      <th>1</th>\n",
              "      <td>(workclass_ Private)</td>\n",
              "      <td>(age_Young Adults)</td>\n",
              "      <td>0.736559</td>\n",
              "      <td>0.561749</td>\n",
              "      <td>0.453718</td>\n",
              "      <td>0.615997</td>\n",
              "      <td>1.096570</td>\n",
              "      <td>0.039957</td>\n",
              "      <td>1.141270</td>\n",
              "    </tr>\n",
              "    <tr>\n",
              "      <th>2</th>\n",
              "      <td>(marital.status_ Never-married)</td>\n",
              "      <td>(age_Young Adults)</td>\n",
              "      <td>0.323138</td>\n",
              "      <td>0.561749</td>\n",
              "      <td>0.282406</td>\n",
              "      <td>0.873950</td>\n",
              "      <td>1.555765</td>\n",
              "      <td>0.100884</td>\n",
              "      <td>3.476790</td>\n",
              "    </tr>\n",
              "    <tr>\n",
              "      <th>3</th>\n",
              "      <td>(age_Young Adults)</td>\n",
              "      <td>(race_ White)</td>\n",
              "      <td>0.561749</td>\n",
              "      <td>0.856864</td>\n",
              "      <td>0.476919</td>\n",
              "      <td>0.848989</td>\n",
              "      <td>0.990810</td>\n",
              "      <td>-0.004424</td>\n",
              "      <td>0.947853</td>\n",
              "    </tr>\n",
              "    <tr>\n",
              "      <th>4</th>\n",
              "      <td>(age_Young Adults)</td>\n",
              "      <td>(sex_ Male)</td>\n",
              "      <td>0.561749</td>\n",
              "      <td>0.675906</td>\n",
              "      <td>0.365977</td>\n",
              "      <td>0.651495</td>\n",
              "      <td>0.963883</td>\n",
              "      <td>-0.013713</td>\n",
              "      <td>0.929953</td>\n",
              "    </tr>\n",
              "  </tbody>\n",
              "</table>\n",
              "</div>\n",
              "      <button class=\"colab-df-convert\" onclick=\"convertToInteractive('df-4fac8c80-5f96-4488-9d78-be535f0932d2')\"\n",
              "              title=\"Convert this dataframe to an interactive table.\"\n",
              "              style=\"display:none;\">\n",
              "        \n",
              "  <svg xmlns=\"http://www.w3.org/2000/svg\" height=\"24px\"viewBox=\"0 0 24 24\"\n",
              "       width=\"24px\">\n",
              "    <path d=\"M0 0h24v24H0V0z\" fill=\"none\"/>\n",
              "    <path d=\"M18.56 5.44l.94 2.06.94-2.06 2.06-.94-2.06-.94-.94-2.06-.94 2.06-2.06.94zm-11 1L8.5 8.5l.94-2.06 2.06-.94-2.06-.94L8.5 2.5l-.94 2.06-2.06.94zm10 10l.94 2.06.94-2.06 2.06-.94-2.06-.94-.94-2.06-.94 2.06-2.06.94z\"/><path d=\"M17.41 7.96l-1.37-1.37c-.4-.4-.92-.59-1.43-.59-.52 0-1.04.2-1.43.59L10.3 9.45l-7.72 7.72c-.78.78-.78 2.05 0 2.83L4 21.41c.39.39.9.59 1.41.59.51 0 1.02-.2 1.41-.59l7.78-7.78 2.81-2.81c.8-.78.8-2.07 0-2.86zM5.41 20L4 18.59l7.72-7.72 1.47 1.35L5.41 20z\"/>\n",
              "  </svg>\n",
              "      </button>\n",
              "      \n",
              "  <style>\n",
              "    .colab-df-container {\n",
              "      display:flex;\n",
              "      flex-wrap:wrap;\n",
              "      gap: 12px;\n",
              "    }\n",
              "\n",
              "    .colab-df-convert {\n",
              "      background-color: #E8F0FE;\n",
              "      border: none;\n",
              "      border-radius: 50%;\n",
              "      cursor: pointer;\n",
              "      display: none;\n",
              "      fill: #1967D2;\n",
              "      height: 32px;\n",
              "      padding: 0 0 0 0;\n",
              "      width: 32px;\n",
              "    }\n",
              "\n",
              "    .colab-df-convert:hover {\n",
              "      background-color: #E2EBFA;\n",
              "      box-shadow: 0px 1px 2px rgba(60, 64, 67, 0.3), 0px 1px 3px 1px rgba(60, 64, 67, 0.15);\n",
              "      fill: #174EA6;\n",
              "    }\n",
              "\n",
              "    [theme=dark] .colab-df-convert {\n",
              "      background-color: #3B4455;\n",
              "      fill: #D2E3FC;\n",
              "    }\n",
              "\n",
              "    [theme=dark] .colab-df-convert:hover {\n",
              "      background-color: #434B5C;\n",
              "      box-shadow: 0px 1px 3px 1px rgba(0, 0, 0, 0.15);\n",
              "      filter: drop-shadow(0px 1px 2px rgba(0, 0, 0, 0.3));\n",
              "      fill: #FFFFFF;\n",
              "    }\n",
              "  </style>\n",
              "\n",
              "      <script>\n",
              "        const buttonEl =\n",
              "          document.querySelector('#df-4fac8c80-5f96-4488-9d78-be535f0932d2 button.colab-df-convert');\n",
              "        buttonEl.style.display =\n",
              "          google.colab.kernel.accessAllowed ? 'block' : 'none';\n",
              "\n",
              "        async function convertToInteractive(key) {\n",
              "          const element = document.querySelector('#df-4fac8c80-5f96-4488-9d78-be535f0932d2');\n",
              "          const dataTable =\n",
              "            await google.colab.kernel.invokeFunction('convertToInteractive',\n",
              "                                                     [key], {});\n",
              "          if (!dataTable) return;\n",
              "\n",
              "          const docLinkHtml = 'Like what you see? Visit the ' +\n",
              "            '<a target=\"_blank\" href=https://colab.research.google.com/notebooks/data_table.ipynb>data table notebook</a>'\n",
              "            + ' to learn more about interactive tables.';\n",
              "          element.innerHTML = '';\n",
              "          dataTable['output_type'] = 'display_data';\n",
              "          await google.colab.output.renderOutput(dataTable, element);\n",
              "          const docLink = document.createElement('div');\n",
              "          docLink.innerHTML = docLinkHtml;\n",
              "          element.appendChild(docLink);\n",
              "        }\n",
              "      </script>\n",
              "    </div>\n",
              "  </div>\n",
              "  "
            ]
          },
          "metadata": {},
          "execution_count": 18
        }
      ]
    },
    {
      "cell_type": "code",
      "source": [
        "rules.head(500)"
      ],
      "metadata": {
        "colab": {
          "base_uri": "https://localhost:8080/",
          "height": 424
        },
        "id": "zpA5QDLa-A5k",
        "outputId": "fc3ab5dc-96b6-401d-be60-d1db309915c9"
      },
      "execution_count": null,
      "outputs": [
        {
          "output_type": "execute_result",
          "data": {
            "text/plain": [
              "                                           antecedents  \\\n",
              "0                                   (age_Young Adults)   \n",
              "1                                 (workclass_ Private)   \n",
              "2                      (marital.status_ Never-married)   \n",
              "3                                   (age_Young Adults)   \n",
              "4                                   (age_Young Adults)   \n",
              "..                                                 ...   \n",
              "495                 (sex_ Male, relationship_ Husband)   \n",
              "496  (marital.status_ Married-civ-spouse, relations...   \n",
              "497  (marital.status_ Married-civ-spouse, workclass...   \n",
              "498        (relationship_ Husband, workclass_ Private)   \n",
              "499                            (relationship_ Husband)   \n",
              "\n",
              "                                           consequents  antecedent support  \\\n",
              "0                                 (workclass_ Private)            0.561749   \n",
              "1                                   (age_Young Adults)            0.736559   \n",
              "2                                   (age_Young Adults)            0.323138   \n",
              "3                                        (race_ White)            0.561749   \n",
              "4                                          (sex_ Male)            0.561749   \n",
              "..                                                 ...                 ...   \n",
              "495  (marital.status_ Married-civ-spouse, workclass...            0.412834   \n",
              "496                    (sex_ Male, workclass_ Private)            0.412617   \n",
              "497                 (sex_ Male, relationship_ Husband)            0.314405   \n",
              "498    (sex_ Male, marital.status_ Married-civ-spouse)            0.276888   \n",
              "499  (sex_ Male, marital.status_ Married-civ-spouse...            0.412856   \n",
              "\n",
              "     consequent support   support  confidence      lift  leverage  conviction  \n",
              "0              0.736559  0.453718    0.807688  1.096570  0.039957    1.369864  \n",
              "1              0.561749  0.453718    0.615997  1.096570  0.039957    1.141270  \n",
              "2              0.561749  0.282406    0.873950  1.555765  0.100884    3.476790  \n",
              "3              0.856864  0.476919    0.848989  0.990810 -0.004424    0.947853  \n",
              "4              0.675906  0.365977    0.651495  0.963883 -0.013713    0.929953  \n",
              "..                  ...       ...         ...       ...       ...         ...  \n",
              "495            0.314405  0.276693    0.670227  2.131733  0.146896    2.078993  \n",
              "496            0.484587  0.276693    0.670580  1.383818  0.076744    1.564608  \n",
              "497            0.412834  0.276693    0.880053  2.131733  0.146896    4.895190  \n",
              "498            0.416723  0.276693    0.999294  2.397982  0.161307  826.050152  \n",
              "499            0.279756  0.276693    0.670192  2.395632  0.161194    2.183829  \n",
              "\n",
              "[500 rows x 9 columns]"
            ],
            "text/html": [
              "\n",
              "  <div id=\"df-a5e6b194-84f8-4e4a-b5f6-dab6f52bf243\">\n",
              "    <div class=\"colab-df-container\">\n",
              "      <div>\n",
              "<style scoped>\n",
              "    .dataframe tbody tr th:only-of-type {\n",
              "        vertical-align: middle;\n",
              "    }\n",
              "\n",
              "    .dataframe tbody tr th {\n",
              "        vertical-align: top;\n",
              "    }\n",
              "\n",
              "    .dataframe thead th {\n",
              "        text-align: right;\n",
              "    }\n",
              "</style>\n",
              "<table border=\"1\" class=\"dataframe\">\n",
              "  <thead>\n",
              "    <tr style=\"text-align: right;\">\n",
              "      <th></th>\n",
              "      <th>antecedents</th>\n",
              "      <th>consequents</th>\n",
              "      <th>antecedent support</th>\n",
              "      <th>consequent support</th>\n",
              "      <th>support</th>\n",
              "      <th>confidence</th>\n",
              "      <th>lift</th>\n",
              "      <th>leverage</th>\n",
              "      <th>conviction</th>\n",
              "    </tr>\n",
              "  </thead>\n",
              "  <tbody>\n",
              "    <tr>\n",
              "      <th>0</th>\n",
              "      <td>(age_Young Adults)</td>\n",
              "      <td>(workclass_ Private)</td>\n",
              "      <td>0.561749</td>\n",
              "      <td>0.736559</td>\n",
              "      <td>0.453718</td>\n",
              "      <td>0.807688</td>\n",
              "      <td>1.096570</td>\n",
              "      <td>0.039957</td>\n",
              "      <td>1.369864</td>\n",
              "    </tr>\n",
              "    <tr>\n",
              "      <th>1</th>\n",
              "      <td>(workclass_ Private)</td>\n",
              "      <td>(age_Young Adults)</td>\n",
              "      <td>0.736559</td>\n",
              "      <td>0.561749</td>\n",
              "      <td>0.453718</td>\n",
              "      <td>0.615997</td>\n",
              "      <td>1.096570</td>\n",
              "      <td>0.039957</td>\n",
              "      <td>1.141270</td>\n",
              "    </tr>\n",
              "    <tr>\n",
              "      <th>2</th>\n",
              "      <td>(marital.status_ Never-married)</td>\n",
              "      <td>(age_Young Adults)</td>\n",
              "      <td>0.323138</td>\n",
              "      <td>0.561749</td>\n",
              "      <td>0.282406</td>\n",
              "      <td>0.873950</td>\n",
              "      <td>1.555765</td>\n",
              "      <td>0.100884</td>\n",
              "      <td>3.476790</td>\n",
              "    </tr>\n",
              "    <tr>\n",
              "      <th>3</th>\n",
              "      <td>(age_Young Adults)</td>\n",
              "      <td>(race_ White)</td>\n",
              "      <td>0.561749</td>\n",
              "      <td>0.856864</td>\n",
              "      <td>0.476919</td>\n",
              "      <td>0.848989</td>\n",
              "      <td>0.990810</td>\n",
              "      <td>-0.004424</td>\n",
              "      <td>0.947853</td>\n",
              "    </tr>\n",
              "    <tr>\n",
              "      <th>4</th>\n",
              "      <td>(age_Young Adults)</td>\n",
              "      <td>(sex_ Male)</td>\n",
              "      <td>0.561749</td>\n",
              "      <td>0.675906</td>\n",
              "      <td>0.365977</td>\n",
              "      <td>0.651495</td>\n",
              "      <td>0.963883</td>\n",
              "      <td>-0.013713</td>\n",
              "      <td>0.929953</td>\n",
              "    </tr>\n",
              "    <tr>\n",
              "      <th>...</th>\n",
              "      <td>...</td>\n",
              "      <td>...</td>\n",
              "      <td>...</td>\n",
              "      <td>...</td>\n",
              "      <td>...</td>\n",
              "      <td>...</td>\n",
              "      <td>...</td>\n",
              "      <td>...</td>\n",
              "      <td>...</td>\n",
              "    </tr>\n",
              "    <tr>\n",
              "      <th>495</th>\n",
              "      <td>(sex_ Male, relationship_ Husband)</td>\n",
              "      <td>(marital.status_ Married-civ-spouse, workclass...</td>\n",
              "      <td>0.412834</td>\n",
              "      <td>0.314405</td>\n",
              "      <td>0.276693</td>\n",
              "      <td>0.670227</td>\n",
              "      <td>2.131733</td>\n",
              "      <td>0.146896</td>\n",
              "      <td>2.078993</td>\n",
              "    </tr>\n",
              "    <tr>\n",
              "      <th>496</th>\n",
              "      <td>(marital.status_ Married-civ-spouse, relations...</td>\n",
              "      <td>(sex_ Male, workclass_ Private)</td>\n",
              "      <td>0.412617</td>\n",
              "      <td>0.484587</td>\n",
              "      <td>0.276693</td>\n",
              "      <td>0.670580</td>\n",
              "      <td>1.383818</td>\n",
              "      <td>0.076744</td>\n",
              "      <td>1.564608</td>\n",
              "    </tr>\n",
              "    <tr>\n",
              "      <th>497</th>\n",
              "      <td>(marital.status_ Married-civ-spouse, workclass...</td>\n",
              "      <td>(sex_ Male, relationship_ Husband)</td>\n",
              "      <td>0.314405</td>\n",
              "      <td>0.412834</td>\n",
              "      <td>0.276693</td>\n",
              "      <td>0.880053</td>\n",
              "      <td>2.131733</td>\n",
              "      <td>0.146896</td>\n",
              "      <td>4.895190</td>\n",
              "    </tr>\n",
              "    <tr>\n",
              "      <th>498</th>\n",
              "      <td>(relationship_ Husband, workclass_ Private)</td>\n",
              "      <td>(sex_ Male, marital.status_ Married-civ-spouse)</td>\n",
              "      <td>0.276888</td>\n",
              "      <td>0.416723</td>\n",
              "      <td>0.276693</td>\n",
              "      <td>0.999294</td>\n",
              "      <td>2.397982</td>\n",
              "      <td>0.161307</td>\n",
              "      <td>826.050152</td>\n",
              "    </tr>\n",
              "    <tr>\n",
              "      <th>499</th>\n",
              "      <td>(relationship_ Husband)</td>\n",
              "      <td>(sex_ Male, marital.status_ Married-civ-spouse...</td>\n",
              "      <td>0.412856</td>\n",
              "      <td>0.279756</td>\n",
              "      <td>0.276693</td>\n",
              "      <td>0.670192</td>\n",
              "      <td>2.395632</td>\n",
              "      <td>0.161194</td>\n",
              "      <td>2.183829</td>\n",
              "    </tr>\n",
              "  </tbody>\n",
              "</table>\n",
              "<p>500 rows × 9 columns</p>\n",
              "</div>\n",
              "      <button class=\"colab-df-convert\" onclick=\"convertToInteractive('df-a5e6b194-84f8-4e4a-b5f6-dab6f52bf243')\"\n",
              "              title=\"Convert this dataframe to an interactive table.\"\n",
              "              style=\"display:none;\">\n",
              "        \n",
              "  <svg xmlns=\"http://www.w3.org/2000/svg\" height=\"24px\"viewBox=\"0 0 24 24\"\n",
              "       width=\"24px\">\n",
              "    <path d=\"M0 0h24v24H0V0z\" fill=\"none\"/>\n",
              "    <path d=\"M18.56 5.44l.94 2.06.94-2.06 2.06-.94-2.06-.94-.94-2.06-.94 2.06-2.06.94zm-11 1L8.5 8.5l.94-2.06 2.06-.94-2.06-.94L8.5 2.5l-.94 2.06-2.06.94zm10 10l.94 2.06.94-2.06 2.06-.94-2.06-.94-.94-2.06-.94 2.06-2.06.94z\"/><path d=\"M17.41 7.96l-1.37-1.37c-.4-.4-.92-.59-1.43-.59-.52 0-1.04.2-1.43.59L10.3 9.45l-7.72 7.72c-.78.78-.78 2.05 0 2.83L4 21.41c.39.39.9.59 1.41.59.51 0 1.02-.2 1.41-.59l7.78-7.78 2.81-2.81c.8-.78.8-2.07 0-2.86zM5.41 20L4 18.59l7.72-7.72 1.47 1.35L5.41 20z\"/>\n",
              "  </svg>\n",
              "      </button>\n",
              "      \n",
              "  <style>\n",
              "    .colab-df-container {\n",
              "      display:flex;\n",
              "      flex-wrap:wrap;\n",
              "      gap: 12px;\n",
              "    }\n",
              "\n",
              "    .colab-df-convert {\n",
              "      background-color: #E8F0FE;\n",
              "      border: none;\n",
              "      border-radius: 50%;\n",
              "      cursor: pointer;\n",
              "      display: none;\n",
              "      fill: #1967D2;\n",
              "      height: 32px;\n",
              "      padding: 0 0 0 0;\n",
              "      width: 32px;\n",
              "    }\n",
              "\n",
              "    .colab-df-convert:hover {\n",
              "      background-color: #E2EBFA;\n",
              "      box-shadow: 0px 1px 2px rgba(60, 64, 67, 0.3), 0px 1px 3px 1px rgba(60, 64, 67, 0.15);\n",
              "      fill: #174EA6;\n",
              "    }\n",
              "\n",
              "    [theme=dark] .colab-df-convert {\n",
              "      background-color: #3B4455;\n",
              "      fill: #D2E3FC;\n",
              "    }\n",
              "\n",
              "    [theme=dark] .colab-df-convert:hover {\n",
              "      background-color: #434B5C;\n",
              "      box-shadow: 0px 1px 3px 1px rgba(0, 0, 0, 0.15);\n",
              "      filter: drop-shadow(0px 1px 2px rgba(0, 0, 0, 0.3));\n",
              "      fill: #FFFFFF;\n",
              "    }\n",
              "  </style>\n",
              "\n",
              "      <script>\n",
              "        const buttonEl =\n",
              "          document.querySelector('#df-a5e6b194-84f8-4e4a-b5f6-dab6f52bf243 button.colab-df-convert');\n",
              "        buttonEl.style.display =\n",
              "          google.colab.kernel.accessAllowed ? 'block' : 'none';\n",
              "\n",
              "        async function convertToInteractive(key) {\n",
              "          const element = document.querySelector('#df-a5e6b194-84f8-4e4a-b5f6-dab6f52bf243');\n",
              "          const dataTable =\n",
              "            await google.colab.kernel.invokeFunction('convertToInteractive',\n",
              "                                                     [key], {});\n",
              "          if (!dataTable) return;\n",
              "\n",
              "          const docLinkHtml = 'Like what you see? Visit the ' +\n",
              "            '<a target=\"_blank\" href=https://colab.research.google.com/notebooks/data_table.ipynb>data table notebook</a>'\n",
              "            + ' to learn more about interactive tables.';\n",
              "          element.innerHTML = '';\n",
              "          dataTable['output_type'] = 'display_data';\n",
              "          await google.colab.output.renderOutput(dataTable, element);\n",
              "          const docLink = document.createElement('div');\n",
              "          docLink.innerHTML = docLinkHtml;\n",
              "          element.appendChild(docLink);\n",
              "        }\n",
              "      </script>\n",
              "    </div>\n",
              "  </div>\n",
              "  "
            ]
          },
          "metadata": {},
          "execution_count": 19
        }
      ]
    },
    {
      "cell_type": "code",
      "source": [
        "rules['how_many_antecedents'] = rules['antecedents'].str.len()\n",
        "rules['consequents_str'] = rules[\"consequents\"].apply(lambda x: list(x)[0]).astype(\"unicode\")\n",
        "rules.query(\"how_many_antecedents > 2 and consequents_str == 'income_ <=50K'\").head(20)"
      ],
      "metadata": {
        "colab": {
          "base_uri": "https://localhost:8080/",
          "height": 677
        },
        "id": "_r-3Y-PhIBMg",
        "outputId": "62e268f7-f665-4a01-e844-eebcea09d0ea"
      },
      "execution_count": null,
      "outputs": [
        {
          "output_type": "execute_result",
          "data": {
            "text/plain": [
              "                                           antecedents      consequents  \\\n",
              "372  (age_Young Adults, marital.status_ Never-marri...  (income_ <=50K)   \n",
              "392  (race_ White, age_Young Adults, workclass_ Pri...  (income_ <=50K)   \n",
              "402  (sex_ Male, age_Young Adults, workclass_ Private)  (income_ <=50K)   \n",
              "406  (age_Young Adults, native.country_ United-Stat...  (income_ <=50K)   \n",
              "422  (race_ White, age_Young Adults, marital.status...  (income_ <=50K)   \n",
              "428  (age_Young Adults, native.country_ United-Stat...  (income_ <=50K)   \n",
              "442         (race_ White, age_Young Adults, sex_ Male)  (income_ <=50K)   \n",
              "447  (race_ White, age_Young Adults, native.country...  (income_ <=50K)   \n",
              "453  (sex_ Male, age_Young Adults, native.country_ ...  (income_ <=50K)   \n",
              "458  (age_Young Adults, native.country_ United-Stat...  (income_ <=50K)   \n",
              "531  (race_ White, marital.status_ Never-married, w...  (income_ <=50K)   \n",
              "539  (native.country_ United-States, marital.status...  (income_ <=50K)   \n",
              "576       (race_ White, workclass_ Private, sex_ Male)  (income_ <=50K)   \n",
              "587  (race_ White, hours.per.week_40 hours, workcla...  (income_ <=50K)   \n",
              "594  (race_ White, native.country_ United-States, w...  (income_ <=50K)   \n",
              "603  (native.country_ United-States, workclass_ Pri...  (income_ <=50K)   \n",
              "614  (sex_ Male, native.country_ United-States, wor...  (income_ <=50K)   \n",
              "619  (native.country_ United-States, hours.per.week...  (income_ <=50K)   \n",
              "624  (race_ White, native.country_ United-States, e...  (income_ <=50K)   \n",
              "693  (race_ White, native.country_ United-States, m...  (income_ <=50K)   \n",
              "\n",
              "     antecedent support  consequent support   support  confidence      lift  \\\n",
              "372            0.238177            0.751874  0.230986    0.969810  1.289858   \n",
              "392            0.386875            0.751874  0.326983    0.845191  1.124113   \n",
              "402            0.290857            0.751874  0.237047    0.814997  1.083955   \n",
              "406            0.402950            0.751874  0.342906    0.850989  1.131825   \n",
              "422            0.232942            0.751874  0.224578    0.964096  1.282258   \n",
              "428            0.253362            0.751874  0.244694    0.965789  1.284510   \n",
              "442            0.318815            0.751874  0.251363    0.788430  1.048620   \n",
              "447            0.438316            0.751874  0.361415    0.824553  1.096664   \n",
              "453            0.323985            0.751874  0.256533    0.791806  1.053111   \n",
              "458            0.231877            0.751874  0.200139    0.863125  1.147966   \n",
              "531            0.220146            0.751874  0.210762    0.957371  1.273314   \n",
              "539            0.236613            0.751874  0.227185    0.960154  1.277015   \n",
              "576            0.425825            0.751874  0.300415    0.705489  0.938308   \n",
              "587            0.300154            0.751874  0.238394    0.794239  1.056346   \n",
              "594            0.576543            0.751874  0.438381    0.760362  1.011289   \n",
              "603            0.225751            0.751874  0.204093    0.904061  1.202411   \n",
              "614            0.429105            0.751874  0.303804    0.707994  0.941639   \n",
              "619            0.314405            0.751874  0.251863    0.801078  1.065442   \n",
              "624            0.260378            0.751874  0.214086    0.822209  1.093547   \n",
              "693            0.244433            0.751874  0.231486    0.947032  1.259562   \n",
              "\n",
              "     leverage  conviction  how_many_antecedents consequents_str  \n",
              "372  0.051907    8.218904                     3   income_ <=50K  \n",
              "392  0.036102    1.602786                     3   income_ <=50K  \n",
              "402  0.018360    1.341205                     3   income_ <=50K  \n",
              "406  0.039939    1.665158                     3   income_ <=50K  \n",
              "422  0.049435    6.910802                     3   income_ <=50K  \n",
              "428  0.054198    7.252876                     3   income_ <=50K  \n",
              "442  0.011655    1.172787                     3   income_ <=50K  \n",
              "447  0.031856    1.414250                     3   income_ <=50K  \n",
              "453  0.012938    1.191806                     3   income_ <=50K  \n",
              "458  0.025797    1.812800                     3   income_ <=50K  \n",
              "531  0.045240    5.820630                     3   income_ <=50K  \n",
              "539  0.049282    6.227171                     3   income_ <=50K  \n",
              "576 -0.019752    0.842503                     3   income_ <=50K  \n",
              "587  0.012716    1.205896                     3   income_ <=50K  \n",
              "594  0.004894    1.035420                     3   income_ <=50K  \n",
              "603  0.034356    2.586288                     3   income_ <=50K  \n",
              "614 -0.018829    0.849729                     3   income_ <=50K  \n",
              "619  0.015470    1.247354                     3   income_ <=50K  \n",
              "624  0.018314    1.395609                     3   income_ <=50K  \n",
              "693  0.047703    4.684426                     3   income_ <=50K  "
            ],
            "text/html": [
              "\n",
              "  <div id=\"df-bc4282cc-dda8-464e-905e-2e4f7a39a4c2\">\n",
              "    <div class=\"colab-df-container\">\n",
              "      <div>\n",
              "<style scoped>\n",
              "    .dataframe tbody tr th:only-of-type {\n",
              "        vertical-align: middle;\n",
              "    }\n",
              "\n",
              "    .dataframe tbody tr th {\n",
              "        vertical-align: top;\n",
              "    }\n",
              "\n",
              "    .dataframe thead th {\n",
              "        text-align: right;\n",
              "    }\n",
              "</style>\n",
              "<table border=\"1\" class=\"dataframe\">\n",
              "  <thead>\n",
              "    <tr style=\"text-align: right;\">\n",
              "      <th></th>\n",
              "      <th>antecedents</th>\n",
              "      <th>consequents</th>\n",
              "      <th>antecedent support</th>\n",
              "      <th>consequent support</th>\n",
              "      <th>support</th>\n",
              "      <th>confidence</th>\n",
              "      <th>lift</th>\n",
              "      <th>leverage</th>\n",
              "      <th>conviction</th>\n",
              "      <th>how_many_antecedents</th>\n",
              "      <th>consequents_str</th>\n",
              "    </tr>\n",
              "  </thead>\n",
              "  <tbody>\n",
              "    <tr>\n",
              "      <th>372</th>\n",
              "      <td>(age_Young Adults, marital.status_ Never-marri...</td>\n",
              "      <td>(income_ &lt;=50K)</td>\n",
              "      <td>0.238177</td>\n",
              "      <td>0.751874</td>\n",
              "      <td>0.230986</td>\n",
              "      <td>0.969810</td>\n",
              "      <td>1.289858</td>\n",
              "      <td>0.051907</td>\n",
              "      <td>8.218904</td>\n",
              "      <td>3</td>\n",
              "      <td>income_ &lt;=50K</td>\n",
              "    </tr>\n",
              "    <tr>\n",
              "      <th>392</th>\n",
              "      <td>(race_ White, age_Young Adults, workclass_ Pri...</td>\n",
              "      <td>(income_ &lt;=50K)</td>\n",
              "      <td>0.386875</td>\n",
              "      <td>0.751874</td>\n",
              "      <td>0.326983</td>\n",
              "      <td>0.845191</td>\n",
              "      <td>1.124113</td>\n",
              "      <td>0.036102</td>\n",
              "      <td>1.602786</td>\n",
              "      <td>3</td>\n",
              "      <td>income_ &lt;=50K</td>\n",
              "    </tr>\n",
              "    <tr>\n",
              "      <th>402</th>\n",
              "      <td>(sex_ Male, age_Young Adults, workclass_ Private)</td>\n",
              "      <td>(income_ &lt;=50K)</td>\n",
              "      <td>0.290857</td>\n",
              "      <td>0.751874</td>\n",
              "      <td>0.237047</td>\n",
              "      <td>0.814997</td>\n",
              "      <td>1.083955</td>\n",
              "      <td>0.018360</td>\n",
              "      <td>1.341205</td>\n",
              "      <td>3</td>\n",
              "      <td>income_ &lt;=50K</td>\n",
              "    </tr>\n",
              "    <tr>\n",
              "      <th>406</th>\n",
              "      <td>(age_Young Adults, native.country_ United-Stat...</td>\n",
              "      <td>(income_ &lt;=50K)</td>\n",
              "      <td>0.402950</td>\n",
              "      <td>0.751874</td>\n",
              "      <td>0.342906</td>\n",
              "      <td>0.850989</td>\n",
              "      <td>1.131825</td>\n",
              "      <td>0.039939</td>\n",
              "      <td>1.665158</td>\n",
              "      <td>3</td>\n",
              "      <td>income_ &lt;=50K</td>\n",
              "    </tr>\n",
              "    <tr>\n",
              "      <th>422</th>\n",
              "      <td>(race_ White, age_Young Adults, marital.status...</td>\n",
              "      <td>(income_ &lt;=50K)</td>\n",
              "      <td>0.232942</td>\n",
              "      <td>0.751874</td>\n",
              "      <td>0.224578</td>\n",
              "      <td>0.964096</td>\n",
              "      <td>1.282258</td>\n",
              "      <td>0.049435</td>\n",
              "      <td>6.910802</td>\n",
              "      <td>3</td>\n",
              "      <td>income_ &lt;=50K</td>\n",
              "    </tr>\n",
              "    <tr>\n",
              "      <th>428</th>\n",
              "      <td>(age_Young Adults, native.country_ United-Stat...</td>\n",
              "      <td>(income_ &lt;=50K)</td>\n",
              "      <td>0.253362</td>\n",
              "      <td>0.751874</td>\n",
              "      <td>0.244694</td>\n",
              "      <td>0.965789</td>\n",
              "      <td>1.284510</td>\n",
              "      <td>0.054198</td>\n",
              "      <td>7.252876</td>\n",
              "      <td>3</td>\n",
              "      <td>income_ &lt;=50K</td>\n",
              "    </tr>\n",
              "    <tr>\n",
              "      <th>442</th>\n",
              "      <td>(race_ White, age_Young Adults, sex_ Male)</td>\n",
              "      <td>(income_ &lt;=50K)</td>\n",
              "      <td>0.318815</td>\n",
              "      <td>0.751874</td>\n",
              "      <td>0.251363</td>\n",
              "      <td>0.788430</td>\n",
              "      <td>1.048620</td>\n",
              "      <td>0.011655</td>\n",
              "      <td>1.172787</td>\n",
              "      <td>3</td>\n",
              "      <td>income_ &lt;=50K</td>\n",
              "    </tr>\n",
              "    <tr>\n",
              "      <th>447</th>\n",
              "      <td>(race_ White, age_Young Adults, native.country...</td>\n",
              "      <td>(income_ &lt;=50K)</td>\n",
              "      <td>0.438316</td>\n",
              "      <td>0.751874</td>\n",
              "      <td>0.361415</td>\n",
              "      <td>0.824553</td>\n",
              "      <td>1.096664</td>\n",
              "      <td>0.031856</td>\n",
              "      <td>1.414250</td>\n",
              "      <td>3</td>\n",
              "      <td>income_ &lt;=50K</td>\n",
              "    </tr>\n",
              "    <tr>\n",
              "      <th>453</th>\n",
              "      <td>(sex_ Male, age_Young Adults, native.country_ ...</td>\n",
              "      <td>(income_ &lt;=50K)</td>\n",
              "      <td>0.323985</td>\n",
              "      <td>0.751874</td>\n",
              "      <td>0.256533</td>\n",
              "      <td>0.791806</td>\n",
              "      <td>1.053111</td>\n",
              "      <td>0.012938</td>\n",
              "      <td>1.191806</td>\n",
              "      <td>3</td>\n",
              "      <td>income_ &lt;=50K</td>\n",
              "    </tr>\n",
              "    <tr>\n",
              "      <th>458</th>\n",
              "      <td>(age_Young Adults, native.country_ United-Stat...</td>\n",
              "      <td>(income_ &lt;=50K)</td>\n",
              "      <td>0.231877</td>\n",
              "      <td>0.751874</td>\n",
              "      <td>0.200139</td>\n",
              "      <td>0.863125</td>\n",
              "      <td>1.147966</td>\n",
              "      <td>0.025797</td>\n",
              "      <td>1.812800</td>\n",
              "      <td>3</td>\n",
              "      <td>income_ &lt;=50K</td>\n",
              "    </tr>\n",
              "    <tr>\n",
              "      <th>531</th>\n",
              "      <td>(race_ White, marital.status_ Never-married, w...</td>\n",
              "      <td>(income_ &lt;=50K)</td>\n",
              "      <td>0.220146</td>\n",
              "      <td>0.751874</td>\n",
              "      <td>0.210762</td>\n",
              "      <td>0.957371</td>\n",
              "      <td>1.273314</td>\n",
              "      <td>0.045240</td>\n",
              "      <td>5.820630</td>\n",
              "      <td>3</td>\n",
              "      <td>income_ &lt;=50K</td>\n",
              "    </tr>\n",
              "    <tr>\n",
              "      <th>539</th>\n",
              "      <td>(native.country_ United-States, marital.status...</td>\n",
              "      <td>(income_ &lt;=50K)</td>\n",
              "      <td>0.236613</td>\n",
              "      <td>0.751874</td>\n",
              "      <td>0.227185</td>\n",
              "      <td>0.960154</td>\n",
              "      <td>1.277015</td>\n",
              "      <td>0.049282</td>\n",
              "      <td>6.227171</td>\n",
              "      <td>3</td>\n",
              "      <td>income_ &lt;=50K</td>\n",
              "    </tr>\n",
              "    <tr>\n",
              "      <th>576</th>\n",
              "      <td>(race_ White, workclass_ Private, sex_ Male)</td>\n",
              "      <td>(income_ &lt;=50K)</td>\n",
              "      <td>0.425825</td>\n",
              "      <td>0.751874</td>\n",
              "      <td>0.300415</td>\n",
              "      <td>0.705489</td>\n",
              "      <td>0.938308</td>\n",
              "      <td>-0.019752</td>\n",
              "      <td>0.842503</td>\n",
              "      <td>3</td>\n",
              "      <td>income_ &lt;=50K</td>\n",
              "    </tr>\n",
              "    <tr>\n",
              "      <th>587</th>\n",
              "      <td>(race_ White, hours.per.week_40 hours, workcla...</td>\n",
              "      <td>(income_ &lt;=50K)</td>\n",
              "      <td>0.300154</td>\n",
              "      <td>0.751874</td>\n",
              "      <td>0.238394</td>\n",
              "      <td>0.794239</td>\n",
              "      <td>1.056346</td>\n",
              "      <td>0.012716</td>\n",
              "      <td>1.205896</td>\n",
              "      <td>3</td>\n",
              "      <td>income_ &lt;=50K</td>\n",
              "    </tr>\n",
              "    <tr>\n",
              "      <th>594</th>\n",
              "      <td>(race_ White, native.country_ United-States, w...</td>\n",
              "      <td>(income_ &lt;=50K)</td>\n",
              "      <td>0.576543</td>\n",
              "      <td>0.751874</td>\n",
              "      <td>0.438381</td>\n",
              "      <td>0.760362</td>\n",
              "      <td>1.011289</td>\n",
              "      <td>0.004894</td>\n",
              "      <td>1.035420</td>\n",
              "      <td>3</td>\n",
              "      <td>income_ &lt;=50K</td>\n",
              "    </tr>\n",
              "    <tr>\n",
              "      <th>603</th>\n",
              "      <td>(native.country_ United-States, workclass_ Pri...</td>\n",
              "      <td>(income_ &lt;=50K)</td>\n",
              "      <td>0.225751</td>\n",
              "      <td>0.751874</td>\n",
              "      <td>0.204093</td>\n",
              "      <td>0.904061</td>\n",
              "      <td>1.202411</td>\n",
              "      <td>0.034356</td>\n",
              "      <td>2.586288</td>\n",
              "      <td>3</td>\n",
              "      <td>income_ &lt;=50K</td>\n",
              "    </tr>\n",
              "    <tr>\n",
              "      <th>614</th>\n",
              "      <td>(sex_ Male, native.country_ United-States, wor...</td>\n",
              "      <td>(income_ &lt;=50K)</td>\n",
              "      <td>0.429105</td>\n",
              "      <td>0.751874</td>\n",
              "      <td>0.303804</td>\n",
              "      <td>0.707994</td>\n",
              "      <td>0.941639</td>\n",
              "      <td>-0.018829</td>\n",
              "      <td>0.849729</td>\n",
              "      <td>3</td>\n",
              "      <td>income_ &lt;=50K</td>\n",
              "    </tr>\n",
              "    <tr>\n",
              "      <th>619</th>\n",
              "      <td>(native.country_ United-States, hours.per.week...</td>\n",
              "      <td>(income_ &lt;=50K)</td>\n",
              "      <td>0.314405</td>\n",
              "      <td>0.751874</td>\n",
              "      <td>0.251863</td>\n",
              "      <td>0.801078</td>\n",
              "      <td>1.065442</td>\n",
              "      <td>0.015470</td>\n",
              "      <td>1.247354</td>\n",
              "      <td>3</td>\n",
              "      <td>income_ &lt;=50K</td>\n",
              "    </tr>\n",
              "    <tr>\n",
              "      <th>624</th>\n",
              "      <td>(race_ White, native.country_ United-States, e...</td>\n",
              "      <td>(income_ &lt;=50K)</td>\n",
              "      <td>0.260378</td>\n",
              "      <td>0.751874</td>\n",
              "      <td>0.214086</td>\n",
              "      <td>0.822209</td>\n",
              "      <td>1.093547</td>\n",
              "      <td>0.018314</td>\n",
              "      <td>1.395609</td>\n",
              "      <td>3</td>\n",
              "      <td>income_ &lt;=50K</td>\n",
              "    </tr>\n",
              "    <tr>\n",
              "      <th>693</th>\n",
              "      <td>(race_ White, native.country_ United-States, m...</td>\n",
              "      <td>(income_ &lt;=50K)</td>\n",
              "      <td>0.244433</td>\n",
              "      <td>0.751874</td>\n",
              "      <td>0.231486</td>\n",
              "      <td>0.947032</td>\n",
              "      <td>1.259562</td>\n",
              "      <td>0.047703</td>\n",
              "      <td>4.684426</td>\n",
              "      <td>3</td>\n",
              "      <td>income_ &lt;=50K</td>\n",
              "    </tr>\n",
              "  </tbody>\n",
              "</table>\n",
              "</div>\n",
              "      <button class=\"colab-df-convert\" onclick=\"convertToInteractive('df-bc4282cc-dda8-464e-905e-2e4f7a39a4c2')\"\n",
              "              title=\"Convert this dataframe to an interactive table.\"\n",
              "              style=\"display:none;\">\n",
              "        \n",
              "  <svg xmlns=\"http://www.w3.org/2000/svg\" height=\"24px\"viewBox=\"0 0 24 24\"\n",
              "       width=\"24px\">\n",
              "    <path d=\"M0 0h24v24H0V0z\" fill=\"none\"/>\n",
              "    <path d=\"M18.56 5.44l.94 2.06.94-2.06 2.06-.94-2.06-.94-.94-2.06-.94 2.06-2.06.94zm-11 1L8.5 8.5l.94-2.06 2.06-.94-2.06-.94L8.5 2.5l-.94 2.06-2.06.94zm10 10l.94 2.06.94-2.06 2.06-.94-2.06-.94-.94-2.06-.94 2.06-2.06.94z\"/><path d=\"M17.41 7.96l-1.37-1.37c-.4-.4-.92-.59-1.43-.59-.52 0-1.04.2-1.43.59L10.3 9.45l-7.72 7.72c-.78.78-.78 2.05 0 2.83L4 21.41c.39.39.9.59 1.41.59.51 0 1.02-.2 1.41-.59l7.78-7.78 2.81-2.81c.8-.78.8-2.07 0-2.86zM5.41 20L4 18.59l7.72-7.72 1.47 1.35L5.41 20z\"/>\n",
              "  </svg>\n",
              "      </button>\n",
              "      \n",
              "  <style>\n",
              "    .colab-df-container {\n",
              "      display:flex;\n",
              "      flex-wrap:wrap;\n",
              "      gap: 12px;\n",
              "    }\n",
              "\n",
              "    .colab-df-convert {\n",
              "      background-color: #E8F0FE;\n",
              "      border: none;\n",
              "      border-radius: 50%;\n",
              "      cursor: pointer;\n",
              "      display: none;\n",
              "      fill: #1967D2;\n",
              "      height: 32px;\n",
              "      padding: 0 0 0 0;\n",
              "      width: 32px;\n",
              "    }\n",
              "\n",
              "    .colab-df-convert:hover {\n",
              "      background-color: #E2EBFA;\n",
              "      box-shadow: 0px 1px 2px rgba(60, 64, 67, 0.3), 0px 1px 3px 1px rgba(60, 64, 67, 0.15);\n",
              "      fill: #174EA6;\n",
              "    }\n",
              "\n",
              "    [theme=dark] .colab-df-convert {\n",
              "      background-color: #3B4455;\n",
              "      fill: #D2E3FC;\n",
              "    }\n",
              "\n",
              "    [theme=dark] .colab-df-convert:hover {\n",
              "      background-color: #434B5C;\n",
              "      box-shadow: 0px 1px 3px 1px rgba(0, 0, 0, 0.15);\n",
              "      filter: drop-shadow(0px 1px 2px rgba(0, 0, 0, 0.3));\n",
              "      fill: #FFFFFF;\n",
              "    }\n",
              "  </style>\n",
              "\n",
              "      <script>\n",
              "        const buttonEl =\n",
              "          document.querySelector('#df-bc4282cc-dda8-464e-905e-2e4f7a39a4c2 button.colab-df-convert');\n",
              "        buttonEl.style.display =\n",
              "          google.colab.kernel.accessAllowed ? 'block' : 'none';\n",
              "\n",
              "        async function convertToInteractive(key) {\n",
              "          const element = document.querySelector('#df-bc4282cc-dda8-464e-905e-2e4f7a39a4c2');\n",
              "          const dataTable =\n",
              "            await google.colab.kernel.invokeFunction('convertToInteractive',\n",
              "                                                     [key], {});\n",
              "          if (!dataTable) return;\n",
              "\n",
              "          const docLinkHtml = 'Like what you see? Visit the ' +\n",
              "            '<a target=\"_blank\" href=https://colab.research.google.com/notebooks/data_table.ipynb>data table notebook</a>'\n",
              "            + ' to learn more about interactive tables.';\n",
              "          element.innerHTML = '';\n",
              "          dataTable['output_type'] = 'display_data';\n",
              "          await google.colab.output.renderOutput(dataTable, element);\n",
              "          const docLink = document.createElement('div');\n",
              "          docLink.innerHTML = docLinkHtml;\n",
              "          element.appendChild(docLink);\n",
              "        }\n",
              "      </script>\n",
              "    </div>\n",
              "  </div>\n",
              "  "
            ]
          },
          "metadata": {},
          "execution_count": 48
        }
      ]
    },
    {
      "cell_type": "code",
      "source": [
        "rules['consequents_str'].unique()"
      ],
      "metadata": {
        "colab": {
          "base_uri": "https://localhost:8080/"
        },
        "id": "3sXAOsvTL_Om",
        "outputId": "4c8656e0-19c6-4181-cd00-d8a8b9941dca"
      },
      "execution_count": null,
      "outputs": [
        {
          "output_type": "execute_result",
          "data": {
            "text/plain": [
              "array(['workclass_ Private', 'age_Young Adults', 'race_ White',\n",
              "       'sex_ Male', 'native.country_ United-States', 'income_ <=50K',\n",
              "       'marital.status_ Married-civ-spouse', 'relationship_ Husband',\n",
              "       'marital.status_ Never-married'], dtype=object)"
            ]
          },
          "metadata": {},
          "execution_count": 51
        },
        {
          "output_type": "execute_result",
          "data": {
            "text/plain": [
              "array(['workclass_ Private', 'age_Young Adults', 'race_ White',\n",
              "       'sex_ Male', 'native.country_ United-States', 'income_ <=50K',\n",
              "       'marital.status_ Married-civ-spouse', 'relationship_ Husband',\n",
              "       'marital.status_ Never-married'], dtype=object)"
            ]
          },
          "metadata": {},
          "execution_count": 52
        }
      ]
    },
    {
      "cell_type": "markdown",
      "source": [
        "Seems like there arent any rules where there are at least 2 antecedents and consequent is income above 50k. "
      ],
      "metadata": {
        "id": "c3R5wHfUM4u8"
      }
    },
    {
      "cell_type": "code",
      "source": [
        "plt.scatter(rules['support'], rules['confidence'], alpha=0.5)\n",
        "plt.xlabel('support')\n",
        "plt.ylabel('confidence')\n",
        "plt.title('Support vs Confidence')\n",
        "plt.show()"
      ],
      "metadata": {
        "colab": {
          "base_uri": "https://localhost:8080/",
          "height": 295
        },
        "id": "IGce2PaE6HgD",
        "outputId": "44bb5649-eaa5-4ded-d0d5-54a60ff94572"
      },
      "execution_count": null,
      "outputs": [
        {
          "output_type": "display_data",
          "data": {
            "text/plain": [
              "<Figure size 432x288 with 1 Axes>"
            ],
            "image/png": "[encoded data removed]"
          },
          "metadata": {
            "needs_background": "light"
          }
        }
      ]
    },
    {
      "cell_type": "code",
      "source": [
        "plt.scatter(rules['support'], rules['lift'], alpha=0.5)\n",
        "plt.xlabel('support')\n",
        "plt.ylabel('lift')\n",
        "plt.title('Support vs Lift')\n",
        "plt.show()"
      ],
      "metadata": {
        "colab": {
          "base_uri": "https://localhost:8080/",
          "height": 295
        },
        "id": "-bt9R09O6Nu2",
        "outputId": "89988db6-e5ea-44ea-92c4-ec78e78658d5"
      },
      "execution_count": null,
      "outputs": [
        {
          "output_type": "display_data",
          "data": {
            "text/plain": [
              "<Figure size 432x288 with 1 Axes>"
            ],
            "image/png": "[encoded data removed]"
          },
          "metadata": {
            "needs_background": "light"
          }
        }
      ]
    },
    {
      "cell_type": "code",
      "source": [
        "fit = np.polyfit(rules['lift'], rules['confidence'], 1)\n",
        "fit_fn = np.poly1d(fit)\n",
        "plt.plot(rules['lift'], rules['confidence'], 'yo', rules['lift'], \n",
        "fit_fn(rules['lift']))"
      ],
      "metadata": {
        "colab": {
          "base_uri": "https://localhost:8080/",
          "height": 300
        },
        "id": "O4hnlEY56OMW",
        "outputId": "d4348b35-f277-4fad-bb9c-c794cd7faff7"
      },
      "execution_count": null,
      "outputs": [
        {
          "output_type": "execute_result",
          "data": {
            "text/plain": [
              "[<matplotlib.lines.Line2D at 0x7feea9908a00>,\n",
              " <matplotlib.lines.Line2D at 0x7feea9908940>]"
            ]
          },
          "metadata": {},
          "execution_count": 55
        },
        {
          "output_type": "display_data",
          "data": {
            "text/plain": [
              "<Figure size 432x288 with 1 Axes>"
            ],
            "image/png": "[encoded data removed]"
          },
          "metadata": {
            "needs_background": "light"
          }
        }
      ]
    }
  ]
}