{
  "nbformat": 4,
  "nbformat_minor": 0,
  "metadata": {
    "colab": {
      "provenance": [],
      "mount_file_id": "1TnL-UZvYD5Cms3R3w0uYV3EnfN9vW0CI",
      "authorship_tag": "ABX9TyPmYDn+LK/AVnB10B8GgQkb",
      "include_colab_link": true
    },
    "kernelspec": {
      "name": "python3",
      "display_name": "Python 3"
    },
    "language_info": {
      "name": "python"
    }
  },
  "cells": [
    {
      "cell_type": "markdown",
      "metadata": {
        "id": "view-in-github",
        "colab_type": "text"
      },
      "source": [
        "<a href=\"https://colab.research.google.com/github/dron1t/codelabfun/blob/main/IO.ipynb\" target=\"_parent\"><img src=\"https://colab.research.google.com/assets/colab-badge.svg\" alt=\"Open In Colab\"/></a>"
      ]
    },
    {
      "cell_type": "markdown",
      "source": [
        "# Report American census\n",
        "\n",
        "Data is American census from 1994. Prediction task for this report is to determine whether a person makes over 50k a year or less. The [latest data](https://www.firstrepublic.com/insights-education/how-much-does-the-average-american-make) says that median american worker earns `$54,132`.  \n",
        "\n",
        "The average income in 2020 according to Statista was `$71,456`.  \n",
        "This can be calculates as aproximatly `234 572 PLN` before taxes. Average US tax wage is 27.2%, so net income is currently `181 042 PLN` (~15k PLN monthly). Taking into account inflation `$50,000` from December 1994 would be worth `$99,130.59` in December 2022.  \n"
      ],
      "metadata": {
        "id": "-DnR6JyE4SAZ"
      }
    },
    {
      "cell_type": "markdown",
      "source": [
        "## Importing data"
      ],
      "metadata": {
        "id": "ojzB1_M05C49"
      }
    },
    {
      "cell_type": "code",
      "execution_count": 67,
      "metadata": {
        "id": "nkogjP6H4Eqe"
      },
      "outputs": [],
      "source": [
        "import pandas as pd\n",
        "\n",
        "train_data = pd.read_csv('drive/MyDrive/inf/io/census/adult.train.csv')\n",
        "test_data = pd.read_csv('drive/MyDrive/inf/io/census/adult.test.csv')\n",
        "\n",
        "data = pd.concat([train_data, test_data])"
      ]
    },
    {
      "cell_type": "markdown",
      "source": [
        "We are having 48842 records in our set."
      ],
      "metadata": {
        "id": "BC97YGS0kFSa"
      }
    },
    {
      "cell_type": "code",
      "source": [
        "data"
      ],
      "metadata": {
        "colab": {
          "base_uri": "https://localhost:8080/",
          "height": 424
        },
        "id": "CisILfSS5IO9",
        "outputId": "477f3a51-9250-457f-c00c-5ce489c0c770"
      },
      "execution_count": 68,
      "outputs": [
        {
          "output_type": "execute_result",
          "data": {
            "text/plain": [
              "       age          workclass  fnlwgt    eduction  education.num  \\\n",
              "0       39          State-gov   77516   Bachelors             13   \n",
              "1       50   Self-emp-not-inc   83311   Bachelors             13   \n",
              "2       38            Private  215646     HS-grad              9   \n",
              "3       53            Private  234721        11th              7   \n",
              "4       28            Private  338409   Bachelors             13   \n",
              "...    ...                ...     ...         ...            ...   \n",
              "16276   39            Private  215419   Bachelors             13   \n",
              "16277   64                  ?  321403     HS-grad              9   \n",
              "16278   38            Private  374983   Bachelors             13   \n",
              "16279   44            Private   83891   Bachelors             13   \n",
              "16280   35       Self-emp-inc  182148   Bachelors             13   \n",
              "\n",
              "            marital.status          occupation     relationship  \\\n",
              "0            Never-married        Adm-clerical    Not-in-family   \n",
              "1       Married-civ-spouse     Exec-managerial          Husband   \n",
              "2                 Divorced   Handlers-cleaners    Not-in-family   \n",
              "3       Married-civ-spouse   Handlers-cleaners          Husband   \n",
              "4       Married-civ-spouse      Prof-specialty             Wife   \n",
              "...                    ...                 ...              ...   \n",
              "16276             Divorced      Prof-specialty    Not-in-family   \n",
              "16277              Widowed                   ?   Other-relative   \n",
              "16278   Married-civ-spouse      Prof-specialty          Husband   \n",
              "16279             Divorced        Adm-clerical        Own-child   \n",
              "16280   Married-civ-spouse     Exec-managerial          Husband   \n",
              "\n",
              "                      race      sex  capital.gain  capital.loss  \\\n",
              "0                    White     Male          2174             0   \n",
              "1                    White     Male             0             0   \n",
              "2                    White     Male             0             0   \n",
              "3                    Black     Male             0             0   \n",
              "4                    Black   Female             0             0   \n",
              "...                    ...      ...           ...           ...   \n",
              "16276                White   Female             0             0   \n",
              "16277                Black     Male             0             0   \n",
              "16278                White     Male             0             0   \n",
              "16279   Asian-Pac-Islander     Male          5455             0   \n",
              "16280                White     Male             0             0   \n",
              "\n",
              "       hours.per.week  native.country   income  \n",
              "0                  40   United-States    <=50K  \n",
              "1                  13   United-States    <=50K  \n",
              "2                  40   United-States    <=50K  \n",
              "3                  40   United-States    <=50K  \n",
              "4                  40            Cuba    <=50K  \n",
              "...               ...             ...      ...  \n",
              "16276              36   United-States   <=50K.  \n",
              "16277              40   United-States   <=50K.  \n",
              "16278              50   United-States   <=50K.  \n",
              "16279              40   United-States   <=50K.  \n",
              "16280              60   United-States    >50K.  \n",
              "\n",
              "[48842 rows x 15 columns]"
            ],
            "text/html": [
              "\n",
              "  <div id=\"df-983a7174-e610-4b2b-9e9c-a860d1d042f6\">\n",
              "    <div class=\"colab-df-container\">\n",
              "      <div>\n",
              "<style scoped>\n",
              "    .dataframe tbody tr th:only-of-type {\n",
              "        vertical-align: middle;\n",
              "    }\n",
              "\n",
              "    .dataframe tbody tr th {\n",
              "        vertical-align: top;\n",
              "    }\n",
              "\n",
              "    .dataframe thead th {\n",
              "        text-align: right;\n",
              "    }\n",
              "</style>\n",
              "<table border=\"1\" class=\"dataframe\">\n",
              "  <thead>\n",
              "    <tr style=\"text-align: right;\">\n",
              "      <th></th>\n",
              "      <th>age</th>\n",
              "      <th>workclass</th>\n",
              "      <th>fnlwgt</th>\n",
              "      <th>eduction</th>\n",
              "      <th>education.num</th>\n",
              "      <th>marital.status</th>\n",
              "      <th>occupation</th>\n",
              "      <th>relationship</th>\n",
              "      <th>race</th>\n",
              "      <th>sex</th>\n",
              "      <th>capital.gain</th>\n",
              "      <th>capital.loss</th>\n",
              "      <th>hours.per.week</th>\n",
              "      <th>native.country</th>\n",
              "      <th>income</th>\n",
              "    </tr>\n",
              "  </thead>\n",
              "  <tbody>\n",
              "    <tr>\n",
              "      <th>0</th>\n",
              "      <td>39</td>\n",
              "      <td>State-gov</td>\n",
              "      <td>77516</td>\n",
              "      <td>Bachelors</td>\n",
              "      <td>13</td>\n",
              "      <td>Never-married</td>\n",
              "      <td>Adm-clerical</td>\n",
              "      <td>Not-in-family</td>\n",
              "      <td>White</td>\n",
              "      <td>Male</td>\n",
              "      <td>2174</td>\n",
              "      <td>0</td>\n",
              "      <td>40</td>\n",
              "      <td>United-States</td>\n",
              "      <td>&lt;=50K</td>\n",
              "    </tr>\n",
              "    <tr>\n",
              "      <th>1</th>\n",
              "      <td>50</td>\n",
              "      <td>Self-emp-not-inc</td>\n",
              "      <td>83311</td>\n",
              "      <td>Bachelors</td>\n",
              "      <td>13</td>\n",
              "      <td>Married-civ-spouse</td>\n",
              "      <td>Exec-managerial</td>\n",
              "      <td>Husband</td>\n",
              "      <td>White</td>\n",
              "      <td>Male</td>\n",
              "      <td>0</td>\n",
              "      <td>0</td>\n",
              "      <td>13</td>\n",
              "      <td>United-States</td>\n",
              "      <td>&lt;=50K</td>\n",
              "    </tr>\n",
              "    <tr>\n",
              "      <th>2</th>\n",
              "      <td>38</td>\n",
              "      <td>Private</td>\n",
              "      <td>215646</td>\n",
              "      <td>HS-grad</td>\n",
              "      <td>9</td>\n",
              "      <td>Divorced</td>\n",
              "      <td>Handlers-cleaners</td>\n",
              "      <td>Not-in-family</td>\n",
              "      <td>White</td>\n",
              "      <td>Male</td>\n",
              "      <td>0</td>\n",
              "      <td>0</td>\n",
              "      <td>40</td>\n",
              "      <td>United-States</td>\n",
              "      <td>&lt;=50K</td>\n",
              "    </tr>\n",
              "    <tr>\n",
              "      <th>3</th>\n",
              "      <td>53</td>\n",
              "      <td>Private</td>\n",
              "      <td>234721</td>\n",
              "      <td>11th</td>\n",
              "      <td>7</td>\n",
              "      <td>Married-civ-spouse</td>\n",
              "      <td>Handlers-cleaners</td>\n",
              "      <td>Husband</td>\n",
              "      <td>Black</td>\n",
              "      <td>Male</td>\n",
              "      <td>0</td>\n",
              "      <td>0</td>\n",
              "      <td>40</td>\n",
              "      <td>United-States</td>\n",
              "      <td>&lt;=50K</td>\n",
              "    </tr>\n",
              "    <tr>\n",
              "      <th>4</th>\n",
              "      <td>28</td>\n",
              "      <td>Private</td>\n",
              "      <td>338409</td>\n",
              "      <td>Bachelors</td>\n",
              "      <td>13</td>\n",
              "      <td>Married-civ-spouse</td>\n",
              "      <td>Prof-specialty</td>\n",
              "      <td>Wife</td>\n",
              "      <td>Black</td>\n",
              "      <td>Female</td>\n",
              "      <td>0</td>\n",
              "      <td>0</td>\n",
              "      <td>40</td>\n",
              "      <td>Cuba</td>\n",
              "      <td>&lt;=50K</td>\n",
              "    </tr>\n",
              "    <tr>\n",
              "      <th>...</th>\n",
              "      <td>...</td>\n",
              "      <td>...</td>\n",
              "      <td>...</td>\n",
              "      <td>...</td>\n",
              "      <td>...</td>\n",
              "      <td>...</td>\n",
              "      <td>...</td>\n",
              "      <td>...</td>\n",
              "      <td>...</td>\n",
              "      <td>...</td>\n",
              "      <td>...</td>\n",
              "      <td>...</td>\n",
              "      <td>...</td>\n",
              "      <td>...</td>\n",
              "      <td>...</td>\n",
              "    </tr>\n",
              "    <tr>\n",
              "      <th>16276</th>\n",
              "      <td>39</td>\n",
              "      <td>Private</td>\n",
              "      <td>215419</td>\n",
              "      <td>Bachelors</td>\n",
              "      <td>13</td>\n",
              "      <td>Divorced</td>\n",
              "      <td>Prof-specialty</td>\n",
              "      <td>Not-in-family</td>\n",
              "      <td>White</td>\n",
              "      <td>Female</td>\n",
              "      <td>0</td>\n",
              "      <td>0</td>\n",
              "      <td>36</td>\n",
              "      <td>United-States</td>\n",
              "      <td>&lt;=50K.</td>\n",
              "    </tr>\n",
              "    <tr>\n",
              "      <th>16277</th>\n",
              "      <td>64</td>\n",
              "      <td>?</td>\n",
              "      <td>321403</td>\n",
              "      <td>HS-grad</td>\n",
              "      <td>9</td>\n",
              "      <td>Widowed</td>\n",
              "      <td>?</td>\n",
              "      <td>Other-relative</td>\n",
              "      <td>Black</td>\n",
              "      <td>Male</td>\n",
              "      <td>0</td>\n",
              "      <td>0</td>\n",
              "      <td>40</td>\n",
              "      <td>United-States</td>\n",
              "      <td>&lt;=50K.</td>\n",
              "    </tr>\n",
              "    <tr>\n",
              "      <th>16278</th>\n",
              "      <td>38</td>\n",
              "      <td>Private</td>\n",
              "      <td>374983</td>\n",
              "      <td>Bachelors</td>\n",
              "      <td>13</td>\n",
              "      <td>Married-civ-spouse</td>\n",
              "      <td>Prof-specialty</td>\n",
              "      <td>Husband</td>\n",
              "      <td>White</td>\n",
              "      <td>Male</td>\n",
              "      <td>0</td>\n",
              "      <td>0</td>\n",
              "      <td>50</td>\n",
              "      <td>United-States</td>\n",
              "      <td>&lt;=50K.</td>\n",
              "    </tr>\n",
              "    <tr>\n",
              "      <th>16279</th>\n",
              "      <td>44</td>\n",
              "      <td>Private</td>\n",
              "      <td>83891</td>\n",
              "      <td>Bachelors</td>\n",
              "      <td>13</td>\n",
              "      <td>Divorced</td>\n",
              "      <td>Adm-clerical</td>\n",
              "      <td>Own-child</td>\n",
              "      <td>Asian-Pac-Islander</td>\n",
              "      <td>Male</td>\n",
              "      <td>5455</td>\n",
              "      <td>0</td>\n",
              "      <td>40</td>\n",
              "      <td>United-States</td>\n",
              "      <td>&lt;=50K.</td>\n",
              "    </tr>\n",
              "    <tr>\n",
              "      <th>16280</th>\n",
              "      <td>35</td>\n",
              "      <td>Self-emp-inc</td>\n",
              "      <td>182148</td>\n",
              "      <td>Bachelors</td>\n",
              "      <td>13</td>\n",
              "      <td>Married-civ-spouse</td>\n",
              "      <td>Exec-managerial</td>\n",
              "      <td>Husband</td>\n",
              "      <td>White</td>\n",
              "      <td>Male</td>\n",
              "      <td>0</td>\n",
              "      <td>0</td>\n",
              "      <td>60</td>\n",
              "      <td>United-States</td>\n",
              "      <td>&gt;50K.</td>\n",
              "    </tr>\n",
              "  </tbody>\n",
              "</table>\n",
              "<p>48842 rows × 15 columns</p>\n",
              "</div>\n",
              "      <button class=\"colab-df-convert\" onclick=\"convertToInteractive('df-983a7174-e610-4b2b-9e9c-a860d1d042f6')\"\n",
              "              title=\"Convert this dataframe to an interactive table.\"\n",
              "              style=\"display:none;\">\n",
              "        \n",
              "  <svg xmlns=\"http://www.w3.org/2000/svg\" height=\"24px\"viewBox=\"0 0 24 24\"\n",
              "       width=\"24px\">\n",
              "    <path d=\"M0 0h24v24H0V0z\" fill=\"none\"/>\n",
              "    <path d=\"M18.56 5.44l.94 2.06.94-2.06 2.06-.94-2.06-.94-.94-2.06-.94 2.06-2.06.94zm-11 1L8.5 8.5l.94-2.06 2.06-.94-2.06-.94L8.5 2.5l-.94 2.06-2.06.94zm10 10l.94 2.06.94-2.06 2.06-.94-2.06-.94-.94-2.06-.94 2.06-2.06.94z\"/><path d=\"M17.41 7.96l-1.37-1.37c-.4-.4-.92-.59-1.43-.59-.52 0-1.04.2-1.43.59L10.3 9.45l-7.72 7.72c-.78.78-.78 2.05 0 2.83L4 21.41c.39.39.9.59 1.41.59.51 0 1.02-.2 1.41-.59l7.78-7.78 2.81-2.81c.8-.78.8-2.07 0-2.86zM5.41 20L4 18.59l7.72-7.72 1.47 1.35L5.41 20z\"/>\n",
              "  </svg>\n",
              "      </button>\n",
              "      \n",
              "  <style>\n",
              "    .colab-df-container {\n",
              "      display:flex;\n",
              "      flex-wrap:wrap;\n",
              "      gap: 12px;\n",
              "    }\n",
              "\n",
              "    .colab-df-convert {\n",
              "      background-color: #E8F0FE;\n",
              "      border: none;\n",
              "      border-radius: 50%;\n",
              "      cursor: pointer;\n",
              "      display: none;\n",
              "      fill: #1967D2;\n",
              "      height: 32px;\n",
              "      padding: 0 0 0 0;\n",
              "      width: 32px;\n",
              "    }\n",
              "\n",
              "    .colab-df-convert:hover {\n",
              "      background-color: #E2EBFA;\n",
              "      box-shadow: 0px 1px 2px rgba(60, 64, 67, 0.3), 0px 1px 3px 1px rgba(60, 64, 67, 0.15);\n",
              "      fill: #174EA6;\n",
              "    }\n",
              "\n",
              "    [theme=dark] .colab-df-convert {\n",
              "      background-color: #3B4455;\n",
              "      fill: #D2E3FC;\n",
              "    }\n",
              "\n",
              "    [theme=dark] .colab-df-convert:hover {\n",
              "      background-color: #434B5C;\n",
              "      box-shadow: 0px 1px 3px 1px rgba(0, 0, 0, 0.15);\n",
              "      filter: drop-shadow(0px 1px 2px rgba(0, 0, 0, 0.3));\n",
              "      fill: #FFFFFF;\n",
              "    }\n",
              "  </style>\n",
              "\n",
              "      <script>\n",
              "        const buttonEl =\n",
              "          document.querySelector('#df-983a7174-e610-4b2b-9e9c-a860d1d042f6 button.colab-df-convert');\n",
              "        buttonEl.style.display =\n",
              "          google.colab.kernel.accessAllowed ? 'block' : 'none';\n",
              "\n",
              "        async function convertToInteractive(key) {\n",
              "          const element = document.querySelector('#df-983a7174-e610-4b2b-9e9c-a860d1d042f6');\n",
              "          const dataTable =\n",
              "            await google.colab.kernel.invokeFunction('convertToInteractive',\n",
              "                                                     [key], {});\n",
              "          if (!dataTable) return;\n",
              "\n",
              "          const docLinkHtml = 'Like what you see? Visit the ' +\n",
              "            '<a target=\"_blank\" href=https://colab.research.google.com/notebooks/data_table.ipynb>data table notebook</a>'\n",
              "            + ' to learn more about interactive tables.';\n",
              "          element.innerHTML = '';\n",
              "          dataTable['output_type'] = 'display_data';\n",
              "          await google.colab.output.renderOutput(dataTable, element);\n",
              "          const docLink = document.createElement('div');\n",
              "          docLink.innerHTML = docLinkHtml;\n",
              "          element.appendChild(docLink);\n",
              "        }\n",
              "      </script>\n",
              "    </div>\n",
              "  </div>\n",
              "  "
            ]
          },
          "metadata": {},
          "execution_count": 68
        }
      ]
    },
    {
      "cell_type": "markdown",
      "source": [
        "## Checking data"
      ],
      "metadata": {
        "id": "5HL7gfHs5UlN"
      }
    },
    {
      "cell_type": "code",
      "source": [
        "data.isnull().sum()"
      ],
      "metadata": {
        "colab": {
          "base_uri": "https://localhost:8080/"
        },
        "id": "FK_FJipW5WkY",
        "outputId": "e8bfdded-81ff-4474-9546-79404c103d48"
      },
      "execution_count": 69,
      "outputs": [
        {
          "output_type": "execute_result",
          "data": {
            "text/plain": [
              "age               0\n",
              "workclass         0\n",
              "fnlwgt            0\n",
              "eduction          0\n",
              "education.num     0\n",
              "marital.status    0\n",
              "occupation        0\n",
              "relationship      0\n",
              "race              0\n",
              "sex               0\n",
              "capital.gain      0\n",
              "capital.loss      0\n",
              "hours.per.week    0\n",
              "native.country    0\n",
              "income            0\n",
              "dtype: int64"
            ]
          },
          "metadata": {},
          "execution_count": 69
        }
      ]
    },
    {
      "cell_type": "code",
      "source": [
        "data.isin([' ?', '']).sum()"
      ],
      "metadata": {
        "colab": {
          "base_uri": "https://localhost:8080/"
        },
        "id": "yR7uX3QD5ftK",
        "outputId": "a45bbdcc-f2d7-4265-cd1f-17bd5f5fd2e3"
      },
      "execution_count": 70,
      "outputs": [
        {
          "output_type": "execute_result",
          "data": {
            "text/plain": [
              "age                  0\n",
              "workclass         2799\n",
              "fnlwgt               0\n",
              "eduction             0\n",
              "education.num        0\n",
              "marital.status       0\n",
              "occupation        2809\n",
              "relationship         0\n",
              "race                 0\n",
              "sex                  0\n",
              "capital.gain         0\n",
              "capital.loss         0\n",
              "hours.per.week       0\n",
              "native.country     857\n",
              "income               0\n",
              "dtype: int64"
            ]
          },
          "metadata": {},
          "execution_count": 70
        }
      ]
    },
    {
      "cell_type": "markdown",
      "source": [
        "### Missing values in columns:\n",
        "* workclass 2799\n",
        "* occupation 2809\n",
        "* native.country 857"
      ],
      "metadata": {
        "id": "W10vqtZl5jmq"
      }
    },
    {
      "cell_type": "markdown",
      "source": [
        "Checking types of data"
      ],
      "metadata": {
        "id": "fV5BSPtm55VD"
      }
    },
    {
      "cell_type": "code",
      "source": [
        "data.info()"
      ],
      "metadata": {
        "colab": {
          "base_uri": "https://localhost:8080/"
        },
        "id": "49Gm9rw151XN",
        "outputId": "6ec41b61-8fc1-45a3-d4f6-9f8bd03a8f41"
      },
      "execution_count": 71,
      "outputs": [
        {
          "output_type": "stream",
          "name": "stdout",
          "text": [
            "<class 'pandas.core.frame.DataFrame'>\n",
            "Int64Index: 48842 entries, 0 to 16280\n",
            "Data columns (total 15 columns):\n",
            " #   Column          Non-Null Count  Dtype \n",
            "---  ------          --------------  ----- \n",
            " 0   age             48842 non-null  int64 \n",
            " 1   workclass       48842 non-null  object\n",
            " 2   fnlwgt          48842 non-null  int64 \n",
            " 3   eduction        48842 non-null  object\n",
            " 4   education.num   48842 non-null  int64 \n",
            " 5   marital.status  48842 non-null  object\n",
            " 6   occupation      48842 non-null  object\n",
            " 7   relationship    48842 non-null  object\n",
            " 8   race            48842 non-null  object\n",
            " 9   sex             48842 non-null  object\n",
            " 10  capital.gain    48842 non-null  int64 \n",
            " 11  capital.loss    48842 non-null  int64 \n",
            " 12  hours.per.week  48842 non-null  int64 \n",
            " 13  native.country  48842 non-null  object\n",
            " 14  income          48842 non-null  object\n",
            "dtypes: int64(6), object(9)\n",
            "memory usage: 6.0+ MB\n"
          ]
        }
      ]
    },
    {
      "cell_type": "markdown",
      "source": [
        "Check duplicates"
      ],
      "metadata": {
        "id": "K-rFN706DLXA"
      }
    },
    {
      "cell_type": "code",
      "source": [
        "data.duplicated().sum()"
      ],
      "metadata": {
        "colab": {
          "base_uri": "https://localhost:8080/"
        },
        "id": "dmBUs00zDNQq",
        "outputId": "e30cabf2-e59f-4754-9495-05972ae4d392"
      },
      "execution_count": 72,
      "outputs": [
        {
          "output_type": "execute_result",
          "data": {
            "text/plain": [
              "29"
            ]
          },
          "metadata": {},
          "execution_count": 72
        }
      ]
    },
    {
      "cell_type": "markdown",
      "source": [
        "## Some cleanup before analysis"
      ],
      "metadata": {
        "id": "MB4SEgveFhDQ"
      }
    },
    {
      "cell_type": "markdown",
      "source": [
        "We've noticed that income has 2 values for each category `51K.` and `51K` without ending dot "
      ],
      "metadata": {
        "id": "gMCHAKKUFnaq"
      }
    },
    {
      "cell_type": "code",
      "source": [
        "data['income'] = data['income'].replace(' <=50K.', ' <=50K')\n",
        "data['income'] = data['income'].replace(' >50K.', ' >50K')\n",
        "data['income'].unique()"
      ],
      "metadata": {
        "colab": {
          "base_uri": "https://localhost:8080/"
        },
        "id": "PVHRHiDXFmO4",
        "outputId": "3843d1c2-d027-4437-be2d-c04e82244d37"
      },
      "execution_count": 73,
      "outputs": [
        {
          "output_type": "execute_result",
          "data": {
            "text/plain": [
              "array([' <=50K', ' >50K'], dtype=object)"
            ]
          },
          "metadata": {},
          "execution_count": 73
        }
      ]
    },
    {
      "cell_type": "markdown",
      "source": [
        "## Analysis\n",
        "\n",
        "Feature classes per sex"
      ],
      "metadata": {
        "id": "Im0VqQblESOg"
      }
    },
    {
      "cell_type": "code",
      "source": [
        "categorical_features = data.select_dtypes(include=['object']).columns\n",
        "categorical_features = categorical_features.drop(['sex'])\n",
        "categorical_features"
      ],
      "metadata": {
        "colab": {
          "base_uri": "https://localhost:8080/"
        },
        "id": "rAYtfInDG3vR",
        "outputId": "44308860-78bf-4a36-fd0d-99905fc7e531"
      },
      "execution_count": 74,
      "outputs": [
        {
          "output_type": "execute_result",
          "data": {
            "text/plain": [
              "Index(['workclass', 'eduction', 'marital.status', 'occupation', 'relationship',\n",
              "       'race', 'native.country', 'income'],\n",
              "      dtype='object')"
            ]
          },
          "metadata": {},
          "execution_count": 74
        }
      ]
    },
    {
      "cell_type": "code",
      "source": [
        "import matplotlib.pyplot as plt\n",
        "import seaborn as sns\n",
        "\n",
        "plt.figure(figsize=(25,35))\n",
        "plt.subplot(521)\n",
        "dt = data\n",
        "i=0\n",
        "for c in categorical_features:\n",
        "    plt.subplot(5, 2, i+1)\n",
        "    i += 1\n",
        "    sns.countplot(y=c, data=dt, hue='sex')\n",
        "    plt.title(c)\n",
        "\n",
        "plt.show()"
      ],
      "metadata": {
        "colab": {
          "base_uri": "https://localhost:8080/",
          "height": 1000
        },
        "id": "2U05_MM0EYF4",
        "outputId": "f6319cbe-f499-464c-9012-0df35f709251"
      },
      "execution_count": 75,
      "outputs": [
        {
          "output_type": "stream",
          "name": "stderr",
          "text": [
            "<ipython-input-75-9c12d2f713dc>:9: MatplotlibDeprecationWarning: Adding an axes using the same arguments as a previous axes currently reuses the earlier instance.  In a future version, a new instance will always be created and returned.  Meanwhile, this warning can be suppressed, and the future behavior ensured, by passing a unique label to each axes instance.\n",
            "  plt.subplot(5, 2, i+1)\n"
          ]
        },
        {
          "output_type": "display_data",
          "data": {
            "text/plain": [
              "<Figure size 1800x2520 with 8 Axes>"
            ],
            "image/png": "[encoded data removed]"
          },
          "metadata": {
            "needs_background": "light"
          }
        }
      ]
    },
    {
      "cell_type": "code",
      "source": [
        "#correlation heatmap of dataset\n",
        "def correlation_heatmap(df):\n",
        "    _ , ax = plt.subplots(figsize =(14, 12))\n",
        "    colormap = sns.diverging_palette(150, 10, as_cmap = True)\n",
        "    \n",
        "    _ = sns.heatmap(\n",
        "        df.corr(), \n",
        "        cmap = \"BuPu\",\n",
        "        square=True, \n",
        "        cbar_kws={'shrink':.9 }, \n",
        "        ax=ax,\n",
        "        annot=True, \n",
        "        linewidths=0.1,vmax=1.0, linecolor='white',\n",
        "        annot_kws={'fontsize':12 }\n",
        "    )\n",
        "    \n",
        "    plt.title('Correlation of Features', y=1.05, size=15)\n",
        "\n",
        "correlation_heatmap(data)"
      ],
      "metadata": {
        "colab": {
          "base_uri": "https://localhost:8080/",
          "height": 691
        },
        "id": "SCwVXF2fiimy",
        "outputId": "396a17d1-8df1-43eb-ec47-f29e37040677"
      },
      "execution_count": 76,
      "outputs": [
        {
          "output_type": "display_data",
          "data": {
            "text/plain": [
              "<Figure size 1008x864 with 2 Axes>"
            ],
            "image/png": "[encoded data removed]"
          },
          "metadata": {
            "needs_background": "light"
          }
        }
      ]
    },
    {
      "cell_type": "markdown",
      "source": [
        "## Data preparation (pre-processing of data)"
      ],
      "metadata": {
        "id": "9hlANnND6Adx"
      }
    },
    {
      "cell_type": "markdown",
      "source": [
        "Drop duplicates"
      ],
      "metadata": {
        "id": "RVHE33LuDOPg"
      }
    },
    {
      "cell_type": "code",
      "source": [
        "data = data.drop_duplicates()"
      ],
      "metadata": {
        "id": "erKbKaScDPVy"
      },
      "execution_count": 77,
      "outputs": []
    },
    {
      "cell_type": "markdown",
      "source": [
        "We have one binary value column: sex and multiple discreete value columns.\n",
        "\n",
        "We are going to replace values in column sex with (0,1) values\n",
        "\n",
        "We are creating a columns with names corresponding to values from discreet columns, so when option was chosen the value in corresponding column is set to 1 otherwise to 0"
      ],
      "metadata": {
        "id": "lcOtlxwi6RQX"
      }
    },
    {
      "cell_type": "code",
      "source": [
        "binary_features = ['sex']\n",
        "nominal_features = ['workclass'  ,'marital.status' , 'relationship' , 'race' ,'native.country' , 'occupation']\n",
        "\n"
      ],
      "metadata": {
        "id": "LPiXS7NGAnxW"
      },
      "execution_count": 78,
      "outputs": []
    },
    {
      "cell_type": "markdown",
      "source": [
        "Drop education as it is already encoded"
      ],
      "metadata": {
        "id": "oxOC5CwaBfgM"
      }
    },
    {
      "cell_type": "code",
      "source": [
        "data = data.drop('eduction', axis=1)"
      ],
      "metadata": {
        "id": "4StgLoMbBePR"
      },
      "execution_count": 79,
      "outputs": []
    },
    {
      "cell_type": "markdown",
      "source": [
        "## Binning countries\n",
        "As natice.country column has rare lalbels and fairly uncommon values it will be hard for algorithms to cut through the noise. Because of that we decided to group up togther all countries except United-States and Mexico. "
      ],
      "metadata": {
        "id": "WRwCJIbYlsGJ"
      }
    },
    {
      "cell_type": "code",
      "source": [
        "data['native.country'].value_counts()"
      ],
      "metadata": {
        "colab": {
          "base_uri": "https://localhost:8080/"
        },
        "id": "1tQ6vzYsjj2E",
        "outputId": "8bafcf91-1d5a-4cb1-f786-64e89e9217d7"
      },
      "execution_count": 81,
      "outputs": [
        {
          "output_type": "execute_result",
          "data": {
            "text/plain": [
              " United-States                 43792\n",
              " Mexico                          943\n",
              " ?                               856\n",
              " Philippines                     294\n",
              " Germany                         206\n",
              " Puerto-Rico                     184\n",
              " Canada                          182\n",
              " El-Salvador                     155\n",
              " India                           151\n",
              " Cuba                            138\n",
              " England                         127\n",
              " China                           122\n",
              " South                           115\n",
              " Jamaica                         106\n",
              " Italy                           105\n",
              " Dominican-Republic              103\n",
              " Japan                            92\n",
              " Poland                           87\n",
              " Guatemala                        86\n",
              " Vietnam                          86\n",
              " Columbia                         85\n",
              " Haiti                            75\n",
              " Portugal                         67\n",
              " Taiwan                           65\n",
              " Iran                             59\n",
              " Greece                           49\n",
              " Nicaragua                        49\n",
              " Peru                             46\n",
              " Ecuador                          45\n",
              " France                           38\n",
              " Ireland                          37\n",
              " Hong                             30\n",
              " Thailand                         30\n",
              " Cambodia                         28\n",
              " Trinadad&Tobago                  27\n",
              " Laos                             23\n",
              " Yugoslavia                       23\n",
              " Outlying-US(Guam-USVI-etc)       23\n",
              " Scotland                         21\n",
              " Honduras                         20\n",
              " Hungary                          19\n",
              " Holand-Netherlands                1\n",
              "Name: native.country, dtype: int64"
            ]
          },
          "metadata": {},
          "execution_count": 81
        }
      ]
    },
    {
      "cell_type": "code",
      "source": [
        "data['native.country'] = np.where(data['native.country'].isin([' United-States', ' Mexico']),\n",
        "                           data['native.country'].str.title(),\n",
        "                           'Other')\n",
        "\n",
        "data['native.country'].value_counts()"
      ],
      "metadata": {
        "colab": {
          "base_uri": "https://localhost:8080/"
        },
        "id": "z4Zm7obpj3yi",
        "outputId": "e8a72762-4c65-4a28-d9c0-af0028ace561"
      },
      "execution_count": 82,
      "outputs": [
        {
          "output_type": "execute_result",
          "data": {
            "text/plain": [
              " United-States    43792\n",
              "Other              4055\n",
              " Mexico             943\n",
              "Name: native.country, dtype: int64"
            ]
          },
          "metadata": {},
          "execution_count": 82
        }
      ]
    },
    {
      "cell_type": "markdown",
      "source": [
        "## Split data"
      ],
      "metadata": {
        "id": "TFaBeXosFSPD"
      }
    },
    {
      "cell_type": "code",
      "source": [
        "from sklearn.metrics import confusion_matrix\n",
        "from sklearn.model_selection import train_test_split\n",
        "from sklearn import tree\n",
        "from sklearn.tree import export_text\n",
        "\n",
        "(train_set, test_set) = train_test_split(data, train_size=0.3, random_state=163686)\n",
        "\n",
        "train_classes = train_set['income']\n",
        "train_set = train_set.drop(['income'], axis=1)\n",
        "test_classes = test_set['income']\n",
        "test_set = test_set.drop(['income'], axis=1)\n",
        "\n",
        "train_set_columns = train_set.columns\n",
        "test_set_columns = test_set.columns"
      ],
      "metadata": {
        "id": "zrMuNMA6ZP1P"
      },
      "execution_count": 83,
      "outputs": []
    },
    {
      "cell_type": "markdown",
      "source": [
        "## Impute missing values\n",
        "\n",
        "We have few columns with some missing data. There are a few ways to deal with it by using imputation: [link](https://towardsdatascience.com/6-different-ways-to-compensate-for-missing-values-data-imputation-with-examples-6022d9ca0779) \n",
        "* Ignore it\n",
        "* Use median\n",
        "* Use the most fequent \n",
        "* Use constant value\n",
        "* Use kNN algorithm\n",
        "* Use Multivariate Imputation by Chained Equation (MICE)\n",
        "* Use Deep Learning (Datawig)\n",
        "\n",
        "We can't use median or mean as these values belong to categorical features. As that we are going to use: Simple imputer - most frequest as this the one that works with categorical features. "
      ],
      "metadata": {
        "id": "VQa5IZ4RFXQ8"
      }
    },
    {
      "cell_type": "code",
      "source": [
        "from sklearn.impute import SimpleImputer\n",
        "\n",
        "imp_mean = SimpleImputer( strategy='most_frequent', missing_values=[' ?'])\n",
        "imp_mean.fit(train_set)\n",
        "imputed_train_set = imp_mean.transform(train_set)\n",
        "\n",
        "imp_mean = SimpleImputer( strategy='most_frequent',  missing_values=[' ?'])\n",
        "imp_mean.fit(test_set)\n",
        "imputed_test_set = imp_mean.transform(test_set)"
      ],
      "metadata": {
        "id": "EUEmj8PuG6sR"
      },
      "execution_count": 84,
      "outputs": []
    },
    {
      "cell_type": "code",
      "source": [
        "'?' in imputed_train_set"
      ],
      "metadata": {
        "colab": {
          "base_uri": "https://localhost:8080/"
        },
        "id": "BhVzDYjLifTe",
        "outputId": "024c3554-1d4d-47b3-95df-4d9271edd9ad"
      },
      "execution_count": 85,
      "outputs": [
        {
          "output_type": "execute_result",
          "data": {
            "text/plain": [
              "False"
            ]
          },
          "metadata": {},
          "execution_count": 85
        }
      ]
    },
    {
      "cell_type": "code",
      "source": [
        "'?' in imputed_test_set"
      ],
      "metadata": {
        "colab": {
          "base_uri": "https://localhost:8080/"
        },
        "id": "v3PiP8UWocq3",
        "outputId": "b8b0c976-b690-42e3-afb0-8d616a948058"
      },
      "execution_count": 86,
      "outputs": [
        {
          "output_type": "execute_result",
          "data": {
            "text/plain": [
              "False"
            ]
          },
          "metadata": {},
          "execution_count": 86
        }
      ]
    },
    {
      "cell_type": "code",
      "source": [
        "test_set.columns.values"
      ],
      "metadata": {
        "colab": {
          "base_uri": "https://localhost:8080/"
        },
        "id": "fgKDNxwCo3lb",
        "outputId": "0c16af20-4f70-45d6-c7c7-c1a39b83cbcd"
      },
      "execution_count": 87,
      "outputs": [
        {
          "output_type": "execute_result",
          "data": {
            "text/plain": [
              "array(['age', 'workclass', 'fnlwgt', 'education.num', 'marital.status',\n",
              "       'occupation', 'relationship', 'race', 'sex', 'capital.gain',\n",
              "       'capital.loss', 'hours.per.week', 'native.country'], dtype=object)"
            ]
          },
          "metadata": {},
          "execution_count": 87
        }
      ]
    },
    {
      "cell_type": "code",
      "source": [
        "imputed_train_set"
      ],
      "metadata": {
        "colab": {
          "base_uri": "https://localhost:8080/"
        },
        "id": "nsnWt_RNo-zq",
        "outputId": "68e145ac-614b-43e9-c77a-91261237531b"
      },
      "execution_count": 88,
      "outputs": [
        {
          "output_type": "execute_result",
          "data": {
            "text/plain": [
              "array([[47, ' Private', 159550, ..., 0, 40, ' United-States'],\n",
              "       [41, ' Self-emp-not-inc', 29762, ..., 0, 70, ' United-States'],\n",
              "       [50, ' State-gov', 198103, ..., 0, 40, ' United-States'],\n",
              "       ...,\n",
              "       [60, ' Private', 165441, ..., 0, 40, ' United-States'],\n",
              "       [52, ' Private', 221936, ..., 0, 40, ' United-States'],\n",
              "       [42, ' Private', 202466, ..., 0, 45, ' United-States']],\n",
              "      dtype=object)"
            ]
          },
          "metadata": {},
          "execution_count": 88
        }
      ]
    },
    {
      "cell_type": "markdown",
      "source": [
        "### Hot encoding\n",
        "We are hot ecoding data using nominal_features which corresponds to categorical data within our dataset. \n",
        "\n",
        "\"Categorical data are variables that contain label values rather than numeric values\"[[1]](https://machinelearningmastery.com/why-one-hot-encode-data-in-machine-learning/)[[2]](https://en.wikipedia.org/wiki/Nominal_category)"
      ],
      "metadata": {
        "id": "lpY9TaWQkQFJ"
      }
    },
    {
      "cell_type": "code",
      "source": [
        "test_set_he = pd.get_dummies(pd.DataFrame(imputed_test_set, columns=test_set.columns), columns=nominal_features)\n",
        "train_set_he = pd.get_dummies(pd.DataFrame(imputed_train_set, columns=train_set.columns), columns=nominal_features)"
      ],
      "metadata": {
        "id": "GPGwyHz7jaHU"
      },
      "execution_count": 89,
      "outputs": []
    },
    {
      "cell_type": "markdown",
      "source": [
        "## Compensation of missing column\n",
        "As we did imputation we are missing some columns in test set compared to the train set. So we're going to add that to the test set. "
      ],
      "metadata": {
        "id": "a0-y8uJ4H9R4"
      }
    },
    {
      "cell_type": "code",
      "source": [
        "import numpy as np\n",
        "diff = np.setdiff1d(train_set_he.columns.values, test_set_he.columns.values)"
      ],
      "metadata": {
        "id": "m7XHjm0GJTWt"
      },
      "execution_count": 90,
      "outputs": []
    },
    {
      "cell_type": "code",
      "source": [
        "diff"
      ],
      "metadata": {
        "id": "P0TzteeBISkh",
        "colab": {
          "base_uri": "https://localhost:8080/"
        },
        "outputId": "4a2decf6-a1df-4f75-bad5-09b59cd90ed3"
      },
      "execution_count": 91,
      "outputs": [
        {
          "output_type": "execute_result",
          "data": {
            "text/plain": [
              "array([], dtype=object)"
            ]
          },
          "metadata": {},
          "execution_count": 91
        }
      ]
    },
    {
      "cell_type": "code",
      "source": [
        "for column in diff:\n",
        "  if column not in train_set_he.columns:\n",
        "    train_set_he[column] = 0\n",
        "  else:\n",
        "    test_set_he[column] = 0\n",
        "\n",
        "diff = np.setdiff1d(train_set_he.columns.values, test_set_he.columns.values)\n",
        "diff"
      ],
      "metadata": {
        "colab": {
          "base_uri": "https://localhost:8080/"
        },
        "id": "2r9vU37qqY3c",
        "outputId": "ca625ea2-514e-457e-93fd-65def3311acf"
      },
      "execution_count": 92,
      "outputs": [
        {
          "output_type": "execute_result",
          "data": {
            "text/plain": [
              "array([], dtype=object)"
            ]
          },
          "metadata": {},
          "execution_count": 92
        }
      ]
    },
    {
      "cell_type": "code",
      "source": [
        "train_set_he['sex'].values"
      ],
      "metadata": {
        "colab": {
          "base_uri": "https://localhost:8080/"
        },
        "id": "s7CwV1avsPDy",
        "outputId": "e5a53d73-5f58-48d3-fbcb-3296b49484c3"
      },
      "execution_count": 93,
      "outputs": [
        {
          "output_type": "execute_result",
          "data": {
            "text/plain": [
              "array([' Female', ' Male', ' Female', ..., ' Female', ' Male', ' Female'],\n",
              "      dtype=object)"
            ]
          },
          "metadata": {},
          "execution_count": 93
        }
      ]
    },
    {
      "cell_type": "code",
      "source": [
        "train_set_he['sex'] = train_set_he['sex'].map({' Female': 1, ' Male': 0})\n",
        "test_set_he['sex'] = test_set_he['sex'].map({' Female': 1, ' Male': 0})\n",
        "\n",
        "train_set_he"
      ],
      "metadata": {
        "colab": {
          "base_uri": "https://localhost:8080/",
          "height": 485
        },
        "id": "em6WMIAJrFC2",
        "outputId": "55e05984-5d3e-4c43-cb02-c0d49e3cfe92"
      },
      "execution_count": 94,
      "outputs": [
        {
          "output_type": "execute_result",
          "data": {
            "text/plain": [
              "      age  fnlwgt education.num  sex capital.gain capital.loss hours.per.week  \\\n",
              "0      47  159550             9    1            0            0             40   \n",
              "1      41   29762            10    0         5013            0             70   \n",
              "2      50  198103            13    1            0            0             40   \n",
              "3      48  310639            10    0            0            0             50   \n",
              "4      33   80145             9    0            0            0             60   \n",
              "...    ..     ...           ...  ...          ...          ...            ...   \n",
              "14632  68  191517            10    0            0            0             40   \n",
              "14633  42  287244             9    0            0            0             55   \n",
              "14634  60  165441             4    1            0            0             40   \n",
              "14635  52  221936             9    0            0            0             40   \n",
              "14636  42  202466            12    1            0            0             45   \n",
              "\n",
              "       workclass_ Federal-gov  workclass_ Local-gov  workclass_ Never-worked  \\\n",
              "0                           0                     0                        0   \n",
              "1                           0                     0                        0   \n",
              "2                           0                     0                        0   \n",
              "3                           0                     0                        0   \n",
              "4                           0                     0                        0   \n",
              "...                       ...                   ...                      ...   \n",
              "14632                       0                     0                        0   \n",
              "14633                       0                     0                        0   \n",
              "14634                       0                     0                        0   \n",
              "14635                       0                     0                        0   \n",
              "14636                       0                     0                        0   \n",
              "\n",
              "       ...  occupation_ Farming-fishing  occupation_ Handlers-cleaners  \\\n",
              "0      ...                            0                              0   \n",
              "1      ...                            1                              0   \n",
              "2      ...                            0                              0   \n",
              "3      ...                            0                              0   \n",
              "4      ...                            0                              0   \n",
              "...    ...                          ...                            ...   \n",
              "14632  ...                            0                              0   \n",
              "14633  ...                            0                              0   \n",
              "14634  ...                            0                              0   \n",
              "14635  ...                            0                              0   \n",
              "14636  ...                            0                              0   \n",
              "\n",
              "       occupation_ Machine-op-inspct  occupation_ Other-service  \\\n",
              "0                                  0                          0   \n",
              "1                                  0                          0   \n",
              "2                                  0                          0   \n",
              "3                                  0                          0   \n",
              "4                                  0                          0   \n",
              "...                              ...                        ...   \n",
              "14632                              0                          0   \n",
              "14633                              0                          0   \n",
              "14634                              1                          0   \n",
              "14635                              0                          0   \n",
              "14636                              0                          0   \n",
              "\n",
              "       occupation_ Priv-house-serv  occupation_ Prof-specialty  \\\n",
              "0                                0                           0   \n",
              "1                                0                           0   \n",
              "2                                0                           0   \n",
              "3                                0                           0   \n",
              "4                                0                           0   \n",
              "...                            ...                         ...   \n",
              "14632                            0                           0   \n",
              "14633                            0                           0   \n",
              "14634                            0                           0   \n",
              "14635                            0                           0   \n",
              "14636                            0                           1   \n",
              "\n",
              "       occupation_ Protective-serv  occupation_ Sales  \\\n",
              "0                                0                  0   \n",
              "1                                0                  0   \n",
              "2                                0                  0   \n",
              "3                                0                  0   \n",
              "4                                0                  0   \n",
              "...                            ...                ...   \n",
              "14632                            0                  0   \n",
              "14633                            0                  0   \n",
              "14634                            0                  0   \n",
              "14635                            0                  1   \n",
              "14636                            0                  0   \n",
              "\n",
              "       occupation_ Tech-support  occupation_ Transport-moving  \n",
              "0                             0                             0  \n",
              "1                             0                             0  \n",
              "2                             0                             0  \n",
              "3                             0                             0  \n",
              "4                             0                             1  \n",
              "...                         ...                           ...  \n",
              "14632                         0                             0  \n",
              "14633                         0                             0  \n",
              "14634                         0                             0  \n",
              "14635                         0                             0  \n",
              "14636                         0                             0  \n",
              "\n",
              "[14637 rows x 50 columns]"
            ],
            "text/html": [
              "\n",
              "  <div id=\"df-5bdcac52-7028-4e08-ac37-8a7939c12577\">\n",
              "    <div class=\"colab-df-container\">\n",
              "      <div>\n",
              "<style scoped>\n",
              "    .dataframe tbody tr th:only-of-type {\n",
              "        vertical-align: middle;\n",
              "    }\n",
              "\n",
              "    .dataframe tbody tr th {\n",
              "        vertical-align: top;\n",
              "    }\n",
              "\n",
              "    .dataframe thead th {\n",
              "        text-align: right;\n",
              "    }\n",
              "</style>\n",
              "<table border=\"1\" class=\"dataframe\">\n",
              "  <thead>\n",
              "    <tr style=\"text-align: right;\">\n",
              "      <th></th>\n",
              "      <th>age</th>\n",
              "      <th>fnlwgt</th>\n",
              "      <th>education.num</th>\n",
              "      <th>sex</th>\n",
              "      <th>capital.gain</th>\n",
              "      <th>capital.loss</th>\n",
              "      <th>hours.per.week</th>\n",
              "      <th>workclass_ Federal-gov</th>\n",
              "      <th>workclass_ Local-gov</th>\n",
              "      <th>workclass_ Never-worked</th>\n",
              "      <th>...</th>\n",
              "      <th>occupation_ Farming-fishing</th>\n",
              "      <th>occupation_ Handlers-cleaners</th>\n",
              "      <th>occupation_ Machine-op-inspct</th>\n",
              "      <th>occupation_ Other-service</th>\n",
              "      <th>occupation_ Priv-house-serv</th>\n",
              "      <th>occupation_ Prof-specialty</th>\n",
              "      <th>occupation_ Protective-serv</th>\n",
              "      <th>occupation_ Sales</th>\n",
              "      <th>occupation_ Tech-support</th>\n",
              "      <th>occupation_ Transport-moving</th>\n",
              "    </tr>\n",
              "  </thead>\n",
              "  <tbody>\n",
              "    <tr>\n",
              "      <th>0</th>\n",
              "      <td>47</td>\n",
              "      <td>159550</td>\n",
              "      <td>9</td>\n",
              "      <td>1</td>\n",
              "      <td>0</td>\n",
              "      <td>0</td>\n",
              "      <td>40</td>\n",
              "      <td>0</td>\n",
              "      <td>0</td>\n",
              "      <td>0</td>\n",
              "      <td>...</td>\n",
              "      <td>0</td>\n",
              "      <td>0</td>\n",
              "      <td>0</td>\n",
              "      <td>0</td>\n",
              "      <td>0</td>\n",
              "      <td>0</td>\n",
              "      <td>0</td>\n",
              "      <td>0</td>\n",
              "      <td>0</td>\n",
              "      <td>0</td>\n",
              "    </tr>\n",
              "    <tr>\n",
              "      <th>1</th>\n",
              "      <td>41</td>\n",
              "      <td>29762</td>\n",
              "      <td>10</td>\n",
              "      <td>0</td>\n",
              "      <td>5013</td>\n",
              "      <td>0</td>\n",
              "      <td>70</td>\n",
              "      <td>0</td>\n",
              "      <td>0</td>\n",
              "      <td>0</td>\n",
              "      <td>...</td>\n",
              "      <td>1</td>\n",
              "      <td>0</td>\n",
              "      <td>0</td>\n",
              "      <td>0</td>\n",
              "      <td>0</td>\n",
              "      <td>0</td>\n",
              "      <td>0</td>\n",
              "      <td>0</td>\n",
              "      <td>0</td>\n",
              "      <td>0</td>\n",
              "    </tr>\n",
              "    <tr>\n",
              "      <th>2</th>\n",
              "      <td>50</td>\n",
              "      <td>198103</td>\n",
              "      <td>13</td>\n",
              "      <td>1</td>\n",
              "      <td>0</td>\n",
              "      <td>0</td>\n",
              "      <td>40</td>\n",
              "      <td>0</td>\n",
              "      <td>0</td>\n",
              "      <td>0</td>\n",
              "      <td>...</td>\n",
              "      <td>0</td>\n",
              "      <td>0</td>\n",
              "      <td>0</td>\n",
              "      <td>0</td>\n",
              "      <td>0</td>\n",
              "      <td>0</td>\n",
              "      <td>0</td>\n",
              "      <td>0</td>\n",
              "      <td>0</td>\n",
              "      <td>0</td>\n",
              "    </tr>\n",
              "    <tr>\n",
              "      <th>3</th>\n",
              "      <td>48</td>\n",
              "      <td>310639</td>\n",
              "      <td>10</td>\n",
              "      <td>0</td>\n",
              "      <td>0</td>\n",
              "      <td>0</td>\n",
              "      <td>50</td>\n",
              "      <td>0</td>\n",
              "      <td>0</td>\n",
              "      <td>0</td>\n",
              "      <td>...</td>\n",
              "      <td>0</td>\n",
              "      <td>0</td>\n",
              "      <td>0</td>\n",
              "      <td>0</td>\n",
              "      <td>0</td>\n",
              "      <td>0</td>\n",
              "      <td>0</td>\n",
              "      <td>0</td>\n",
              "      <td>0</td>\n",
              "      <td>0</td>\n",
              "    </tr>\n",
              "    <tr>\n",
              "      <th>4</th>\n",
              "      <td>33</td>\n",
              "      <td>80145</td>\n",
              "      <td>9</td>\n",
              "      <td>0</td>\n",
              "      <td>0</td>\n",
              "      <td>0</td>\n",
              "      <td>60</td>\n",
              "      <td>0</td>\n",
              "      <td>0</td>\n",
              "      <td>0</td>\n",
              "      <td>...</td>\n",
              "      <td>0</td>\n",
              "      <td>0</td>\n",
              "      <td>0</td>\n",
              "      <td>0</td>\n",
              "      <td>0</td>\n",
              "      <td>0</td>\n",
              "      <td>0</td>\n",
              "      <td>0</td>\n",
              "      <td>0</td>\n",
              "      <td>1</td>\n",
              "    </tr>\n",
              "    <tr>\n",
              "      <th>...</th>\n",
              "      <td>...</td>\n",
              "      <td>...</td>\n",
              "      <td>...</td>\n",
              "      <td>...</td>\n",
              "      <td>...</td>\n",
              "      <td>...</td>\n",
              "      <td>...</td>\n",
              "      <td>...</td>\n",
              "      <td>...</td>\n",
              "      <td>...</td>\n",
              "      <td>...</td>\n",
              "      <td>...</td>\n",
              "      <td>...</td>\n",
              "      <td>...</td>\n",
              "      <td>...</td>\n",
              "      <td>...</td>\n",
              "      <td>...</td>\n",
              "      <td>...</td>\n",
              "      <td>...</td>\n",
              "      <td>...</td>\n",
              "      <td>...</td>\n",
              "    </tr>\n",
              "    <tr>\n",
              "      <th>14632</th>\n",
              "      <td>68</td>\n",
              "      <td>191517</td>\n",
              "      <td>10</td>\n",
              "      <td>0</td>\n",
              "      <td>0</td>\n",
              "      <td>0</td>\n",
              "      <td>40</td>\n",
              "      <td>0</td>\n",
              "      <td>0</td>\n",
              "      <td>0</td>\n",
              "      <td>...</td>\n",
              "      <td>0</td>\n",
              "      <td>0</td>\n",
              "      <td>0</td>\n",
              "      <td>0</td>\n",
              "      <td>0</td>\n",
              "      <td>0</td>\n",
              "      <td>0</td>\n",
              "      <td>0</td>\n",
              "      <td>0</td>\n",
              "      <td>0</td>\n",
              "    </tr>\n",
              "    <tr>\n",
              "      <th>14633</th>\n",
              "      <td>42</td>\n",
              "      <td>287244</td>\n",
              "      <td>9</td>\n",
              "      <td>0</td>\n",
              "      <td>0</td>\n",
              "      <td>0</td>\n",
              "      <td>55</td>\n",
              "      <td>0</td>\n",
              "      <td>0</td>\n",
              "      <td>0</td>\n",
              "      <td>...</td>\n",
              "      <td>0</td>\n",
              "      <td>0</td>\n",
              "      <td>0</td>\n",
              "      <td>0</td>\n",
              "      <td>0</td>\n",
              "      <td>0</td>\n",
              "      <td>0</td>\n",
              "      <td>0</td>\n",
              "      <td>0</td>\n",
              "      <td>0</td>\n",
              "    </tr>\n",
              "    <tr>\n",
              "      <th>14634</th>\n",
              "      <td>60</td>\n",
              "      <td>165441</td>\n",
              "      <td>4</td>\n",
              "      <td>1</td>\n",
              "      <td>0</td>\n",
              "      <td>0</td>\n",
              "      <td>40</td>\n",
              "      <td>0</td>\n",
              "      <td>0</td>\n",
              "      <td>0</td>\n",
              "      <td>...</td>\n",
              "      <td>0</td>\n",
              "      <td>0</td>\n",
              "      <td>1</td>\n",
              "      <td>0</td>\n",
              "      <td>0</td>\n",
              "      <td>0</td>\n",
              "      <td>0</td>\n",
              "      <td>0</td>\n",
              "      <td>0</td>\n",
              "      <td>0</td>\n",
              "    </tr>\n",
              "    <tr>\n",
              "      <th>14635</th>\n",
              "      <td>52</td>\n",
              "      <td>221936</td>\n",
              "      <td>9</td>\n",
              "      <td>0</td>\n",
              "      <td>0</td>\n",
              "      <td>0</td>\n",
              "      <td>40</td>\n",
              "      <td>0</td>\n",
              "      <td>0</td>\n",
              "      <td>0</td>\n",
              "      <td>...</td>\n",
              "      <td>0</td>\n",
              "      <td>0</td>\n",
              "      <td>0</td>\n",
              "      <td>0</td>\n",
              "      <td>0</td>\n",
              "      <td>0</td>\n",
              "      <td>0</td>\n",
              "      <td>1</td>\n",
              "      <td>0</td>\n",
              "      <td>0</td>\n",
              "    </tr>\n",
              "    <tr>\n",
              "      <th>14636</th>\n",
              "      <td>42</td>\n",
              "      <td>202466</td>\n",
              "      <td>12</td>\n",
              "      <td>1</td>\n",
              "      <td>0</td>\n",
              "      <td>0</td>\n",
              "      <td>45</td>\n",
              "      <td>0</td>\n",
              "      <td>0</td>\n",
              "      <td>0</td>\n",
              "      <td>...</td>\n",
              "      <td>0</td>\n",
              "      <td>0</td>\n",
              "      <td>0</td>\n",
              "      <td>0</td>\n",
              "      <td>0</td>\n",
              "      <td>1</td>\n",
              "      <td>0</td>\n",
              "      <td>0</td>\n",
              "      <td>0</td>\n",
              "      <td>0</td>\n",
              "    </tr>\n",
              "  </tbody>\n",
              "</table>\n",
              "<p>14637 rows × 50 columns</p>\n",
              "</div>\n",
              "      <button class=\"colab-df-convert\" onclick=\"convertToInteractive('df-5bdcac52-7028-4e08-ac37-8a7939c12577')\"\n",
              "              title=\"Convert this dataframe to an interactive table.\"\n",
              "              style=\"display:none;\">\n",
              "        \n",
              "  <svg xmlns=\"http://www.w3.org/2000/svg\" height=\"24px\"viewBox=\"0 0 24 24\"\n",
              "       width=\"24px\">\n",
              "    <path d=\"M0 0h24v24H0V0z\" fill=\"none\"/>\n",
              "    <path d=\"M18.56 5.44l.94 2.06.94-2.06 2.06-.94-2.06-.94-.94-2.06-.94 2.06-2.06.94zm-11 1L8.5 8.5l.94-2.06 2.06-.94-2.06-.94L8.5 2.5l-.94 2.06-2.06.94zm10 10l.94 2.06.94-2.06 2.06-.94-2.06-.94-.94-2.06-.94 2.06-2.06.94z\"/><path d=\"M17.41 7.96l-1.37-1.37c-.4-.4-.92-.59-1.43-.59-.52 0-1.04.2-1.43.59L10.3 9.45l-7.72 7.72c-.78.78-.78 2.05 0 2.83L4 21.41c.39.39.9.59 1.41.59.51 0 1.02-.2 1.41-.59l7.78-7.78 2.81-2.81c.8-.78.8-2.07 0-2.86zM5.41 20L4 18.59l7.72-7.72 1.47 1.35L5.41 20z\"/>\n",
              "  </svg>\n",
              "      </button>\n",
              "      \n",
              "  <style>\n",
              "    .colab-df-container {\n",
              "      display:flex;\n",
              "      flex-wrap:wrap;\n",
              "      gap: 12px;\n",
              "    }\n",
              "\n",
              "    .colab-df-convert {\n",
              "      background-color: #E8F0FE;\n",
              "      border: none;\n",
              "      border-radius: 50%;\n",
              "      cursor: pointer;\n",
              "      display: none;\n",
              "      fill: #1967D2;\n",
              "      height: 32px;\n",
              "      padding: 0 0 0 0;\n",
              "      width: 32px;\n",
              "    }\n",
              "\n",
              "    .colab-df-convert:hover {\n",
              "      background-color: #E2EBFA;\n",
              "      box-shadow: 0px 1px 2px rgba(60, 64, 67, 0.3), 0px 1px 3px 1px rgba(60, 64, 67, 0.15);\n",
              "      fill: #174EA6;\n",
              "    }\n",
              "\n",
              "    [theme=dark] .colab-df-convert {\n",
              "      background-color: #3B4455;\n",
              "      fill: #D2E3FC;\n",
              "    }\n",
              "\n",
              "    [theme=dark] .colab-df-convert:hover {\n",
              "      background-color: #434B5C;\n",
              "      box-shadow: 0px 1px 3px 1px rgba(0, 0, 0, 0.15);\n",
              "      filter: drop-shadow(0px 1px 2px rgba(0, 0, 0, 0.3));\n",
              "      fill: #FFFFFF;\n",
              "    }\n",
              "  </style>\n",
              "\n",
              "      <script>\n",
              "        const buttonEl =\n",
              "          document.querySelector('#df-5bdcac52-7028-4e08-ac37-8a7939c12577 button.colab-df-convert');\n",
              "        buttonEl.style.display =\n",
              "          google.colab.kernel.accessAllowed ? 'block' : 'none';\n",
              "\n",
              "        async function convertToInteractive(key) {\n",
              "          const element = document.querySelector('#df-5bdcac52-7028-4e08-ac37-8a7939c12577');\n",
              "          const dataTable =\n",
              "            await google.colab.kernel.invokeFunction('convertToInteractive',\n",
              "                                                     [key], {});\n",
              "          if (!dataTable) return;\n",
              "\n",
              "          const docLinkHtml = 'Like what you see? Visit the ' +\n",
              "            '<a target=\"_blank\" href=https://colab.research.google.com/notebooks/data_table.ipynb>data table notebook</a>'\n",
              "            + ' to learn more about interactive tables.';\n",
              "          element.innerHTML = '';\n",
              "          dataTable['output_type'] = 'display_data';\n",
              "          await google.colab.output.renderOutput(dataTable, element);\n",
              "          const docLink = document.createElement('div');\n",
              "          docLink.innerHTML = docLinkHtml;\n",
              "          element.appendChild(docLink);\n",
              "        }\n",
              "      </script>\n",
              "    </div>\n",
              "  </div>\n",
              "  "
            ]
          },
          "metadata": {},
          "execution_count": 94
        }
      ]
    },
    {
      "cell_type": "code",
      "source": [
        "from sklearn.preprocessing import StandardScaler\n",
        "scaler = StandardScaler()\n",
        "\n",
        "train_set_scaled = scaler.fit_transform(train_set_he)\n",
        "test_set_scaled = scaler.fit_transform(test_set_he)"
      ],
      "metadata": {
        "id": "4ZJ99038-NtL"
      },
      "execution_count": 95,
      "outputs": []
    },
    {
      "cell_type": "markdown",
      "source": [
        "## Decision Tree [[1]](https://medium.com/analytics-vidhya/classification-in-decision-tree-a-step-by-step-cart-classification-and-regression-tree-8e5f5228b11e)[[2]](https://scikit-learn.org/stable/modules/tree.html#tree)\n",
        "\n",
        "Decision tree is supervised learning algorithm used for classification and regression. The goal is to create a model that can predict a target value based on vector of feature variables by using simple decision rules.\n",
        "Sklearn is using CART algorithm. CART is using Gini Impurity for splitting nodes into sub-nodes. "
      ],
      "metadata": {
        "id": "F8ANQMdhY2dK"
      }
    },
    {
      "cell_type": "code",
      "source": [
        "from sklearn.metrics import confusion_matrix\n",
        "from sklearn.model_selection import train_test_split\n",
        "from sklearn import tree\n",
        "from sklearn.tree import export_text\n",
        "\n",
        "clf = tree.DecisionTreeClassifier()\n",
        "clf = clf.fit(train_set_scaled, train_classes.values)\n",
        "\n",
        "tree.plot_tree(clf, max_depth=5)\n",
        "# r = export_text(clf, feature_names=columns.values)\n",
        "# print(r)\n",
        "good_predictions = 0\n",
        "len = test_set_scaled.shape[0]\n",
        "test_classes_values = test_classes.values\n",
        "res = clf.predict(test_set_scaled)\n",
        "for i,r in enumerate(res):\n",
        "    if r == test_classes_values[i]:\n",
        "        good_predictions = good_predictions + 1\n",
        "print(good_predictions)\n",
        "print(good_predictions / len * 100, \"%\")\n",
        "decision_tree_matrix = confusion_matrix(test_classes_values, res)\n",
        "print(decision_tree_matrix)"
      ],
      "metadata": {
        "colab": {
          "base_uri": "https://localhost:8080/",
          "height": 317
        },
        "id": "uspteXAtY5Am",
        "outputId": "5f036fc3-986c-4b81-dbd9-a422fa3f3113"
      },
      "execution_count": 96,
      "outputs": [
        {
          "output_type": "stream",
          "name": "stdout",
          "text": [
            "27571\n",
            "80.72790091646415 %\n",
            "[[22502  3467]\n",
            " [ 3115  5069]]\n"
          ]
        },
        {
          "output_type": "display_data",
          "data": {
            "text/plain": [
              "<Figure size 432x288 with 1 Axes>"
            ],
            "image/png": "[encoded data removed]"
          },
          "metadata": {
            "needs_background": "light"
          }
        }
      ]
    },
    {
      "cell_type": "code",
      "source": [
        "def generate_confusion_matrix_heat_map(matrix, title):\n",
        "  ax = sns.heatmap(matrix, fmt='d', annot=True, cmap='Blues')\n",
        "  ax.set_title(title)\n",
        "  ax.set_xlabel('\\nPredicted Values')\n",
        "  ax.set_ylabel('Actual Values')\n",
        "\n",
        "  ax.xaxis.set_ticklabels(['False','True'])\n",
        "  ax.yaxis.set_ticklabels(['False','True'])\n",
        "  plt.show()"
      ],
      "metadata": {
        "id": "SNdkMCl0AA9J"
      },
      "execution_count": 97,
      "outputs": []
    },
    {
      "cell_type": "code",
      "source": [
        "generate_confusion_matrix_heat_map(decision_tree_matrix, 'Decision Tree Confusion Matrix')"
      ],
      "metadata": {
        "id": "zwPjzWyaAqo6",
        "colab": {
          "base_uri": "https://localhost:8080/",
          "height": 307
        },
        "outputId": "e71a3301-b400-447e-babd-66794b773372"
      },
      "execution_count": 98,
      "outputs": [
        {
          "output_type": "display_data",
          "data": {
            "text/plain": [
              "<Figure size 432x288 with 2 Axes>"
            ],
            "image/png": "[encoded data removed]"
          },
          "metadata": {
            "needs_background": "light"
          }
        }
      ]
    },
    {
      "cell_type": "markdown",
      "source": [
        "# kNN [[1]](https://pl.wikipedia.org/wiki/K_najbli%C5%BCszych_s%C4%85siad%C3%B3w) [[2]](https://www.ibm.com/topics/knn)\n",
        "The k-nearest neighbors algorithm is a supervised learning classifier which uses the proximity to make grouping of the point in order to do classification or prediction. The short explaination of it:\n",
        "1. Observation C having vector of X variables is compared to other observations - for example by euclidean distance.\n",
        "2. Assing k closest observations to C.\n",
        "3. Calculate the average of the prediction point. \n",
        "\n",
        "One of the most important things is to chose K which strongly influences the outcome of the training. \n",
        "\n"
      ],
      "metadata": {
        "id": "Ko4dw-wVaWGh"
      }
    },
    {
      "cell_type": "code",
      "source": [
        "from sklearn.neighbors import KNeighborsClassifier\n",
        "from sklearn.metrics import classification_report"
      ],
      "metadata": {
        "id": "RKP8PPa_acL4"
      },
      "execution_count": 99,
      "outputs": []
    },
    {
      "cell_type": "markdown",
      "source": [
        "Changing the income values to numeric"
      ],
      "metadata": {
        "id": "i2KhEqTF_cNr"
      }
    },
    {
      "cell_type": "code",
      "source": [
        "# test_classes['income'] = test_classes['income'].map({' <=50K': 0, ' >50K': 1})\n",
        "# train_classes['income'] = test_classes['income'].map({' <=50K': 0, ' >50K': 1})"
      ],
      "metadata": {
        "id": "PEfH4e67-872"
      },
      "execution_count": null,
      "outputs": []
    },
    {
      "cell_type": "code",
      "source": [
        "knn = KNeighborsClassifier(n_neighbors=9) ###k=9\n",
        "knn = knn.fit(train_set_scaled, train_classes.values)"
      ],
      "metadata": {
        "id": "JuxOheOC-vbu"
      },
      "execution_count": 100,
      "outputs": []
    },
    {
      "cell_type": "code",
      "source": [
        "pred = knn.predict(test_set_scaled)\n",
        "\n",
        "knn_matrix = confusion_matrix(test_classes.values, pred)\n",
        "classification_report(test_classes.values, pred)"
      ],
      "metadata": {
        "id": "DYW_KV5b_lSG",
        "colab": {
          "base_uri": "https://localhost:8080/",
          "height": 53
        },
        "outputId": "3a9b48ba-ac70-442b-b88d-3977eb89d608"
      },
      "execution_count": 101,
      "outputs": [
        {
          "output_type": "execute_result",
          "data": {
            "text/plain": [
              "'              precision    recall  f1-score   support\\n\\n       <=50K       0.87      0.91      0.89     25969\\n        >50K       0.66      0.56      0.61      8184\\n\\n    accuracy                           0.83     34153\\n   macro avg       0.77      0.74      0.75     34153\\nweighted avg       0.82      0.83      0.82     34153\\n'"
            ],
            "application/vnd.google.colaboratory.intrinsic+json": {
              "type": "string"
            }
          },
          "metadata": {},
          "execution_count": 101
        }
      ]
    },
    {
      "cell_type": "code",
      "source": [
        "generate_confusion_matrix_heat_map(knn_matrix, 'kNN Confusion Matrix')"
      ],
      "metadata": {
        "id": "2Do2_m4zA4Di",
        "colab": {
          "base_uri": "https://localhost:8080/",
          "height": 307
        },
        "outputId": "101e7510-bc1c-4b55-ba2b-e1cb467ad020"
      },
      "execution_count": 102,
      "outputs": [
        {
          "output_type": "display_data",
          "data": {
            "text/plain": [
              "<Figure size 432x288 with 2 Axes>"
            ],
            "image/png": "[encoded data removed]"
          },
          "metadata": {
            "needs_background": "light"
          }
        }
      ]
    },
    {
      "cell_type": "markdown",
      "source": [
        "# Naive Bayes\n",
        "Naive Bayes are a family of classifiers that apply Bayes' theorem. It is simple probablistic classificator. They are based on theory about independence of predictors. "
      ],
      "metadata": {
        "id": "6CdtCUsGA88O"
      }
    },
    {
      "cell_type": "code",
      "source": [
        "from sklearn.naive_bayes import BernoulliNB\n",
        "\n",
        "gnb = BernoulliNB()\n",
        "\n",
        "gnb.fit(train_set_scaled, train_classes.values)\n",
        "\n",
        "pred = gnb.predict(test_set_scaled)\n",
        "\n",
        "naive_bayes_matrix = confusion_matrix(test_classes.values, pred)\n",
        "classification_report(test_classes.values, pred)\n",
        "\n",
        "generate_confusion_matrix_heat_map(naive_bayes_matrix, 'Naive Bayes Confusion Matrix')"
      ],
      "metadata": {
        "colab": {
          "base_uri": "https://localhost:8080/",
          "height": 307
        },
        "id": "cIZ_hfoDdd2Y",
        "outputId": "7f04970c-3143-4f23-e755-bcf09b111356"
      },
      "execution_count": 106,
      "outputs": [
        {
          "output_type": "display_data",
          "data": {
            "text/plain": [
              "<Figure size 432x288 with 2 Axes>"
            ],
            "image/png": "[encoded data removed]"
          },
          "metadata": {
            "needs_background": "light"
          }
        }
      ]
    },
    {
      "cell_type": "code",
      "source": [
        "report = classification_report(test_classes.values, pred)\n",
        "print(report)"
      ],
      "metadata": {
        "colab": {
          "base_uri": "https://localhost:8080/"
        },
        "id": "HlQCSMEhnPtH",
        "outputId": "c4ee703d-2345-4819-e386-697845874dd9"
      },
      "execution_count": 108,
      "outputs": [
        {
          "output_type": "stream",
          "name": "stdout",
          "text": [
            "              precision    recall  f1-score   support\n",
            "\n",
            "       <=50K       0.92      0.75      0.83     25969\n",
            "        >50K       0.50      0.79      0.61      8184\n",
            "\n",
            "    accuracy                           0.76     34153\n",
            "   macro avg       0.71      0.77      0.72     34153\n",
            "weighted avg       0.82      0.76      0.77     34153\n",
            "\n"
          ]
        }
      ]
    },
    {
      "cell_type": "code",
      "source": [
        "print('Training set score: {:.4f}'.format(gnb.score(train_set_scaled, train_classes.values)))\n",
        "\n",
        "print('Test set score: {:.4f}'.format(gnb.score(test_set_scaled, test_classes.values)))"
      ],
      "metadata": {
        "colab": {
          "base_uri": "https://localhost:8080/"
        },
        "id": "slolQW1Wg46S",
        "outputId": "9d3dbc1d-bc4b-4ab6-fc46-c988da5e95e4"
      },
      "execution_count": 104,
      "outputs": [
        {
          "output_type": "stream",
          "name": "stdout",
          "text": [
            "Training set score: 0.6664\n",
            "Test set score: 0.7604\n"
          ]
        }
      ]
    },
    {
      "cell_type": "markdown",
      "source": [
        "# Neural Networks\n"
      ],
      "metadata": {
        "id": "mxzigvQoeck0"
      }
    },
    {
      "cell_type": "code",
      "source": [
        "from keras.models import Sequential\n",
        "from keras.layers import Dense"
      ],
      "metadata": {
        "id": "1wO_LEqsn7yj"
      },
      "execution_count": 109,
      "outputs": []
    },
    {
      "cell_type": "code",
      "source": [
        "train_set_scaled.shape"
      ],
      "metadata": {
        "colab": {
          "base_uri": "https://localhost:8080/"
        },
        "id": "yInTmahDoq4W",
        "outputId": "0f2c873a-76ef-4737-be1c-c66e32e679f1"
      },
      "execution_count": 115,
      "outputs": [
        {
          "output_type": "execute_result",
          "data": {
            "text/plain": [
              "(14637, 50)"
            ]
          },
          "metadata": {},
          "execution_count": 115
        }
      ]
    },
    {
      "cell_type": "code",
      "source": [
        "model = Sequential()\n",
        "model.add(Dense(8, input_dim=50, activation='relu', name='input_layer'))\n",
        "# 1st layer: input_dim=8, 6 nodes, RELU\n",
        "model.add(Dense(6, activation='relu', name='layer1'))\n",
        "# 2nd layer: 3 nodes, RELU\n",
        "model.add(Dense(3, activation='relu', name='layer2'))\n",
        "# 3rd output layer:\n",
        "model.add(Dense(1, activation='sigmoid', name='output-layer'))\n",
        "\n",
        "model.compile(loss='binary_crossentropy', \n",
        "              optimizer='adam',\n",
        "              metrics=['accuracy'])"
      ],
      "metadata": {
        "id": "3cOUiB21oBvt"
      },
      "execution_count": 116,
      "outputs": []
    },
    {
      "cell_type": "code",
      "source": [
        "def change_classes_to_int(dataset):\n",
        "  return dataset.map({' <=50K':0, ' >50K': 1})"
      ],
      "metadata": {
        "id": "8kK8h_rXpRvO"
      },
      "execution_count": 118,
      "outputs": []
    },
    {
      "cell_type": "code",
      "source": [
        "train_classes_val = change_classes_to_int(train_classes)\n",
        "test_classes_val = change_classes_to_int(test_classes)"
      ],
      "metadata": {
        "id": "ZcWyZ4LbpnsU"
      },
      "execution_count": 120,
      "outputs": []
    },
    {
      "cell_type": "code",
      "source": [
        "print(train_classes_val.value_counts())\n",
        "print(test_classes_val.value_counts())"
      ],
      "metadata": {
        "colab": {
          "base_uri": "https://localhost:8080/"
        },
        "id": "cLHkW1WbpoYb",
        "outputId": "8f25b0ee-4ce9-4ec5-e97b-3a4c465c84dd"
      },
      "execution_count": 125,
      "outputs": [
        {
          "output_type": "stream",
          "name": "stdout",
          "text": [
            "0    11140\n",
            "1     3497\n",
            "Name: income, dtype: int64\n",
            "0    25969\n",
            "1     8184\n",
            "Name: income, dtype: int64\n"
          ]
        }
      ]
    },
    {
      "cell_type": "code",
      "source": [
        "from tensorflow.python import train\n",
        "NB_EPOCHS = 100  # num of epochs to test for\n",
        "BATCH_SIZE = 16\n",
        "\n",
        "\n",
        "\n",
        "\n",
        "history = model.fit(train_set_scaled,\n",
        "                    train_classes_val.values,\n",
        "                    validation_data=(test_set_scaled, test_classes_val.values),\n",
        "                    epochs=NB_EPOCHS,\n",
        "                    batch_size=BATCH_SIZE,\n",
        "                    verbose=0)"
      ],
      "metadata": {
        "id": "OnqAZ7CRoDHU"
      },
      "execution_count": 126,
      "outputs": []
    },
    {
      "cell_type": "code",
      "source": [],
      "metadata": {
        "colab": {
          "base_uri": "https://localhost:8080/"
        },
        "id": "-wZdv0tNsJPL",
        "outputId": "2082b31e-7194-4051-e03b-b21affdc9c0c"
      },
      "execution_count": 128,
      "outputs": [
        {
          "output_type": "execute_result",
          "data": {
            "text/plain": [
              "array([0, 0, 0, ..., 0, 0, 0])"
            ]
          },
          "metadata": {},
          "execution_count": 128
        }
      ]
    },
    {
      "cell_type": "code",
      "source": [
        "from sklearn.metrics import accuracy_score\n",
        "y_predict = model.predict(test_set_scaled)\n",
        "y_predict = np.argmax(y_predict, axis=1)\n",
        "accuracy_score(test_classes_val.values, y_predict)"
      ],
      "metadata": {
        "colab": {
          "base_uri": "https://localhost:8080/"
        },
        "id": "bhF3y1s1oXKt",
        "outputId": "886e559b-ebd3-47e6-90f8-808d6c0a53d3"
      },
      "execution_count": 137,
      "outputs": [
        {
          "output_type": "stream",
          "name": "stdout",
          "text": [
            "1068/1068 [==============================] - 2s 2ms/step\n"
          ]
        },
        {
          "output_type": "execute_result",
          "data": {
            "text/plain": [
              "0.7603724416595906"
            ]
          },
          "metadata": {},
          "execution_count": 137
        }
      ]
    },
    {
      "cell_type": "code",
      "source": [
        "plt.plot(history.history['loss'], label='train')\n",
        "plt.plot(history.history['val_loss'], label='test')\n",
        "plt.title('model loss')\n",
        "plt.legend()"
      ],
      "metadata": {
        "colab": {
          "base_uri": "https://localhost:8080/",
          "height": 298
        },
        "id": "VqjTxTlKoZLx",
        "outputId": "a592c77c-bd93-46c5-da6a-bf201946c0e7"
      },
      "execution_count": 139,
      "outputs": [
        {
          "output_type": "execute_result",
          "data": {
            "text/plain": [
              "<matplotlib.legend.Legend at 0x7ff907583310>"
            ]
          },
          "metadata": {},
          "execution_count": 139
        },
        {
          "output_type": "display_data",
          "data": {
            "text/plain": [
              "<Figure size 432x288 with 1 Axes>"
            ],
            "image/png": "[encoded data removed]"
          },
          "metadata": {
            "needs_background": "light"
          }
        }
      ]
    }
  ]
}